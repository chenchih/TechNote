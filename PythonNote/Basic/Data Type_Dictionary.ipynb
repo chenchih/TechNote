{
 "cells": [
  {
   "cell_type": "markdown",
   "id": "7a746b5e",
   "metadata": {},
   "source": [
    "# DataType: Dictionary"
   ]
  },
  {
   "cell_type": "markdown",
   "id": "18baa804",
   "metadata": {},
   "source": [
    "A dictionary in Python is made up of key-value pairs like `{key:value}`, so we can build it by \n",
    "- braces `{}`\n",
    "- `dict()` build in function\n",
    "\n"
   ]
  },
  {
   "cell_type": "markdown",
   "id": "72da4c1c",
   "metadata": {},
   "source": [
    "## 1. Define and Create  Dictionary\n",
    "### 1.1 Create An Empty Dictionary in Python"
   ]
  },
  {
   "cell_type": "code",
   "execution_count": 10,
   "id": "aad33bc4",
   "metadata": {},
   "outputs": [
    {
     "name": "stdout",
     "output_type": "stream",
     "text": [
      "dict: {}\n",
      "dict type: <class 'dict'>\n"
     ]
    }
   ],
   "source": [
    "#create empty dictionary \n",
    "dict={}\n",
    "\n",
    "#print the dict should be empty \n",
    "print(f\"dict: {dict}\")\n",
    "# let check the data type\n",
    "print(f\"dict type: {type(dict)}\")\n"
   ]
  },
  {
   "cell_type": "markdown",
   "id": "a646b530",
   "metadata": {},
   "source": [
    "\n",
    "### 1.2 Create key and value \n",
    "> Syntax: `dictName = {key: value}`"
   ]
  },
  {
   "cell_type": "code",
   "execution_count": 14,
   "id": "cad1ded4",
   "metadata": {},
   "outputs": [
    {
     "name": "stdout",
     "output_type": "stream",
     "text": [
      "{'name': 'ChenChih', 'location': 'Asia', 'Job title': 'Engineer'}\n",
      "<class 'dict'>\n"
     ]
    }
   ],
   "source": [
    "#create a dictionary\n",
    "data = {'name': 'ChenChih', 'location': 'Asia', 'Job title': 'Engineer'}\n",
    "#print result \n",
    "print(data)\n",
    "#check data type\n",
    "print(type(data))\n"
   ]
  },
  {
   "cell_type": "code",
   "execution_count": 16,
   "id": "f43ca17f",
   "metadata": {},
   "outputs": [
    {
     "data": {
      "text/plain": [
       "'ChenChih'"
      ]
     },
     "execution_count": 16,
     "metadata": {},
     "output_type": "execute_result"
    }
   ],
   "source": [
    "#get the value by slecing the key\n",
    "data['name']"
   ]
  },
  {
   "cell_type": "markdown",
   "id": "0bf37cde",
   "metadata": {},
   "source": [
    "### 1.3 using fromkey() method \n",
    "> Syntax: ` dict.fromkeys(sequence,value)`\n",
    "\n",
    "- without setting a value for all the keys\n",
    "- will return emptry value\n"
   ]
  },
  {
   "cell_type": "code",
   "execution_count": 18,
   "id": "73a88693",
   "metadata": {},
   "outputs": [
    {
     "name": "stdout",
     "output_type": "stream",
     "text": [
      "{'USA': None, 'China': None, 'Japan': None}\n"
     ]
    }
   ],
   "source": [
    "#create sequence of strings\n",
    "countries = ('USA','China', 'Japan')\n",
    "\n",
    "#create the dictionary using the fromkeys() method\n",
    "dictData = dict.fromkeys(countries)\n",
    "print(dictData)"
   ]
  },
  {
   "cell_type": "markdown",
   "id": "398dd580",
   "metadata": {},
   "source": [
    "- create a single value "
   ]
  },
  {
   "cell_type": "code",
   "execution_count": 101,
   "id": "24797e67",
   "metadata": {},
   "outputs": [
    {
     "name": "stdout",
     "output_type": "stream",
     "text": [
      "{'USA': 'NA', 'China': 'NA', 'Japan': 'NA'}\n",
      "{'Math': 0, 'English': 0, 'Science': 0}\n"
     ]
    }
   ],
   "source": [
    "#create a single value\n",
    "value = ('NA')\n",
    "#add value in each key in dict\n",
    "dictData = dict.fromkeys(countries,value)\n",
    "#print the result\n",
    "print(dictData)\n",
    "\n",
    "#or with {}\n",
    "marks = {}.fromkeys(['Math', 'English', 'Science'], 0)\n",
    "print(marks)"
   ]
  },
  {
   "cell_type": "code",
   "execution_count": null,
   "id": "7c5c3f2e",
   "metadata": {},
   "outputs": [],
   "source": []
  },
  {
   "cell_type": "markdown",
   "id": "d44fb4a5",
   "metadata": {},
   "source": [
    "## 2. Understand  and get both pairs Keys and Values\n",
    "\n",
    "- **Immutable data types** in Python: `int`, `string`, `tuples`,`floating`,`boolean` which means can’t change the object’s state after you’ve created it\n",
    "- **Mutable  data type** object allows you to modify its internal state after creation 'sets`, `lists`, or `dictionaries`\n",
    "- **Dictionary keys cannot** be of a type that is **mutable**, such as `sets`, `lists`, or `dictionaries`.\n",
    "\n",
    "---\n",
    "- key need to be immutable, which mean can not change."
   ]
  },
  {
   "cell_type": "code",
   "execution_count": 26,
   "id": "8b0e8ba1",
   "metadata": {},
   "outputs": [
    {
     "name": "stdout",
     "output_type": "stream",
     "text": [
      "{True: 'False', 50: 100, 0.5: 0.5, 'one': 1, 'languages': ['Python']}\n"
     ]
    }
   ],
   "source": [
    "# key are  Immutable boolean, integers string datatype are acceptable\n",
    "my_dictionary = {True: \"False\",  50: 100,  0.5: 0.5, \"one\": 1, \"languages\": [\"Python\"]}\n",
    "\n",
    "print(my_dictionary)"
   ]
  },
  {
   "cell_type": "code",
   "execution_count": 28,
   "id": "a4fbef1c",
   "metadata": {},
   "outputs": [
    {
     "ename": "TypeError",
     "evalue": "unhashable type: 'list'",
     "output_type": "error",
     "traceback": [
      "\u001b[1;31m---------------------------------------------------------------------------\u001b[0m",
      "\u001b[1;31mTypeError\u001b[0m                                 Traceback (most recent call last)",
      "Cell \u001b[1;32mIn[28], line 2\u001b[0m\n\u001b[0;32m      1\u001b[0m \u001b[38;5;66;03m# key create mutable data type error \u001b[39;00m\n\u001b[1;32m----> 2\u001b[0m my_dictionary \u001b[38;5;241m=\u001b[39m {[\u001b[38;5;124m\"\u001b[39m\u001b[38;5;124mPython\u001b[39m\u001b[38;5;124m\"\u001b[39m]: \u001b[38;5;124m\"\u001b[39m\u001b[38;5;124mpython Lan\u001b[39m\u001b[38;5;124m\"\u001b[39m}\n",
      "\u001b[1;31mTypeError\u001b[0m: unhashable type: 'list'"
     ]
    }
   ],
   "source": [
    "# key create mutable data type error \n",
    "my_dictionary = {[\"Python\"]: \"python Lan\"}"
   ]
  },
  {
   "cell_type": "markdown",
   "id": "b1a2a316",
   "metadata": {},
   "source": [
    "### 2.1  View  or Get All key-value Pairs inDict'\n",
    "- items():  returns a list of tuples that contains the key-value pairs\n",
    "- keys(): return only the keys\n",
    "- values(): return only the values\n"
   ]
  },
  {
   "cell_type": "code",
   "execution_count": 98,
   "id": "400e28df",
   "metadata": {},
   "outputs": [
    {
     "name": "stdout",
     "output_type": "stream",
     "text": [
      "dict_items([('Mary', 99), ('Joe', 100), ('Kit', 85)])\n",
      "dict_keys(['Mary', 'Joe', 'Kit'])\n",
      "dict_values([99, 100, 85])\n"
     ]
    }
   ],
   "source": [
    "ScoreofStudent={'Mary':99, 'Joe':100, 'Kit':85}\n",
    "print(ScoreofStudent.items())# all keys and vlaues\n",
    "print(ScoreofStudent.keys()) # get keys \n",
    "print(ScoreofStudent.values()) #get values"
   ]
  },
  {
   "cell_type": "markdown",
   "id": "da37cc3b",
   "metadata": {},
   "source": [
    "## 3 Get Individual Items in Dict: `get()`\n",
    "- Method1: using index or position method:\n",
    "    > syntax: `dictName[key]`\n",
    "- Method2: `get()` method \n",
    "\n",
    "- > **Different between both** are when non exist key get() will return None, whereas position method will occur error\n",
    "- > avoid error when no key exist ==>use get() method"
   ]
  },
  {
   "cell_type": "markdown",
   "id": "e360e94d",
   "metadata": {},
   "source": [
    "### method1 using positon of key method "
   ]
  },
  {
   "cell_type": "code",
   "execution_count": 39,
   "id": "2e1f52c6",
   "metadata": {},
   "outputs": [
    {
     "name": "stdout",
     "output_type": "stream",
     "text": [
      "99\n",
      "99\n"
     ]
    }
   ],
   "source": [
    "ScoreofStudent={'Mary':99, 'Joe':100, 'Kit':85}\n",
    "print(ScoreofStudent['Mary']) #99\n"
   ]
  },
  {
   "cell_type": "markdown",
   "id": "3e8b182e",
   "metadata": {},
   "source": [
    "- when key not exist or not found return `KeyError: 'job' `"
   ]
  },
  {
   "cell_type": "code",
   "execution_count": 36,
   "id": "d9b33f1c",
   "metadata": {},
   "outputs": [
    {
     "ename": "KeyError",
     "evalue": "'Michael'",
     "output_type": "error",
     "traceback": [
      "\u001b[1;31m---------------------------------------------------------------------------\u001b[0m",
      "\u001b[1;31mKeyError\u001b[0m                                  Traceback (most recent call last)",
      "Cell \u001b[1;32mIn[36], line 2\u001b[0m\n\u001b[0;32m      1\u001b[0m \u001b[38;5;66;03m# if key not exist occur KeyError: 'job'\u001b[39;00m\n\u001b[1;32m----> 2\u001b[0m \u001b[43mScoreofStudent\u001b[49m\u001b[43m[\u001b[49m\u001b[38;5;124;43m'\u001b[39;49m\u001b[38;5;124;43mMichael\u001b[39;49m\u001b[38;5;124;43m'\u001b[39;49m\u001b[43m]\u001b[49m\n",
      "\u001b[1;31mKeyError\u001b[0m: 'Michael'"
     ]
    }
   ],
   "source": [
    "# if key not exist occur KeyError: 'job'\n",
    "ScoreofStudent['Michael'] "
   ]
  },
  {
   "cell_type": "markdown",
   "id": "7a39a291",
   "metadata": {},
   "source": [
    "### Method2: `get()` method "
   ]
  },
  {
   "cell_type": "code",
   "execution_count": 40,
   "id": "d2443c30",
   "metadata": {},
   "outputs": [
    {
     "name": "stdout",
     "output_type": "stream",
     "text": [
      "99\n",
      "None\n"
     ]
    }
   ],
   "source": [
    "#get ()\n",
    "print(ScoreofStudent.get('Mary'))\n",
    "#if not exist will return None\n",
    "print(ScoreofStudent.get('Johhny'))"
   ]
  },
  {
   "cell_type": "markdown",
   "id": "a260a073",
   "metadata": {},
   "source": [
    "## 4. Editing or adding dictionary items\n",
    "\n",
    "- Add new item: `dictionary_name[key] = value`\n",
    "- update :\n",
    "    - assign value:\n",
    "    - update()\n",
    "- delete key vlaue: \n",
    "    - del(): delete specfic key value\n",
    "    - pop(): remoce specific  key value\n",
    "    - popitems():delete last key value\n",
    "    - clear(): clear entire dict items"
   ]
  },
  {
   "cell_type": "markdown",
   "id": "2cac8988",
   "metadata": {},
   "source": [
    "### 4.1 Add New Items\n",
    "> Syntax: 'dictionary_name[key] = value'\n",
    "\n",
    "- [Note]:If your file *already exist* it will *overwrite it*"
   ]
  },
  {
   "cell_type": "code",
   "execution_count": 50,
   "id": "5263227a",
   "metadata": {},
   "outputs": [
    {
     "name": "stdout",
     "output_type": "stream",
     "text": [
      "{'name': 'John'}\n"
     ]
    }
   ],
   "source": [
    "# Create empty dictionary\n",
    "DictName = {}\n",
    "\n",
    "#add a key-value pair to the empty dictionary\n",
    "DictName['name'] = \"John\"\n",
    "#print dictionary item key and value\n",
    "print(DictName)"
   ]
  },
  {
   "cell_type": "code",
   "execution_count": 52,
   "id": "f045acc9",
   "metadata": {},
   "outputs": [
    {
     "name": "stdout",
     "output_type": "stream",
     "text": [
      "{'name': 'John', 'grade': 100}\n"
     ]
    }
   ],
   "source": [
    "# Add another key vallue in dict\n",
    "DictName['grade'] = 100\n",
    "print(DictName)\n"
   ]
  },
  {
   "cell_type": "code",
   "execution_count": 55,
   "id": "dae05496",
   "metadata": {},
   "outputs": [
    {
     "name": "stdout",
     "output_type": "stream",
     "text": [
      "{'name': 'Mike', 'age': 50}\n",
      "{'name': 'Mike', 'age': 100}\n"
     ]
    }
   ],
   "source": [
    "# create new key-value \n",
    "New_DictName = {'name': \"Mike\", 'age':50}\n",
    "print(New_DictName)\n",
    "#write exist value will overwrite\n",
    "New_DictName['age'] = 100\n",
    "print(New_DictName)"
   ]
  },
  {
   "cell_type": "markdown",
   "id": "744b55d2",
   "metadata": {},
   "source": [
    "#### Sumamry Note creating : \n",
    "- overwrite if value existed \n",
    "- prevent overwrite using the `in` keyword to check exist or not\n",
    "> `print('age' in New_DictName)`\n"
   ]
  },
  {
   "cell_type": "markdown",
   "id": "40e07f4f",
   "metadata": {},
   "source": [
    "### 4.2 Update item  \n",
    "> Syntax: `dictionary_name[existing_key] = new_value`\n",
    "\n",
    "There are two methiod: \n",
    "- using the reassign method `New_DictName['age'] = 100` previous example\n",
    "- update() buildin method, will take tuple if key value\n"
   ]
  },
  {
   "cell_type": "code",
   "execution_count": 79,
   "id": "62533ef3",
   "metadata": {},
   "outputs": [
    {
     "name": "stdout",
     "output_type": "stream",
     "text": [
      "First Country:{'Russia': 'RU', 'America': 'USA', 'China': 'CN'}\n",
      "Second Country:{'England': 'UK', 'Taiwan': 'TW', 'Hongkong': 'HK'}\n",
      "####################\n",
      "updated\n",
      "First Country:{'Russia': 'RU', 'America': 'USA', 'China': 'CN', 'England': 'UK', 'Taiwan': 'TW', 'Hongkong': 'HK'}\n"
     ]
    }
   ],
   "source": [
    "CountryAbv = {'Russia': 'RU', 'America': 'USA', 'China': 'CN'}\n",
    "Country2 = {'England': 'UK', 'Taiwan': 'TW', 'Hongkong': 'HK'}\n",
    "\n",
    "print(f\"First Country:{CountryAbv}\")\n",
    "print(f\"Second Country:{Country2}\")\n",
    "print(\"#\"*20)\n",
    "CountryAbv.update(Country2)\n",
    "print(\"updated\")\n",
    "print(f\"First Country:{CountryAbv}\")"
   ]
  },
  {
   "cell_type": "markdown",
   "id": "b10700ec",
   "metadata": {},
   "source": [
    "### 4.3 delete items :  delete a specific key and its associated value\n",
    "- delete soecfic key : del() keyword :\n",
    "> Syntax: `del dictionary_name[key]`\n",
    "- remove  a key: `pop()` method : \n",
    "> Syntax: `dictionary_name.pop(key)`\n",
    "- `popitem()`: removes the last key value\n",
    "- `clear()`: clear entire dictioanry"
   ]
  },
  {
   "cell_type": "markdown",
   "id": "b2952974",
   "metadata": {},
   "source": [
    "#### del keyword"
   ]
  },
  {
   "cell_type": "code",
   "execution_count": 81,
   "id": "c9926129",
   "metadata": {},
   "outputs": [
    {
     "name": "stdout",
     "output_type": "stream",
     "text": [
      "{'Russia': 'RU', 'America': 'USA', 'China': 'CN'}\n",
      "{'America': 'USA', 'China': 'CN'}\n"
     ]
    }
   ],
   "source": [
    "CountryAbv = {'Russia': 'RU', 'America': 'USA', 'China': 'CN'}\n",
    "print(CountryAbv)\n",
    "del CountryAbv['Russia']\n",
    "print(CountryAbv)"
   ]
  },
  {
   "cell_type": "markdown",
   "id": "90d605a7",
   "metadata": {},
   "source": [
    "#### pop method()\n",
    "- when not exist will pop error"
   ]
  },
  {
   "cell_type": "code",
   "execution_count": 68,
   "id": "4ac34eca",
   "metadata": {},
   "outputs": [
    {
     "name": "stdout",
     "output_type": "stream",
     "text": [
      "{'Russia': 'RU', 'America': 'USA', 'China': 'CN'}\n",
      "{'Russia': 'RU', 'China': 'CN'}\n"
     ]
    }
   ],
   "source": [
    "CountryAbv = {'Russia': 'RU', 'America': 'USA', 'China': 'CN'}\n",
    "print(CountryAbv)\n",
    "CountryAbv.pop('America')\n",
    "print(CountryAbv)"
   ]
  },
  {
   "cell_type": "markdown",
   "id": "85bac877",
   "metadata": {},
   "source": [
    "- not exist value, we can use passing two argument (silent fail if the key didn't exist)\n"
   ]
  },
  {
   "cell_type": "code",
   "execution_count": 70,
   "id": "820f38d2",
   "metadata": {},
   "outputs": [
    {
     "name": "stdout",
     "output_type": "stream",
     "text": [
      "{'Russia': 'RU', 'America': 'USA', 'China': 'CN'}\n"
     ]
    },
    {
     "ename": "KeyError",
     "evalue": "'Japan'",
     "output_type": "error",
     "traceback": [
      "\u001b[1;31m---------------------------------------------------------------------------\u001b[0m",
      "\u001b[1;31mKeyError\u001b[0m                                  Traceback (most recent call last)",
      "Cell \u001b[1;32mIn[70], line 3\u001b[0m\n\u001b[0;32m      1\u001b[0m CountryAbv \u001b[38;5;241m=\u001b[39m {\u001b[38;5;124m'\u001b[39m\u001b[38;5;124mRussia\u001b[39m\u001b[38;5;124m'\u001b[39m: \u001b[38;5;124m'\u001b[39m\u001b[38;5;124mRU\u001b[39m\u001b[38;5;124m'\u001b[39m, \u001b[38;5;124m'\u001b[39m\u001b[38;5;124mAmerica\u001b[39m\u001b[38;5;124m'\u001b[39m: \u001b[38;5;124m'\u001b[39m\u001b[38;5;124mUSA\u001b[39m\u001b[38;5;124m'\u001b[39m, \u001b[38;5;124m'\u001b[39m\u001b[38;5;124mChina\u001b[39m\u001b[38;5;124m'\u001b[39m: \u001b[38;5;124m'\u001b[39m\u001b[38;5;124mCN\u001b[39m\u001b[38;5;124m'\u001b[39m}\n\u001b[0;32m      2\u001b[0m \u001b[38;5;28mprint\u001b[39m(CountryAbv)\n\u001b[1;32m----> 3\u001b[0m \u001b[43mCountryAbv\u001b[49m\u001b[38;5;241;43m.\u001b[39;49m\u001b[43mpop\u001b[49m\u001b[43m(\u001b[49m\u001b[38;5;124;43m'\u001b[39;49m\u001b[38;5;124;43mJapan\u001b[39;49m\u001b[38;5;124;43m'\u001b[39;49m\u001b[43m)\u001b[49m\n\u001b[0;32m      4\u001b[0m \u001b[38;5;28mprint\u001b[39m(CountryAbv)\n",
      "\u001b[1;31mKeyError\u001b[0m: 'Japan'"
     ]
    }
   ],
   "source": [
    "CountryAbv = {'Russia': 'RU', 'America': 'USA', 'China': 'CN'}\n",
    "print(CountryAbv)\n",
    "CountryAbv.pop('Japan')\n",
    "print(CountryAbv)"
   ]
  },
  {
   "cell_type": "code",
   "execution_count": 73,
   "id": "c497b413",
   "metadata": {},
   "outputs": [
    {
     "name": "stdout",
     "output_type": "stream",
     "text": [
      "{'Russia': 'RU', 'America': 'USA', 'China': 'CN'}\n"
     ]
    }
   ],
   "source": [
    "CountryAbv = {'Russia': 'RU', 'America': 'USA', 'China': 'CN'}\n",
    "CountryAbv.pop('Japan','Not found')\n",
    "print(CountryAbv)"
   ]
  },
  {
   "cell_type": "markdown",
   "id": "22745c8e",
   "metadata": {},
   "source": [
    "#### popitem(): pop the last item or last key-value pair"
   ]
  },
  {
   "cell_type": "code",
   "execution_count": 75,
   "id": "f13df5b4",
   "metadata": {},
   "outputs": [
    {
     "name": "stdout",
     "output_type": "stream",
     "text": [
      "('China', 'CN')\n"
     ]
    }
   ],
   "source": [
    "CountryAbv = {'Russia': 'RU', 'America': 'USA', 'China': 'CN'}\n",
    "popitems= CountryAbv.popitem() \n",
    "print(popitems)"
   ]
  },
  {
   "cell_type": "markdown",
   "id": "d7b96bca",
   "metadata": {},
   "source": [
    "#### clear: delete all key-value pairs"
   ]
  },
  {
   "cell_type": "code",
   "execution_count": 77,
   "id": "e0bd194f",
   "metadata": {},
   "outputs": [
    {
     "name": "stdout",
     "output_type": "stream",
     "text": [
      "{}\n"
     ]
    }
   ],
   "source": [
    "CountryAbv = {'Russia': 'RU', 'America': 'USA', 'China': 'CN'}\n",
    "CountryAbv.clear() \n",
    "print(CountryAbv)"
   ]
  },
  {
   "cell_type": "markdown",
   "id": "b6a64d46",
   "metadata": {},
   "source": [
    "## 5. iteration Dictioanry \n",
    "- iteration values using for loop\n",
    "- iteration keys using for loop\n",
    "- iteration items(kyes and values) using for loop\n",
    "- iterate and convert to tuple "
   ]
  },
  {
   "cell_type": "code",
   "execution_count": 104,
   "id": "2f03ab72",
   "metadata": {},
   "outputs": [],
   "source": [
    "country = {\n",
    "     \"USA\": \"WDC\",\n",
    "    \"China\":\"BJN\",\n",
    "    \"Taiwan\":\"TP\",\n",
    "    \"Thailand\":\"BKK\"\n",
    "}"
   ]
  },
  {
   "cell_type": "markdown",
   "id": "c12eba49",
   "metadata": {},
   "source": [
    "### 5.1 iteration dictionary values using  for loop"
   ]
  },
  {
   "cell_type": "code",
   "execution_count": 105,
   "id": "f3ca8393",
   "metadata": {},
   "outputs": [
    {
     "name": "stdout",
     "output_type": "stream",
     "text": [
      "WDC\n",
      "BJN\n",
      "TP\n",
      "BKK\n"
     ]
    }
   ],
   "source": [
    "for name in country.values():\n",
    "    print(name)"
   ]
  },
  {
   "cell_type": "markdown",
   "id": "759fa6b4",
   "metadata": {},
   "source": [
    "### 5.2 iteration dictionary keys using for loop"
   ]
  },
  {
   "cell_type": "code",
   "execution_count": 106,
   "id": "f560cfc7",
   "metadata": {},
   "outputs": [
    {
     "name": "stdout",
     "output_type": "stream",
     "text": [
      "USA\n",
      "China\n",
      "Taiwan\n",
      "Thailand\n"
     ]
    }
   ],
   "source": [
    "    \n",
    "for name in country.keys():\n",
    "    print(name)\n"
   ]
  },
  {
   "cell_type": "markdown",
   "id": "1f9ade48",
   "metadata": {},
   "source": [
    "### 5.3 iteration dictionary keys using  for loop\n"
   ]
  },
  {
   "cell_type": "code",
   "execution_count": 92,
   "id": "b9375be0",
   "metadata": {},
   "outputs": [
    {
     "name": "stdout",
     "output_type": "stream",
     "text": [
      "USA ---> WDC\n",
      "China ---> BJN\n",
      "Taiwan ---> TP\n",
      "Thailand ---> BKK\n"
     ]
    }
   ],
   "source": [
    "for name, abb in country.items():\n",
    "    print(name,\"--->\", abb)"
   ]
  },
  {
   "cell_type": "markdown",
   "id": "8298b8de",
   "metadata": {},
   "source": [
    "### 5.4 Loop through a Dictionary and Convert it to a List of Tuples\n"
   ]
  },
  {
   "cell_type": "code",
   "execution_count": 95,
   "id": "ec30503d",
   "metadata": {},
   "outputs": [
    {
     "name": "stdout",
     "output_type": "stream",
     "text": [
      "[('USA', 'WDC'), ('China', 'BJN'), ('Taiwan', 'TP'), ('Thailand', 'BKK')]\n"
     ]
    }
   ],
   "source": [
    "list_of_tuples = [(name, abb) for name, abb in country.items()]\n",
    "print(list_of_tuples)"
   ]
  },
  {
   "cell_type": "markdown",
   "id": "6cd60e7b",
   "metadata": {},
   "source": [
    "## 6. Dictionary Comprehension\n",
    "- For loop\n",
    "- dictionary = {key: (if/else) for (key,value) in iterable}\n",
    "- dictionary = {key: function(value) for (key,value) in iterable}"
   ]
  },
  {
   "cell_type": "code",
   "execution_count": null,
   "id": "ee53f243",
   "metadata": {},
   "outputs": [],
   "source": [
    "dictionary = {key: expression for (key,value) in iterable}\n",
    "dictionary = {key: expression for (key,value) in iterable if conditional}\n",
    "dictionary = {key: (if/else) for (key,value) in iterable}\n",
    "dictionary = {key: function(value) for (key,value) in iterable}"
   ]
  },
  {
   "cell_type": "markdown",
   "id": "6ac717c5",
   "metadata": {},
   "source": [
    "### 6.1 For loop \n",
    ">　Syntax: `dictionary={key:expression for (key, value) in iterate}`\n"
   ]
  },
  {
   "cell_type": "code",
   "execution_count": 116,
   "id": "8080f942",
   "metadata": {},
   "outputs": [
    {
     "name": "stdout",
     "output_type": "stream",
     "text": [
      "iterate cities => {'Beijing': 20, 'Boston': 10, 'New York': 30, 'Califorina': 35}\n",
      "iterate and convert to celius: {'Beijing': -7, 'Boston': -12, 'New York': -1, 'Califorina': 2}\n"
     ]
    }
   ],
   "source": [
    "citiesinF={\"Beijing\": 20, \"Boston\":10, \"New York\":30, \"Califorina\": 35}\n",
    "cities= {key:value for (key,value) in citiesinF.items()}\n",
    "print(\"iterate cities =>\", cities)\n",
    "citiesinC= {key:round((value-32)*(5/9)) for (key,value) in citiesinF.items()}\n",
    "print(\"iterate and convert to celius:\", citiesinC)"
   ]
  },
  {
   "cell_type": "markdown",
   "id": "db1907f1",
   "metadata": {},
   "source": [
    "### 6.2 using if condition\n",
    "\n",
    "- check value is sunny or not\n",
    "\n",
    "> Syntax: `dictionry={key:if/else for (key, value) in iterate}`"
   ]
  },
  {
   "cell_type": "code",
   "execution_count": 112,
   "id": "de3abc10",
   "metadata": {},
   "outputs": [
    {
     "name": "stdout",
     "output_type": "stream",
     "text": [
      "{'New York': 'sunny'}\n"
     ]
    }
   ],
   "source": [
    "weather={\"Beijing\": \"snowing\", \"Boston\":\"cloudy\", \"New York\":\"sunny\"}\n",
    "sunnyweather={key: value for (key,value) in weather.items() if value ==\"sunny\"}\n",
    "print(sunnyweather)"
   ]
  },
  {
   "cell_type": "markdown",
   "id": "4678aff5",
   "metadata": {},
   "source": [
    "### 6.3 using function"
   ]
  },
  {
   "cell_type": "markdown",
   "id": "00728997",
   "metadata": {},
   "source": [
    "> Syntax: `dictionry={key:function(value)) for (key, value) in iterate}`"
   ]
  },
  {
   "cell_type": "code",
   "execution_count": 118,
   "id": "6032c635",
   "metadata": {},
   "outputs": [
    {
     "name": "stdout",
     "output_type": "stream",
     "text": [
      "{'Beijing': 'cold', 'Boston': 'cold', 'New York': 'cool', 'Califorina': 'cool'}\n"
     ]
    }
   ],
   "source": [
    "def checktemp(value):\n",
    "    if value >= 25:\n",
    "        return \"cool\"\n",
    "    elif 69 >= value >=40:\n",
    "        return \"warm\"\n",
    "    else:\n",
    "        return \"cold\"\n",
    "\n",
    "citiestemp={\"Beijing\": 20, \"Boston\":10, \"New York\":30, \"Califorina\": 35}\n",
    "desccities={key: checktemp(value) for (key,value) in citiestemp.items()}\n",
    "print(desccities)"
   ]
  },
  {
   "cell_type": "markdown",
   "id": "23d75ec9",
   "metadata": {},
   "source": [
    "### 6.4 Dictionary Comprehension Example"
   ]
  },
  {
   "cell_type": "code",
   "execution_count": 120,
   "id": "1ea9be47",
   "metadata": {},
   "outputs": [
    {
     "name": "stdout",
     "output_type": "stream",
     "text": [
      "{0: 0, 1: 1, 2: 4, 3: 9, 4: 16, 5: 25}\n",
      "{0: 0, 1: 1, 2: 4, 3: 9, 4: 16, 5: 25}\n"
     ]
    }
   ],
   "source": [
    "# Dictionary Comprehension\n",
    "squares = {x: x*x for x in range(6)}\n",
    "\n",
    "print(squares)\n",
    "#{0: 0, 1: 1, 2: 4, 3: 9, 4: 16, 5: 25}\n",
    "\n",
    "squares = {}\n",
    "for x in range(6):\n",
    "    squares[x] = x*x\n",
    "print(squares)\n",
    "#{0: 0, 1: 1, 2: 4, 3: 9, 4: 16, 5: 25}\n"
   ]
  },
  {
   "cell_type": "markdown",
   "id": "1ba8c4f8",
   "metadata": {},
   "source": [
    "## other Buildin Function\n",
    "- `all()`: Return True if all keys of the dictionary are True (or if the dictionary is empty).\n",
    "- `any()`:Return True if all keys of the dictionary are True (or if the dictionary is empty).\n",
    "- `len()`: Return the length (the number of items) in the dictionary.\n",
    "- `sorted()`: Compares items of two dictionaries. (Not available in Python 3)"
   ]
  },
  {
   "cell_type": "code",
   "execution_count": null,
   "id": "4fa2a7e3",
   "metadata": {},
   "outputs": [],
   "source": [
    "## Examples\n"
   ]
  },
  {
   "cell_type": "markdown",
   "id": "4277caee",
   "metadata": {},
   "source": [
    "### Ex1: Creating Python Dictionary Example"
   ]
  },
  {
   "cell_type": "code",
   "execution_count": 123,
   "id": "8b1b9789",
   "metadata": {},
   "outputs": [
    {
     "name": "stdout",
     "output_type": "stream",
     "text": [
      "John\n",
      "26\n"
     ]
    }
   ],
   "source": [
    "# empty dictionary\n",
    "my_dict = {}\n",
    "\n",
    "# dictionary with integer keys\n",
    "my_dict = {1: 'apple', 2: 'ball'} #{1: 'apple', 2: 'ball'}\n",
    "\n",
    "# dictionary with mixed keys\n",
    "my_dict = {'name': 'John', 1: [2, 4, 3], 'age': 26} #{1: 'apple', 2: 'ball'}\n",
    "\n",
    "print(my_dict['name']) #John\n",
    "print(my_dict.get('age')) #26\n"
   ]
  },
  {
   "cell_type": "markdown",
   "id": "0429d828",
   "metadata": {},
   "source": [
    "### Ex2 Changing and Adding Dictionary elements"
   ]
  },
  {
   "cell_type": "code",
   "execution_count": 124,
   "id": "8e8ceca3",
   "metadata": {},
   "outputs": [],
   "source": [
    "# Changing and adding Dictionary Elements\n",
    "my_dict = {'name': 'Jack', 'age': 26}\n",
    "#{'name': 'Jack', 'age': 26}\n",
    "\n",
    "# update value\n",
    "my_dict['age'] = 27\n",
    "#{'name': 'Jack', 'age': 27}\n",
    "\n",
    "# add item\n",
    "my_dict['address'] = 'Downtown'\n",
    "#{'name': 'Jack', 'age': 27, 'address': 'Downtown'}\n"
   ]
  },
  {
   "cell_type": "markdown",
   "id": "3d4962a9",
   "metadata": {},
   "source": [
    "### EX3 Removing elements from Dictionary"
   ]
  },
  {
   "cell_type": "code",
   "execution_count": 128,
   "id": "d915e97c",
   "metadata": {},
   "outputs": [
    {
     "name": "stdout",
     "output_type": "stream",
     "text": [
      "{1: 1, 2: 4, 3: 9, 4: 16, 5: 25}\n",
      "16\n",
      "{1: 1, 2: 4, 3: 9, 5: 25}\n",
      "(5, 25)\n",
      "{1: 1, 2: 4, 3: 9}\n",
      "{}\n"
     ]
    },
    {
     "ename": "NameError",
     "evalue": "name 'squares' is not defined",
     "output_type": "error",
     "traceback": [
      "\u001b[1;31m---------------------------------------------------------------------------\u001b[0m",
      "\u001b[1;31mNameError\u001b[0m                                 Traceback (most recent call last)",
      "Cell \u001b[1;32mIn[128], line 21\u001b[0m\n\u001b[0;32m     18\u001b[0m \u001b[38;5;28;01mdel\u001b[39;00m squares\n\u001b[0;32m     20\u001b[0m \u001b[38;5;66;03m# Throws Error\u001b[39;00m\n\u001b[1;32m---> 21\u001b[0m \u001b[38;5;28mprint\u001b[39m(\u001b[43msquares\u001b[49m)\n",
      "\u001b[1;31mNameError\u001b[0m: name 'squares' is not defined"
     ]
    }
   ],
   "source": [
    "# create a dictionary\n",
    "squares = {1: 1, 2: 4, 3: 9, 4: 16, 5: 25}\n",
    "print(squares) \n",
    "\n",
    "# remove a particular item, returns its value\n",
    "print(squares.pop(4)) #16\n",
    "print(squares) #{1: 1, 2: 4, 3: 9, 5: 25}\n",
    "\n",
    "# remove an arbitrary item, return (key,value)\n",
    "print(squares.popitem()) # (5, 25)\n",
    "print(squares)#{1: 1, 2: 4, 3: 9}\n",
    "\n",
    "# remove all items\n",
    "squares.clear()\n",
    "print(squares) #{}\n",
    "\n",
    "# delete the dictionary itself\n",
    "del squares\n",
    "\n",
    "# Throws Error\n",
    "print(squares)\n"
   ]
  },
  {
   "cell_type": "markdown",
   "id": "bfc3bb93",
   "metadata": {},
   "source": [
    "### [Amazon intervew Qestion] Read a file, and load each line\n",
    "\n",
    "If a file which might look like this, and read the file:\n",
    "```\n",
    "1 cat\n",
    "2 lion\n",
    "3 apple\n",
    "```"
   ]
  },
  {
   "cell_type": "code",
   "execution_count": 136,
   "id": "a32d3cc3",
   "metadata": {},
   "outputs": [
    {
     "name": "stdout",
     "output_type": "stream",
     "text": [
      "{1: 'cat', 2: 'lion', 3: 'apple'}\n"
     ]
    }
   ],
   "source": [
    "d={}\n",
    "with open(\"log.txt\", \"r\") as textfile:\n",
    "   #lines = textfile.readlines()\n",
    "   lines = textfile.read().splitlines()\n",
    "   #print(lines)\n",
    "for i in lines:\n",
    "    #print(i)\n",
    "    (key,val)=i.split(\" \")\n",
    "    d[int(key)]=val\n",
    "   # print(key,\"\",val)\n",
    "print(d)\n"
   ]
  },
  {
   "cell_type": "code",
   "execution_count": null,
   "id": "6989c1ad",
   "metadata": {},
   "outputs": [],
   "source": []
  },
  {
   "cell_type": "markdown",
   "id": "d44d2218",
   "metadata": {},
   "source": [
    "## reference for dic\n",
    "- https://www.freecodecamp.org/news/create-a-dictionary-in-python-python-dict-methods/#modify\n",
    "- https://www.freecodecamp.org/news/dictionary-iteration-in-python/"
   ]
  },
  {
   "cell_type": "code",
   "execution_count": null,
   "id": "f15338aa",
   "metadata": {},
   "outputs": [],
   "source": []
  }
 ],
 "metadata": {
  "kernelspec": {
   "display_name": "Python 3 (ipykernel)",
   "language": "python",
   "name": "python3"
  },
  "language_info": {
   "codemirror_mode": {
    "name": "ipython",
    "version": 3
   },
   "file_extension": ".py",
   "mimetype": "text/x-python",
   "name": "python",
   "nbconvert_exporter": "python",
   "pygments_lexer": "ipython3",
   "version": "3.10.9"
  }
 },
 "nbformat": 4,
 "nbformat_minor": 5
}
