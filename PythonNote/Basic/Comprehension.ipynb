{
 "cells": [
  {
   "cell_type": "markdown",
   "id": "d1434da2",
   "metadata": {},
   "source": [
    "# Comprehensions Note"
   ]
  },
  {
   "cell_type": "markdown",
   "id": "97844610",
   "metadata": {},
   "source": [
    "## List Comprehensions"
   ]
  },
  {
   "cell_type": "markdown",
   "id": "3cce3b4d",
   "metadata": {},
   "source": [
    "### iterate to list using for loop"
   ]
  },
  {
   "cell_type": "code",
   "execution_count": 4,
   "id": "c11714a6",
   "metadata": {},
   "outputs": [
    {
     "name": "stdout",
     "output_type": "stream",
     "text": [
      "[1, 2, 3, 4, 5, 6, 7, 8, 9]\n"
     ]
    }
   ],
   "source": [
    "list=[]\n",
    "for i in range(1,10):\n",
    "    list.append(i)\n",
    "print(list)"
   ]
  },
  {
   "cell_type": "markdown",
   "id": "7c36c2c5",
   "metadata": {},
   "source": [
    "You can change it to list comprehension method\n"
   ]
  },
  {
   "cell_type": "code",
   "execution_count": 7,
   "id": "2bb1417b",
   "metadata": {},
   "outputs": [
    {
     "name": "stdout",
     "output_type": "stream",
     "text": [
      "[1, 2, 3, 4, 5, 6, 7, 8, 9, 10, 11, 12, 13, 14]\n",
      "[1, 4, 9, 16, 25, 36, 49, 64, 81, 100, 121, 144, 169, 196]\n"
     ]
    }
   ],
   "source": [
    "list=[i for i in range(1,15)]\n",
    "print(list)\n",
    "\n",
    "list=[i**2 for i in range(1,15)]\n",
    "print(list)"
   ]
  },
  {
   "cell_type": "markdown",
   "id": "df99f1cb",
   "metadata": {},
   "source": [
    "### if else List Comprehensions"
   ]
  },
  {
   "cell_type": "markdown",
   "id": "ff4f6abe",
   "metadata": {},
   "source": [
    "- if example"
   ]
  },
  {
   "cell_type": "code",
   "execution_count": 8,
   "id": "a788fabd",
   "metadata": {},
   "outputs": [
    {
     "name": "stdout",
     "output_type": "stream",
     "text": [
      "[2, 4, 6, 8]\n"
     ]
    }
   ],
   "source": [
    "list1 = []\n",
    "for i in range(1,10):\n",
    "    if (i%2==0):\n",
    "        list1.append(i)   \n",
    "print(list1)"
   ]
  },
  {
   "cell_type": "code",
   "execution_count": 13,
   "id": "7d7a1304",
   "metadata": {},
   "outputs": [
    {
     "name": "stdout",
     "output_type": "stream",
     "text": [
      "[2, 4, 6, 8]\n"
     ]
    }
   ],
   "source": [
    "list = [i for i in range(1,10) if (i %2==0)]\n",
    "print(list1)"
   ]
  },
  {
   "cell_type": "markdown",
   "id": "7dd08cba",
   "metadata": {},
   "source": [
    "- if else example"
   ]
  },
  {
   "cell_type": "code",
   "execution_count": 84,
   "id": "490ad43d",
   "metadata": {},
   "outputs": [
    {
     "name": "stdout",
     "output_type": "stream",
     "text": [
      "['Odd', 'Even', 'Odd', 'Even', 'Odd', 'Even', 'Odd', 'Even', 'Odd']\n"
     ]
    }
   ],
   "source": [
    "list1 = []\n",
    "for i in range(1,10):\n",
    "    if (i%2==0):\n",
    "        list1.append('Even')\n",
    "    else:\n",
    "        list1.append('Odd')\n",
    "print(list1)"
   ]
  },
  {
   "cell_type": "code",
   "execution_count": 83,
   "id": "54850a33",
   "metadata": {},
   "outputs": [
    {
     "data": {
      "text/plain": [
       "['Odd', 'Even', 'Odd', 'Even', 'Odd', 'Even', 'Odd', 'Even', 'Odd']"
      ]
     },
     "execution_count": 83,
     "metadata": {},
     "output_type": "execute_result"
    }
   ],
   "source": [
    "list1 = [\"Even\" if x % 2 == 0 else \"Odd\" for x in range(1,10)]\n",
    "list1"
   ]
  },
  {
   "cell_type": "markdown",
   "id": "163c92c1",
   "metadata": {},
   "source": [
    "- nested if statement "
   ]
  },
  {
   "cell_type": "code",
   "execution_count": 88,
   "id": "07df5660",
   "metadata": {},
   "outputs": [
    {
     "name": "stdout",
     "output_type": "stream",
     "text": [
      "['Even', 'Odd', 'Even', 'Odd']\n"
     ]
    }
   ],
   "source": [
    "thirds_even_odd = []\n",
    "for x in range(10):\n",
    "    if x%3==0:\n",
    "        if x%2==0:\n",
    "            thirds_even_odd.append(\"Even\")\n",
    "        else:\n",
    "            thirds_even_odd.append(\"Odd\")\n",
    "print(thirds_even_odd)"
   ]
  },
  {
   "cell_type": "code",
   "execution_count": 86,
   "id": "6d7780f4",
   "metadata": {},
   "outputs": [
    {
     "name": "stdout",
     "output_type": "stream",
     "text": [
      "['Even', 'Odd', 'Even', 'Odd']\n"
     ]
    }
   ],
   "source": [
    "thirds_even_odd = [\"Even\" if x % 2 == 0 else \"Odd\" for x in range(10) if x%3==0]\n",
    "# [0, 3, 6, 9] after filtering numbers\n",
    "# [\"Even\", \"Odd\", \"Even\", \"Odd\"] after ternary to string\n",
    "print(thirds_even_odd)"
   ]
  },
  {
   "cell_type": "markdown",
   "id": "350e57ff",
   "metadata": {},
   "source": [
    "## Dictionary Comprehensions"
   ]
  },
  {
   "cell_type": "code",
   "execution_count": 17,
   "id": "39537604",
   "metadata": {},
   "outputs": [
    {
     "name": "stdout",
     "output_type": "stream",
     "text": [
      "{0: 0, 1: 1, 2: 4, 3: 9, 4: 16, 5: 25, 6: 36, 7: 49, 8: 64}\n"
     ]
    }
   ],
   "source": [
    "square={}\n",
    "for x in range(0,9):\n",
    "    square[x]=x**2\n",
    "print(square)"
   ]
  },
  {
   "cell_type": "code",
   "execution_count": 19,
   "id": "6e103a3a",
   "metadata": {},
   "outputs": [
    {
     "name": "stdout",
     "output_type": "stream",
     "text": [
      "{0: 0, 1: 1, 2: 4, 3: 9, 4: 16, 5: 25, 6: 36, 7: 49, 8: 64}\n"
     ]
    }
   ],
   "source": [
    "square={i:i**2 for i in range(0,9)}\n",
    "print(square)"
   ]
  },
  {
   "cell_type": "code",
   "execution_count": 49,
   "id": "b3f5508f",
   "metadata": {},
   "outputs": [
    {
     "name": "stdout",
     "output_type": "stream",
     "text": [
      "square of 0 is: 0\n",
      "square of 1 is: 1\n",
      "square of 2 is: 4\n",
      "square of 3 is: 9\n",
      "square of 4 is: 16\n",
      "square of 5 is: 25\n",
      "square of 6 is: 36\n",
      "square of 7 is: 49\n",
      "square of 8 is: 64\n"
     ]
    }
   ],
   "source": [
    "for key,value in square.items():\n",
    "    print(f\"square of {key} is: {value}\")"
   ]
  },
  {
   "cell_type": "markdown",
   "id": "7aea8f3f",
   "metadata": {},
   "source": [
    "if else "
   ]
  },
  {
   "cell_type": "code",
   "execution_count": 59,
   "id": "68cba2cf",
   "metadata": {},
   "outputs": [
    {
     "name": "stdout",
     "output_type": "stream",
     "text": [
      "{0: 0, 1: 'Na', 2: 4, 3: 'Na', 4: 16, 5: 'Na', 6: 36, 7: 'Na', 8: 64, 9: 'Na'}\n"
     ]
    }
   ],
   "source": [
    "square={}\n",
    "for i in range(0,10):\n",
    "    if i%2==0:\n",
    "        square[i]= i**2\n",
    "    else:\n",
    "        square[i]='Na'\n",
    "print(square)"
   ]
  },
  {
   "cell_type": "code",
   "execution_count": 67,
   "id": "4a1b1f09",
   "metadata": {},
   "outputs": [
    {
     "name": "stdout",
     "output_type": "stream",
     "text": [
      "value of 0 are : 0\n",
      "value of 1 are : Na\n",
      "value of 2 are : 4\n",
      "value of 3 are : Na\n",
      "value of 4 are : 16\n",
      "value of 5 are : Na\n",
      "value of 6 are : 36\n",
      "value of 7 are : Na\n",
      "value of 8 are : 64\n",
      "value of 9 are : Na\n"
     ]
    }
   ],
   "source": [
    "for key,value in square.items():\n",
    "    print(f\"value of {key} are : {value}\")"
   ]
  },
  {
   "cell_type": "code",
   "execution_count": 69,
   "id": "ca730cc4",
   "metadata": {},
   "outputs": [
    {
     "name": "stdout",
     "output_type": "stream",
     "text": [
      "{0: 0, 1: 'NA', 2: 4, 3: 'NA', 4: 16, 5: 'NA', 6: 36, 7: 'NA', 8: 64, 9: 'NA'}\n"
     ]
    }
   ],
   "source": [
    "newsquare={i:i**2 if i%2==0 else 'NA' for i in range(0,10)}\n",
    "print(newsquare)"
   ]
  },
  {
   "cell_type": "code",
   "execution_count": 68,
   "id": "17455203",
   "metadata": {},
   "outputs": [
    {
     "name": "stdout",
     "output_type": "stream",
     "text": [
      "value of 0 are : 0\n",
      "value of 1 are : NA\n",
      "value of 2 are : 4\n",
      "value of 3 are : NA\n",
      "value of 4 are : 16\n",
      "value of 5 are : NA\n",
      "value of 6 are : 36\n",
      "value of 7 are : NA\n",
      "value of 8 are : 64\n",
      "value of 9 are : NA\n"
     ]
    }
   ],
   "source": [
    "for key,value in newsquare.items():\n",
    "    print(f\"value of {key} are : {value}\")"
   ]
  },
  {
   "cell_type": "code",
   "execution_count": 54,
   "id": "3658e8c8",
   "metadata": {},
   "outputs": [
    {
     "name": "stdout",
     "output_type": "stream",
     "text": [
      "{'h': 1, 'e': 1, 'l': 3, 'o': 2, 'w': 1, 'r': 1, 'd': 1}\n"
     ]
    }
   ],
   "source": [
    "string_name='helloworld'\n",
    "string2= {keys:string_name.count(keys) for  keys in string_name}\n",
    "print(string2)"
   ]
  },
  {
   "cell_type": "markdown",
   "id": "c11c821d",
   "metadata": {},
   "source": [
    "## SET"
   ]
  },
  {
   "cell_type": "code",
   "execution_count": 73,
   "id": "2e2cff0f",
   "metadata": {},
   "outputs": [
    {
     "name": "stdout",
     "output_type": "stream",
     "text": [
      "{0, 1, 64, 4, 36, 100, 9, 16, 49, 81, 25}\n"
     ]
    }
   ],
   "source": [
    "set= {i **2 for i in range (0,11)}\n",
    "print(set)"
   ]
  },
  {
   "cell_type": "code",
   "execution_count": 78,
   "id": "2d70f3c9",
   "metadata": {},
   "outputs": [
    {
     "name": "stdout",
     "output_type": "stream",
     "text": [
      "{64, 4, 36, 16, 'na'}\n"
     ]
    }
   ],
   "source": [
    "set1={i**2 if i%2==0 else 'na' for i in range(1,10)}\n",
    "print(set1)"
   ]
  },
  {
   "cell_type": "markdown",
   "id": "831488e3",
   "metadata": {},
   "source": [
    "## reference\n",
    "- https://coderpad.io/blog/development/python-list-comprehension-guide/\n",
    "- https://medium.com/analytics-vidhya/dictionary-set-comprehensions-a970a9552327    "
   ]
  },
  {
   "cell_type": "code",
   "execution_count": null,
   "id": "adabb333",
   "metadata": {},
   "outputs": [],
   "source": []
  }
 ],
 "metadata": {
  "kernelspec": {
   "display_name": "Python 3 (ipykernel)",
   "language": "python",
   "name": "python3"
  },
  "language_info": {
   "codemirror_mode": {
    "name": "ipython",
    "version": 3
   },
   "file_extension": ".py",
   "mimetype": "text/x-python",
   "name": "python",
   "nbconvert_exporter": "python",
   "pygments_lexer": "ipython3",
   "version": "3.10.9"
  }
 },
 "nbformat": 4,
 "nbformat_minor": 5
}
