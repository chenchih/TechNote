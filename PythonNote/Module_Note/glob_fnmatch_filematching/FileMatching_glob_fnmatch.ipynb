{
 "cells": [
  {
   "cell_type": "markdown",
   "id": "1752a94c",
   "metadata": {},
   "source": [
    "# Understanding File Pattern Matching with Glob and Fnmatch"
   ]
  },
  {
   "cell_type": "markdown",
   "id": "c99e65d5",
   "metadata": {},
   "source": [
    "in this topic will understnad the basic of how to use file pattern module as below: \n",
    "- Path().glob()\n",
    "- glob.glob()\n",
    "- fnmtach()\n",
    "\n",
    "**Prerequisite**: you should already habve a basic convept of knowing how to use path like pathlib or os.path these module. \n",
    "\n",
    "**Note**: While pathlib.Path.glob() and glob.glob() both perform pattern-based file matching, they have some key differences. Although they might seem similar at first glance, they offer distinct approaches and functionalities.\n",
    "- `glob.glob()` returns a list of strings (filenames), often use under os.path module\n",
    "- `pathlib.Path.glob()` returns an iterator of Path objects, use under pathlib module\n",
    "- alternative you can use `fnmatch` built-in module\n",
    "\n",
    "    "
   ]
  },
  {
   "cell_type": "markdown",
   "id": "51683733",
   "metadata": {},
   "source": [
    "<a id='toc'></a>\n",
    "## TOC (Table of Content):\n",
    "* [1. Path().glob](#1.path.glob)\n",
    "* [2. glob](#2.glob)\n",
    "* [3. fnmatch](#3.fnmatch)"
   ]
  },
  {
   "cell_type": "markdown",
   "id": "867b796f",
   "metadata": {},
   "source": [
    "<a id='1.path.glob'></a>\n",
    "## Path().glob [🔝](#toc)\n",
    "- [1.1 Non-Recursive search Path.glob(pattern)](#1.1-Pathglob_Non-Recursive)\n",
    "    - `*`: [list file/directory in current path](#1.1-1)\n",
    "\t- `?`: [Find file with single character](#1.1-2)\n",
    "\t- `[]`: [character set matching](#1.1-3)\n",
    "\t- `**`: [Recursive Directory Searching](#1.1-4)\n",
    "- [1.2 Recursive search Path.rglob(pattern)](#1.2RecursiveSearch)\n",
    "\t- `rglob(pattern)`:[rglob recursive](#1.2Path.rglob)\n",
    "\t- [Filter specific directory recursive](#1.2.1Path.rglob)\n",
    "\t- [Filter specific File recursive](#1.2.2Path.rglob)\n",
    "    - [Filter multiple file type](#1.3Path.rglob)\n",
    "    - [Filter specific directory](#1.4Path.rglob)"
   ]
  },
  {
   "cell_type": "markdown",
   "id": "9814ba82",
   "metadata": {},
   "source": [
    "\n",
    "**pathlib.glob syntax:**\n",
    "> - pathlib.Path.glob(): Non-Recursive search\n",
    "> - pathlib.Path.rglob(): recursive search\n",
    "\n",
    "**Return value**: Return as generative, which is memory-efficient way to produce a sequence of values.\n",
    "> `print(new_dir.glob(\"*\")) #<generator object Path.glob at 0x000001B0AD66DA80>`\n",
    "\n",
    "**Wildcard Pattern:**\n",
    "- `*`: **Wildcards** Matches zero or more characters (e.g., *.txt matches file.txt, notes.txt).\n",
    "    - `*/**`: recusrive searching, match subdirectory \n",
    "- `?`: **Single Character Wildcard** Matches exactly one character (e.g., test?? matches test12, testAB; h?t matches hat, hit, hot).\n",
    "- `[]`: **Character Ranges** Matches any single character inside the brackets (e.g., b[ae]ll matches ball, bell).\n",
    "        - `-`: Specifies a range of characters to match (e.g., [a-z] matches any lowercase letter; b[a-c]d matches bad, bbd, bcd).\n",
    "\n",
    "[Glob Documentation Link](https://docs.python.org/3/library/glob.html)"
   ]
  },
  {
   "cell_type": "code",
   "execution_count": 1,
   "id": "5d174865",
   "metadata": {},
   "outputs": [],
   "source": [
    "#import module\n",
    "import glob, os, fnmatch\n",
    "from pathlib import Path "
   ]
  },
  {
   "cell_type": "markdown",
   "id": "93f8d3d2",
   "metadata": {},
   "source": [
    "<a id='1.1-Pathglob_Non-Recursive'></a>\n",
    "### 1.1 Non-Recursive search  `Path.glob(pattern)` [𖤂](#1.path.glob)\n",
    "Matches file patterns (returns a generator)"
   ]
  },
  {
   "cell_type": "markdown",
   "id": "146ca9bf",
   "metadata": {},
   "source": [
    "<a id='1.1-1'></a>\n",
    "#### - `*`: Matching all in current path [𖤂](#1.path.glob)"
   ]
  },
  {
   "cell_type": "code",
   "execution_count": 3,
   "id": "58a637aa",
   "metadata": {},
   "outputs": [
    {
     "name": "stdout",
     "output_type": "stream",
     "text": [
      "<generator object Path.glob at 0x000002A11444D620>\n",
      "<generator object Path.glob at 0x000002A11444E810>\n"
     ]
    }
   ],
   "source": [
    "new_dir = Path(r\"C:\\demo_testfile\") \n",
    "txt_files= new_dir.glob('*.txt') #filter txt file\n",
    "python_files= new_dir.glob('*.py') #filter python file\n",
    "\n",
    "#it will return like a generator  \n",
    "print(txt_files)\n",
    "print(python_files) "
   ]
  },
  {
   "cell_type": "code",
   "execution_count": 5,
   "id": "0f34e43d",
   "metadata": {},
   "outputs": [
    {
     "name": "stdout",
     "output_type": "stream",
     "text": [
      ".ipynb_checkpoints\n",
      "File Pattern Matching with Glob and Fnmatch.ipynb\n",
      "iterate_filter_file.ipynb\n",
      "os.path_reorganize.ipynb\n",
      "Pathlib Basics(orgainize_final).ipynb\n",
      "Pathlib_reorganize.ipynb\n"
     ]
    }
   ],
   "source": [
    "#Iterate over the generator and list all result, * mean all content in current directory\n",
    "for p in Path().glob(\"*\"):\n",
    "    print(p)"
   ]
  },
  {
   "cell_type": "code",
   "execution_count": 6,
   "id": "903a85dd",
   "metadata": {},
   "outputs": [
    {
     "name": "stdout",
     "output_type": "stream",
     "text": [
      "C:\\demo_testfile\\AAA.txt\n",
      "C:\\demo_testfile\\data\n",
      "C:\\demo_testfile\\datanew\n",
      "C:\\demo_testfile\\ex1.py\n",
      "C:\\demo_testfile\\ex2.py\n",
      "C:\\demo_testfile\\hell[o].txt\n",
      "C:\\demo_testfile\\index.html\n",
      "C:\\demo_testfile\\notes\n",
      "C:\\demo_testfile\\page.html\n",
      "C:\\demo_testfile\\read.txt\n",
      "C:\\demo_testfile\\renamefile\n",
      "C:\\demo_testfile\\test\n",
      "C:\\demo_testfile\\test -copy\n",
      "C:\\demo_testfile\\test.txt\n",
      "C:\\demo_testfile\\testFile1.txt\n"
     ]
    }
   ],
   "source": [
    "#list content like just like above \n",
    "new_dir = Path(r\"C:\\demo_testfile\")  #assign specfic path \n",
    "allfiles = new_dir.glob('*')\n",
    "for file in allfiles:\n",
    "    print(file)#"
   ]
  },
  {
   "cell_type": "code",
   "execution_count": 7,
   "id": "8958d2b6",
   "metadata": {},
   "outputs": [
    {
     "name": "stdout",
     "output_type": "stream",
     "text": [
      "C:\\Users\\User\\Music\\desktop.ini\n",
      "C:\\Users\\User\\Music\\Movavi Video Editor\n",
      "C:\\Users\\User\\Music\\VideoProc Converter AI\n"
     ]
    }
   ],
   "source": [
    "documentpath = Path.home()/'Music'\n",
    "for p in documentpath.glob(\"*\"):\n",
    "    print(p)"
   ]
  },
  {
   "cell_type": "code",
   "execution_count": 8,
   "id": "5d35e3fe",
   "metadata": {},
   "outputs": [
    {
     "name": "stdout",
     "output_type": "stream",
     "text": [
      "###############Filter txt file type###############\n",
      "single file type\n",
      "C:\\demo_testfile\\AAA.txt\n",
      "C:\\demo_testfile\\hell[o].txt\n",
      "C:\\demo_testfile\\read.txt\n",
      "C:\\demo_testfile\\test.txt\n",
      "C:\\demo_testfile\\testFile1.txt\n",
      "############Filter multiple file type#############\n",
      "C:\\demo_testfile\\AAA.txt\n",
      "C:\\demo_testfile\\hell[o].txt\n",
      "C:\\demo_testfile\\read.txt\n",
      "C:\\demo_testfile\\test.txt\n",
      "C:\\demo_testfile\\testFile1.txt\n",
      "C:\\demo_testfile\\ex1.py\n",
      "C:\\demo_testfile\\ex2.py\n",
      "C:\\demo_testfile\\test -copy\n"
     ]
    }
   ],
   "source": [
    "# filter single file type\n",
    "print(\"Filter txt file type\" .center(50, '#')) \n",
    "new_dir = Path(r\"C:\\demo_testfile\")\n",
    "singlefiles = new_dir.glob(\"*.txt\")\n",
    "print('single file type')\n",
    "for p in singlefiles:\n",
    "    print(p)\n",
    "print(\"Filter multiple file type\" .center(50, '#'))   \n",
    "#filter multiple file type:\n",
    "files = list(new_dir.glob(\"*.txt\")) + list(new_dir.glob(\"*py*\"))\n",
    "for p in files:\n",
    "    print(p)"
   ]
  },
  {
   "cell_type": "code",
   "execution_count": 9,
   "id": "bb404cf5",
   "metadata": {},
   "outputs": [
    {
     "name": "stdout",
     "output_type": "stream",
     "text": [
      "################List Comprehension################\n",
      "C:\\demo_testfile\\AAA.txtC:\\demo_testfile\\hell[o].txtC:\\demo_testfile\\read.txtC:\\demo_testfile\\test.txtC:\\demo_testfile\\testFile1.txt\n",
      "############convert generator to list#############\n",
      "[WindowsPath('C:/demo_testfile/AAA.txt'), WindowsPath('C:/demo_testfile/hell[o].txt'), WindowsPath('C:/demo_testfile/read.txt'), WindowsPath('C:/demo_testfile/test.txt'), WindowsPath('C:/demo_testfile/testFile1.txt')]\n",
      "###########convert generator to string############\n",
      "C:\\demo_testfile\\AAA.txt\n",
      "C:\\demo_testfile\\hell[o].txt\n",
      "C:\\demo_testfile\\read.txt\n",
      "C:\\demo_testfile\\test.txt\n",
      "C:\\demo_testfile\\testFile1.txt\n"
     ]
    }
   ],
   "source": [
    "print(\"List Comprehension\" .center(50, '#'))   \n",
    "# List Comprehension \n",
    "result_txt_string = ''.join([str(file_path) for file_path in new_dir.glob(\"*.txt\")]) #convert to string\n",
    "print(result_txt_string) \n",
    "\n",
    "print(\"convert generator to list\" .center(50, '#'))  \n",
    "# Convert the generator to a list and print the list\n",
    "txt_files = list(new_dir.glob(\"*.txt\"))\n",
    "print(txt_files) \n",
    "print(\"convert generator to string\" .center(50, '#')) \n",
    "#Convert the generator to string using map() and str()\n",
    "txt_files= '\\n'.join(map(str, new_dir.glob(\"*.txt\"))) \n",
    "print(txt_files)"
   ]
  },
  {
   "cell_type": "code",
   "execution_count": 10,
   "id": "81ca9260",
   "metadata": {},
   "outputs": [
    {
     "name": "stdout",
     "output_type": "stream",
     "text": [
      "C:\\demo_testfile\\ex1.py\n",
      "C:\\demo_testfile\\ex2.py\n"
     ]
    }
   ],
   "source": [
    "#Find all files starting with \"data\" in the current directory\n",
    "for file_path in  new_dir.glob(\"ex*\"):\n",
    "    print(file_path) "
   ]
  },
  {
   "cell_type": "markdown",
   "id": "5948f2d0",
   "metadata": {},
   "source": [
    "<a id='1.1-2'></a>\n",
    "#####  -`?`: Find file with single character [𖤂](#1.path.glob)"
   ]
  },
  {
   "cell_type": "code",
   "execution_count": 11,
   "id": "3181af68",
   "metadata": {},
   "outputs": [
    {
     "name": "stdout",
     "output_type": "stream",
     "text": [
      "C:\\demo_testfile\\ex1.py\n",
      "C:\\demo_testfile\\ex2.py\n"
     ]
    }
   ],
   "source": [
    "# Find all files with a three character filename and the \".py\" extension\n",
    "for single_char_py_files in  new_dir.glob(\"???.py\"):\n",
    "    print(single_char_py_files) "
   ]
  },
  {
   "cell_type": "markdown",
   "id": "4cad28b7",
   "metadata": {},
   "source": [
    "<a id='1.1-3'></a>\n",
    "##### - `[]`: character set matching [𖤂](#1.path.glob)"
   ]
  },
  {
   "cell_type": "code",
   "execution_count": 12,
   "id": "3fa4b00f",
   "metadata": {},
   "outputs": [
    {
     "name": "stdout",
     "output_type": "stream",
     "text": [
      "C:\\demo_testfile\\ex1.py\n",
      "C:\\demo_testfile\\ex2.py\n",
      "==================================================\n",
      "C:\\demo_testfile\\ex1.py\n",
      "C:\\demo_testfile\\ex2.py\n"
     ]
    }
   ],
   "source": [
    "# Find all files starting with single lowercase letter and followed by \".py\" extension\n",
    "for single_char_py_files in  new_dir.glob(\"[a-z]*.py\"):\n",
    "    print(single_char_py_files) \n",
    "    \n",
    "print('='*50)\n",
    "\n",
    "# Find all files starting with test followed by a digit\n",
    "for single_char_py_files in  new_dir.glob(\"ex[0-9]*\"):\n",
    "    print(single_char_py_files) "
   ]
  },
  {
   "cell_type": "markdown",
   "id": "47499b80",
   "metadata": {},
   "source": [
    "<a id='1.1-4'></a>\n",
    "##### - `**`: Recursive Directory Searching  [𖤂](#1.path.glob)\n",
    "This is another recursive method using wildcards pattern (`**/*`), which work just like `Path.rglob`."
   ]
  },
  {
   "cell_type": "code",
   "execution_count": 29,
   "id": "23c338c3",
   "metadata": {},
   "outputs": [
    {
     "name": "stdout",
     "output_type": "stream",
     "text": [
      "C:\\demo_testfile\\notes\\billboard_ratings.csv\n",
      "C:\\demo_testfile\\notes\\billboard_songs.csv\n",
      "C:\\demo_testfile\\notes\\billboard_songs2023.csv\n",
      "C:\\demo_testfile\\test\\data\\billboard.csv\n",
      "C:\\demo_testfile\\test\\data\\concat_1.csv\n",
      "C:\\demo_testfile\\test\\data\\concat_2.csv\n",
      "C:\\demo_testfile\\test\\data\\concat_3.csv\n",
      "C:\\demo_testfile\\test\\data\\country_timeseries.csv\n",
      "C:\\demo_testfile\\test\\data\\pew.csv\n",
      "C:\\demo_testfile\\test\\data\\survey_person.csv\n",
      "C:\\demo_testfile\\test\\data\\survey_site.csv\n",
      "C:\\demo_testfile\\test\\data\\survey_survey.csv\n",
      "C:\\demo_testfile\\test\\data\\survey_visited.csv\n",
      "C:\\demo_testfile\\test\\data\\weather.csv\n",
      "C:\\demo_testfile\\test -copy\\data\\billboard.csv\n",
      "C:\\demo_testfile\\test -copy\\data\\concat_1.csv\n",
      "C:\\demo_testfile\\test -copy\\data\\concat_2.csv\n",
      "C:\\demo_testfile\\test -copy\\data\\concat_3.csv\n",
      "C:\\demo_testfile\\test -copy\\data\\country_timeseries.csv\n",
      "C:\\demo_testfile\\test -copy\\data\\pew.csv\n",
      "C:\\demo_testfile\\test -copy\\data\\survey_person.csv\n",
      "C:\\demo_testfile\\test -copy\\data\\survey_site.csv\n",
      "C:\\demo_testfile\\test -copy\\data\\survey_survey.csv\n",
      "C:\\demo_testfile\\test -copy\\data\\survey_visited.csv\n",
      "C:\\demo_testfile\\test -copy\\data\\weather.csv\n"
     ]
    }
   ],
   "source": [
    "for fileref in Path('C:/demo_testfile/').glob('**/*.csv'):\n",
    "    filename = str(fileref)\n",
    "    print(filename)"
   ]
  },
  {
   "cell_type": "markdown",
   "id": "1309f8ed",
   "metadata": {},
   "source": [
    "<a id='1.2RecursiveSearch'></a>\n",
    "### 1.2. Recursive search  `Path.rglob(pattern)` [𖤂](#1.path.glob)"
   ]
  },
  {
   "cell_type": "markdown",
   "id": "5e0a34dc",
   "metadata": {},
   "source": [
    "<a id='1.2Path.rglob'></a>\n",
    "#### - `Path.rglob(pattern)` [𖤂](#1.path.glob)\n",
    "Recursively matches file patterns (returns a generator). Example as below\n",
    "```python\n",
    "list(Path.rglob(pattern))# Converts the generator to a list of matches.\n",
    "```\n",
    "> - glob uses `**` within the pattern for recursive searching.\n",
    "> - pathlib uses the `rglob()` method for recursive searching.\n"
   ]
  },
  {
   "cell_type": "code",
   "execution_count": 14,
   "id": "6d56f76a",
   "metadata": {},
   "outputs": [
    {
     "name": "stdout",
     "output_type": "stream",
     "text": [
      "<generator object Path.rglob at 0x000002A11444F5A0>\n"
     ]
    },
    {
     "data": {
      "text/plain": [
       "[WindowsPath('C:/demo_testfile/AAA.txt'),\n",
       " WindowsPath('C:/demo_testfile/hell[o].txt'),\n",
       " WindowsPath('C:/demo_testfile/read.txt'),\n",
       " WindowsPath('C:/demo_testfile/test.txt'),\n",
       " WindowsPath('C:/demo_testfile/testFile1.txt'),\n",
       " WindowsPath('C:/demo_testfile/data/copy2_AAA.txt'),\n",
       " WindowsPath('C:/demo_testfile/data/copy2_hell[o].txt'),\n",
       " WindowsPath('C:/demo_testfile/data/copy_AAA.txt'),\n",
       " WindowsPath('C:/demo_testfile/data/copy_hell[o].txt'),\n",
       " WindowsPath('C:/demo_testfile/test/1.txt'),\n",
       " WindowsPath('C:/demo_testfile/test/2.txt'),\n",
       " WindowsPath('C:/demo_testfile/test -copy/1.txt'),\n",
       " WindowsPath('C:/demo_testfile/test -copy/2.txt')]"
      ]
     },
     "execution_count": 14,
     "metadata": {},
     "output_type": "execute_result"
    }
   ],
   "source": [
    "#generator \n",
    "testdirectory = Path(\"C:/demo_testfile/\")\n",
    "print(testdirectory.rglob(\"*.txt\"))\n",
    "#convert to list \n",
    "list(testdirectory.rglob(\"*.txt\"))"
   ]
  },
  {
   "cell_type": "markdown",
   "id": "5309b06a",
   "metadata": {},
   "source": [
    "<a id='1.2.1Path.rglob'></a>\n",
    "##### Filter specific directory recursive [𖤂](#1.path.glob)"
   ]
  },
  {
   "cell_type": "code",
   "execution_count": 15,
   "id": "67b8b917",
   "metadata": {
    "scrolled": true
   },
   "outputs": [
    {
     "name": "stdout",
     "output_type": "stream",
     "text": [
      "C:\\demo_testfile\\AAA.txt\n",
      "C:\\demo_testfile\\data\n",
      "C:\\demo_testfile\\datanew\n",
      "C:\\demo_testfile\\ex1.py\n",
      "C:\\demo_testfile\\ex2.py\n",
      "C:\\demo_testfile\\hell[o].txt\n",
      "C:\\demo_testfile\\index.html\n",
      "C:\\demo_testfile\\notes\n",
      "C:\\demo_testfile\\page.html\n",
      "C:\\demo_testfile\\read.txt\n",
      "C:\\demo_testfile\\renamefile\n",
      "C:\\demo_testfile\\test\n",
      "C:\\demo_testfile\\test -copy\n",
      "C:\\demo_testfile\\test.txt\n",
      "C:\\demo_testfile\\testFile1.txt\n",
      "C:\\demo_testfile\\data\\copy2_AAA.txt\n",
      "C:\\demo_testfile\\data\\copy2_ex1.py\n",
      "C:\\demo_testfile\\data\\copy2_ex2.py\n",
      "C:\\demo_testfile\\data\\copy2_hell[o].txt\n",
      "C:\\demo_testfile\\data\\copy2_index.html\n",
      "C:\\demo_testfile\\data\\copy2_page.html\n",
      "C:\\demo_testfile\\data\\copy_AAA.txt\n",
      "C:\\demo_testfile\\data\\copy_ex1.py\n",
      "C:\\demo_testfile\\data\\copy_ex2.py\n",
      "C:\\demo_testfile\\data\\copy_file - with - space-1.py\n",
      "C:\\demo_testfile\\data\\copy_file - with - space-1.py.bk\n",
      "C:\\demo_testfile\\data\\copy_hell[o].txt\n",
      "C:\\demo_testfile\\data\\copy_index.html\n",
      "C:\\demo_testfile\\data\\copy_page.html\n",
      "C:\\demo_testfile\\datanew\\copy2_page.html\n",
      "C:\\demo_testfile\\datanew\\copy_page.html\n",
      "C:\\demo_testfile\\notes\\.gitignore\n",
      "C:\\demo_testfile\\notes\\.ipynb_checkpoints\n",
      "C:\\demo_testfile\\notes\\01-intro.ipynb\n",
      "C:\\demo_testfile\\notes\\02-tidy.ipynb\n",
      "C:\\demo_testfile\\notes\\03-merge.ipynb\n",
      "C:\\demo_testfile\\notes\\billboard_ratings.csv\n",
      "C:\\demo_testfile\\notes\\billboard_songs.csv\n",
      "C:\\demo_testfile\\notes\\billboard_songs2023.csv\n",
      "C:\\demo_testfile\\notes\\.ipynb_checkpoints\\01-intro-checkpoint.ipynb\n",
      "C:\\demo_testfile\\notes\\.ipynb_checkpoints\\02-tidy-checkpoint.ipynb\n",
      "C:\\demo_testfile\\renamefile\\.idea\n",
      "C:\\demo_testfile\\renamefile\\data\n",
      "C:\\demo_testfile\\renamefile\\file - with - space-1.py\n",
      "C:\\demo_testfile\\renamefile\\file - with - space-1.py.bk\n",
      "C:\\demo_testfile\\renamefile\\.idea\\.gitignore\n",
      "C:\\demo_testfile\\renamefile\\.idea\\inspectionProfiles\n",
      "C:\\demo_testfile\\renamefile\\.idea\\misc.xml\n",
      "C:\\demo_testfile\\renamefile\\.idea\\modules.xml\n",
      "C:\\demo_testfile\\renamefile\\.idea\\renamefile.iml\n",
      "C:\\demo_testfile\\renamefile\\.idea\\workspace.xml\n",
      "C:\\demo_testfile\\renamefile\\.idea\\inspectionProfiles\\profiles_settings.xml\n",
      "C:\\demo_testfile\\renamefile\\data\\copy2_file - with - space-1.py\n",
      "C:\\demo_testfile\\renamefile\\data\\copy2_file - with - space-1.py.bk\n",
      "C:\\demo_testfile\\renamefile\\data\\copy_file - with - space-1.py\n",
      "C:\\demo_testfile\\renamefile\\data\\copy_file - with - space-1.py.bk\n",
      "C:\\demo_testfile\\test\\1.txt\n",
      "C:\\demo_testfile\\test\\2.txt\n",
      "C:\\demo_testfile\\test\\data\n",
      "C:\\demo_testfile\\test\\data\\billboard.csv\n",
      "C:\\demo_testfile\\test\\data\\concat_1.csv\n",
      "C:\\demo_testfile\\test\\data\\concat_2.csv\n",
      "C:\\demo_testfile\\test\\data\\concat_3.csv\n",
      "C:\\demo_testfile\\test\\data\\country_timeseries.csv\n",
      "C:\\demo_testfile\\test\\data\\gapminder.tsv\n",
      "C:\\demo_testfile\\test\\data\\intro.ipynb\n",
      "C:\\demo_testfile\\test\\data\\pew.csv\n",
      "C:\\demo_testfile\\test\\data\\survey_person.csv\n",
      "C:\\demo_testfile\\test\\data\\survey_site.csv\n",
      "C:\\demo_testfile\\test\\data\\survey_survey.csv\n",
      "C:\\demo_testfile\\test\\data\\survey_visited.csv\n",
      "C:\\demo_testfile\\test\\data\\weather.csv\n",
      "C:\\demo_testfile\\test -copy\\1.txt\n",
      "C:\\demo_testfile\\test -copy\\2.txt\n",
      "C:\\demo_testfile\\test -copy\\data\n",
      "C:\\demo_testfile\\test -copy\\data\\billboard.csv\n",
      "C:\\demo_testfile\\test -copy\\data\\concat_1.csv\n",
      "C:\\demo_testfile\\test -copy\\data\\concat_2.csv\n",
      "C:\\demo_testfile\\test -copy\\data\\concat_3.csv\n",
      "C:\\demo_testfile\\test -copy\\data\\country_timeseries.csv\n",
      "C:\\demo_testfile\\test -copy\\data\\gapminder.tsv\n",
      "C:\\demo_testfile\\test -copy\\data\\intro.ipynb\n",
      "C:\\demo_testfile\\test -copy\\data\\pew.csv\n",
      "C:\\demo_testfile\\test -copy\\data\\survey_person.csv\n",
      "C:\\demo_testfile\\test -copy\\data\\survey_site.csv\n",
      "C:\\demo_testfile\\test -copy\\data\\survey_survey.csv\n",
      "C:\\demo_testfile\\test -copy\\data\\survey_visited.csv\n",
      "C:\\demo_testfile\\test -copy\\data\\weather.csv\n"
     ]
    }
   ],
   "source": [
    "#search throught all subdirectory \n",
    "for p in testdirectory.rglob(\"*\"):\n",
    "    print(p)"
   ]
  },
  {
   "cell_type": "markdown",
   "id": "e336dba5",
   "metadata": {},
   "source": [
    "<a id='1.2.2Path.rglob'></a>\n",
    "##### Filter specific File recursive [𖤂](#1.path.glob)"
   ]
  },
  {
   "cell_type": "code",
   "execution_count": 16,
   "id": "361f23b1",
   "metadata": {},
   "outputs": [
    {
     "name": "stdout",
     "output_type": "stream",
     "text": [
      "C:\\demo_testfile\\notes\\billboard_ratings.csv\n",
      "C:\\demo_testfile\\notes\\billboard_songs.csv\n",
      "C:\\demo_testfile\\notes\\billboard_songs2023.csv\n",
      "C:\\demo_testfile\\test\\data\\billboard.csv\n",
      "C:\\demo_testfile\\test\\data\\concat_1.csv\n",
      "C:\\demo_testfile\\test\\data\\concat_2.csv\n",
      "C:\\demo_testfile\\test\\data\\concat_3.csv\n",
      "C:\\demo_testfile\\test\\data\\country_timeseries.csv\n",
      "C:\\demo_testfile\\test\\data\\pew.csv\n",
      "C:\\demo_testfile\\test\\data\\survey_person.csv\n",
      "C:\\demo_testfile\\test\\data\\survey_site.csv\n",
      "C:\\demo_testfile\\test\\data\\survey_survey.csv\n",
      "C:\\demo_testfile\\test\\data\\survey_visited.csv\n",
      "C:\\demo_testfile\\test\\data\\weather.csv\n",
      "C:\\demo_testfile\\test -copy\\data\\billboard.csv\n",
      "C:\\demo_testfile\\test -copy\\data\\concat_1.csv\n",
      "C:\\demo_testfile\\test -copy\\data\\concat_2.csv\n",
      "C:\\demo_testfile\\test -copy\\data\\concat_3.csv\n",
      "C:\\demo_testfile\\test -copy\\data\\country_timeseries.csv\n",
      "C:\\demo_testfile\\test -copy\\data\\pew.csv\n",
      "C:\\demo_testfile\\test -copy\\data\\survey_person.csv\n",
      "C:\\demo_testfile\\test -copy\\data\\survey_site.csv\n",
      "C:\\demo_testfile\\test -copy\\data\\survey_survey.csv\n",
      "C:\\demo_testfile\\test -copy\\data\\survey_visited.csv\n",
      "C:\\demo_testfile\\test -copy\\data\\weather.csv\n"
     ]
    }
   ],
   "source": [
    "#recursive sub directory and filter csv file\n",
    "for p in testdirectory.rglob(\"*.csv\"):\n",
    "    print(p)"
   ]
  },
  {
   "cell_type": "markdown",
   "id": "7ba3cf21",
   "metadata": {},
   "source": [
    "<a id='1.3Path.rglob'></a>\n",
    "#### Filter multiple file type [𖤂](#1.path.glob)"
   ]
  },
  {
   "cell_type": "code",
   "execution_count": 23,
   "id": "c7423d4c",
   "metadata": {},
   "outputs": [
    {
     "name": "stdout",
     "output_type": "stream",
     "text": [
      "C:\\demo_testfile\\AAA.txt\n",
      "C:\\demo_testfile\\ex1.py\n",
      "C:\\demo_testfile\\ex2.py\n",
      "C:\\demo_testfile\\hell[o].txt\n",
      "C:\\demo_testfile\\read.txt\n",
      "C:\\demo_testfile\\test.txt\n",
      "C:\\demo_testfile\\testFile1.txt\n",
      "C:\\demo_testfile\\data\\copy2_AAA.txt\n",
      "C:\\demo_testfile\\data\\copy2_ex1.py\n",
      "C:\\demo_testfile\\data\\copy2_ex2.py\n",
      "C:\\demo_testfile\\data\\copy2_hell[o].txt\n",
      "C:\\demo_testfile\\data\\copy_AAA.txt\n",
      "C:\\demo_testfile\\data\\copy_ex1.py\n",
      "C:\\demo_testfile\\data\\copy_ex2.py\n",
      "C:\\demo_testfile\\data\\copy_file - with - space-1.py\n",
      "C:\\demo_testfile\\data\\copy_hell[o].txt\n",
      "C:\\demo_testfile\\renamefile\\file - with - space-1.py\n",
      "C:\\demo_testfile\\renamefile\\data\\copy2_file - with - space-1.py\n",
      "C:\\demo_testfile\\renamefile\\data\\copy_file - with - space-1.py\n",
      "C:\\demo_testfile\\test\\1.txt\n",
      "C:\\demo_testfile\\test\\2.txt\n",
      "C:\\demo_testfile\\test -copy\\1.txt\n",
      "C:\\demo_testfile\\test -copy\\2.txt\n"
     ]
    }
   ],
   "source": [
    "#multiple pattern         \n",
    "for file_path in testdirectory.rglob(\"*\"):\n",
    "    if file_path.suffix in {\".py\", \".txt\"}:\n",
    "        print(file_path)   "
   ]
  },
  {
   "cell_type": "code",
   "execution_count": 24,
   "id": "92e1e2b2",
   "metadata": {},
   "outputs": [
    {
     "name": "stdout",
     "output_type": "stream",
     "text": [
      "C:\\demo_testfile\\AAA.txt\n",
      "C:\\demo_testfile\\hell[o].txt\n",
      "C:\\demo_testfile\\read.txt\n",
      "C:\\demo_testfile\\test.txt\n",
      "C:\\demo_testfile\\testFile1.txt\n",
      "C:\\demo_testfile\\data\\copy2_AAA.txt\n",
      "C:\\demo_testfile\\data\\copy2_hell[o].txt\n",
      "C:\\demo_testfile\\data\\copy_AAA.txt\n",
      "C:\\demo_testfile\\data\\copy_hell[o].txt\n",
      "C:\\demo_testfile\\test\\1.txt\n",
      "C:\\demo_testfile\\test\\2.txt\n",
      "C:\\demo_testfile\\test -copy\\1.txt\n",
      "C:\\demo_testfile\\test -copy\\2.txt\n",
      "C:\\demo_testfile\\ex1.py\n",
      "C:\\demo_testfile\\ex2.py\n",
      "C:\\demo_testfile\\data\\copy2_ex1.py\n",
      "C:\\demo_testfile\\data\\copy2_ex2.py\n",
      "C:\\demo_testfile\\data\\copy_ex1.py\n",
      "C:\\demo_testfile\\data\\copy_ex2.py\n",
      "C:\\demo_testfile\\data\\copy_file - with - space-1.py\n",
      "C:\\demo_testfile\\renamefile\\file - with - space-1.py\n",
      "C:\\demo_testfile\\renamefile\\data\\copy2_file - with - space-1.py\n",
      "C:\\demo_testfile\\renamefile\\data\\copy_file - with - space-1.py\n"
     ]
    }
   ],
   "source": [
    "#method2\n",
    "extensions = [\".txt\", \".py\"]\n",
    "all_files = []\n",
    "\n",
    "for ext in extensions:\n",
    "    all_files.extend(list(testdirectory.rglob(f\"*{ext}\"))) \n",
    "txt_files= '\\n'.join(map(str, all_files) )\n",
    "print(txt_files)"
   ]
  },
  {
   "cell_type": "markdown",
   "id": "85eaf59e",
   "metadata": {},
   "source": [
    "<a id='1.4Path.rglob'></a>\n",
    "#### Filter specific directory [𖤂](#1.path.glob)"
   ]
  },
  {
   "cell_type": "code",
   "execution_count": 25,
   "id": "0e1f4a4f",
   "metadata": {},
   "outputs": [
    {
     "name": "stdout",
     "output_type": "stream",
     "text": [
      "c:\\demo_testfile\\AAA.txt\n",
      "c:\\demo_testfile\\datanew\n",
      "c:\\demo_testfile\\ex1.py\n",
      "c:\\demo_testfile\\ex2.py\n",
      "c:\\demo_testfile\\hell[o].txt\n",
      "c:\\demo_testfile\\index.html\n",
      "c:\\demo_testfile\\page.html\n",
      "c:\\demo_testfile\\read.txt\n",
      "c:\\demo_testfile\\test\n",
      "c:\\demo_testfile\\test -copy\n",
      "c:\\demo_testfile\\test.txt\n",
      "c:\\demo_testfile\\testFile1.txt\n",
      "c:\\demo_testfile\\datanew\\copy2_page.html\n",
      "c:\\demo_testfile\\datanew\\copy_page.html\n",
      "c:\\demo_testfile\\test\\1.txt\n",
      "c:\\demo_testfile\\test\\2.txt\n",
      "c:\\demo_testfile\\test -copy\\1.txt\n",
      "c:\\demo_testfile\\test -copy\\2.txt\n"
     ]
    }
   ],
   "source": [
    "# skip specific directory\n",
    "SKIP_DIRS = [\"notes\", \"data\",\"renamefile\"]\n",
    "directory = Path('c:\\demo_testfile')\n",
    "#With a for loop\n",
    "for item in directory.rglob(\"*\"):\n",
    "    if set(item.parts).isdisjoint(SKIP_DIRS):\n",
    "        print(item)"
   ]
  },
  {
   "cell_type": "code",
   "execution_count": 26,
   "id": "44e3846a",
   "metadata": {},
   "outputs": [
    {
     "data": {
      "text/plain": [
       "[WindowsPath('c:/demo_testfile/AAA.txt'),\n",
       " WindowsPath('c:/demo_testfile/datanew'),\n",
       " WindowsPath('c:/demo_testfile/ex1.py'),\n",
       " WindowsPath('c:/demo_testfile/ex2.py'),\n",
       " WindowsPath('c:/demo_testfile/hell[o].txt'),\n",
       " WindowsPath('c:/demo_testfile/index.html'),\n",
       " WindowsPath('c:/demo_testfile/page.html'),\n",
       " WindowsPath('c:/demo_testfile/read.txt'),\n",
       " WindowsPath('c:/demo_testfile/test'),\n",
       " WindowsPath('c:/demo_testfile/test -copy'),\n",
       " WindowsPath('c:/demo_testfile/test.txt'),\n",
       " WindowsPath('c:/demo_testfile/testFile1.txt'),\n",
       " WindowsPath('c:/demo_testfile/datanew/copy2_page.html'),\n",
       " WindowsPath('c:/demo_testfile/datanew/copy_page.html'),\n",
       " WindowsPath('c:/demo_testfile/test/1.txt'),\n",
       " WindowsPath('c:/demo_testfile/test/2.txt'),\n",
       " WindowsPath('c:/demo_testfile/test -copy/1.txt'),\n",
       " WindowsPath('c:/demo_testfile/test -copy/2.txt')]"
      ]
     },
     "execution_count": 26,
     "metadata": {},
     "output_type": "execute_result"
    }
   ],
   "source": [
    "# With a comprehension\n",
    "[     item\n",
    "    for item in directory.rglob(\"*\")\n",
    "    if set(item.parts).isdisjoint(SKIP_DIRS)\n",
    "]"
   ]
  },
  {
   "cell_type": "code",
   "execution_count": 27,
   "id": "e7193843",
   "metadata": {},
   "outputs": [
    {
     "name": "stdout",
     "output_type": "stream",
     "text": [
      "C:\\demo_testfile\\data\n",
      "C:\\demo_testfile\\datanew\n",
      "C:\\demo_testfile\\notes\n",
      "C:\\demo_testfile\\renamefile\n",
      "C:\\demo_testfile\\test\n",
      "C:\\demo_testfile\\test -copy\n",
      "C:\\demo_testfile\\notes\\.ipynb_checkpoints\n",
      "C:\\demo_testfile\\renamefile\\.idea\n",
      "C:\\demo_testfile\\renamefile\\data\n",
      "C:\\demo_testfile\\renamefile\\.idea\\inspectionProfiles\n",
      "C:\\demo_testfile\\test\\data\n",
      "C:\\demo_testfile\\test -copy\\data\n"
     ]
    }
   ],
   "source": [
    "#filter only directory \n",
    "testdirectory = Path(\"C:/demo_testfile/\")\n",
    "for item in testdirectory.rglob(\"*\"):\n",
    "    if item.is_dir():\n",
    "        print(item)"
   ]
  },
  {
   "cell_type": "code",
   "execution_count": 28,
   "id": "3c879899",
   "metadata": {},
   "outputs": [
    {
     "name": "stdout",
     "output_type": "stream",
     "text": [
      "[WindowsPath('C:/demo_testfile/data'), WindowsPath('C:/demo_testfile/datanew'), WindowsPath('C:/demo_testfile/notes'), WindowsPath('C:/demo_testfile/renamefile'), WindowsPath('C:/demo_testfile/test'), WindowsPath('C:/demo_testfile/test -copy'), WindowsPath('C:/demo_testfile/notes/.ipynb_checkpoints'), WindowsPath('C:/demo_testfile/renamefile/.idea'), WindowsPath('C:/demo_testfile/renamefile/data'), WindowsPath('C:/demo_testfile/renamefile/.idea/inspectionProfiles'), WindowsPath('C:/demo_testfile/test/data'), WindowsPath('C:/demo_testfile/test -copy/data')]\n",
      "------------------------\n",
      "[WindowsPath('C:/demo_testfile/data'), WindowsPath('C:/demo_testfile/datanew'), WindowsPath('C:/demo_testfile/notes'), WindowsPath('C:/demo_testfile/renamefile'), WindowsPath('C:/demo_testfile/test'), WindowsPath('C:/demo_testfile/test -copy'), WindowsPath('C:/demo_testfile/notes/.ipynb_checkpoints'), WindowsPath('C:/demo_testfile/renamefile/.idea'), WindowsPath('C:/demo_testfile/renamefile/data'), WindowsPath('C:/demo_testfile/renamefile/.idea/inspectionProfiles'), WindowsPath('C:/demo_testfile/test/data'), WindowsPath('C:/demo_testfile/test -copy/data')]\n"
     ]
    }
   ],
   "source": [
    "#Using a comprehension\n",
    "listresult=[item for item in testdirectory.rglob(\"*\") if item.is_dir()]\n",
    "print(listresult)\n",
    "print('------------------------')\n",
    "#Using the filter() function\n",
    "lambdaresult=list(filter(lambda item: item.is_dir(), testdirectory.rglob(\"*\")))\n",
    "print(lambdaresult)"
   ]
  },
  {
   "cell_type": "markdown",
   "id": "0a2abb5e",
   "metadata": {},
   "source": [
    "<a id='2.glob'></a>\n",
    "## 2 glob [🔝](#toc)\n",
    "- [2.1 Non-Recursive search](#2.1-Non-Recursivesearch)\n",
    "    - `*`: [Match everything](#2.1-1)\n",
    "    - `[seq]`: [Match Character Ranges](#2.1-1)\n",
    "    - `[!seq]`: [Match characters not in brackets](#2.1-1)\n",
    "    - `[[`: [Escape wildcards](#2.1-1)\n",
    "- [2.2 Recursive Search glob](#2.2RecursiveSearch)\n",
    "    - `*\\**`:[Search current and subdirectories](#2.2-1)\n",
    "    - `?`: [Match a character](#2.2-2)\n",
    "    - `root_dir` : [Specifying a root directory](#2.2-3)\n",
    "    - `include_hidden`: [display hideen file](#2.2-4)\n",
    "    - `any` [exclude specific folder -unwanted folder](#2.2-5)"
   ]
  },
  {
   "cell_type": "markdown",
   "id": "3ab8fd8c",
   "metadata": {},
   "source": [
    "**Return value**: Return as generative, which is memory-efficient way to produce a sequence of values.\n",
    "> `print(new_dir.glob(\"*\")) #<generator object Path.glob at 0x000001B0AD66DA80>`\n",
    "\n",
    "The main difference between `glob.glob` and `pathlib.Path.glob` is that they work similarly for most cases, but their approach to recursive searches differs.\n",
    "- glob.glob: Works with string-based patterns and interacts with the filesystem directly.\n",
    "- pathlib.Path.glob: Works with Path objects and is more object-oriented, but the pattern matching rules are the same.\n",
    "\n",
    "**import module:**\n",
    "> `from glob import glob`\n",
    "\n",
    "**pathlib.glob syntax:**\n",
    "> `glob(pathname, *, root_dir=None, dir_fd=None, recursive=False, include_hidden=False)`\n",
    ">> - `include_hidden=False`: support python 3.11\n",
    ">> - `glob()`: return as string\n",
    ">> - `iglob()`: retrun as generator less memory\n",
    "\n",
    "**Wildcard Pattern:**\n",
    "- `*`: **Wildcards** Matches zero or more characters (e.g., *.txt matches file.txt, notes.txt).\n",
    "    - `*/**`: recusrive searching, match subdirectory \n",
    "- `?`: **Single Character Wildcard** Matches exactly one character (e.g., test?? matches test12, testAB; h?t matches hat, hit, hot).\n",
    "- `[]`: **Character Ranges** Matches any single character inside the brackets (e.g., b[ae]ll matches ball, bell).\n",
    "        - `-`: Specifies a range of characters to match (e.g., [a-z] matches any lowercase letter; b[a-c]d matches bad, bbd, bcd).\n",
    "\n",
    "[Glob Documentation Link](https://docs.python.org/3/library/glob.html)"
   ]
  },
  {
   "cell_type": "code",
   "execution_count": 106,
   "id": "b1093b66",
   "metadata": {},
   "outputs": [],
   "source": [
    "from glob import glob #glob.pattern()\n",
    "#or\n",
    "#import glob #glob.glob(pattern)"
   ]
  },
  {
   "cell_type": "markdown",
   "id": "9de56167",
   "metadata": {},
   "source": [
    "<a id='2.1-Non-Recursivesearch'></a>\n",
    "### 2.1 Non-Recursive search  [𖤂](#2.glob)"
   ]
  },
  {
   "cell_type": "markdown",
   "id": "13e5127f",
   "metadata": {},
   "source": [
    "<a id='2.1-1'></a>\n",
    "#####  - `*`: Match everything  [𖤂](#2.glob)\n",
    "Matches all .py files or all files with extensions."
   ]
  },
  {
   "cell_type": "code",
   "execution_count": 107,
   "id": "a609f05c",
   "metadata": {},
   "outputs": [
    {
     "name": "stdout",
     "output_type": "stream",
     "text": [
      "['C:\\\\demo_testfile\\\\ex1.py', 'C:\\\\demo_testfile\\\\ex2.py']\n",
      "['File Pattern Matching with Glob and Fnmatch.ipynb', 'iterate_filter_file.ipynb', 'os.path_reorganize.ipynb', 'Pathlib Basics(orgainize_final).ipynb', 'Pathlib_reorganize.ipynb']\n"
     ]
    }
   ],
   "source": [
    "print(glob('C:\\demo_testfile\\*.py'))  # Matches 'file.py', 'test.py'\n",
    "print(glob('*.*'))   # Matches all files with extensions"
   ]
  },
  {
   "cell_type": "code",
   "execution_count": 165,
   "id": "1226f3ff",
   "metadata": {},
   "outputs": [
    {
     "name": "stdout",
     "output_type": "stream",
     "text": [
      "['C:\\\\demo_testfile\\\\ex1.py', 'C:\\\\demo_testfile\\\\ex2.py']\n",
      "['File Pattern Matching with Glob and Fnmatch.ipynb', 'iterate_filter_file.ipynb', 'os.path_reorganize.ipynb', 'Pathlib Basics(orgainize_final).ipynb', 'Pathlib_reorganize.ipynb']\n",
      "File Pattern Matching with Glob and Fnmatch.ipynb\n",
      "iterate_filter_file.ipynb\n",
      "os.path_reorganize.ipynb\n",
      "Pathlib Basics(orgainize_final).ipynb\n",
      "Pathlib_reorganize.ipynb\n"
     ]
    }
   ],
   "source": [
    "from glob import glob\n",
    "path=Path('C:\\demo_testfile')\n",
    "#filter with specfic path .py file \n",
    "print(glob(str(path) +'\\*.py'))\n",
    "#filter with current path with .ipy file\n",
    "\n",
    "print(glob('*.ipy*'))\n",
    "print(\"\\n\".join(glob('*.ipy*')))"
   ]
  },
  {
   "cell_type": "markdown",
   "id": "cf315772",
   "metadata": {},
   "source": [
    "<a id='2.1-2'></a>\n",
    "##### - `?`:  Match ? character [𖤂](#2.glob)\n",
    "Matches files with exactly n characters (e.g., ab.py)."
   ]
  },
  {
   "cell_type": "code",
   "execution_count": 33,
   "id": "f8ab967f",
   "metadata": {},
   "outputs": [
    {
     "name": "stdout",
     "output_type": "stream",
     "text": [
      "['C:\\\\demo_testfile\\\\ex1.py', 'C:\\\\demo_testfile\\\\ex2.py']\n",
      "C:\\demo_testfile\\ex1.py\n",
      "C:\\demo_testfile\\ex2.py\n"
     ]
    }
   ],
   "source": [
    "path='C:\\demo_testfile\\???.py'\n",
    "print(glob(path))  # Matches files like 'ab.py', 'cd.py'\n",
    "path = \"C:\\demo_testfile\\???.py\"\n",
    "for path in glob(path):\n",
    "    print(path)"
   ]
  },
  {
   "cell_type": "markdown",
   "id": "9e895559",
   "metadata": {},
   "source": [
    "<a id='2.1-3'></a>\n",
    "##### - `[seq]`: Match Character Ranges [𖤂](#2.glob)\n",
    "File match `ex` and ext as `.py`"
   ]
  },
  {
   "cell_type": "code",
   "execution_count": 135,
   "id": "528778bb",
   "metadata": {},
   "outputs": [
    {
     "data": {
      "text/plain": [
       "['C:\\\\demo_testfile\\\\ex1.py', 'C:\\\\demo_testfile\\\\ex2.py']"
      ]
     },
     "execution_count": 135,
     "metadata": {},
     "output_type": "execute_result"
    }
   ],
   "source": [
    "#match beginning file start with ex\n",
    "glob('C:\\demo_testfile\\[ex]*.py')"
   ]
  },
  {
   "cell_type": "code",
   "execution_count": 138,
   "id": "d848720f",
   "metadata": {},
   "outputs": [
    {
     "name": "stdout",
     "output_type": "stream",
     "text": [
      "['C:\\\\demo_testfile\\\\ex1.py', 'C:\\\\demo_testfile\\\\ex2.py']\n",
      "['C:\\\\demo_testfile\\\\ex1.py']\n"
     ]
    }
   ],
   "source": [
    "print(glob('C:\\demo_testfile\\??[1-2]*.py'))     # File with 2 character and file contain 1 or 2  \n",
    "print(glob('C:\\demo_testfile\\??[1]*.py')) "
   ]
  },
  {
   "cell_type": "markdown",
   "id": "b7a57f7c",
   "metadata": {},
   "source": [
    "<a id='2.1-4'></a>\n",
    "##### - `[!seq]`: Match characters  not in  brackets [𖤂](#2.glob)\n",
    "Excludes specified characters."
   ]
  },
  {
   "cell_type": "code",
   "execution_count": 124,
   "id": "b05426c9",
   "metadata": {},
   "outputs": [
    {
     "name": "stdout",
     "output_type": "stream",
     "text": [
      "['C:\\\\demo_testfile\\\\AAA.txt', 'C:\\\\demo_testfile\\\\data', 'C:\\\\demo_testfile\\\\datanew', 'C:\\\\demo_testfile\\\\hell[o].txt', 'C:\\\\demo_testfile\\\\index.html', 'C:\\\\demo_testfile\\\\notes', 'C:\\\\demo_testfile\\\\page.html', 'C:\\\\demo_testfile\\\\read.txt', 'C:\\\\demo_testfile\\\\renamefile', 'C:\\\\demo_testfile\\\\test', 'C:\\\\demo_testfile\\\\test.txt', 'C:\\\\demo_testfile\\\\testFile1.txt']\n"
     ]
    }
   ],
   "source": [
    "print(glob('C:\\demo_testfile\\*[!.py, __]'))  # Excludes '.py' or '__' patterns"
   ]
  },
  {
   "cell_type": "code",
   "execution_count": 125,
   "id": "5e0e4db4",
   "metadata": {},
   "outputs": [
    {
     "name": "stdout",
     "output_type": "stream",
     "text": [
      "['C:\\\\demo_testfile\\\\ex2.py']\n"
     ]
    }
   ],
   "source": [
    "print(glob('C:\\demo_testfile\\??[!1]*.py'))     # File with 2 character and excludes files name with number1 "
   ]
  },
  {
   "cell_type": "markdown",
   "id": "8470d3d3",
   "metadata": {},
   "source": [
    "<a id='2.1-5'></a>\n",
    "##### - `[[`: Escape wildcards [𖤂](#2.glob)\n",
    "\n",
    "Match file contains bracket `[]`, ignore wildcare , "
   ]
  },
  {
   "cell_type": "code",
   "execution_count": 120,
   "id": "b20f8d4e",
   "metadata": {},
   "outputs": [
    {
     "name": "stdout",
     "output_type": "stream",
     "text": [
      "['C:\\\\demo_testfile\\\\hell[o].txt']\n"
     ]
    }
   ],
   "source": [
    "print(glob('C:\\demo_testfile\\*[[]*')) "
   ]
  },
  {
   "cell_type": "markdown",
   "id": "1537e8d8",
   "metadata": {},
   "source": [
    "<a id='2.2RecursiveSearch'></a>\n",
    "### 2.2 Recursive Search   `glob(recursive=True)` [𖤂](#2.glob)"
   ]
  },
  {
   "cell_type": "markdown",
   "id": "d02663a9",
   "metadata": {},
   "source": [
    "<a id='2.2-1'></a>\n",
    "#### -   `*\\**` Search current and subdirectories [𖤂](#2.glob)"
   ]
  },
  {
   "cell_type": "markdown",
   "id": "8a0515cb",
   "metadata": {},
   "source": [
    "Find all levels (subdirectory) of the directory."
   ]
  },
  {
   "cell_type": "code",
   "execution_count": 176,
   "id": "dbfa7887",
   "metadata": {},
   "outputs": [
    {
     "name": "stdout",
     "output_type": "stream",
     "text": [
      "C:\\demo_testfile\\data\\\n",
      "C:\\demo_testfile\\data\\copy2_AAA.txt\n",
      "C:\\demo_testfile\\data\\copy2_ex1.py\n",
      "C:\\demo_testfile\\data\\copy2_ex2.py\n",
      "C:\\demo_testfile\\data\\copy2_hell[o].txt\n",
      "C:\\demo_testfile\\data\\copy2_index.html\n",
      "C:\\demo_testfile\\data\\copy2_page.html\n",
      "C:\\demo_testfile\\data\\copy_AAA.txt\n",
      "C:\\demo_testfile\\data\\copy_ex1.py\n",
      "C:\\demo_testfile\\data\\copy_ex2.py\n",
      "C:\\demo_testfile\\data\\copy_file - with - space-1.py\n",
      "C:\\demo_testfile\\data\\copy_file - with - space-1.py.bk\n",
      "C:\\demo_testfile\\data\\copy_hell[o].txt\n",
      "C:\\demo_testfile\\data\\copy_index.html\n",
      "C:\\demo_testfile\\data\\copy_page.html\n",
      "C:\\demo_testfile\\datanew\\\n",
      "C:\\demo_testfile\\datanew\\copy2_page.html\n",
      "C:\\demo_testfile\\datanew\\copy_page.html\n",
      "C:\\demo_testfile\\notes\\\n",
      "C:\\demo_testfile\\notes\\01-intro.ipynb\n",
      "C:\\demo_testfile\\notes\\02-tidy.ipynb\n",
      "C:\\demo_testfile\\notes\\03-merge.ipynb\n",
      "C:\\demo_testfile\\notes\\billboard_ratings.csv\n",
      "C:\\demo_testfile\\notes\\billboard_songs.csv\n",
      "C:\\demo_testfile\\notes\\billboard_songs2023.csv\n",
      "C:\\demo_testfile\\renamefile\\\n",
      "C:\\demo_testfile\\renamefile\\data\n",
      "C:\\demo_testfile\\renamefile\\data\\copy2_file - with - space-1.py\n",
      "C:\\demo_testfile\\renamefile\\data\\copy2_file - with - space-1.py.bk\n",
      "C:\\demo_testfile\\renamefile\\data\\copy_file - with - space-1.py\n",
      "C:\\demo_testfile\\renamefile\\data\\copy_file - with - space-1.py.bk\n",
      "C:\\demo_testfile\\renamefile\\file - with - space-1.py\n",
      "C:\\demo_testfile\\renamefile\\file - with - space-1.py.bk\n",
      "C:\\demo_testfile\\test\\\n",
      "C:\\demo_testfile\\test\\1.txt\n",
      "C:\\demo_testfile\\test\\2.txt\n",
      "C:\\demo_testfile\\test\\data\n",
      "C:\\demo_testfile\\test\\data\\billboard.csv\n",
      "C:\\demo_testfile\\test\\data\\concat_1.csv\n",
      "C:\\demo_testfile\\test\\data\\concat_2.csv\n",
      "C:\\demo_testfile\\test\\data\\concat_3.csv\n",
      "C:\\demo_testfile\\test\\data\\country_timeseries.csv\n",
      "C:\\demo_testfile\\test\\data\\gapminder.tsv\n",
      "C:\\demo_testfile\\test\\data\\intro.ipynb\n",
      "C:\\demo_testfile\\test\\data\\pew.csv\n",
      "C:\\demo_testfile\\test\\data\\survey_person.csv\n",
      "C:\\demo_testfile\\test\\data\\survey_site.csv\n",
      "C:\\demo_testfile\\test\\data\\survey_survey.csv\n",
      "C:\\demo_testfile\\test\\data\\survey_visited.csv\n",
      "C:\\demo_testfile\\test\\data\\weather.csv\n",
      "C:\\demo_testfile\\test -copy\\\n",
      "C:\\demo_testfile\\test -copy\\1.txt\n",
      "C:\\demo_testfile\\test -copy\\2.txt\n",
      "C:\\demo_testfile\\test -copy\\data\n",
      "C:\\demo_testfile\\test -copy\\data\\billboard.csv\n",
      "C:\\demo_testfile\\test -copy\\data\\concat_1.csv\n",
      "C:\\demo_testfile\\test -copy\\data\\concat_2.csv\n",
      "C:\\demo_testfile\\test -copy\\data\\concat_3.csv\n",
      "C:\\demo_testfile\\test -copy\\data\\country_timeseries.csv\n",
      "C:\\demo_testfile\\test -copy\\data\\gapminder.tsv\n",
      "C:\\demo_testfile\\test -copy\\data\\intro.ipynb\n",
      "C:\\demo_testfile\\test -copy\\data\\pew.csv\n",
      "C:\\demo_testfile\\test -copy\\data\\survey_person.csv\n",
      "C:\\demo_testfile\\test -copy\\data\\survey_site.csv\n",
      "C:\\demo_testfile\\test -copy\\data\\survey_survey.csv\n",
      "C:\\demo_testfile\\test -copy\\data\\survey_visited.csv\n",
      "C:\\demo_testfile\\test -copy\\data\\weather.csv\n"
     ]
    }
   ],
   "source": [
    "#search recursive \n",
    "path='C:\\demo_testfile\\*\\**'\n",
    "for f in glob(path, recursive=True):\n",
    "    print(f)"
   ]
  },
  {
   "cell_type": "markdown",
   "id": "3e9f0719",
   "metadata": {},
   "source": [
    "Find `.py` files in all levels of the directory."
   ]
  },
  {
   "cell_type": "code",
   "execution_count": 113,
   "id": "49d6ead3",
   "metadata": {},
   "outputs": [
    {
     "data": {
      "text/plain": [
       "['C:\\\\demo_testfile\\\\ex1.py',\n",
       " 'C:\\\\demo_testfile\\\\ex2.py',\n",
       " 'C:\\\\demo_testfile\\\\data\\\\copy2_ex1.py',\n",
       " 'C:\\\\demo_testfile\\\\data\\\\copy2_ex2.py',\n",
       " 'C:\\\\demo_testfile\\\\data\\\\copy_ex1.py',\n",
       " 'C:\\\\demo_testfile\\\\data\\\\copy_ex2.py',\n",
       " 'C:\\\\demo_testfile\\\\data\\\\copy_file - with - space-1.py',\n",
       " 'C:\\\\demo_testfile\\\\renamefile\\\\file - with - space-1.py',\n",
       " 'C:\\\\demo_testfile\\\\renamefile\\\\data\\\\copy2_file - with - space-1.py',\n",
       " 'C:\\\\demo_testfile\\\\renamefile\\\\data\\\\copy_file - with - space-1.py']"
      ]
     },
     "execution_count": 113,
     "metadata": {},
     "output_type": "execute_result"
    }
   ],
   "source": [
    "filesearch= glob('C:\\demo_testfile\\**\\*.py', recursive=True) # Recursive search for Python files,\n",
    "filesearch"
   ]
  },
  {
   "cell_type": "markdown",
   "id": "d0546c20",
   "metadata": {},
   "source": [
    "Combine pattern and path together "
   ]
  },
  {
   "cell_type": "code",
   "execution_count": 174,
   "id": "3863dd24",
   "metadata": {},
   "outputs": [
    {
     "name": "stdout",
     "output_type": "stream",
     "text": [
      "['c:\\\\demo_testfile\\\\ex1.py', 'c:\\\\demo_testfile\\\\ex2.py', 'c:\\\\demo_testfile\\\\data\\\\copy2_ex1.py', 'c:\\\\demo_testfile\\\\data\\\\copy2_ex2.py', 'c:\\\\demo_testfile\\\\data\\\\copy_ex1.py', 'c:\\\\demo_testfile\\\\data\\\\copy_ex2.py', 'c:\\\\demo_testfile\\\\data\\\\copy_file - with - space-1.py', 'c:\\\\demo_testfile\\\\renamefile\\\\file - with - space-1.py', 'c:\\\\demo_testfile\\\\renamefile\\\\data\\\\copy2_file - with - space-1.py', 'c:\\\\demo_testfile\\\\renamefile\\\\data\\\\copy_file - with - space-1.py']\n",
      "['c:\\\\demo_testfile\\\\ex1.py', 'c:\\\\demo_testfile\\\\ex2.py', 'c:\\\\demo_testfile\\\\data\\\\copy2_ex1.py', 'c:\\\\demo_testfile\\\\data\\\\copy2_ex2.py', 'c:\\\\demo_testfile\\\\data\\\\copy_ex1.py', 'c:\\\\demo_testfile\\\\data\\\\copy_ex2.py', 'c:\\\\demo_testfile\\\\data\\\\copy_file - with - space-1.py', 'c:\\\\demo_testfile\\\\renamefile\\\\file - with - space-1.py', 'c:\\\\demo_testfile\\\\renamefile\\\\data\\\\copy2_file - with - space-1.py', 'c:\\\\demo_testfile\\\\renamefile\\\\data\\\\copy_file - with - space-1.py']\n"
     ]
    }
   ],
   "source": [
    "#using Path\n",
    "directory = Path(r'c:\\demo_testfile')\n",
    "all_files = glob(str(directory / '**/*.py'), recursive=True)\n",
    "print(all_files)\n",
    "#using os.path\n",
    "directory2 = 'c:\\demo_testfile'\n",
    "all_files2 = glob(os.path.join(directory2, \"**/*.py\"), recursive=True)\n",
    "print(all_files2)"
   ]
  },
  {
   "cell_type": "markdown",
   "id": "270e5801",
   "metadata": {},
   "source": [
    "<a id='2.2-2'></a>\n",
    "#### - `?`: Match a character [𖤂](#2.glob)\n",
    "\n",
    "Match  file name with three character"
   ]
  },
  {
   "cell_type": "code",
   "execution_count": 114,
   "id": "d1d3f8c1",
   "metadata": {},
   "outputs": [
    {
     "name": "stdout",
     "output_type": "stream",
     "text": [
      "['C:\\\\demo_testfile\\\\AAA.txt', 'C:\\\\demo_testfile\\\\ex1.py', 'C:\\\\demo_testfile\\\\ex2.py', 'C:\\\\demo_testfile\\\\test\\\\data\\\\pew.csv', 'C:\\\\demo_testfile\\\\test -copy\\\\data\\\\pew.csv']\n"
     ]
    }
   ],
   "source": [
    "filesearch= glob('C:\\demo_testfile\\**\\???.*', recursive=True)\n",
    "print(filesearch)"
   ]
  },
  {
   "cell_type": "markdown",
   "id": "7d2963cc",
   "metadata": {},
   "source": [
    "<a id='2.2-3'></a>\n",
    "#### - `root_dir` : Specifying a root directory  [𖤂](#2.glob)\n",
    "> - `glob.glob()`: you specify the pattern and directory as a single string in the same argument. \n",
    "> -  `glob.glob(root_dir)`:argument (introduced in `Python 3.10`), the path and the pattern can be specified separately, which might make it cleaner or easier to manage."
   ]
  },
  {
   "cell_type": "code",
   "execution_count": 145,
   "id": "a98bc4aa",
   "metadata": {},
   "outputs": [
    {
     "name": "stdout",
     "output_type": "stream",
     "text": [
      "['AAA.txt', 'ex1.py', 'ex2.py', 'test\\\\data\\\\pew.csv', 'test -copy\\\\data\\\\pew.csv']\n"
     ]
    }
   ],
   "source": [
    "print(glob(r'**\\???.*', root_dir= 'C:\\demo_testfile',  recursive=True))"
   ]
  },
  {
   "cell_type": "code",
   "execution_count": 147,
   "id": "160d3046",
   "metadata": {},
   "outputs": [
    {
     "name": "stdout",
     "output_type": "stream",
     "text": [
      "notes\\billboard_ratings.csv\n",
      "notes\\billboard_songs.csv\n",
      "notes\\billboard_songs2023.csv\n",
      "test\\data\\billboard.csv\n",
      "test\\data\\concat_1.csv\n",
      "test\\data\\concat_2.csv\n",
      "test\\data\\concat_3.csv\n",
      "test\\data\\country_timeseries.csv\n",
      "test\\data\\pew.csv\n",
      "test\\data\\survey_person.csv\n",
      "test\\data\\survey_site.csv\n",
      "test\\data\\survey_survey.csv\n",
      "test\\data\\survey_visited.csv\n",
      "test\\data\\weather.csv\n",
      "test -copy\\data\\billboard.csv\n",
      "test -copy\\data\\concat_1.csv\n",
      "test -copy\\data\\concat_2.csv\n",
      "test -copy\\data\\concat_3.csv\n",
      "test -copy\\data\\country_timeseries.csv\n",
      "test -copy\\data\\pew.csv\n",
      "test -copy\\data\\survey_person.csv\n",
      "test -copy\\data\\survey_site.csv\n",
      "test -copy\\data\\survey_survey.csv\n",
      "test -copy\\data\\survey_visited.csv\n",
      "test -copy\\data\\weather.csv\n"
     ]
    }
   ],
   "source": [
    "globs = glob('**/*.csv', root_dir='C:\\demo_testfile', recursive=True) \n",
    "print(\"\\n\".join(globs))"
   ]
  },
  {
   "cell_type": "markdown",
   "id": "d1d5e9d5",
   "metadata": {},
   "source": [
    "<a id='2.2-4'></a>\n",
    "#### -`include_hidden`: display hideen file [𖤂](#2.glob)"
   ]
  },
  {
   "cell_type": "code",
   "execution_count": 6,
   "id": "0bc3ed17",
   "metadata": {},
   "outputs": [
    {
     "data": {
      "text/plain": [
       "['.ipynb_checkpoints',\n",
       " 'File Pattern Matching with Glob and Fnmatch.ipynb',\n",
       " 'iterate_filter_file.ipynb',\n",
       " 'os.path_reorganize.ipynb',\n",
       " 'Pathlib Basics(orgainize_final).ipynb',\n",
       " 'Pathlib_reorganize.ipynb',\n",
       " '.ipynb_checkpoints\\\\File Pattern Matching with Glob and Fnmatch-checkpoint.ipynb',\n",
       " '.ipynb_checkpoints\\\\Pathlib Basics(orgainize_final)-checkpoint.ipynb',\n",
       " '.ipynb_checkpoints\\\\Pathlib_reorganize-checkpoint.ipynb']"
      ]
     },
     "execution_count": 6,
     "metadata": {},
     "output_type": "execute_result"
    }
   ],
   "source": [
    "glob.glob('**/*', recursive=True, include_hidden=True)"
   ]
  },
  {
   "cell_type": "markdown",
   "id": "89a21267",
   "metadata": {},
   "source": [
    "<a id='2.2-5'></a>\n",
    "#### - `any` exclude specific folder -unwanted folder [𖤂](#2.glob)\n",
    "\n",
    "While `glob.glob()` doesn’t directly support skipping directories during recursive searches, you can achieve this by:\n",
    "> - Gathering all results with glob.glob(`recursive=True`).\n",
    "> - Filtering out unwanted directories or patterns manually.\n",
    "\n",
    "Will use `not any` because I want to filter not match. "
   ]
  },
  {
   "cell_type": "code",
   "execution_count": 152,
   "id": "4f4d032c",
   "metadata": {},
   "outputs": [
    {
     "name": "stdout",
     "output_type": "stream",
     "text": [
      "c:\\demo_testfile\\AAA.txt\n",
      "c:\\demo_testfile\\data\n",
      "c:\\demo_testfile\\datanew\n",
      "c:\\demo_testfile\\ex1.py\n",
      "c:\\demo_testfile\\ex2.py\n",
      "c:\\demo_testfile\\hell[o].txt\n",
      "c:\\demo_testfile\\index.html\n",
      "c:\\demo_testfile\\page.html\n",
      "c:\\demo_testfile\\read.txt\n",
      "c:\\demo_testfile\\renamefile\n",
      "c:\\demo_testfile\\test\n",
      "c:\\demo_testfile\\test -copy\n",
      "c:\\demo_testfile\\test.txt\n",
      "c:\\demo_testfile\\testFile1.txt\n",
      "c:\\demo_testfile\\data\\copy2_AAA.txt\n",
      "c:\\demo_testfile\\data\\copy2_ex1.py\n",
      "c:\\demo_testfile\\data\\copy2_ex2.py\n",
      "c:\\demo_testfile\\data\\copy2_hell[o].txt\n",
      "c:\\demo_testfile\\data\\copy2_index.html\n",
      "c:\\demo_testfile\\data\\copy2_page.html\n",
      "c:\\demo_testfile\\data\\copy_AAA.txt\n",
      "c:\\demo_testfile\\data\\copy_ex1.py\n",
      "c:\\demo_testfile\\data\\copy_ex2.py\n",
      "c:\\demo_testfile\\data\\copy_file - with - space-1.py\n",
      "c:\\demo_testfile\\data\\copy_file - with - space-1.py.bk\n",
      "c:\\demo_testfile\\data\\copy_hell[o].txt\n",
      "c:\\demo_testfile\\data\\copy_index.html\n",
      "c:\\demo_testfile\\data\\copy_page.html\n",
      "c:\\demo_testfile\\datanew\\copy2_page.html\n",
      "c:\\demo_testfile\\datanew\\copy_page.html\n",
      "c:\\demo_testfile\\renamefile\\data\n",
      "c:\\demo_testfile\\renamefile\\file - with - space-1.py\n",
      "c:\\demo_testfile\\renamefile\\file - with - space-1.py.bk\n",
      "c:\\demo_testfile\\renamefile\\data\\copy2_file - with - space-1.py\n",
      "c:\\demo_testfile\\renamefile\\data\\copy2_file - with - space-1.py.bk\n",
      "c:\\demo_testfile\\renamefile\\data\\copy_file - with - space-1.py\n",
      "c:\\demo_testfile\\renamefile\\data\\copy_file - with - space-1.py.bk\n",
      "c:\\demo_testfile\\test\\1.txt\n",
      "c:\\demo_testfile\\test\\2.txt\n",
      "c:\\demo_testfile\\test\\data\n",
      "c:\\demo_testfile\\test\\data\\billboard.csv\n",
      "c:\\demo_testfile\\test\\data\\concat_1.csv\n",
      "c:\\demo_testfile\\test\\data\\concat_2.csv\n",
      "c:\\demo_testfile\\test\\data\\concat_3.csv\n",
      "c:\\demo_testfile\\test\\data\\country_timeseries.csv\n",
      "c:\\demo_testfile\\test\\data\\gapminder.tsv\n",
      "c:\\demo_testfile\\test\\data\\intro.ipynb\n",
      "c:\\demo_testfile\\test\\data\\pew.csv\n",
      "c:\\demo_testfile\\test\\data\\survey_person.csv\n",
      "c:\\demo_testfile\\test\\data\\survey_site.csv\n",
      "c:\\demo_testfile\\test\\data\\survey_survey.csv\n",
      "c:\\demo_testfile\\test\\data\\survey_visited.csv\n",
      "c:\\demo_testfile\\test\\data\\weather.csv\n",
      "c:\\demo_testfile\\test -copy\\1.txt\n",
      "c:\\demo_testfile\\test -copy\\2.txt\n",
      "c:\\demo_testfile\\test -copy\\data\n",
      "c:\\demo_testfile\\test -copy\\data\\billboard.csv\n",
      "c:\\demo_testfile\\test -copy\\data\\concat_1.csv\n",
      "c:\\demo_testfile\\test -copy\\data\\concat_2.csv\n",
      "c:\\demo_testfile\\test -copy\\data\\concat_3.csv\n",
      "c:\\demo_testfile\\test -copy\\data\\country_timeseries.csv\n",
      "c:\\demo_testfile\\test -copy\\data\\gapminder.tsv\n",
      "c:\\demo_testfile\\test -copy\\data\\intro.ipynb\n",
      "c:\\demo_testfile\\test -copy\\data\\pew.csv\n",
      "c:\\demo_testfile\\test -copy\\data\\survey_person.csv\n",
      "c:\\demo_testfile\\test -copy\\data\\survey_site.csv\n",
      "c:\\demo_testfile\\test -copy\\data\\survey_survey.csv\n",
      "c:\\demo_testfile\\test -copy\\data\\survey_visited.csv\n",
      "c:\\demo_testfile\\test -copy\\data\\weather.csv\n"
     ]
    }
   ],
   "source": [
    "import glob\n",
    "import os\n",
    "\n",
    "# Directory to search\n",
    "directory = r'c:\\demo_testfile'\n",
    "\n",
    "# Skip directories or patterns\n",
    "SKIP_DIRS = [\"notes\"]\n",
    "\n",
    "# Use glob.glob with recursive=True, pattern and path join together\n",
    "all_files = glob.glob(os.path.join(directory, \"**/*\"), recursive=True)\n",
    "\n",
    "# Filter out files in the skip directories\n",
    "filtered_files = [\n",
    "    file for file in all_files\n",
    "    if not any(skip_dir in file for skip_dir in SKIP_DIRS)\n",
    "]\n",
    "# Print the filtered results\n",
    "for file in filtered_files:\n",
    "    print(file)\n"
   ]
  },
  {
   "cell_type": "markdown",
   "id": "480de7fc",
   "metadata": {},
   "source": [
    "Note: **Understand Any**\n",
    "\n",
    "> - `any()`: (skip_dir in file for skip_dir in SKIP_DIRS):\n",
    ">> -  Checks if any of the skip patterns (e.g., \"notes\") are found in the file path.\n",
    ">> - If a match is found, it returns True.\n",
    ">> - If no match is found, it returns False.\n",
    "\n",
    "> - `not any()`:\n",
    ">>- Negates the result of any().\n",
    ">> - If any() returns True (a match is found), not any() becomes False, so the file is skipped.\n",
    ">> - If any() returns False (no match is found), not any() becomes True, so the file is processed.\n",
    "\n",
    "- Summary:\n",
    "    - `any()`: means if any element in the list is True, the result will be True.\n",
    "    - `not any()`: works the opposite way: it returns True only if all elements are False.\n",
    "    - `all()`: means all eleemnt in list are True then result is true, unlike `any` if one True then it's true\n"
   ]
  },
  {
   "cell_type": "code",
   "execution_count": 97,
   "id": "81af2354",
   "metadata": {},
   "outputs": [
    {
     "name": "stdout",
     "output_type": "stream",
     "text": [
      "Process this file\n"
     ]
    }
   ],
   "source": [
    "\n",
    "#understand any not any\n",
    "file = \"c:\\\\demo_testfile\\\\docs\\\\example.txt\"\n",
    "SKIP_DIRS = [\"notes\", \"tmp\"]\n",
    "\n",
    "# Evaluate any(skip_dir in file for skip_dir in SKIP_DIRS)\n",
    "# Checks:\n",
    "# 1. \"notes\" in file -> False\n",
    "# 2. \"tmp\" in file -> False\n",
    "\n",
    "# Result of any() -> False\n",
    "# Result of not any() -> True\n",
    "\n",
    "if not any(skip_dir in file for skip_dir in SKIP_DIRS):\n",
    "    print(\"Process this file\")  # This happens\n",
    "else:\n",
    "    print(\"Skip this file\")\n"
   ]
  },
  {
   "cell_type": "code",
   "execution_count": 101,
   "id": "64a0f4ea",
   "metadata": {},
   "outputs": [
    {
     "name": "stdout",
     "output_type": "stream",
     "text": [
      "c:\\demo_testfile\\AAA.txt\n",
      "c:\\demo_testfile\\AAA.txt\n",
      "c:\\demo_testfile\\AAA.txt\n",
      "c:\\demo_testfile\\data\n",
      "c:\\demo_testfile\\data\n",
      "c:\\demo_testfile\\datanew\n",
      "c:\\demo_testfile\\datanew\n",
      "c:\\demo_testfile\\ex1.py\n",
      "c:\\demo_testfile\\ex1.py\n",
      "c:\\demo_testfile\\ex1.py\n",
      "c:\\demo_testfile\\ex2.py\n",
      "c:\\demo_testfile\\ex2.py\n",
      "c:\\demo_testfile\\ex2.py\n",
      "c:\\demo_testfile\\hell[o].txt\n",
      "c:\\demo_testfile\\hell[o].txt\n",
      "c:\\demo_testfile\\hell[o].txt\n",
      "c:\\demo_testfile\\index.html\n",
      "c:\\demo_testfile\\index.html\n",
      "c:\\demo_testfile\\index.html\n",
      "c:\\demo_testfile\\notes\n",
      "c:\\demo_testfile\\notes\n",
      "c:\\demo_testfile\\page.html\n",
      "c:\\demo_testfile\\page.html\n",
      "c:\\demo_testfile\\page.html\n",
      "c:\\demo_testfile\\read.txt\n",
      "c:\\demo_testfile\\read.txt\n",
      "c:\\demo_testfile\\read.txt\n",
      "c:\\demo_testfile\\renamefile\n",
      "c:\\demo_testfile\\renamefile\n",
      "c:\\demo_testfile\\renamefile\n",
      "c:\\demo_testfile\\test\n",
      "c:\\demo_testfile\\test\n",
      "c:\\demo_testfile\\test\n",
      "c:\\demo_testfile\\test -copy\n",
      "c:\\demo_testfile\\test -copy\n",
      "c:\\demo_testfile\\test -copy\n",
      "c:\\demo_testfile\\test.txt\n",
      "c:\\demo_testfile\\test.txt\n",
      "c:\\demo_testfile\\test.txt\n",
      "c:\\demo_testfile\\testFile1.txt\n",
      "c:\\demo_testfile\\testFile1.txt\n",
      "c:\\demo_testfile\\testFile1.txt\n",
      "c:\\demo_testfile\\data\\copy2_AAA.txt\n",
      "c:\\demo_testfile\\data\\copy2_AAA.txt\n",
      "c:\\demo_testfile\\data\\copy2_ex1.py\n",
      "c:\\demo_testfile\\data\\copy2_ex1.py\n",
      "c:\\demo_testfile\\data\\copy2_ex2.py\n",
      "c:\\demo_testfile\\data\\copy2_ex2.py\n",
      "c:\\demo_testfile\\data\\copy2_hell[o].txt\n",
      "c:\\demo_testfile\\data\\copy2_hell[o].txt\n",
      "c:\\demo_testfile\\data\\copy2_index.html\n",
      "c:\\demo_testfile\\data\\copy2_index.html\n",
      "c:\\demo_testfile\\data\\copy2_page.html\n",
      "c:\\demo_testfile\\data\\copy2_page.html\n",
      "c:\\demo_testfile\\data\\copy_AAA.txt\n",
      "c:\\demo_testfile\\data\\copy_AAA.txt\n",
      "c:\\demo_testfile\\data\\copy_ex1.py\n",
      "c:\\demo_testfile\\data\\copy_ex1.py\n",
      "c:\\demo_testfile\\data\\copy_ex2.py\n",
      "c:\\demo_testfile\\data\\copy_ex2.py\n",
      "c:\\demo_testfile\\data\\copy_file - with - space-1.py\n",
      "c:\\demo_testfile\\data\\copy_file - with - space-1.py\n",
      "c:\\demo_testfile\\data\\copy_file - with - space-1.py.bk\n",
      "c:\\demo_testfile\\data\\copy_file - with - space-1.py.bk\n",
      "c:\\demo_testfile\\data\\copy_hell[o].txt\n",
      "c:\\demo_testfile\\data\\copy_hell[o].txt\n",
      "c:\\demo_testfile\\data\\copy_index.html\n",
      "c:\\demo_testfile\\data\\copy_index.html\n",
      "c:\\demo_testfile\\data\\copy_page.html\n",
      "c:\\demo_testfile\\data\\copy_page.html\n",
      "c:\\demo_testfile\\datanew\\copy2_page.html\n",
      "c:\\demo_testfile\\datanew\\copy2_page.html\n",
      "c:\\demo_testfile\\datanew\\copy_page.html\n",
      "c:\\demo_testfile\\datanew\\copy_page.html\n",
      "c:\\demo_testfile\\notes\\01-intro.ipynb\n",
      "c:\\demo_testfile\\notes\\01-intro.ipynb\n",
      "c:\\demo_testfile\\notes\\02-tidy.ipynb\n",
      "c:\\demo_testfile\\notes\\02-tidy.ipynb\n",
      "c:\\demo_testfile\\notes\\03-merge.ipynb\n",
      "c:\\demo_testfile\\notes\\03-merge.ipynb\n",
      "c:\\demo_testfile\\notes\\billboard_ratings.csv\n",
      "c:\\demo_testfile\\notes\\billboard_ratings.csv\n",
      "c:\\demo_testfile\\notes\\billboard_songs.csv\n",
      "c:\\demo_testfile\\notes\\billboard_songs.csv\n",
      "c:\\demo_testfile\\notes\\billboard_songs2023.csv\n",
      "c:\\demo_testfile\\notes\\billboard_songs2023.csv\n",
      "c:\\demo_testfile\\renamefile\\data\n",
      "c:\\demo_testfile\\renamefile\\data\n",
      "c:\\demo_testfile\\renamefile\\file - with - space-1.py\n",
      "c:\\demo_testfile\\renamefile\\file - with - space-1.py\n",
      "c:\\demo_testfile\\renamefile\\file - with - space-1.py\n",
      "c:\\demo_testfile\\renamefile\\file - with - space-1.py.bk\n",
      "c:\\demo_testfile\\renamefile\\file - with - space-1.py.bk\n",
      "c:\\demo_testfile\\renamefile\\file - with - space-1.py.bk\n",
      "c:\\demo_testfile\\renamefile\\data\\copy2_file - with - space-1.py\n",
      "c:\\demo_testfile\\renamefile\\data\\copy2_file - with - space-1.py\n",
      "c:\\demo_testfile\\renamefile\\data\\copy2_file - with - space-1.py.bk\n",
      "c:\\demo_testfile\\renamefile\\data\\copy2_file - with - space-1.py.bk\n",
      "c:\\demo_testfile\\renamefile\\data\\copy_file - with - space-1.py\n",
      "c:\\demo_testfile\\renamefile\\data\\copy_file - with - space-1.py\n",
      "c:\\demo_testfile\\renamefile\\data\\copy_file - with - space-1.py.bk\n",
      "c:\\demo_testfile\\renamefile\\data\\copy_file - with - space-1.py.bk\n",
      "c:\\demo_testfile\\test\\1.txt\n",
      "c:\\demo_testfile\\test\\1.txt\n",
      "c:\\demo_testfile\\test\\1.txt\n",
      "c:\\demo_testfile\\test\\2.txt\n",
      "c:\\demo_testfile\\test\\2.txt\n",
      "c:\\demo_testfile\\test\\2.txt\n",
      "c:\\demo_testfile\\test\\data\n",
      "c:\\demo_testfile\\test\\data\n",
      "c:\\demo_testfile\\test\\data\\billboard.csv\n",
      "c:\\demo_testfile\\test\\data\\billboard.csv\n",
      "c:\\demo_testfile\\test\\data\\concat_1.csv\n",
      "c:\\demo_testfile\\test\\data\\concat_1.csv\n",
      "c:\\demo_testfile\\test\\data\\concat_2.csv\n",
      "c:\\demo_testfile\\test\\data\\concat_2.csv\n",
      "c:\\demo_testfile\\test\\data\\concat_3.csv\n",
      "c:\\demo_testfile\\test\\data\\concat_3.csv\n",
      "c:\\demo_testfile\\test\\data\\country_timeseries.csv\n",
      "c:\\demo_testfile\\test\\data\\country_timeseries.csv\n",
      "c:\\demo_testfile\\test\\data\\gapminder.tsv\n",
      "c:\\demo_testfile\\test\\data\\gapminder.tsv\n",
      "c:\\demo_testfile\\test\\data\\intro.ipynb\n",
      "c:\\demo_testfile\\test\\data\\intro.ipynb\n",
      "c:\\demo_testfile\\test\\data\\pew.csv\n",
      "c:\\demo_testfile\\test\\data\\pew.csv\n",
      "c:\\demo_testfile\\test\\data\\survey_person.csv\n",
      "c:\\demo_testfile\\test\\data\\survey_person.csv\n",
      "c:\\demo_testfile\\test\\data\\survey_site.csv\n",
      "c:\\demo_testfile\\test\\data\\survey_site.csv\n",
      "c:\\demo_testfile\\test\\data\\survey_survey.csv\n",
      "c:\\demo_testfile\\test\\data\\survey_survey.csv\n",
      "c:\\demo_testfile\\test\\data\\survey_visited.csv\n",
      "c:\\demo_testfile\\test\\data\\survey_visited.csv\n",
      "c:\\demo_testfile\\test\\data\\weather.csv\n",
      "c:\\demo_testfile\\test\\data\\weather.csv\n",
      "c:\\demo_testfile\\test -copy\\1.txt\n",
      "c:\\demo_testfile\\test -copy\\1.txt\n",
      "c:\\demo_testfile\\test -copy\\1.txt\n",
      "c:\\demo_testfile\\test -copy\\2.txt\n",
      "c:\\demo_testfile\\test -copy\\2.txt\n",
      "c:\\demo_testfile\\test -copy\\2.txt\n",
      "c:\\demo_testfile\\test -copy\\data\n",
      "c:\\demo_testfile\\test -copy\\data\n",
      "c:\\demo_testfile\\test -copy\\data\\billboard.csv\n",
      "c:\\demo_testfile\\test -copy\\data\\billboard.csv\n",
      "c:\\demo_testfile\\test -copy\\data\\concat_1.csv\n",
      "c:\\demo_testfile\\test -copy\\data\\concat_1.csv\n",
      "c:\\demo_testfile\\test -copy\\data\\concat_2.csv\n",
      "c:\\demo_testfile\\test -copy\\data\\concat_2.csv\n",
      "c:\\demo_testfile\\test -copy\\data\\concat_3.csv\n",
      "c:\\demo_testfile\\test -copy\\data\\concat_3.csv\n",
      "c:\\demo_testfile\\test -copy\\data\\country_timeseries.csv\n",
      "c:\\demo_testfile\\test -copy\\data\\country_timeseries.csv\n",
      "c:\\demo_testfile\\test -copy\\data\\gapminder.tsv\n",
      "c:\\demo_testfile\\test -copy\\data\\gapminder.tsv\n",
      "c:\\demo_testfile\\test -copy\\data\\intro.ipynb\n",
      "c:\\demo_testfile\\test -copy\\data\\intro.ipynb\n",
      "c:\\demo_testfile\\test -copy\\data\\pew.csv\n",
      "c:\\demo_testfile\\test -copy\\data\\pew.csv\n",
      "c:\\demo_testfile\\test -copy\\data\\survey_person.csv\n",
      "c:\\demo_testfile\\test -copy\\data\\survey_person.csv\n",
      "c:\\demo_testfile\\test -copy\\data\\survey_site.csv\n",
      "c:\\demo_testfile\\test -copy\\data\\survey_site.csv\n",
      "c:\\demo_testfile\\test -copy\\data\\survey_survey.csv\n",
      "c:\\demo_testfile\\test -copy\\data\\survey_survey.csv\n",
      "c:\\demo_testfile\\test -copy\\data\\survey_visited.csv\n",
      "c:\\demo_testfile\\test -copy\\data\\survey_visited.csv\n",
      "c:\\demo_testfile\\test -copy\\data\\weather.csv\n",
      "c:\\demo_testfile\\test -copy\\data\\weather.csv\n"
     ]
    }
   ],
   "source": [
    "# for loop normal way\n",
    "filtered_files=[]\n",
    "for file in all_files:\n",
    "    for skip_dir in SKIP_DIRS:\n",
    "        if skip_dir not in file:\n",
    "            filtered_files.append(file)              \n",
    "\n",
    "# Print the filtered results\n",
    "for file in filtered_files:\n",
    "    print(file)"
   ]
  },
  {
   "cell_type": "markdown",
   "id": "08706030",
   "metadata": {},
   "source": [
    "### 2.3 iglob: using Generators for Memory Efficiency\n",
    "\n",
    "**Why use iglob?**\n",
    "\n",
    "> - `glob.glob`: loads all matched files into memory at once, which can be **slow for a large number of files**.\n",
    "> - `glob.iglob`: creates a generator to iterate over matched files **without loading them all at once**.\n",
    "\n",
    "**syntax:** \n",
    "> `glob.iglob(pathname, *, root_dir=None, dir_fd=None, recursive=False, include_hidden=False)`\n",
    ">> `include_hidden=False` support python version 3.11\n"
   ]
  },
  {
   "cell_type": "markdown",
   "id": "51d5780d",
   "metadata": {},
   "source": [
    "#### - `glob` vs` iglob` filter python file"
   ]
  },
  {
   "cell_type": "code",
   "execution_count": 177,
   "id": "b7c7c0c1",
   "metadata": {},
   "outputs": [
    {
     "name": "stdout",
     "output_type": "stream",
     "text": [
      "iglob <generator object _iglob at 0x000002A114784BA0>\n",
      "glob ['ex1.py', 'ex2.py']\n"
     ]
    }
   ],
   "source": [
    "import glob \n",
    "iglob=glob.iglob('*.py', root_dir='C:\\demo_testfile')  \n",
    "glob=glob.glob('*.py', root_dir='C:\\demo_testfile') \n",
    "print(f\"iglob {iglob}\")#generator\n",
    "print(f\"glob {glob}\") #list"
   ]
  },
  {
   "cell_type": "markdown",
   "id": "8cc7e560",
   "metadata": {},
   "source": [
    "#### -`next`: iterate generator with next value "
   ]
  },
  {
   "cell_type": "code",
   "execution_count": 9,
   "id": "576543f9",
   "metadata": {},
   "outputs": [
    {
     "name": "stdout",
     "output_type": "stream",
     "text": [
      "notes\\billboard_ratings.csv\n",
      "<itertools.chain object at 0x0000019A6AC200D0>\n"
     ]
    }
   ],
   "source": [
    "import glob \n",
    "globs = glob.iglob('**/*.csv', root_dir='C:\\demo_testfile', recursive=True) \n",
    "print(next(globs))\n",
    "print(globs)"
   ]
  },
  {
   "cell_type": "markdown",
   "id": "dd4ad434",
   "metadata": {},
   "source": [
    "Iterate over generator by enumerate"
   ]
  },
  {
   "cell_type": "code",
   "execution_count": 180,
   "id": "3ed5f3b3",
   "metadata": {},
   "outputs": [
    {
     "name": "stdout",
     "output_type": "stream",
     "text": [
      "1:notes\\billboard_ratings.csv\n",
      "2:notes\\billboard_songs.csv\n",
      "3:notes\\billboard_songs2023.csv\n",
      "4:test\\data\\billboard.csv\n",
      "5:test\\data\\concat_1.csv\n",
      "6:test\\data\\concat_2.csv\n",
      "7:test\\data\\concat_3.csv\n",
      "8:test\\data\\country_timeseries.csv\n",
      "9:test\\data\\pew.csv\n",
      "10:test\\data\\survey_person.csv\n",
      "11:test\\data\\survey_site.csv\n",
      "12:test\\data\\survey_survey.csv\n",
      "13:test\\data\\survey_visited.csv\n",
      "14:test\\data\\weather.csv\n",
      "15:test -copy\\data\\billboard.csv\n",
      "16:test -copy\\data\\concat_1.csv\n",
      "17:test -copy\\data\\concat_2.csv\n",
      "18:test -copy\\data\\concat_3.csv\n",
      "19:test -copy\\data\\country_timeseries.csv\n",
      "20:test -copy\\data\\pew.csv\n",
      "21:test -copy\\data\\survey_person.csv\n",
      "22:test -copy\\data\\survey_site.csv\n",
      "23:test -copy\\data\\survey_survey.csv\n",
      "24:test -copy\\data\\survey_visited.csv\n",
      "25:test -copy\\data\\weather.csv\n"
     ]
    }
   ],
   "source": [
    "import glob \n",
    "globs = glob.iglob('**/*.csv', root_dir='C:\\demo_testfile', recursive=True) \n",
    "# Iterate over generator\n",
    "for i, file in enumerate(globs, start=1):\n",
    "    print(i, file, sep=\":\")"
   ]
  },
  {
   "cell_type": "markdown",
   "id": "ae36ceaa",
   "metadata": {},
   "source": [
    "<a id='3.fnmatch'></a>\n",
    "## 3. fnmatch [🔝](#toc)"
   ]
  },
  {
   "cell_type": "markdown",
   "id": "3a32bce8",
   "metadata": {},
   "source": [
    "- [3.1 fnmatch](#): Checks filename matches a given pattern.\n",
    "- [3.2 filter](#): Filters a list of filenames based on a pattern.\n",
    "- [3.3 fnmatchcase](#): case-sensitive comparison\n",
    "- [3.4 translate](#): translates a given pattern into a regular expression"
   ]
  },
  {
   "cell_type": "markdown",
   "id": "0cf6fb7b",
   "metadata": {},
   "source": [
    "> **Syntax:** `fnmatch(names, pattern)`\n",
    "\n",
    "**import module**\n",
    "```python\n",
    "import fnmatch\n",
    "```\n",
    "\n",
    "[Fnmatch Documentation Link](https://docs.python.org/3/library/fnmatch.html#fnmatch.fnmatch)\n",
    "\n",
    "**Patterns are Unix shell style:**\n",
    "- `*`       matches everything\n",
    "- `?`       matches any single character\n",
    "- `[seq]`   matches any character in seq\n",
    "- `[!seq]`  matches any char not in seq\n",
    "\n",
    "**Fnmatch function**\n",
    "- `fnmatch.fnmatch(filename, pattern)`: Default, Checks if a single filename matches a pattern.\n",
    "- `fnmatch.filter(names, pattern)`:\tFilters a list of filenames based on a pattern.\n",
    "- `fnmatch.fnmatchcase(name, pattern)`Performs case-sensitive pattern matching.\n",
    "- `fnmatch.translate(pattern)`:\tConverts an fnmatch pattern into a regular expression."
   ]
  },
  {
   "cell_type": "code",
   "execution_count": 10,
   "id": "0fd1949e",
   "metadata": {},
   "outputs": [],
   "source": [
    "import fnmatch  #fnmatch.fnmatch()\n",
    "#or\n",
    "#from fnmatch import fnmatch #fnmatch()"
   ]
  },
  {
   "cell_type": "markdown",
   "id": "70d63413",
   "metadata": {},
   "source": [
    "<a id='3.1fnmatch'></a>\n",
    "### 3.1 `fnmatch`  [𖤂](#3.fnmatch)\n",
    "\n",
    "Checks filename matches a given pattern."
   ]
  },
  {
   "cell_type": "code",
   "execution_count": 19,
   "id": "06175a6a",
   "metadata": {},
   "outputs": [
    {
     "name": "stdout",
     "output_type": "stream",
     "text": [
      "The filename matches the pattern.\n"
     ]
    }
   ],
   "source": [
    "from fnmatch import fnmatch\n",
    "filename = \"myfile.txt\"\n",
    "pattern = \"*.txt\"\n",
    "\n",
    "if fnmatch(filename, pattern):\n",
    "    print(\"The filename matches the pattern.\")"
   ]
  },
  {
   "cell_type": "code",
   "execution_count": 23,
   "id": "3fc43482",
   "metadata": {},
   "outputs": [
    {
     "name": "stdout",
     "output_type": "stream",
     "text": [
      ".ipynb_checkpoints\n",
      "File Pattern Matching with Glob and Fnmatch.ipynb\n",
      "iterate_filter_file.ipynb\n",
      "os.path_reorganize.ipynb\n",
      "Pathlib Basics(orgainize_final).ipynb\n",
      "Pathlib_reorganize.ipynb\n"
     ]
    }
   ],
   "source": [
    "#list current directory \n",
    "from fnmatch import fnmatch\n",
    "import os\n",
    "for file in os.listdir('.'):\n",
    "    if fnmatch(file, '*'):\n",
    "        print(file)"
   ]
  },
  {
   "cell_type": "code",
   "execution_count": 24,
   "id": "a29cb35e",
   "metadata": {},
   "outputs": [
    {
     "name": "stdout",
     "output_type": "stream",
     "text": [
      ".ipynb_checkpoints\n",
      "File Pattern Matching with Glob and Fnmatch.ipynb\n",
      "iterate_filter_file.ipynb\n",
      "os.path_reorganize.ipynb\n",
      "Pathlib Basics(orgainize_final).ipynb\n",
      "Pathlib_reorganize.ipynb\n"
     ]
    }
   ],
   "source": [
    "# list file contain py between\n",
    "for file in os.listdir('.'):\n",
    "    if fnmatch(file, '*py*'):\n",
    "        print(file)"
   ]
  },
  {
   "cell_type": "code",
   "execution_count": 25,
   "id": "ea1f9abe",
   "metadata": {},
   "outputs": [
    {
     "name": "stdout",
     "output_type": "stream",
     "text": [
      "C:\\demo_testfile\\ex1.py\n",
      "C:\\demo_testfile\\ex2.py\n",
      "C:\\demo_testfile\\data\\copy2_ex1.py\n",
      "C:\\demo_testfile\\data\\copy2_ex2.py\n",
      "C:\\demo_testfile\\data\\copy_ex1.py\n",
      "C:\\demo_testfile\\data\\copy_ex2.py\n",
      "C:\\demo_testfile\\data\\copy_file - with - space-1.py\n",
      "C:\\demo_testfile\\renamefile\\file - with - space-1.py\n",
      "C:\\demo_testfile\\renamefile\\data\\copy2_file - with - space-1.py\n",
      "C:\\demo_testfile\\renamefile\\data\\copy_file - with - space-1.py\n"
     ]
    }
   ],
   "source": [
    "#using os.walk and find specfic file extension\n",
    "\n",
    "root = 'C:\\demo_testfile'\n",
    "pattern = \"*.py\"\n",
    "\n",
    "for path, subdirs, files in os.walk(root):\n",
    "    for name in files:\n",
    "        if fnmatch(name, pattern):\n",
    "            print(os.path.join(path, name))"
   ]
  },
  {
   "cell_type": "code",
   "execution_count": 31,
   "id": "c34cfffb",
   "metadata": {},
   "outputs": [
    {
     "name": "stdout",
     "output_type": "stream",
     "text": [
      "AAA.txt\n",
      "data\n",
      "datanew\n",
      "ex1.py\n",
      "ex2.py\n",
      "hell[o].txt\n",
      "index.html\n",
      "page.html\n",
      "read.txt\n",
      "renamefile\n",
      "test\n",
      "test -copy\n",
      "test.txt\n",
      "testFile1.txt\n"
     ]
    }
   ],
   "source": [
    "#exclude specfic pattern\n",
    "files = os.listdir('C:\\demo_testfile')\n",
    "filtered_files = [\n",
    "    file for file in files\n",
    "    if not fnmatch(file, \"*notes*\")  # Skip paths matching \"notes\"\n",
    "]\n",
    "\n",
    "print('\\n'.join(filtered_files))"
   ]
  },
  {
   "cell_type": "markdown",
   "id": "342c60fa",
   "metadata": {},
   "source": [
    "<a id='3.2fnmatchfilter'></a>\n",
    "### 3.2 `filter`  [𖤂](#3.fnmatch)\n",
    "\n",
    "> import module: \n",
    ">> - `import fnmatch` or \n",
    ">> - `from fnmatch import filter`\n",
    " \n",
    "Filters a list of filenames based on a pattern"
   ]
  },
  {
   "cell_type": "code",
   "execution_count": 35,
   "id": "1bb8e080",
   "metadata": {},
   "outputs": [
    {
     "name": "stdout",
     "output_type": "stream",
     "text": [
      "['ex1.py', 'ex2.py']\n"
     ]
    }
   ],
   "source": [
    "import fnmatch\n",
    "files = os.listdir('C:\\demo_testfile')\n",
    "python_files = fnmatch.filter(files, \"*.py\")\n",
    "print(python_files)"
   ]
  },
  {
   "cell_type": "markdown",
   "id": "09b8f26d",
   "metadata": {},
   "source": [
    "<a id='3.3fnmatchcase'></a>\n",
    "### 3.3 `fnmatchcase`  : case-sensitive comparison   [𖤂](#3.fnmatch)\n",
    "\n",
    "Similar to fnmatch.fnmatch(), but performs a case-sensitive comparison\n",
    "\n",
    "- **fnmatch**: Case sensitivity depends on the operating system.\n",
    "    - On case-insensitive systems (like Windows), it treats uppercase and lowercase as the same. For example, searching for \"test\" will match \"test\" or \"Test\".\n",
    "    - On case-sensitive systems (like Linux), it treats uppercase and lowercase differently. Searching for \"test\" will only match \"test\" and not \"Test\".\n",
    "    \n",
    "- **fnmatchcase**: Always case-sensitive, regardless of the operating system.\n",
    "    - It treats uppercase and lowercase differently. For example, if your file is \"test\", searching for \"Test\" will not match; only \"test\" will match. It follows the exact string pattern you provide.\n"
   ]
  },
  {
   "cell_type": "code",
   "execution_count": 37,
   "id": "24b0438c",
   "metadata": {},
   "outputs": [
    {
     "name": "stdout",
     "output_type": "stream",
     "text": [
      "['AAA.txt', 'data', 'datanew', 'ex1.py', 'ex2.py', 'hell[o].txt', 'index.html', 'notes', 'page.html', 'read.txt', 'renamefile', 'test', 'test -copy', 'test.txt', 'testFile1.txt']\n",
      "['AAA.txt']\n",
      "['AAA.txt']\n"
     ]
    }
   ],
   "source": [
    "import fnmatch\n",
    "files = os.listdir('C:\\demo_testfile')\n",
    "print(files)\n",
    "#['AAA.txt', 'ex1.py', 'ex2.py', 'index.html', 'notes', 'page.html', 'read.txt', 'test']\n",
    "# Use fnmatchcase to match each file against the pattern\n",
    "python_files = [file for file in files if fnmatch.fnmatchcase(file, \"AAA*\")]\n",
    "print(python_files)  # Output: ['AAA.txt']\n",
    "\n",
    "python_files = [file for file in files if fnmatch.fnmatch(file, \"AAA*\")]\n",
    "print(python_files) # Output: ['AAA.txt']"
   ]
  },
  {
   "cell_type": "markdown",
   "id": "9a42395b",
   "metadata": {},
   "source": [
    "<a id='3.4translate'></a>\n",
    "### 3.4  `translate`  [𖤂](#3.fnmatch)\n",
    "This function is less commonly used, It translates a given pattern into a regular expression."
   ]
  },
  {
   "cell_type": "code",
   "execution_count": 39,
   "id": "1c583fee",
   "metadata": {},
   "outputs": [
    {
     "name": "stdout",
     "output_type": "stream",
     "text": [
      "(?s:.*\\.txt)\\Z\n"
     ]
    }
   ],
   "source": [
    "regex = fnmatch.translate('*.txt') \n",
    "print(regex) # (?s:.*\\.txt)\\Z\n"
   ]
  },
  {
   "cell_type": "code",
   "execution_count": null,
   "id": "0cebc076",
   "metadata": {},
   "outputs": [],
   "source": []
  }
 ],
 "metadata": {
  "kernelspec": {
   "display_name": "Python 3 (ipykernel)",
   "language": "python",
   "name": "python3"
  },
  "language_info": {
   "codemirror_mode": {
    "name": "ipython",
    "version": 3
   },
   "file_extension": ".py",
   "mimetype": "text/x-python",
   "name": "python",
   "nbconvert_exporter": "python",
   "pygments_lexer": "ipython3",
   "version": "3.10.9"
  }
 },
 "nbformat": 4,
 "nbformat_minor": 5
}
