{
 "cells": [
  {
   "cell_type": "markdown",
   "id": "a33f5c20",
   "metadata": {},
   "source": [
    "# Understanding Pathlib for path handling"
   ]
  },
  {
   "cell_type": "markdown",
   "id": "424d32dc",
   "metadata": {},
   "source": [
    "## Description "
   ]
  },
  {
   "cell_type": "markdown",
   "id": "0ecc4899",
   "metadata": {},
   "source": [
    "This is a Note on path handling using `os.path` module, which I will cover these topic:\n",
    "- specific path\n",
    "- access to directory and list down content\n",
    "- checking whether it's a file or directory\n",
    "- File management like rename, remove, create,etc. "
   ]
  },
  {
   "cell_type": "markdown",
   "id": "8d5fe86c",
   "metadata": {},
   "source": [
    "### pathlib module"
   ]
  },
  {
   "cell_type": "markdown",
   "id": "3a4cd24f",
   "metadata": {},
   "source": [
    "using `pathlib` you can use either one `import pathlib` or `from pathlib import Path`\n",
    "- `import pathlib` then define as `pathlib.Path()`\n",
    "- `from pathlib import Path` then define as `Path()`\n",
    "- `pathlib.__all__`: list all the supported functions and attributes, like Path()"
   ]
  },
  {
   "cell_type": "markdown",
   "id": "1e041c30",
   "metadata": {},
   "source": [
    "In this topic I will cover pathlib which is use on file handling. There is an alternative method os using the os.path library. Pathlib is write base on `os.path` module. You might seem some are similar some aren't. I will mention so os.path. If you want to know more with os.path, then you can refer my other note on os.path. The different between both are:\n",
    "- pathlib uses object \n",
    "- os.path uses string "
   ]
  },
  {
   "cell_type": "markdown",
   "id": "b6ab9447",
   "metadata": {},
   "source": [
    "### Structure of Path\n",
    "\n",
    "This is the example directory I will be using, you can see the hierarchy structure of the directory and files look like"
   ]
  },
  {
   "cell_type": "raw",
   "id": "09a78e44",
   "metadata": {},
   "source": [
    "Path example using it:\n",
    "\n",
    "C:.\n",
    "│  ex1.py\n",
    "│  ex2.py\n",
    "│  index.html\n",
    "│  page.html\n",
    "│  read.txt\n",
    "│\n",
    "├─notes\n",
    "│  │  .gitignore\n",
    "│  │  01-intro.ipynb\n",
    "│  │  02-tidy.ipynb\n",
    "│  │  03-merge.ipynb\n",
    "│  │  billboard_ratings.csv\n",
    "│  │  billboard_songs.csv\n",
    "│  │  billboard_songs2023.csv\n",
    "│  │\n",
    "│  └─.ipynb_checkpoints\n",
    "│          01-intro-checkpoint.ipynb\n",
    "│          02-tidy-checkpoint.ipynb\n",
    "│\n",
    "└─test\n",
    "    │  1.txt\n",
    "    │  2.txt\n",
    "    │\n",
    "    └─data\n",
    "            billboard.csv\n",
    "            concat_1.csv\n",
    "            concat_2.csv\n",
    "            concat_3.csv\n",
    "            country_timeseries.csv\n",
    "            gapminder.tsv\n",
    "            intro.ipynb\n",
    "            pew.csv\n",
    "            survey_person.csv\n",
    "            survey_site.csv\n",
    "            survey_survey.csv\n",
    "            survey_visited.csv\n",
    "            weather.csv"
   ]
  },
  {
   "cell_type": "markdown",
   "id": "cb810ed4",
   "metadata": {},
   "source": [
    "<a id='toc'></a>\n",
    "## TOC (Table of Content):\n",
    "* [import module](#library)\n",
    "* [Part 1 Using os.path](#Part1)\n",
    "    - [1. Show Current Directory](#1.cwp)\n",
    "    - [2. Path Resolution](#2.PathResolution)\n",
    "    - [3. Access Specific Directory](#3.AccessSpecificDirectory)\n",
    "    - [4. Lists entries in a directory](#4.listcontent)\n",
    "    - [5. Checking file/directory](#5.checkingfiledir)\n",
    "    - [6. File extension](#6.fileExt)\n",
    "    - [7. Matching Pattern Files and recursive](#7.matchingFileGlob)\n",
    "* [Part 2 File and Directory Operations](#Part2)\n",
    "    - [1. Create file/directory](#Create_fileDirectory)\n",
    "    - [2. Remove Directory and File](#RemoveDir_File)\n",
    "    - [3. Copying](#copying)\n",
    "    - [4. Rename/moving](#RenameCopying)\n",
    "    - [5. Read and write file](#ReadwriteFile)\n",
    "* [Summary example](#Summary)"
   ]
  },
  {
   "cell_type": "markdown",
   "id": "5563a732",
   "metadata": {},
   "source": [
    "<a id='library'></a>\n",
    "## import module [🔝](#toc)"
   ]
  },
  {
   "cell_type": "code",
   "execution_count": 243,
   "id": "94140d64",
   "metadata": {},
   "outputs": [
    {
     "name": "stdout",
     "output_type": "stream",
     "text": [
      "3.10.9\n"
     ]
    }
   ],
   "source": [
    "#import library\n",
    "import os\n",
    "from pathlib import Path\n",
    "\n",
    "#chekc python version \n",
    "from platform import python_version\n",
    "print(python_version())"
   ]
  },
  {
   "cell_type": "markdown",
   "id": "388f9577",
   "metadata": {},
   "source": [
    "<a id='Part1'></a>\n",
    "## Part 1 Using Pathlib [🔝](#toc)"
   ]
  },
  {
   "cell_type": "markdown",
   "id": "95732ab9",
   "metadata": {},
   "source": [
    "- [1. Show Current Directory](#1.cwp)\n",
    "    - [1.1 get current directory path](#1.1-get-current-directory-path)\n",
    "        - `Path.cwd()`\n",
    "    - [1.2 get default path](#1.2-get-default-path)\n",
    "        - `Path.home()`: user's home directory\n",
    "        - `Path(\"~\").expanduser()`: Expands `~` to user's home directory\n",
    "        - `Path(\"~/Pictures\").expanduser()`: using specific directory of user's home directory\n",
    "- [2. Path Resolution](#2.PathResolution)\n",
    "\t- [2.1 Path()](#2.1-Path())\n",
    "\t\t- `Path()`: same as `.`, which is current working directory\n",
    "\t\t- `Path('filename').absolute()`: convert a relative path to absolute path\n",
    "\t- [2.2 Resolving Relative Paths with](#2.2Resolving)\n",
    "\t\t- `Path('filename').resolve()`: converts the path to an absolute path\n",
    "- [3. Access Specific Directory](#3.AccessSpecificDirectory)\n",
    "\t- [3.1 Access specific path](#3.1-Access-specific-path)\n",
    "\t\t- `Path(Path)`: assign specific directory or path\n",
    "\t- [3.2 Parent Directory Access](#3.2-Parent-Directory-Access)\n",
    "\t\t- `Path.parent()`: parent of the path (file or directory)\n",
    "\t\t- `Path.parents()`: sequence of all ancestors, indexed from parent upward\n",
    "\t- [3.3 Join Path](#3.3-Join-Path)\n",
    "\t\t- `Path.joinpath()`: Combines multiple paths into one path\n",
    "\t\t- `/` to join path : use `/` to combine new path\n",
    "- [4. Lists entries in a directory](#4.listcontent)\n",
    "\t- `os.listdir()`: list content of working directory\n",
    "\t- `Path().iterdir()`: list content of working directory \n",
    "- [5. Checking file/directory](#5.checkingfiledir) \n",
    "\t- [5.1 checking file type or exist](#5.1-checking-file-type-or-exist)\n",
    "\t\t- `Path(file/dir).exists()`\n",
    "\t\t- `Path(file).is_file()`\n",
    "\t\t- `Path(dir).is_dir()`\n",
    "\t\t- `Path(path).is_absolute()`\n",
    "- [6. file extension](#6.fileExt)\n",
    "\t- [6.1 Path Attribute](#6.1-Path-Attribute)\n",
    "\t\t- `Path().name`:Gets the filename\n",
    "\t\t- `Path().suffix`: Gets the file extension \n",
    "\t\t- `Path().stem`: Gets the filename without the extension \n",
    "\t\t- `Path().parts`: Split into parts\n",
    "\t\t- `Path().anchor`: part of the path before the directories\n",
    "\t- [6.2 Parent Directory Access](#6.2-Parent-Directory-Access)\n",
    "\t\t- `Path.parent`:Returns the parent directory of the Path\n",
    "\t\t- `Path.parents`: sequence of all ancestors indexed from the immediate parent upward\n",
    "\t- [6.3 startswith() and endswith()](#6.3startswith_endswith)\n",
    "- [7. Matching Pattern Files and recursive](#7.matchingFileGlob)\n",
    "\t- [7.1 Non-Recursive search](#7.1-Non-Recursive-search)\n",
    "\t\t- `Path.glob(pattern)`: search specific pattern string of path\n",
    "\t- [7.2 Recursive search](#7.2-Recursive-search)\n",
    "\t\t- `Path.rglob(pattern)`:search specific pattern string of path recursive\n",
    "\t\t- `*`*: Recursive Directory Searching: search specific pattern string of path recursive"
   ]
  },
  {
   "cell_type": "markdown",
   "id": "8eae25c7",
   "metadata": {},
   "source": [
    "<a id='1.cwp'></a>\n",
    "### 1. Show Current Directory [🔙](#Part1)\n",
    "You can use `Path.cwd()`, `Path.home()` or with alternative method with `os.getcwd()`"
   ]
  },
  {
   "cell_type": "markdown",
   "id": "5a5c34e2",
   "metadata": {},
   "source": [
    "#### 1.1 get current directory path\n",
    "Shows the full path of your current working directory, just like linux command pwd to check your full path."
   ]
  },
  {
   "cell_type": "markdown",
   "id": "1b771626",
   "metadata": {},
   "source": [
    "##### -  `Path.cwd()`: \n",
    "Returns the current working directory as a Path object, alternative use os.getcwd()"
   ]
  },
  {
   "cell_type": "code",
   "execution_count": 19,
   "id": "419fdd48",
   "metadata": {},
   "outputs": [
    {
     "name": "stdout",
     "output_type": "stream",
     "text": [
      "C:\\Users\\test\\python_test\n"
     ]
    }
   ],
   "source": [
    "#get your current working directory full path \n",
    "print(Path.cwd()) "
   ]
  },
  {
   "cell_type": "markdown",
   "id": "e6987a9a",
   "metadata": {},
   "source": [
    "#### 1.2 get default path　"
   ]
  },
  {
   "cell_type": "markdown",
   "id": "e7682cf2",
   "metadata": {},
   "source": [
    "##### - `Path.home()`:Returns the user's home directory."
   ]
  },
  {
   "cell_type": "code",
   "execution_count": 8,
   "id": "193f1431",
   "metadata": {},
   "outputs": [
    {
     "name": "stdout",
     "output_type": "stream",
     "text": [
      "C:\\Users\\test\n"
     ]
    }
   ],
   "source": [
    "print(Path.home()) #C:\\Users\\User"
   ]
  },
  {
   "cell_type": "markdown",
   "id": "eafffe5c",
   "metadata": {},
   "source": [
    "##### - `Path(\"~\").expanduser()`: Expands `~` to the user's home directory \n",
    "> - Linux (`~`): /home/username\n",
    "> - Windows (`~`): C:\\Users\\username\n"
   ]
  },
  {
   "cell_type": "code",
   "execution_count": 21,
   "id": "abae1eb6",
   "metadata": {},
   "outputs": [
    {
     "name": "stdout",
     "output_type": "stream",
     "text": [
      "C:\\Users\\test\n"
     ]
    }
   ],
   "source": [
    "print(Path(\"~\").expanduser()) #C:\\Users\\User"
   ]
  },
  {
   "cell_type": "markdown",
   "id": "35a06e32",
   "metadata": {},
   "source": [
    "##### - `Path(\"~/Pictures\").expanduser()`\n",
    "Returns a specific folder (e.g., \"Pictures\") in the user's home directory."
   ]
  },
  {
   "cell_type": "code",
   "execution_count": 20,
   "id": "f327aa60",
   "metadata": {},
   "outputs": [
    {
     "name": "stdout",
     "output_type": "stream",
     "text": [
      "C:\\Users\\test\\Pictures\n"
     ]
    }
   ],
   "source": [
    "print(Path(\"~/Pictures\").expanduser()) #C:\\Users\\test\\Pictures"
   ]
  },
  {
   "cell_type": "markdown",
   "id": "c29517d4",
   "metadata": {},
   "source": [
    "<a id='2.PathResolution'></a>\n",
    "### 2. Path Resolution  [🔙](#Part1)\n",
    "\n",
    "If you want to check specfic file or directory's absolute Path you can use `Path()`, `Path().absolute`, and `Path().resolve` these function. The alternative method you can use `os.path.abspath` which also have the same effect. \n",
    "\n",
    "- Path(relativepath): Creates a Path object from a relative or absolute path. If you didn't provide path it refers to the current directory (\".\")\n",
    "- Path().absolute():  Converts a relative path to an absolute path (but does not resolve symlinks).\n",
    "- Path().resolve(): Converts a relative path to an absolute path and normalizes . or ..."
   ]
  },
  {
   "cell_type": "markdown",
   "id": "f082d179",
   "metadata": {},
   "source": [
    "#### 2.1 Path()\n",
    "returns the absolute path of a specific Path instance. "
   ]
  },
  {
   "cell_type": "markdown",
   "id": "8d671cdc",
   "metadata": {},
   "source": [
    "##### - `Path()`: \n",
    "Represents a path object without resolution, if you didn't provide path it refers to the current directory (`\".\"`). You can also call these `absolute` or `resolve` function as below:\n",
    "> - `Path().absolute()`: Returns the absolute path as a Path object (does not resolve symbolic links).\n",
    "> -  `Path().resolve()`: Returns the absolute path as a Path object (does not resolve symbolic links)."
   ]
  },
  {
   "cell_type": "code",
   "execution_count": 36,
   "id": "f87e347e",
   "metadata": {},
   "outputs": [
    {
     "name": "stdout",
     "output_type": "stream",
     "text": [
      ".\n",
      "C:\\Users\\test\\python_test\n",
      "C:\\Users\\test\\python_test\n",
      "C:\\Users\\test\\python_test\n"
     ]
    }
   ],
   "source": [
    "print(Path()) #. \n",
    "print(Path().absolute())# get absolute path  \n",
    "print(Path().cwd()) # returns the current working directory\n",
    "print(Path().resolve())# use resolve to show full path"
   ]
  },
  {
   "cell_type": "markdown",
   "id": "2e70abb2",
   "metadata": {},
   "source": [
    "##### - `Path('filename').absolute()` : \n",
    "assign specific directory and convert a relative path to absolute path(full path)"
   ]
  },
  {
   "cell_type": "code",
   "execution_count": 37,
   "id": "459e7870",
   "metadata": {},
   "outputs": [
    {
     "name": "stdout",
     "output_type": "stream",
     "text": [
      "plotpy.py\n",
      "C:\\Users\\test\\python_test\\plotpy.py\n",
      "C:\\Users\\test\\python_test\\plotpy.py\n"
     ]
    }
   ],
   "source": [
    "print(Path('plotpy.py'))#returns the absolute path of a specific Path instance\n",
    "print(Path('plotpy.py').absolute())# display with full path  \n",
    "print(Path('plotpy.py').resolve())# display with full path  "
   ]
  },
  {
   "cell_type": "markdown",
   "id": "bba9e6ae",
   "metadata": {},
   "source": [
    "<a id='2.2Resolving'></a>\n",
    "#### 2.2 Resolving Relative Paths with `.` or `..`"
   ]
  },
  {
   "cell_type": "markdown",
   "id": "3d6ca775",
   "metadata": {},
   "source": [
    "##### - `Path('filename').resolve()`\n",
    "> - `..`: This mean root or parent directory (linux is /, window is c:\\)\n",
    "> - `.`: current directory\n",
    "> - `resolve`:  converts the path to an absolute path."
   ]
  },
  {
   "cell_type": "code",
   "execution_count": 30,
   "id": "2f7242b5",
   "metadata": {},
   "outputs": [
    {
     "name": "stdout",
     "output_type": "stream",
     "text": [
      "..\n",
      "C:\\Users\\test\\python_test\\..\n",
      "C:\\Users\\test\n"
     ]
    }
   ],
   "source": [
    "print(Path(\"..\"))# Outputs: ..\n",
    "print(Path(\"..\").absolute()) # Outputs the absolute path but retains `.. \n",
    "print( Path(\"..\").resolve()) # Resolves `..` path "
   ]
  },
  {
   "cell_type": "code",
   "execution_count": 38,
   "id": "67dd37d0",
   "metadata": {},
   "outputs": [
    {
     "name": "stdout",
     "output_type": "stream",
     "text": [
      "..\\plotpy.py\n",
      "C:\\Users\\test\\python_test\\..\\plotpy.py\n",
      "C:\\Users\\test\\plotpy.py\n"
     ]
    }
   ],
   "source": [
    "\n",
    "print(Path('../plotpy.py')) \n",
    "print(Path('../plotpy.py').absolute()) #absolute path remain .. \n",
    "print(Path('../plotpy.py').resolve()) #Resolves the full canonical path of the file"
   ]
  },
  {
   "cell_type": "markdown",
   "id": "68fca08c",
   "metadata": {},
   "source": [
    "<a id='3.AccessSpecificDirectory'></a>\n",
    "### 3. Access Specific Directory [🔙](#Part1)"
   ]
  },
  {
   "cell_type": "markdown",
   "id": "642c5cf2",
   "metadata": {},
   "source": [
    "Understand different slash:\n",
    "- forward slash(`\\`): Need a raw string prefix (`r\"\\\"`) to avoid errors, used for window path\n",
    "- back slash(`\\\\`): Escape each backslash.\n",
    "- double slash(`/`): Also valid and are commonly used in Linux, but pathlib supports them on all platforms.\n"
   ]
  },
  {
   "cell_type": "markdown",
   "id": "d9179ed3",
   "metadata": {},
   "source": [
    "#### 3.1 Access specific path"
   ]
  },
  {
   "cell_type": "code",
   "execution_count": 40,
   "id": "b460d499",
   "metadata": {},
   "outputs": [
    {
     "name": "stdout",
     "output_type": "stream",
     "text": [
      "C:\\Users\\User\n",
      "C:\\Users\\User\n",
      "C:\\Users\\User\n"
     ]
    }
   ],
   "source": [
    "print(Path(r\"C:\\Users\\User\")) # Raw string with a single backslash\n",
    "print(Path(\"C:\\\\Users\\\\User\")) # Double backslash\n",
    "print(Path(\"C:/Users/User\")) # Forward slash"
   ]
  },
  {
   "cell_type": "markdown",
   "id": "90dd75e0",
   "metadata": {},
   "source": [
    "#### - `Path(Path)`"
   ]
  },
  {
   "cell_type": "code",
   "execution_count": 42,
   "id": "2dc02a4b",
   "metadata": {},
   "outputs": [
    {
     "name": "stdout",
     "output_type": "stream",
     "text": [
      "C:\\demo_testfile\\test\n",
      "C:\\demo_testfile\\test\n"
     ]
    }
   ],
   "source": [
    "my_dir=Path(r\"C:\\demo_testfile\\test\")\n",
    "print(my_dir)\n",
    "print(my_dir.absolute())# return absolute path of my_dir, this is  use in linux path"
   ]
  },
  {
   "cell_type": "markdown",
   "id": "b4f05290",
   "metadata": {},
   "source": [
    "#### 3.2 Parent Directory Access\n",
    "\n",
    "You can check your Path's parent using `Path.parent` option, or `Path.parents` which will give all parent. The alternative of it is using `os.path.dirname(path)`. "
   ]
  },
  {
   "cell_type": "markdown",
   "id": "de4c4beb",
   "metadata": {},
   "source": [
    "#### - `Path.parent()`\n",
    "is access parent of the path (file or directory)"
   ]
  },
  {
   "cell_type": "code",
   "execution_count": 46,
   "id": "b4b379a7",
   "metadata": {},
   "outputs": [
    {
     "name": "stdout",
     "output_type": "stream",
     "text": [
      "C:\\demo_testfile\\test\n",
      "parent directory: C:\\demo_testfile\n",
      "parent directory of file: C:\\demo_testfile\n"
     ]
    }
   ],
   "source": [
    "my_dir=Path(r\"C:\\demo_testfile\\test\")\n",
    "my_file=Path(r\"C:\\demo_testfile\\AAA.txt\")\n",
    "#parent direcotry \n",
    "print(my_dir)\n",
    "print(f\"parent directory: {my_dir.parent}\") #Returns the parent directory.\n",
    "print(f\"parent directory of file: {my_file.parent}\") #Returns the parent directory.\n"
   ]
  },
  {
   "cell_type": "markdown",
   "id": "056c19da",
   "metadata": {},
   "source": [
    "#### - `Path.parents()`\n",
    "> - `Path.parents`: is a sequence of all ancestors, indexed from the immediate parent upward\n",
    "> - `Path.parent`: is a direct property to access only the immediate parent of the path"
   ]
  },
  {
   "cell_type": "code",
   "execution_count": 48,
   "id": "bfa243dc",
   "metadata": {},
   "outputs": [
    {
     "name": "stdout",
     "output_type": "stream",
     "text": [
      "C:\\demo_testfile\n",
      "C:\\\n",
      "C:\\demo_testfile\n",
      "C:\\demo_testfile\n"
     ]
    }
   ],
   "source": [
    "#get the Nth parent folder pathlib\n",
    "print(my_dir.parents[0]) #immediate parent\n",
    "print(my_dir.parents[1]) #the root\n",
    "print(my_dir.parent.absolute()) #show the parent path\n",
    "print(my_dir.absolute().parent) #show the parent path"
   ]
  },
  {
   "cell_type": "markdown",
   "id": "d45984df",
   "metadata": {},
   "source": [
    "#### 3.3 Join Path\n",
    "\n",
    "Combines multiple paths into one path, you can use joinpath(), to combine multiple path or use `/` to combine multiple path. The alterative of join path is `os.path.join()`"
   ]
  },
  {
   "cell_type": "markdown",
   "id": "2b7d7a64",
   "metadata": {},
   "source": [
    "##### - `Path.joinpath()`:  join multiple path"
   ]
  },
  {
   "cell_type": "code",
   "execution_count": 53,
   "id": "3ec751f6",
   "metadata": {},
   "outputs": [
    {
     "name": "stdout",
     "output_type": "stream",
     "text": [
      "c:\\test\n"
     ]
    }
   ],
   "source": [
    "#pathlib joinpath\n",
    "newpath=Path(\"c:\\\\\").joinpath(\"test\") #c:/test\n",
    "print(newpath)"
   ]
  },
  {
   "cell_type": "markdown",
   "id": "e65f2347",
   "metadata": {},
   "source": [
    "##### - `/` to join path(eg:`Path.cwd()/newpath`) :\n",
    "Uses the / operator for path joining."
   ]
  },
  {
   "cell_type": "code",
   "execution_count": 52,
   "id": "32fee02b",
   "metadata": {},
   "outputs": [
    {
     "name": "stdout",
     "output_type": "stream",
     "text": [
      "C:\\demo_testfile\\file.txt\n",
      "c:\\file.txt\n",
      "C:\\Users\\test\\python_test\\img\n"
     ]
    }
   ],
   "source": [
    "#pathlib join path with slash \n",
    "print(Path('C:\\demo_testfile')/'file.txt')\n",
    "print(Path('c:\\\\')/'file.txt')\n",
    "print(Path.cwd()/\"img\")"
   ]
  },
  {
   "cell_type": "markdown",
   "id": "fdd37b28",
   "metadata": {},
   "source": [
    "<a id='4.listcontent'></a>\n",
    "### 4. Lists entries in a directory [🔙](#Part1)\n",
    "\n",
    "This is like the OS cli command line: `ls -al` linux or `dir` window will list all file directory in current working directory. You can use:\n",
    "> - `Path.iterdir()`  which return an **path object** \n",
    "> - `os.listdir()` which return **string**\n",
    "\n",
    "These two method both list working directory content which is use often. "
   ]
  },
  {
   "cell_type": "markdown",
   "id": "8560f6c8",
   "metadata": {},
   "source": [
    "#### - `os.listdir()`\n",
    "List content for all files and directories in the specified directory."
   ]
  },
  {
   "cell_type": "code",
   "execution_count": 2,
   "id": "e4a3329e",
   "metadata": {},
   "outputs": [
    {
     "name": "stdout",
     "output_type": "stream",
     "text": [
      "['.ipynb_checkpoints', 'FileMatching_glob_fnmatch.ipynb', 'iterate_filter_file.ipynb', 'os.path.ipynb', 'Pathlib Basics(orgainize_final).ipynb', 'Pathlib.ipynb']\n",
      "['.ipynb_checkpoints', 'FileMatching_glob_fnmatch.ipynb', 'iterate_filter_file.ipynb', 'os.path.ipynb', 'Pathlib Basics(orgainize_final).ipynb', 'Pathlib.ipynb']\n"
     ]
    }
   ],
   "source": [
    "import os \n",
    "print(os.listdir()) #default current directory\n",
    "#specific directory\n",
    "print(os.listdir(r'c:'))"
   ]
  },
  {
   "cell_type": "markdown",
   "id": "16149c5f",
   "metadata": {},
   "source": [
    "#### - `Path().iterdir()`\n",
    "Returns a generator for all files and directories in the specified directory."
   ]
  },
  {
   "cell_type": "code",
   "execution_count": 62,
   "id": "07f496ea",
   "metadata": {},
   "outputs": [
    {
     "name": "stdout",
     "output_type": "stream",
     "text": [
      "[WindowsPath('C:/tmp/git'), WindowsPath('C:/tmp/powerlevel10k'), WindowsPath('C:/tmp/powerlevel10k_full'), WindowsPath('C:/tmp/takuya.omp.json')]\n"
     ]
    }
   ],
   "source": [
    "#print(list(Path().iterdir())) #list wordking directory\n",
    "print(list(Path('C:\\\\tmp').iterdir( ))) #list specific working directory"
   ]
  },
  {
   "cell_type": "code",
   "execution_count": 60,
   "id": "fa20222b",
   "metadata": {},
   "outputs": [
    {
     "name": "stdout",
     "output_type": "stream",
     "text": [
      ".ipynb_checkpoints\n",
      "Basic Guide to Pandas! Tricks, Shortcuts( Python Simplified).ipynb\n",
      "DataType\n",
      "done_toremove\n",
      "elog_example\n",
      "hahow_scrap_pandas_mathplot\n",
      "iterate_filter_file.ipynb\n",
      "jupterNote.ipynb\n",
      "numpy.ipynb\n",
      "os.path_reorganize.ipynb\n",
      "Pandas\n",
      "Pathlib Basics(orgainize_final).ipynb\n",
      "Pathlib_reorganize.ipynb\n",
      "tmp.ipynb\n",
      "Understanding File Pattern Matching with Glob and Fnmatch.ipynb\n"
     ]
    }
   ],
   "source": [
    "#Iterate current directory, and filter only list file that are directory \n",
    "for p in Path().iterdir():\n",
    "    #filter directory under current directory \n",
    "    #if p.is_dir():\n",
    "    print(p) "
   ]
  },
  {
   "cell_type": "code",
   "execution_count": 78,
   "id": "1ced9a62",
   "metadata": {},
   "outputs": [
    {
     "name": "stdout",
     "output_type": "stream",
     "text": [
      "[WindowsPath('.ipynb_checkpoints'), WindowsPath('DataType'), WindowsPath('done_toremove'), WindowsPath('elog_example'), WindowsPath('hahow_scrap_pandas_mathplot'), WindowsPath('Pandas')]\n"
     ]
    }
   ],
   "source": [
    "#list comprensive method\n",
    "print([p for p in Path().iterdir() if p.is_dir() ])"
   ]
  },
  {
   "cell_type": "code",
   "execution_count": 75,
   "id": "9eb0fabc",
   "metadata": {},
   "outputs": [
    {
     "name": "stdout",
     "output_type": "stream",
     "text": [
      "Basic Guide to Pandas! Tricks, Shortcuts( Python Simplified).ipynb\n",
      "iterate_filter_file.ipynb\n",
      "jupterNote.ipynb\n",
      "numpy.ipynb\n",
      "os.path_reorganize.ipynb\n",
      "Pathlib Basics(orgainize_final).ipynb\n",
      "Pathlib_reorganize.ipynb\n",
      "tmp.ipynb\n",
      "Understanding File Pattern Matching with Glob and Fnmatch.ipynb\n"
     ]
    }
   ],
   "source": [
    "#filter file that is .pynb\n",
    "for file in Path().iterdir():\n",
    "    if str(file).endswith('.ipynb'):\n",
    "        print(file)"
   ]
  },
  {
   "cell_type": "code",
   "execution_count": 73,
   "id": "a89ab5fd",
   "metadata": {},
   "outputs": [
    {
     "name": "stdout",
     "output_type": "stream",
     "text": [
      ".ipynb_checkpoints\n",
      "DataType\n",
      "done_toremove\n",
      "elog_example\n",
      "hahow_scrap_pandas_mathplot\n",
      "Pandas\n"
     ]
    }
   ],
   "source": [
    "#filter except file condition, display other than .pynb file type\n",
    "for file in Path().iterdir():\n",
    "    if str(file).endswith('.ipynb'):\n",
    "        continue \n",
    "    print(file)"
   ]
  },
  {
   "cell_type": "markdown",
   "id": "cc2d1ff2",
   "metadata": {},
   "source": [
    "<a id='5.checkingfiledir'></a>\n",
    "### 5. Checking file/directory [🔙](#Part1)\n",
    "\n",
    "This is useful to check whether your file exist or check is it a file or directory. This is normally use to check with working directory to filter specfic file or directory that exist or not. You can use `exists` to check file exist or not, `is_file` or `is_dir` is it file or directory. The alternative method you can also use are `exists`, `isfile`, `isdir`. \n"
   ]
  },
  {
   "cell_type": "markdown",
   "id": "63a2b1d3",
   "metadata": {},
   "source": [
    "#### 5.1 checking file type or exist \n",
    "You can use this to check your file type is it a file or directory, or even does it exist. "
   ]
  },
  {
   "cell_type": "code",
   "execution_count": 82,
   "id": "5b23daad",
   "metadata": {},
   "outputs": [
    {
     "name": "stdout",
     "output_type": "stream",
     "text": [
      "path: C:\\Users\\test\\python_test\\index.html\n",
      "check file or directory exist: False\n",
      "checking file exist: False\n",
      "checking not exist directory: False\n",
      "checking exist directory: False\n",
      "checking absolute path: True\n"
     ]
    }
   ],
   "source": [
    "filename='index.html'\n",
    "f=Path(filename).absolute()\n",
    "print(f'path: {f}')\n",
    "print(f\"check file or directory exist: {f.exists()}\") \n",
    "print(f\"checking file exist: {f.is_file()}\") \n",
    "print(f\"checking not exist directory: {f.is_dir()}\") \n",
    "print(f\"checking exist directory: {(Path.cwd()/ 'notes').is_dir()}\")\n",
    "print(f\"checking absolute path: {f.is_absolute()}\") "
   ]
  },
  {
   "cell_type": "markdown",
   "id": "d279c192",
   "metadata": {},
   "source": [
    "- ##### `Path(file/dir).exists()`:\n",
    "Checks if the path exists."
   ]
  },
  {
   "cell_type": "code",
   "execution_count": 107,
   "id": "8b3b7f9d",
   "metadata": {},
   "outputs": [
    {
     "name": "stdout",
     "output_type": "stream",
     "text": [
      "File exists\n"
     ]
    }
   ],
   "source": [
    "path2 = Path(\"C:\\\\demo_testfile\")\n",
    "if path2.exists():\n",
    "    print(\"File exists\")\n",
    "else:\n",
    "    print(\"File does not exist\")"
   ]
  },
  {
   "cell_type": "code",
   "execution_count": 115,
   "id": "3e1a227a",
   "metadata": {},
   "outputs": [
    {
     "name": "stdout",
     "output_type": "stream",
     "text": [
      "C:\\demo_testfile\\AAA.txt result:  True\n",
      "C:\\demo_testfile\\data result:  True\n",
      "C:\\demo_testfile\\datanew result:  True\n",
      "C:\\demo_testfile\\ex1.py result:  True\n",
      "C:\\demo_testfile\\ex2.py result:  True\n",
      "C:\\demo_testfile\\hell[o].txt result:  True\n",
      "C:\\demo_testfile\\index.html result:  True\n",
      "C:\\demo_testfile\\notes result:  True\n",
      "C:\\demo_testfile\\page.html result:  True\n",
      "C:\\demo_testfile\\read.txt result:  True\n",
      "C:\\demo_testfile\\renamefile result:  True\n",
      "C:\\demo_testfile\\test result:  True\n",
      "C:\\demo_testfile\\test -copy result:  True\n",
      "C:\\demo_testfile\\test.txt result:  True\n",
      "C:\\demo_testfile\\testFile1.txt result:  True\n"
     ]
    }
   ],
   "source": [
    "for item in path2.iterdir():  # Iterate through items in the directory\n",
    "    #if item.exists():  # Check if the item is a file\n",
    "    print(item, \"result: \", item.exists())  # Print the full path"
   ]
  },
  {
   "cell_type": "markdown",
   "id": "e6ff7497",
   "metadata": {},
   "source": [
    "- ##### `Path(file).is_file()`\n",
    "Checks if the path is a file."
   ]
  },
  {
   "cell_type": "code",
   "execution_count": 116,
   "id": "38061cab",
   "metadata": {},
   "outputs": [
    {
     "name": "stdout",
     "output_type": "stream",
     "text": [
      "C:\\demo_testfile\\AAA.txt\n",
      "C:\\demo_testfile\\ex1.py\n",
      "C:\\demo_testfile\\ex2.py\n",
      "C:\\demo_testfile\\hell[o].txt\n",
      "C:\\demo_testfile\\index.html\n",
      "C:\\demo_testfile\\page.html\n",
      "C:\\demo_testfile\\read.txt\n",
      "C:\\demo_testfile\\test.txt\n",
      "C:\\demo_testfile\\testFile1.txt\n"
     ]
    }
   ],
   "source": [
    "for item in path2.iterdir():  # Iterate through items in the directory\n",
    "    if item.is_file():  # Check if the item is a file\n",
    "        print(item)  # Print the full path"
   ]
  },
  {
   "cell_type": "markdown",
   "id": "87d813bb",
   "metadata": {},
   "source": [
    "- ##### `Path(dir).is_dir()`\n",
    "Checks if the path is a directory"
   ]
  },
  {
   "cell_type": "code",
   "execution_count": 119,
   "id": "b8d67336",
   "metadata": {},
   "outputs": [
    {
     "name": "stdout",
     "output_type": "stream",
     "text": [
      "C:\\demo_testfile\\data\n",
      "C:\\demo_testfile\\datanew\n",
      "C:\\demo_testfile\\notes\n",
      "C:\\demo_testfile\\renamefile\n",
      "C:\\demo_testfile\\test\n",
      "C:\\demo_testfile\\test -copy\n"
     ]
    }
   ],
   "source": [
    "for item in path2.iterdir():  # Iterate through items in the directory\n",
    "    if item.is_dir():  # Check if the item is a file\n",
    "        print(item)  # Print the full path"
   ]
  },
  {
   "cell_type": "markdown",
   "id": "fb5c79a7",
   "metadata": {},
   "source": [
    "- ##### `Path(path).is_absolute()`\n",
    "Checks if the path is an absolute path."
   ]
  },
  {
   "cell_type": "code",
   "execution_count": 146,
   "id": "dd3898d5",
   "metadata": {},
   "outputs": [
    {
     "name": "stdout",
     "output_type": "stream",
     "text": [
      "path:index.html, checking path is abosolute path => False\n",
      "path:C:\\Users\\test\\python_test\\index.html, checking path is abosolute path => True\n"
     ]
    }
   ],
   "source": [
    "filename='index.html'\n",
    "print(f\"path:{filename}, checking path is abosolute path => {Path(filename).is_absolute()}\")\n",
    "abspath=Path(filename).absolute()\n",
    "print(f\"path:{abspath}, checking path is abosolute path => {abspath.is_absolute()}\")"
   ]
  },
  {
   "cell_type": "markdown",
   "id": "33642539",
   "metadata": {},
   "source": [
    "<a id='6.fileExt'></a>\n",
    "### 6. file extension [🔙](#Part1)"
   ]
  },
  {
   "cell_type": "markdown",
   "id": "3094a25f",
   "metadata": {},
   "source": [
    "#### 6.1 Path Attribute:\n",
    "- `.name`: Gets the filename(like os.path.basename)\n",
    "- `.suffix`: Gets the file extension (like os.path.splitext)\n",
    "- `.stem`: Gets the filename without the extension (like os.path.splitext)\n",
    "- `.parts`: Split into parts\n",
    "- `.anchor`: The part of the path before the directories (like os.path.splitdrive)"
   ]
  },
  {
   "cell_type": "markdown",
   "id": "e2d34480",
   "metadata": {},
   "source": [
    "##### - `Path().name`\n",
    "Gets the filename(like os.path.basename)"
   ]
  },
  {
   "cell_type": "code",
   "execution_count": 149,
   "id": "0382288f",
   "metadata": {},
   "outputs": [
    {
     "name": "stdout",
     "output_type": "stream",
     "text": [
      "Path().name for file: file_1.txt\n",
      "Path().name for dir: demo_testfile\n"
     ]
    }
   ],
   "source": [
    "my_file2=Path(r\"C:\\demo_testfile\\file_1.txt\")\n",
    "my_dir=Path(r\"C:\\demo_testfile\")\n",
    "print(f\"Path().name for file: {my_file2.name}\")\n",
    "print(f\"Path().name for dir: {my_dir.name}\")"
   ]
  },
  {
   "cell_type": "code",
   "execution_count": 285,
   "id": "569dd259",
   "metadata": {},
   "outputs": [
    {
     "name": "stdout",
     "output_type": "stream",
     "text": [
      "['.ipynb_checkpoints', 'Basic Guide to Pandas! Tricks, Shortcuts( Python Simplified).ipynb', 'DataType', 'done_toremove', 'elog_example', 'hahow_scrap_pandas_mathplot', 'iterate_filter_file.ipynb', 'jupterNote.ipynb', 'numpy.ipynb', 'os.path_reorganize.ipynb', 'Pandas', 'Pathlib Basics(orgainize_final).ipynb', 'Pathlib_reorganize.ipynb', 'test123', 'tmp.ipynb', 'Understanding File Pattern Matching with Glob and Fnmatch.ipynb']\n",
      "================================================================================\n",
      "['.ipynb_checkpoints', 'DataType', 'done_toremove', 'elog_example', 'hahow_scrap_pandas_mathplot', 'Pandas', 'test123']\n"
     ]
    }
   ],
   "source": [
    "#list all the file    \n",
    "directory = Path()  # Convert to a Path object\n",
    "directories = [entry.name for entry in directory.iterdir()]\n",
    "print(directories)\n",
    "print('='*80)\n",
    "#list only directory\n",
    "directories = [entry.name for entry in directory.iterdir() if entry.is_dir()]\n",
    "print(directories)"
   ]
  },
  {
   "cell_type": "markdown",
   "id": "7dbd9c91",
   "metadata": {},
   "source": [
    "##### - `Path().suffix`\n",
    "Gets the file extension (like `os.path.splitext`)"
   ]
  },
  {
   "cell_type": "code",
   "execution_count": 160,
   "id": "b120370c",
   "metadata": {},
   "outputs": [
    {
     "name": "stdout",
     "output_type": "stream",
     "text": [
      "Path for file: C:\\demo_testfile\\file_1.txt\n",
      "suffix for file => .txt\n",
      "Path for dir: C:\\demo_testfile\n",
      "suffix for dir => \n"
     ]
    }
   ],
   "source": [
    "#Path.suffix: get the file name wiithout extenstion\n",
    "print(f\"Path for file: {my_file2}\")\n",
    "print(f\"suffix for file => {my_file2.suffix}\")\n",
    "print(f\"Path for dir: {my_dir}\")\n",
    "print(f\"suffix for dir => {my_dir.suffix}\") #empty because it's directory no ext"
   ]
  },
  {
   "cell_type": "markdown",
   "id": "2c872641",
   "metadata": {},
   "source": [
    "##### - `Path().stem`\n",
    "Gets the filename without the extension (like os.path.splitext)"
   ]
  },
  {
   "cell_type": "code",
   "execution_count": 161,
   "id": "69f43337",
   "metadata": {},
   "outputs": [
    {
     "name": "stdout",
     "output_type": "stream",
     "text": [
      "Path for file: C:\\demo_testfile\\file_1.txt\n",
      "stem for file => file_1\n",
      "Path for dir: C:\\demo_testfile\n",
      "stem for dir => demo_testfile\n"
     ]
    }
   ],
   "source": [
    "#Path.stem: get only file name no ext\n",
    "print(f\"Path for file: {my_file2}\")\n",
    "print(f\"stem for file => {my_file2.stem}\")\n",
    "print(f\"Path for dir: {my_dir}\")\n",
    "print(f\"stem for dir => {my_dir.stem}\")"
   ]
  },
  {
   "cell_type": "markdown",
   "id": "c14fafcd",
   "metadata": {},
   "source": [
    "##### -  `Path().parts`\n",
    "Split Path into parts, is cleaner and more structured than manually splitting the string. The alternative is `os.path.splitdrive(path)` "
   ]
  },
  {
   "cell_type": "code",
   "execution_count": 169,
   "id": "c6d1c606",
   "metadata": {},
   "outputs": [
    {
     "name": "stdout",
     "output_type": "stream",
     "text": [
      "File path: C:\\demo_testfile\\file_1.txt => ('C:\\\\', 'demo_testfile', 'file_1.txt')\n",
      "Dir path: C:\\demo_testfile => ('C:\\\\', 'demo_testfile')\n"
     ]
    }
   ],
   "source": [
    "my_file2=Path(r\"C:\\demo_testfile\\file_1.txt\")\n",
    "my_dir=Path(r\"C:\\demo_testfile\")\n",
    "\n",
    "print(f\"File path: {my_file2} => {my_file2.parts}\")\n",
    "print(f\"Dir path: {my_dir} => {my_dir.parts}\")"
   ]
  },
  {
   "cell_type": "markdown",
   "id": "2d0044b2",
   "metadata": {},
   "source": [
    "##### - `Path().anchor`\n",
    "The root (directory) part of the part, like `c:\\test` anchor will get `c:\\` which is the root of the path. The alternative is `os.path.splitdrive(path)[0]`"
   ]
  },
  {
   "cell_type": "code",
   "execution_count": 171,
   "id": "7e317e88",
   "metadata": {},
   "outputs": [
    {
     "name": "stdout",
     "output_type": "stream",
     "text": [
      "File path: C:\\demo_testfile\\file_1.txt => C:\\\n",
      "Dir path: C:\\demo_testfile => C:\\\n"
     ]
    }
   ],
   "source": [
    "print(f\"File path: {my_file2} => {my_file2.anchor}\")\n",
    "print(f\"Dir path: {my_dir} => {my_dir.anchor}\")"
   ]
  },
  {
   "cell_type": "markdown",
   "id": "8029ad5e",
   "metadata": {},
   "source": [
    "#### 6.2 Parent Directory Access"
   ]
  },
  {
   "cell_type": "markdown",
   "id": "e9e06e53",
   "metadata": {},
   "source": [
    "##### - `Path.parent:`\n",
    "\n",
    "Returns the parent directory of the Path."
   ]
  },
  {
   "cell_type": "code",
   "execution_count": 182,
   "id": "cb4d8457",
   "metadata": {},
   "outputs": [
    {
     "name": "stdout",
     "output_type": "stream",
     "text": [
      "dir Path: C:\\demo_testfile\\test, \tparent dir=> C:\\demo_testfile\n",
      "file Path: C:\\demo_testfile\\AAA.txt, \tparent dir=> C:\\demo_testfile\n"
     ]
    }
   ],
   "source": [
    "my_dir=Path(r\"C:\\demo_testfile\\test\")\n",
    "my_file=Path(r\"C:\\demo_testfile\\AAA.txt\")\n",
    "print(f\"dir Path: {my_dir}, \\tparent dir=> {my_dir.parent}\") #Returns the parent directory.\n",
    "print(f\"file Path: {my_file}, \\tparent dir=> {my_file.parent}\") #Returns the parent directory.\n"
   ]
  },
  {
   "cell_type": "code",
   "execution_count": 186,
   "id": "294d9419",
   "metadata": {},
   "outputs": [
    {
     "name": "stdout",
     "output_type": "stream",
     "text": [
      "File path: C:\\demo_testfile\\AAA.txt\n",
      "C:\\demo_testfile\n",
      "C:\\demo_testfile\n"
     ]
    }
   ],
   "source": [
    "print(f'File path: {my_file}')\n",
    "print(my_file.parent.absolute()) #show the parent path of the file\n",
    "print(my_file.absolute().parent) #show the parent path of the file"
   ]
  },
  {
   "cell_type": "markdown",
   "id": "a16dca4e",
   "metadata": {},
   "source": [
    "##### - `Path.parents`:\n",
    "is a sequence of all ancestors, indexed from the immediate parent upward. Returns all parent directories as a list.\n"
   ]
  },
  {
   "cell_type": "code",
   "execution_count": 194,
   "id": "19086e09",
   "metadata": {},
   "outputs": [
    {
     "name": "stdout",
     "output_type": "stream",
     "text": [
      "File path: C:\\demo_testfile\\AAA.txt\n",
      "C:\\demo_testfile\n",
      "C:\\\n"
     ]
    }
   ],
   "source": [
    "#get the Nth parent folder\n",
    "print(f'File path: {my_file}')\n",
    "print(my_file.parents[0]) # parent of file\n",
    "print(my_file.parents[1]) #the root of the file"
   ]
  },
  {
   "cell_type": "code",
   "execution_count": 201,
   "id": "09fb4d53",
   "metadata": {},
   "outputs": [
    {
     "name": "stdout",
     "output_type": "stream",
     "text": [
      "File path: C:\\demo_testfile\\test\\AAA.txt\n",
      "sub-directory index: 3\n",
      "C:\\demo_testfile\\test\n",
      "C:\\demo_testfile\n",
      "C:\\\n"
     ]
    }
   ],
   "source": [
    "my_file2=Path(r\"C:\\demo_testfile\\test\\AAA.txt\")\n",
    "print(f'File path: {my_file2}')\n",
    "\n",
    "print(my_file2.parents[0]) # parent of file\n",
    "print(my_file2.parents[1]) #the parent of directory\n",
    "print(my_file2.parents[2]) #the root of the file"
   ]
  },
  {
   "cell_type": "code",
   "execution_count": 209,
   "id": "02621866",
   "metadata": {},
   "outputs": [
    {
     "name": "stdout",
     "output_type": "stream",
     "text": [
      "File path: C:\\demo_testfile\\test\\AAA.txt\n",
      "#####################Method1######################\n",
      "Total parent levels: 3\n",
      "#####################Method2######################\n",
      "Parent 0: C:\\demo_testfile\\test\n",
      "Parent 1: C:\\demo_testfile\n",
      "Parent 2: C:\\\n"
     ]
    }
   ],
   "source": [
    "#determine how many parent levels are available\n",
    "my_file2=Path(r\"C:\\demo_testfile\\test\\AAA.txt\")\n",
    "print(f\"File path: {my_file2}\")\n",
    "\n",
    "print(\"Method1\" .center(50, '#'))\n",
    "print(f\"Total parent levels: {len(my_file2.parents)}\")  # Count available parent levels\n",
    "\n",
    "\n",
    "print(\"Method2\" .center(50, '#'))\n",
    "\n",
    "# Iterate through all available parents\n",
    "for i, parent in enumerate(my_file2.parents):\n",
    "    print(f\"Parent {i}: {parent}\")"
   ]
  },
  {
   "cell_type": "markdown",
   "id": "13d7808c",
   "metadata": {},
   "source": [
    "<a id='6.3startswith_endswith'></a>\n",
    "#### 6.3 startswith() and endswith(): \n",
    "In pathlib you can use the attribute as above, however the alternative method you can use `startswith` or `endswith` string methods, that are commonly use with os.path when filtering files by extension or prefix. \n",
    "\n",
    "> - startswith(): file substring/suffix starts with a specific string\n",
    "> - endswith(): file substring/suffix ends with a specific string"
   ]
  },
  {
   "cell_type": "markdown",
   "id": "76456700",
   "metadata": {},
   "source": [
    "##### - `startswith('directory/file')`:\n",
    "Checks if a filename ends with a specific extension and return True is find, else return False\n"
   ]
  },
  {
   "cell_type": "code",
   "execution_count": 134,
   "id": "18b7ab8d",
   "metadata": {},
   "outputs": [
    {
     "name": "stdout",
     "output_type": "stream",
     "text": [
      "check file startswith : True\n",
      "check directory startswith : True\n"
     ]
    }
   ],
   "source": [
    "filename_check='index.html'\n",
    "dir_check='test'\n",
    "print(f\"check file startswith : {filename_check.startswith('index')}\")\n",
    "print(f\"check directory startswith : {dir_check.startswith('tes')}\")"
   ]
  },
  {
   "cell_type": "markdown",
   "id": "37f2fdd6",
   "metadata": {},
   "source": [
    "##### - `endswith('directory/file|')`:\n",
    "Checks if a filename starts with a specific prefix and return True is find, else return False\n"
   ]
  },
  {
   "cell_type": "code",
   "execution_count": 135,
   "id": "c1b9c0b8",
   "metadata": {},
   "outputs": [
    {
     "name": "stdout",
     "output_type": "stream",
     "text": [
      "check file endswith : True\n",
      "check directory endswith : True\n"
     ]
    }
   ],
   "source": [
    "filename_check='index.html'\n",
    "dir_check='test'\n",
    "print(f\"check file endswith : {filename_check.endswith('.html')}\")\n",
    "print(f\"check directory endswith : {dir_check.endswith('')}\")"
   ]
  },
  {
   "cell_type": "code",
   "execution_count": 212,
   "id": "e410f72e",
   "metadata": {},
   "outputs": [
    {
     "name": "stdout",
     "output_type": "stream",
     "text": [
      "Text file: AAA.txt\n",
      "Text file: hell[o].txt\n",
      "Text file: read.txt\n",
      "Text file: test.txt\n",
      "Text file: testFile1.txt\n"
     ]
    }
   ],
   "source": [
    "path = Path(\"C:/demo_testfile\")\n",
    "\n",
    "for file in path.iterdir():\n",
    "    if file.suffix == \".txt\":  # Equivalent to endswith(\".txt\")\n",
    "        print(f\"Text file: {file.name}\")\n",
    "\n",
    "    if file.name.startswith(\"report_\"):\n",
    "        print(f\"Report file: {file.name}\")"
   ]
  },
  {
   "cell_type": "markdown",
   "id": "d8edd9ea",
   "metadata": {},
   "source": [
    "<a id='7.matchingFileGlob'></a> \n",
    "### 7. Matching Pattern Files and recursive [🔙](#Part1)"
   ]
  },
  {
   "cell_type": "markdown",
   "id": "1c863930",
   "metadata": {},
   "source": [
    "In this part I will mention a basic of using `glob` or `rglob`, however I will have another note more about the glob and matching file. Please keep in mind `glob.glob` and `Pathlib.glob` are two different module, please keep in mind. \n",
    "\n",
    "\n",
    "**pathlib.glob syntax:**\n",
    "> - pathlib.Path.glob(): Non-Recursive search\n",
    "> - pathlib.Path.rglob(): recursive search\n",
    "> **Return value**\n",
    ">> as generative, which is memory-efficient way to produce a sequence of values.\n",
    ">> `print(new_dir.glob(\"*\")) #<generator object Path.glob at 0x000001B0AD66DA80>`\n",
    "\n",
    "**Wildcard Pattern:**\n",
    "- `*`: **Wildcards** Matches zero or more characters (e.g., *.txt matches file.txt, notes.txt).\n",
    "    - `*/**`: recusrive searching, match subdirectory \n",
    "- `?`: **Single Character Wildcard** Matches exactly one character (e.g., test?? matches test12, testAB; h?t matches hat, hit, hot).\n",
    "- `[]`: **Character Ranges** Matches any single character inside the brackets (e.g., b[ae]ll matches ball, bell).\n",
    "        - `-`: Specifies a range of characters to match (e.g., [a-z] matches any lowercase letter; b[a-c]d matches bad, bbd, bcd).\n",
    "\n",
    "[Glob Documentation Link](https://docs.python.org/3/library/glob.html)"
   ]
  },
  {
   "cell_type": "markdown",
   "id": "1c4b50a2",
   "metadata": {},
   "source": [
    "#### 7.1 Non-Recursive search "
   ]
  },
  {
   "cell_type": "markdown",
   "id": "b26e3add",
   "metadata": {},
   "source": [
    "##### - `Path.glob(pattern)`"
   ]
  },
  {
   "cell_type": "code",
   "execution_count": 569,
   "id": "f66ba80e",
   "metadata": {},
   "outputs": [
    {
     "name": "stdout",
     "output_type": "stream",
     "text": [
      ".ipynb_checkpoints\n",
      "Basic Guide to Pandas! Tricks, Shortcuts( Python Simplified).ipynb\n",
      "data123\n",
      "DataType\n",
      "done_toremove\n",
      "elog_example\n",
      "hahow_scrap_pandas_mathplot\n",
      "iterate_filter_file.ipynb\n",
      "jupterNote.ipynb\n",
      "newtest\n",
      "numpy.ipynb\n",
      "os.path_reorganize.ipynb\n",
      "Pandas\n",
      "Pathlib Basics(orgainize_final).ipynb\n",
      "Pathlib_reorganize.ipynb\n",
      "test.txt\n",
      "test123\n",
      "testdir1\n",
      "testFile1.txt\n",
      "tmp.ipynb\n",
      "Understanding File Pattern Matching with Glob and Fnmatch.ipynb\n"
     ]
    }
   ],
   "source": [
    "#Iterate over the generator and list all result, * mean all content in current directory\n",
    "for p in Path().glob(\"*\"):\n",
    "    print(p)"
   ]
  },
  {
   "cell_type": "code",
   "execution_count": 575,
   "id": "cbe59369",
   "metadata": {},
   "outputs": [
    {
     "name": "stdout",
     "output_type": "stream",
     "text": [
      ".ipynb_checkpoints\n",
      "Basic Guide to Pandas! Tricks, Shortcuts( Python Simplified).ipynb\n",
      "data123\n",
      "DataType\n",
      "done_toremove\n",
      "elog_example\n",
      "hahow_scrap_pandas_mathplot\n",
      "iterate_filter_file.ipynb\n",
      "jupterNote.ipynb\n",
      "newtest\n",
      "numpy.ipynb\n",
      "os.path_reorganize.ipynb\n",
      "Pandas\n",
      "Pathlib Basics(orgainize_final).ipynb\n",
      "Pathlib_reorganize.ipynb\n",
      "test.txt\n",
      "test123\n",
      "testdir1\n",
      "testFile1.txt\n",
      "tmp.ipynb\n",
      "Understanding File Pattern Matching with Glob and Fnmatch.ipynb\n"
     ]
    }
   ],
   "source": [
    "#list content like just like above \n",
    "new_dir = Path(r\"C:\\demo_testfile\")  #assign specfic path \n",
    "allfiles = current_dir.glob('*')\n",
    "for file in allfiles:\n",
    "    print(file)#"
   ]
  },
  {
   "cell_type": "code",
   "execution_count": 592,
   "id": "358f3d4c",
   "metadata": {},
   "outputs": [
    {
     "name": "stdout",
     "output_type": "stream",
     "text": [
      "###############Filter txt file type###############\n",
      "single file type\n",
      "C:\\demo_testfile\\BBB.txt\n",
      "C:\\demo_testfile\\hell[o].txt\n",
      "C:\\demo_testfile\\read.txt\n",
      "C:\\demo_testfile\\test.txt\n",
      "C:\\demo_testfile\\testFile1.txt\n",
      "############Filter multiple file type#############\n",
      "C:\\demo_testfile\\BBB.txt\n",
      "C:\\demo_testfile\\hell[o].txt\n",
      "C:\\demo_testfile\\read.txt\n",
      "C:\\demo_testfile\\test.txt\n",
      "C:\\demo_testfile\\testFile1.txt\n",
      "C:\\demo_testfile\\ex1.py\n",
      "C:\\demo_testfile\\ex2.py\n",
      "C:\\demo_testfile\\test -copy\n"
     ]
    }
   ],
   "source": [
    "# filter single file type\n",
    "print(\"Filter txt file type\" .center(50, '#')) \n",
    "new_dir = Path(r\"C:\\demo_testfile\")\n",
    "singlefiles = new_dir.glob(\"*.txt\")\n",
    "print('single file type')\n",
    "for p in singlefiles:\n",
    "    print(p)\n",
    "print(\"Filter multiple file type\" .center(50, '#'))   \n",
    "#filter multiple file type:\n",
    "files = list(new_dir.glob(\"*.txt\")) + list(new_dir.glob(\"*py*\"))\n",
    "for p in files:\n",
    "    print(p)"
   ]
  },
  {
   "cell_type": "code",
   "execution_count": 598,
   "id": "c7e88641",
   "metadata": {},
   "outputs": [
    {
     "name": "stdout",
     "output_type": "stream",
     "text": [
      "C:\\demo_testfile\\ex1.py\n",
      "C:\\demo_testfile\\ex2.py\n"
     ]
    }
   ],
   "source": [
    "#Find all files starting with \"data\" in the current directory\n",
    "for file_path in  new_dir.glob(\"ex*\"):\n",
    "    print(file_path) "
   ]
  },
  {
   "cell_type": "code",
   "execution_count": 599,
   "id": "49c4205e",
   "metadata": {},
   "outputs": [
    {
     "name": "stdout",
     "output_type": "stream",
     "text": [
      "C:\\demo_testfile\\ex1.py\n",
      "C:\\demo_testfile\\ex2.py\n"
     ]
    }
   ],
   "source": [
    "# Find all files with a three character filename and the \".py\" extension\n",
    "for single_char_py_files in  new_dir.glob(\"???.py\"):\n",
    "    print(single_char_py_files) "
   ]
  },
  {
   "cell_type": "markdown",
   "id": "8a1ca5a0",
   "metadata": {},
   "source": [
    "#### 7.2 Recursive search "
   ]
  },
  {
   "cell_type": "markdown",
   "id": "682c3024",
   "metadata": {},
   "source": [
    "#### - `Path.rglob(pattern)`\n",
    "Recursively matches file patterns (returns a generator). Example as below\n",
    "```python\n",
    "list(Path.rglob(pattern))# Converts the generator to a list of matches.\n",
    "```\n",
    "> - glob uses `**` within the pattern for recursive searching.\n",
    "> - pathlib uses the `rglob()` method for recursive searching.\n"
   ]
  },
  {
   "cell_type": "code",
   "execution_count": 626,
   "id": "1275d8ba",
   "metadata": {},
   "outputs": [
    {
     "name": "stdout",
     "output_type": "stream",
     "text": [
      "C:\\demo_testfile\\BBB.txt\n",
      "C:\\demo_testfile\\data\n",
      "C:\\demo_testfile\\datanew\n",
      "C:\\demo_testfile\\ex1.py\n",
      "C:\\demo_testfile\\ex2.py\n",
      "C:\\demo_testfile\\hell[o].txt\n",
      "C:\\demo_testfile\\index.html\n",
      "C:\\demo_testfile\\notes\n",
      "C:\\demo_testfile\\page.html\n",
      "C:\\demo_testfile\\read.txt\n",
      "C:\\demo_testfile\\renamefile\n",
      "C:\\demo_testfile\\test\n",
      "C:\\demo_testfile\\test -copy\n",
      "C:\\demo_testfile\\test.txt\n",
      "C:\\demo_testfile\\testFile1.txt\n",
      "C:\\demo_testfile\\data\\copy2_AAA.txt\n",
      "C:\\demo_testfile\\data\\copy2_ex1.py\n",
      "C:\\demo_testfile\\data\\copy2_ex2.py\n",
      "C:\\demo_testfile\\data\\copy2_hell[o].txt\n",
      "C:\\demo_testfile\\data\\copy2_index.html\n",
      "C:\\demo_testfile\\data\\copy2_page.html\n",
      "C:\\demo_testfile\\data\\copy_AAA.txt\n",
      "C:\\demo_testfile\\data\\copy_ex1.py\n",
      "C:\\demo_testfile\\data\\copy_ex2.py\n",
      "C:\\demo_testfile\\data\\copy_file - with - space-1.py\n",
      "C:\\demo_testfile\\data\\copy_file - with - space-1.py.bk\n",
      "C:\\demo_testfile\\data\\copy_hell[o].txt\n",
      "C:\\demo_testfile\\data\\copy_index.html\n",
      "C:\\demo_testfile\\data\\copy_page.html\n",
      "C:\\demo_testfile\\datanew\\copy2_page.html\n",
      "C:\\demo_testfile\\datanew\\copy_page.html\n",
      "C:\\demo_testfile\\notes\\.gitignore\n",
      "C:\\demo_testfile\\notes\\.ipynb_checkpoints\n",
      "C:\\demo_testfile\\notes\\01-intro.ipynb\n",
      "C:\\demo_testfile\\notes\\02-tidy.ipynb\n",
      "C:\\demo_testfile\\notes\\03-merge.ipynb\n",
      "C:\\demo_testfile\\notes\\billboard_ratings.csv\n",
      "C:\\demo_testfile\\notes\\billboard_songs.csv\n",
      "C:\\demo_testfile\\notes\\billboard_songs2023.csv\n",
      "C:\\demo_testfile\\notes\\.ipynb_checkpoints\\01-intro-checkpoint.ipynb\n",
      "C:\\demo_testfile\\notes\\.ipynb_checkpoints\\02-tidy-checkpoint.ipynb\n",
      "C:\\demo_testfile\\renamefile\\.idea\n",
      "C:\\demo_testfile\\renamefile\\data\n",
      "C:\\demo_testfile\\renamefile\\data_copy\n",
      "C:\\demo_testfile\\renamefile\\data_copyfile\n",
      "C:\\demo_testfile\\renamefile\\data_copyfile22\n",
      "C:\\demo_testfile\\renamefile\\file - with - space-1.py.bk\n",
      "C:\\demo_testfile\\renamefile\\.idea\\.gitignore\n",
      "C:\\demo_testfile\\renamefile\\.idea\\inspectionProfiles\n",
      "C:\\demo_testfile\\renamefile\\.idea\\misc.xml\n",
      "C:\\demo_testfile\\renamefile\\.idea\\modules.xml\n",
      "C:\\demo_testfile\\renamefile\\.idea\\renamefile.iml\n",
      "C:\\demo_testfile\\renamefile\\.idea\\workspace.xml\n",
      "C:\\demo_testfile\\renamefile\\.idea\\inspectionProfiles\\profiles_settings.xml\n",
      "C:\\demo_testfile\\renamefile\\data\\copy2_file - with - space-1.py\n",
      "C:\\demo_testfile\\renamefile\\data\\copy2_file - with - space-1.py.bk\n",
      "C:\\demo_testfile\\renamefile\\data\\copy_file - with - space-1.py\n",
      "C:\\demo_testfile\\renamefile\\data\\copy_file - with - space-1.py.bk\n",
      "C:\\demo_testfile\\renamefile\\data_copy\\copy2_file - with - space-1.py\n",
      "C:\\demo_testfile\\renamefile\\data_copy\\copy2_file - with - space-1.py.bk\n",
      "C:\\demo_testfile\\renamefile\\data_copy\\copy_file - with - space-1.py\n",
      "C:\\demo_testfile\\renamefile\\data_copy\\copy_file - with - space-1.py.bk\n",
      "C:\\demo_testfile\\renamefile\\data_copyfile22\\file - with - space-1.py\n",
      "C:\\demo_testfile\\test\\1.txt\n",
      "C:\\demo_testfile\\test\\2.txt\n",
      "C:\\demo_testfile\\test\\data\n",
      "C:\\demo_testfile\\test\\data\\billboard.csv\n",
      "C:\\demo_testfile\\test\\data\\concat_1.csv\n",
      "C:\\demo_testfile\\test\\data\\concat_2.csv\n",
      "C:\\demo_testfile\\test\\data\\concat_3.csv\n",
      "C:\\demo_testfile\\test\\data\\country_timeseries.csv\n",
      "C:\\demo_testfile\\test\\data\\gapminder.tsv\n",
      "C:\\demo_testfile\\test\\data\\intro.ipynb\n",
      "C:\\demo_testfile\\test\\data\\pew.csv\n",
      "C:\\demo_testfile\\test\\data\\survey_person.csv\n",
      "C:\\demo_testfile\\test\\data\\survey_site.csv\n",
      "C:\\demo_testfile\\test\\data\\survey_survey.csv\n",
      "C:\\demo_testfile\\test\\data\\survey_visited.csv\n",
      "C:\\demo_testfile\\test\\data\\weather.csv\n",
      "C:\\demo_testfile\\test -copy\\1.txt\n",
      "C:\\demo_testfile\\test -copy\\2.txt\n",
      "C:\\demo_testfile\\test -copy\\data\n",
      "C:\\demo_testfile\\test -copy\\data\\billboard.csv\n",
      "C:\\demo_testfile\\test -copy\\data\\concat_1.csv\n",
      "C:\\demo_testfile\\test -copy\\data\\concat_2.csv\n",
      "C:\\demo_testfile\\test -copy\\data\\concat_3.csv\n",
      "C:\\demo_testfile\\test -copy\\data\\country_timeseries.csv\n",
      "C:\\demo_testfile\\test -copy\\data\\gapminder.tsv\n",
      "C:\\demo_testfile\\test -copy\\data\\intro.ipynb\n",
      "C:\\demo_testfile\\test -copy\\data\\pew.csv\n",
      "C:\\demo_testfile\\test -copy\\data\\survey_person.csv\n",
      "C:\\demo_testfile\\test -copy\\data\\survey_site.csv\n",
      "C:\\demo_testfile\\test -copy\\data\\survey_survey.csv\n",
      "C:\\demo_testfile\\test -copy\\data\\survey_visited.csv\n",
      "C:\\demo_testfile\\test -copy\\data\\weather.csv\n"
     ]
    }
   ],
   "source": [
    "#search throught all subdirectory \n",
    "for p in testdirectory.rglob(\"*\"):\n",
    "    print(p)"
   ]
  },
  {
   "cell_type": "code",
   "execution_count": 609,
   "id": "17cc62c5",
   "metadata": {},
   "outputs": [
    {
     "name": "stdout",
     "output_type": "stream",
     "text": [
      "C:\\demo_testfile\\notes\\billboard_ratings.csv\n",
      "C:\\demo_testfile\\notes\\billboard_songs.csv\n",
      "C:\\demo_testfile\\notes\\billboard_songs2023.csv\n",
      "C:\\demo_testfile\\test\\data\\billboard.csv\n",
      "C:\\demo_testfile\\test\\data\\concat_1.csv\n",
      "C:\\demo_testfile\\test\\data\\concat_2.csv\n",
      "C:\\demo_testfile\\test\\data\\concat_3.csv\n",
      "C:\\demo_testfile\\test\\data\\country_timeseries.csv\n",
      "C:\\demo_testfile\\test\\data\\pew.csv\n",
      "C:\\demo_testfile\\test\\data\\survey_person.csv\n",
      "C:\\demo_testfile\\test\\data\\survey_site.csv\n",
      "C:\\demo_testfile\\test\\data\\survey_survey.csv\n",
      "C:\\demo_testfile\\test\\data\\survey_visited.csv\n",
      "C:\\demo_testfile\\test\\data\\weather.csv\n",
      "C:\\demo_testfile\\test -copy\\data\\billboard.csv\n",
      "C:\\demo_testfile\\test -copy\\data\\concat_1.csv\n",
      "C:\\demo_testfile\\test -copy\\data\\concat_2.csv\n",
      "C:\\demo_testfile\\test -copy\\data\\concat_3.csv\n",
      "C:\\demo_testfile\\test -copy\\data\\country_timeseries.csv\n",
      "C:\\demo_testfile\\test -copy\\data\\pew.csv\n",
      "C:\\demo_testfile\\test -copy\\data\\survey_person.csv\n",
      "C:\\demo_testfile\\test -copy\\data\\survey_site.csv\n",
      "C:\\demo_testfile\\test -copy\\data\\survey_survey.csv\n",
      "C:\\demo_testfile\\test -copy\\data\\survey_visited.csv\n",
      "C:\\demo_testfile\\test -copy\\data\\weather.csv\n"
     ]
    }
   ],
   "source": [
    "#recursive sub directory and filter csv file\n",
    "for p in testdirectory.rglob(\"*.csv\"):\n",
    "    print(p)"
   ]
  },
  {
   "cell_type": "code",
   "execution_count": 627,
   "id": "2863141d",
   "metadata": {},
   "outputs": [
    {
     "name": "stdout",
     "output_type": "stream",
     "text": [
      "C:\\demo_testfile\\BBB.txt\n",
      "C:\\demo_testfile\\ex1.py\n",
      "C:\\demo_testfile\\ex2.py\n",
      "C:\\demo_testfile\\hell[o].txt\n",
      "C:\\demo_testfile\\read.txt\n",
      "C:\\demo_testfile\\test.txt\n",
      "C:\\demo_testfile\\testFile1.txt\n",
      "C:\\demo_testfile\\data\\copy2_AAA.txt\n",
      "C:\\demo_testfile\\data\\copy2_ex1.py\n",
      "C:\\demo_testfile\\data\\copy2_ex2.py\n",
      "C:\\demo_testfile\\data\\copy2_hell[o].txt\n",
      "C:\\demo_testfile\\data\\copy_AAA.txt\n",
      "C:\\demo_testfile\\data\\copy_ex1.py\n",
      "C:\\demo_testfile\\data\\copy_ex2.py\n",
      "C:\\demo_testfile\\data\\copy_file - with - space-1.py\n",
      "C:\\demo_testfile\\data\\copy_hell[o].txt\n",
      "C:\\demo_testfile\\renamefile\\data\\copy2_file - with - space-1.py\n",
      "C:\\demo_testfile\\renamefile\\data\\copy_file - with - space-1.py\n",
      "C:\\demo_testfile\\renamefile\\data_copy\\copy2_file - with - space-1.py\n",
      "C:\\demo_testfile\\renamefile\\data_copy\\copy_file - with - space-1.py\n",
      "C:\\demo_testfile\\renamefile\\data_copyfile22\\file - with - space-1.py\n",
      "C:\\demo_testfile\\test\\1.txt\n",
      "C:\\demo_testfile\\test\\2.txt\n",
      "C:\\demo_testfile\\test -copy\\1.txt\n",
      "C:\\demo_testfile\\test -copy\\2.txt\n"
     ]
    }
   ],
   "source": [
    "#multiple pattern         \n",
    "for file_path in testdirectory.rglob(\"*\"):\n",
    "    if file_path.suffix in {\".py\", \".txt\"}:\n",
    "        print(file_path)   "
   ]
  },
  {
   "cell_type": "code",
   "execution_count": 625,
   "id": "4d8ef963",
   "metadata": {},
   "outputs": [
    {
     "name": "stdout",
     "output_type": "stream",
     "text": [
      "c:\\demo_testfile\\BBB.txt\n",
      "c:\\demo_testfile\\datanew\n",
      "c:\\demo_testfile\\ex1.py\n",
      "c:\\demo_testfile\\ex2.py\n",
      "c:\\demo_testfile\\hell[o].txt\n",
      "c:\\demo_testfile\\index.html\n",
      "c:\\demo_testfile\\page.html\n",
      "c:\\demo_testfile\\read.txt\n",
      "c:\\demo_testfile\\test\n",
      "c:\\demo_testfile\\test -copy\n",
      "c:\\demo_testfile\\test.txt\n",
      "c:\\demo_testfile\\testFile1.txt\n",
      "c:\\demo_testfile\\datanew\\copy2_page.html\n",
      "c:\\demo_testfile\\datanew\\copy_page.html\n",
      "c:\\demo_testfile\\test\\1.txt\n",
      "c:\\demo_testfile\\test\\2.txt\n",
      "c:\\demo_testfile\\test -copy\\1.txt\n",
      "c:\\demo_testfile\\test -copy\\2.txt\n"
     ]
    }
   ],
   "source": [
    "# skip specific directory\n",
    "SKIP_DIRS = [\"notes\", \"data\",\"renamefile\"]\n",
    "directory = Path('c:\\demo_testfile')\n",
    "#With a for loop\n",
    "for item in directory.rglob(\"*\"):\n",
    "     if set(item.parts).isdisjoint(SKIP_DIRS):\n",
    "        print(item)"
   ]
  },
  {
   "cell_type": "markdown",
   "id": "57d74628",
   "metadata": {},
   "source": [
    "##### - `**`: Recursive Directory Searching \n",
    "This is another recursive method using wildcards pattern (`**/*`), which work just like `Path.rglob`."
   ]
  },
  {
   "cell_type": "code",
   "execution_count": 604,
   "id": "8d97c856",
   "metadata": {},
   "outputs": [
    {
     "name": "stdout",
     "output_type": "stream",
     "text": [
      "C:\\demo_testfile\\notes\\billboard_ratings.csv\n",
      "C:\\demo_testfile\\notes\\billboard_songs.csv\n",
      "C:\\demo_testfile\\notes\\billboard_songs2023.csv\n",
      "C:\\demo_testfile\\test\\data\\billboard.csv\n",
      "C:\\demo_testfile\\test\\data\\concat_1.csv\n",
      "C:\\demo_testfile\\test\\data\\concat_2.csv\n",
      "C:\\demo_testfile\\test\\data\\concat_3.csv\n",
      "C:\\demo_testfile\\test\\data\\country_timeseries.csv\n",
      "C:\\demo_testfile\\test\\data\\pew.csv\n",
      "C:\\demo_testfile\\test\\data\\survey_person.csv\n",
      "C:\\demo_testfile\\test\\data\\survey_site.csv\n",
      "C:\\demo_testfile\\test\\data\\survey_survey.csv\n",
      "C:\\demo_testfile\\test\\data\\survey_visited.csv\n",
      "C:\\demo_testfile\\test\\data\\weather.csv\n",
      "C:\\demo_testfile\\test -copy\\data\\billboard.csv\n",
      "C:\\demo_testfile\\test -copy\\data\\concat_1.csv\n",
      "C:\\demo_testfile\\test -copy\\data\\concat_2.csv\n",
      "C:\\demo_testfile\\test -copy\\data\\concat_3.csv\n",
      "C:\\demo_testfile\\test -copy\\data\\country_timeseries.csv\n",
      "C:\\demo_testfile\\test -copy\\data\\pew.csv\n",
      "C:\\demo_testfile\\test -copy\\data\\survey_person.csv\n",
      "C:\\demo_testfile\\test -copy\\data\\survey_site.csv\n",
      "C:\\demo_testfile\\test -copy\\data\\survey_survey.csv\n",
      "C:\\demo_testfile\\test -copy\\data\\survey_visited.csv\n",
      "C:\\demo_testfile\\test -copy\\data\\weather.csv\n"
     ]
    }
   ],
   "source": [
    "for fileref in Path('C:/demo_testfile/').glob('**/*.csv'):\n",
    "    filename = str(fileref)\n",
    "    print(filename)"
   ]
  },
  {
   "cell_type": "markdown",
   "id": "666fab24",
   "metadata": {},
   "source": [
    "<a id='Part2'></a> \n",
    "## Part 2 File and Directory Operations  [🔝](#toc)"
   ]
  },
  {
   "cell_type": "markdown",
   "id": "6e6faee2",
   "metadata": {},
   "source": [
    "- [1. Create file/directory](#Create_fileDirectory)\n",
    "    - [1.1 File](#1.1-File)\n",
    "        - `Path().touch()`\n",
    "    - [1.2 Directory](#1.2-Directory)\n",
    "        - `Path().mkdir()`\n",
    "        - `Path().mkdir(exist_ok=True)`\n",
    "        - `Path().mkdir(parents=True, exist_ok=True)`\n",
    "- [2. Remove Directory and File](#RemoveDir_File)\n",
    "    - [2.1 Remove Empty Directory](#2.1-Remove-Empty-Directory)\n",
    "        - `Path.rmdir()`: remove empty directory\n",
    "    - [2.2 Remove non-empty directory](#2.2-Remove-non-empty-directory)\n",
    "        - `shutil.rmtree(path)`: remove non empty directory\n",
    "    - [2.3 Remove File](#2.3-Remove-File) \n",
    "        - `Path.unlink()`\n",
    "        - `send2trash()`:\n",
    "- [3. Copying](#copying)\n",
    "    - [3.1 File](#3.1-File)\n",
    "        - `copy()`: copy file without meta data\n",
    "        - `copy2()`: copy file with meta data\n",
    "        - `stat()`: show file information description\n",
    "    - [3.2 Directory](#3.2-Directory)\n",
    "        - `shutil.copytree(src, dst)`\n",
    "- [4. Rename/moving](#RenameCopying)\n",
    "    - `shutil.rename(src, dst)`:rename file/directory\n",
    "    - `shutil.move(src, dst)`:move file/directory\n",
    "- [5. Read and write file](#ReadwriteFile)\n",
    "    - [5.1 using pathlib](#5.1-using-pathlib)\n",
    "        - `Path().write_text`: write file\n",
    "        - `Path().read_text`: read file\n",
    "    - [5.2 using with built-in](#5.2-using-with-built-in)\n",
    "        - `with open(filename, mode)`: using with built-in read and write"
   ]
  },
  {
   "cell_type": "markdown",
   "id": "3e55e690",
   "metadata": {},
   "source": [
    "<a id='Create_fileDirectory'></a> \n",
    "### 1. Create file/directory [🔙](#Part2)"
   ]
  },
  {
   "cell_type": "markdown",
   "id": "9f83386e",
   "metadata": {},
   "source": [
    "#### 1.1 File "
   ]
  },
  {
   "cell_type": "markdown",
   "id": "f74a8bb0",
   "metadata": {},
   "source": [
    "#### - `Path().touch()`\n",
    "Create an empty file "
   ]
  },
  {
   "cell_type": "code",
   "execution_count": 396,
   "id": "a2e08cc7",
   "metadata": {},
   "outputs": [
    {
     "name": "stdout",
     "output_type": "stream",
     "text": [
      "True\n",
      "testFile.txt\n"
     ]
    }
   ],
   "source": [
    "new_file=Path.cwd()/\"testFile.txt\" \n",
    "new_file.touch()\n",
    "print(new_file.exists())\n",
    "for item in Path().glob(\"*.txt\"):  # Use glob('*') for non-recursive\n",
    "    print(item)"
   ]
  },
  {
   "cell_type": "markdown",
   "id": "6a24dcee",
   "metadata": {},
   "source": [
    "#### 1.2 Directory "
   ]
  },
  {
   "cell_type": "markdown",
   "id": "ffee8ee3",
   "metadata": {},
   "source": [
    "##### - `Path('directoryname').mkdir()`\n",
    "Creates non exist directory at the specified path, if directory exist will occur ERROR. alternative is `os.makedir()`"
   ]
  },
  {
   "cell_type": "code",
   "execution_count": 251,
   "id": "f7eeb2b2",
   "metadata": {},
   "outputs": [],
   "source": [
    "#mkdir method 1:\n",
    "pathdir = Path(\"new\")  # Create a Path object\n",
    "pathdir.mkdir()  # Create directory (if not exists)"
   ]
  },
  {
   "cell_type": "code",
   "execution_count": 259,
   "id": "002f6c68",
   "metadata": {},
   "outputs": [],
   "source": [
    "#or method2\n",
    "newfolder=Path.cwd()/\"new2\" #Creates a directory \n",
    "newfolder.mkdir()"
   ]
  },
  {
   "cell_type": "code",
   "execution_count": 261,
   "id": "748fdcdd",
   "metadata": {},
   "outputs": [
    {
     "name": "stdout",
     "output_type": "stream",
     "text": [
      "[WinError 183] 當檔案已存在時，無法建立該檔案。: 'new'\n"
     ]
    }
   ],
   "source": [
    "#using exception to check directory exist or not\n",
    "filecreate=Path('new')\n",
    "try:\n",
    "    filecreate.mkdir()\n",
    "except FileExistsError as ex:\n",
    "    print(ex)"
   ]
  },
  {
   "cell_type": "code",
   "execution_count": 252,
   "id": "dc887aa8",
   "metadata": {},
   "outputs": [
    {
     "name": "stdout",
     "output_type": "stream",
     "text": [
      "Directory 'new' was created successfully.\n"
     ]
    }
   ],
   "source": [
    "# Check if the directory exists\n",
    "if pathdir.exists() and pathdir.is_dir():\n",
    "    print(f\"Directory '{pathdir}' was created successfully.\")\n",
    "else:\n",
    "    print(f\"Failed to create directory '{pathdir}'.\")"
   ]
  },
  {
   "cell_type": "code",
   "execution_count": 287,
   "id": "d09328dc",
   "metadata": {},
   "outputs": [
    {
     "name": "stdout",
     "output_type": "stream",
     "text": [
      ".ipynb_checkpoints\n",
      "Basic Guide to Pandas! Tricks, Shortcuts( Python Simplified).ipynb\n",
      "DataType\n",
      "done_toremove\n",
      "elog_example\n",
      "hahow_scrap_pandas_mathplot\n",
      "iterate_filter_file.ipynb\n",
      "jupterNote.ipynb\n",
      "numpy.ipynb\n",
      "os.path_reorganize.ipynb\n",
      "Pandas\n",
      "Pathlib Basics(orgainize_final).ipynb\n",
      "Pathlib_reorganize.ipynb\n",
      "test123\n",
      "tmp.ipynb\n",
      "Understanding File Pattern Matching with Glob and Fnmatch.ipynb\n"
     ]
    }
   ],
   "source": [
    "# List all files and folders recursively\n",
    "for item in Path().glob(\"*\"):  # Use glob('*') for non-recursive\n",
    "    print(item)"
   ]
  },
  {
   "cell_type": "markdown",
   "id": "6224025d",
   "metadata": {},
   "source": [
    "##### - `Path('directoryname').mkdir(exist_ok=True)`\n",
    "> - `exist_ok=True`: prevents errors if the directory already exists.\n"
   ]
  },
  {
   "cell_type": "code",
   "execution_count": 255,
   "id": "1e4df952",
   "metadata": {},
   "outputs": [],
   "source": [
    "pathdir = Path(\"new\")  # Create a Path object\n",
    "#since new is create, if you want to create again it need to use exist_ok=True else will occur error\n",
    "pathdir.mkdir(exist_ok=True)  # Create directory (if not exists)"
   ]
  },
  {
   "cell_type": "markdown",
   "id": "c0b2cba6",
   "metadata": {},
   "source": [
    "##### - `Path('directoryname').mkdir(parents=True, exist_ok=True)`\n",
    "- create recursively directory, if parent not exist will raise error, alternative `os.makedirs()`\n",
    "    > - `parents=True`: ensures all missing parent directories are created.\n",
    "    > - `exist_ok=True`:prevents errors if the directory already exists.\n",
    "    "
   ]
  },
  {
   "cell_type": "code",
   "execution_count": 318,
   "id": "6637933c",
   "metadata": {},
   "outputs": [
    {
     "name": "stdout",
     "output_type": "stream",
     "text": [
      "['.ipynb_checkpoints', 'DataType', 'done_toremove', 'elog_example', 'hahow_scrap_pandas_mathplot', 'Pandas', 'test123']\n"
     ]
    }
   ],
   "source": [
    "directory = Path()  # Convert to a Path object\n",
    "directories = [entry.name for entry in directory.iterdir() if entry.is_dir()]\n",
    "directories\n",
    "print(directories)"
   ]
  },
  {
   "cell_type": "code",
   "execution_count": 339,
   "id": "1ee62ef4",
   "metadata": {},
   "outputs": [
    {
     "name": "stdout",
     "output_type": "stream",
     "text": [
      "test123\\emptydir\n",
      "test123\\emptydir\\emptydir2\n"
     ]
    }
   ],
   "source": [
    "path = Path('test123')\n",
    "# Check if there are subdirectories before creation\n",
    "subdirs = [subdir for subdir in path.rglob('*') if subdir.is_dir()]\n",
    "if not subdirs:\n",
    "    print('empty subdirectory')\n",
    "else:\n",
    "    for subdir in subdirs:\n",
    "        print(subdir)"
   ]
  },
  {
   "cell_type": "code",
   "execution_count": 340,
   "id": "13a1bce0",
   "metadata": {},
   "outputs": [
    {
     "name": "stdout",
     "output_type": "stream",
     "text": [
      "\n",
      "After creating subdirectories:\n",
      "test123\\emptydir\n",
      "test123\\emptydir\\emptydir2\n"
     ]
    }
   ],
   "source": [
    "# Create new subdirectories\n",
    "emptysubdir = path / 'emptydir' / 'emptydir2'\n",
    "emptysubdir.mkdir(parents=True, exist_ok=True)\n",
    "\n",
    "# Display subdirectories after creation\n",
    "print(\"\\nAfter creating subdirectories:\")\n",
    "for subdir in path.rglob('*'):\n",
    "    if subdir.is_dir():\n",
    "        print(subdir)"
   ]
  },
  {
   "cell_type": "code",
   "execution_count": 387,
   "id": "df051bb5",
   "metadata": {},
   "outputs": [
    {
     "name": "stdout",
     "output_type": "stream",
     "text": [
      "test123\\emptydir\n",
      "test123\\emptydir\\emptydir2\n",
      "Subdirectory exists now.\n"
     ]
    }
   ],
   "source": [
    "#without storing in list \n",
    "path = Path('test123')\n",
    "found = False  # Track if any subdirectory is found\n",
    "\n",
    "for item in Path('test123').rglob('*'):\n",
    "    if item.is_dir():\n",
    "        print(item)\n",
    "        found = True  # Mark as found\n",
    "  \n",
    "if not found:\n",
    "    print(\"Empty subdirectory\")\n",
    "    emptysubdir = path / 'emptydir' / 'emptydir2'\n",
    "    emptysubdir.mkdir(parents=True, exist_ok=True)\n",
    "                      \n",
    "# After creation, check again\n",
    "if any(item.is_dir() for item in path.rglob('*')):\n",
    "    print(\"Subdirectory exists now.\")\n",
    "else:\n",
    "    print(\"Still no subdirectories.\")    "
   ]
  },
  {
   "cell_type": "markdown",
   "id": "a70e60bf",
   "metadata": {},
   "source": [
    "<a id='RemoveDir_File'></a> \n",
    "### 2. Remove Directory and File [🔙](#Part2)"
   ]
  },
  {
   "cell_type": "markdown",
   "id": "e538d10a",
   "metadata": {},
   "source": [
    "#### 2.1 Remove Empty Directory"
   ]
  },
  {
   "cell_type": "markdown",
   "id": "98a9e7fb",
   "metadata": {},
   "source": [
    "##### - `Path.rmdir()`: \n",
    "Remove **empty directory**, if directory contain file or other directories will raise Error"
   ]
  },
  {
   "cell_type": "code",
   "execution_count": 408,
   "id": "103621b5",
   "metadata": {},
   "outputs": [
    {
     "name": "stdout",
     "output_type": "stream",
     "text": [
      "======check directory exist====\n",
      "True\n",
      "======Remove directory=====\n",
      "False\n"
     ]
    }
   ],
   "source": [
    "# rmdir: remove empty directory \n",
    "newdir=Path.cwd()/'test123'\n",
    "if not newdir.exists(): #if directory not exist create it\n",
    "    newdir.mkdir()\n",
    "print(\"======check directory exist====\")      \n",
    "print(Path('test123').exists())       \n",
    "print(\"======Remove directory=====\")        \n",
    "Path('test123').rmdir()\n",
    "print(Path('test123').exists())"
   ]
  },
  {
   "cell_type": "code",
   "execution_count": 410,
   "id": "b947ce95",
   "metadata": {},
   "outputs": [
    {
     "name": "stdout",
     "output_type": "stream",
     "text": [
      "======Create directory and file=====\n",
      "======check directory and file exist====\n",
      "check dir exist:True\n",
      "check file exist:True\n",
      "======Remove directory=====\n"
     ]
    },
    {
     "ename": "OSError",
     "evalue": "[WinError 145] 目錄不是空的。: 'test123'",
     "output_type": "error",
     "traceback": [
      "\u001b[1;31m---------------------------------------------------------------------------\u001b[0m",
      "\u001b[1;31mOSError\u001b[0m                                   Traceback (most recent call last)",
      "Cell \u001b[1;32mIn[410], line 11\u001b[0m\n\u001b[0;32m      9\u001b[0m \u001b[38;5;28mprint\u001b[39m(\u001b[38;5;124mf\u001b[39m\u001b[38;5;124m'\u001b[39m\u001b[38;5;124mcheck file exist:\u001b[39m\u001b[38;5;132;01m{\u001b[39;00mnewfile\u001b[38;5;241m.\u001b[39mexists()\u001b[38;5;132;01m}\u001b[39;00m\u001b[38;5;124m'\u001b[39m)\n\u001b[0;32m     10\u001b[0m \u001b[38;5;28mprint\u001b[39m(\u001b[38;5;124m\"\u001b[39m\u001b[38;5;124m======Remove directory=====\u001b[39m\u001b[38;5;124m\"\u001b[39m)        \n\u001b[1;32m---> 11\u001b[0m \u001b[43mPath\u001b[49m\u001b[43m(\u001b[49m\u001b[38;5;124;43m'\u001b[39;49m\u001b[38;5;124;43mtest123\u001b[39;49m\u001b[38;5;124;43m'\u001b[39;49m\u001b[43m)\u001b[49m\u001b[38;5;241;43m.\u001b[39;49m\u001b[43mrmdir\u001b[49m\u001b[43m(\u001b[49m\u001b[43m)\u001b[49m\n",
      "File \u001b[1;32mC:\\ProgramData\\Anaconda3New\\lib\\pathlib.py:1215\u001b[0m, in \u001b[0;36mPath.rmdir\u001b[1;34m(self)\u001b[0m\n\u001b[0;32m   1211\u001b[0m \u001b[38;5;28;01mdef\u001b[39;00m \u001b[38;5;21mrmdir\u001b[39m(\u001b[38;5;28mself\u001b[39m):\n\u001b[0;32m   1212\u001b[0m     \u001b[38;5;124;03m\"\"\"\u001b[39;00m\n\u001b[0;32m   1213\u001b[0m \u001b[38;5;124;03m    Remove this directory.  The directory must be empty.\u001b[39;00m\n\u001b[0;32m   1214\u001b[0m \u001b[38;5;124;03m    \"\"\"\u001b[39;00m\n\u001b[1;32m-> 1215\u001b[0m     \u001b[38;5;28;43mself\u001b[39;49m\u001b[38;5;241;43m.\u001b[39;49m\u001b[43m_accessor\u001b[49m\u001b[38;5;241;43m.\u001b[39;49m\u001b[43mrmdir\u001b[49m\u001b[43m(\u001b[49m\u001b[38;5;28;43mself\u001b[39;49m\u001b[43m)\u001b[49m\n",
      "\u001b[1;31mOSError\u001b[0m: [WinError 145] 目錄不是空的。: 'test123'"
     ]
    }
   ],
   "source": [
    "#check remove non empty directory occur error\n",
    "print(\"======Create directory and file=====\")       \n",
    "newdir=Path.cwd()/'test123'\n",
    "newdir.mkdir()\n",
    "newfile = newdir / 'test.py'  \n",
    "newfile.touch()  # Create the file\n",
    "print(\"======check directory and file exist====\")\n",
    "print(f'check dir exist:{newdir.exists()}')\n",
    "print(f'check file exist:{newfile.exists()}')\n",
    "print(\"======Remove directory=====\")        \n",
    "Path('test123').rmdir()"
   ]
  },
  {
   "cell_type": "code",
   "execution_count": 411,
   "id": "67de216c",
   "metadata": {},
   "outputs": [
    {
     "name": "stdout",
     "output_type": "stream",
     "text": [
      "Error, seem like your directory is not empty\n"
     ]
    }
   ],
   "source": [
    "# adding exception msg to avoid raise error \n",
    "try:\n",
    "    Path('test123').rmdir()\n",
    "except OSError as e:\n",
    "    print('Error, seem like your directory is not empty')"
   ]
  },
  {
   "cell_type": "markdown",
   "id": "3f972867",
   "metadata": {},
   "source": [
    "<a id='copying'></a>\n",
    "#### 2.2 Remove non-empty directory"
   ]
  },
  {
   "cell_type": "markdown",
   "id": "52592e9b",
   "metadata": {},
   "source": [
    "##### - `shutil.rmtree(path)`: \n",
    "From above not able to remove non-empty director. `shutil` allow you to remove **non-empty directories** and their contents (files and subdirectories) **recursively**. It can delete a whole directory tree, regardless of whether it contains files or subdirectories.\n",
    "\n",
    "> - import shutil module: `import shutil`"
   ]
  },
  {
   "cell_type": "code",
   "execution_count": 419,
   "id": "187b03a5",
   "metadata": {},
   "outputs": [
    {
     "name": "stdout",
     "output_type": "stream",
     "text": [
      "C:\\Users\\test\\python_test\\test123\\test.py\n",
      "check dir exist:True\n",
      "check dir exist:False\n"
     ]
    }
   ],
   "source": [
    "import shutil\n",
    "for item in newdir.rglob('*'):\n",
    "    print(item)\n",
    "        \n",
    "print(f'check dir exist:{newdir.exists()}')\n",
    "shutil.rmtree(newdir)\n",
    "print(f'check dir exist:{newdir.exists()}')\n"
   ]
  },
  {
   "cell_type": "markdown",
   "id": "06cff621",
   "metadata": {},
   "source": [
    "#### 2.3 Remove File\n",
    "Delete a file from the filesystem, if the file does not exist, they will raise a `FileNotFoundError`"
   ]
  },
  {
   "cell_type": "markdown",
   "id": "31c49659",
   "metadata": {},
   "source": [
    "#####  - ` Path.unlink()`: \n",
    "only remove **individual files**,is faster and more direct, but offers no recovery option. Alternative is using `os.remove()`. If you want to remove multiple file, please use the add `unlink` into loop or use `shutil`.\n",
    "\n",
    "> - Soft Delete: Moves the file to the Recycle Bin or Trash, allowing for potential recovery\n",
    "> - User-Friendly: Provides a safety net for accidental deletions\n"
   ]
  },
  {
   "cell_type": "code",
   "execution_count": 421,
   "id": "1810befd",
   "metadata": {},
   "outputs": [
    {
     "name": "stdout",
     "output_type": "stream",
     "text": [
      "check file exist: True\n",
      "check file exist: False\n"
     ]
    }
   ],
   "source": [
    "# remove empty file\n",
    "new_file=Path.cwd()/\"testFile.txt\" \n",
    "new_file.touch()\n",
    "print(f'check file exist: {new_file.exists()}')#True\n",
    "new_file.unlink() #pathlib\n",
    "#os.remove(new_file) #os.module\n",
    "print(f'check file exist: {new_file.exists()}')#True"
   ]
  },
  {
   "cell_type": "markdown",
   "id": "f1569d31",
   "metadata": {},
   "source": [
    "#####  - ` send2trash()`: \n",
    "is safer and more user-friendly\n",
    "\n",
    "> - Hard Delete: Permanently removes the file from the system.\n",
    "> - No Recovery: Once deleted, the file cannot be restored.\n",
    "> - Built-in to Python's os module\n",
    "> - install module: ` pip install send2trash`\n",
    "> - module: `import send2trash as s2t`"
   ]
  },
  {
   "cell_type": "code",
   "execution_count": 8,
   "id": "81eaf98b",
   "metadata": {},
   "outputs": [
    {
     "data": {
      "text/plain": [
       "['AAA.txt',\n",
       " 'data',\n",
       " 'datanew',\n",
       " 'deletefile.txt',\n",
       " 'ex1.py',\n",
       " 'ex2.py',\n",
       " 'hell[o].txt',\n",
       " 'index.html',\n",
       " 'notes',\n",
       " 'page.html',\n",
       " 'read.txt',\n",
       " 'renamefile',\n",
       " 'test',\n",
       " 'test -copy',\n",
       " 'test.txt',\n",
       " 'testFile1.txt']"
      ]
     },
     "execution_count": 8,
     "metadata": {},
     "output_type": "execute_result"
    }
   ],
   "source": [
    "import os, time\n",
    "from pathlib import Path\n",
    "import send2trash as s2t\n",
    "new_file=Path(r'C:\\\\demo_testfile\\\\deletefile.txt')\n",
    "new_file.touch()\n",
    "os.listdir(new_file.parent)"
   ]
  },
  {
   "cell_type": "code",
   "execution_count": 9,
   "id": "4ea49574",
   "metadata": {},
   "outputs": [
    {
     "name": "stdout",
     "output_type": "stream",
     "text": [
      "Job Done\n"
     ]
    },
    {
     "data": {
      "text/plain": [
       "['AAA.txt',\n",
       " 'data',\n",
       " 'datanew',\n",
       " 'ex1.py',\n",
       " 'ex2.py',\n",
       " 'hell[o].txt',\n",
       " 'index.html',\n",
       " 'notes',\n",
       " 'page.html',\n",
       " 'read.txt',\n",
       " 'renamefile',\n",
       " 'test',\n",
       " 'test -copy',\n",
       " 'test.txt',\n",
       " 'testFile1.txt']"
      ]
     },
     "execution_count": 9,
     "metadata": {},
     "output_type": "execute_result"
    }
   ],
   "source": [
    "# delete single file\n",
    "import send2trash as s2t\n",
    "try:\n",
    "    s2t.send2trash(new_file)\n",
    "    print ('Job Done')\n",
    "except:\n",
    "    print('Can\\'t delete that file')\n",
    "os.listdir(new_file.parent)"
   ]
  },
  {
   "cell_type": "code",
   "execution_count": null,
   "id": "04290bdd",
   "metadata": {},
   "outputs": [],
   "source": [
    "#search specfic file and delete \n",
    "target ='C:\\\\demo_testfile'\n",
    "\n",
    "for x in os.listdir(target):\n",
    "    if x.endswith('.css'):\n",
    "        #need to spefic full path\n",
    "        s2t.send2trash(target + x)"
   ]
  },
  {
   "cell_type": "markdown",
   "id": "75766aa9",
   "metadata": {},
   "source": [
    "<a id='copying'></a>\n",
    "### 3. Copying [🔙](#Part2)"
   ]
  },
  {
   "cell_type": "markdown",
   "id": "924f6493",
   "metadata": {},
   "source": [
    "#### 3.1 File\n",
    "Copies file to a new location"
   ]
  },
  {
   "cell_type": "markdown",
   "id": "2bd16629",
   "metadata": {},
   "source": [
    "> - `copy` or `copy1()`: single file \n",
    "Copies **only the file's content**. It creates a new file at the destination with **default metadata** (e.g., current timestamp, default permissions). \n",
    ">> ex: `shutil.copy(\"source.txt\", \"destination.txt\")`\n",
    "\n",
    ">  - `copy2`: single file with metadata (timestamps, permissions)\n",
    "Copies **both the content and metadata** of the file. The destination file will **retain the same timestamps, permissions, and ownership** as the original file.\n",
    ">> ex: `shutil.copy2(\"source.txt\", \"destination.txt\")`\n",
    "\n",
    "> - `os.stat`\n",
    "check **metadeta** of file information"
   ]
  },
  {
   "cell_type": "code",
   "execution_count": 423,
   "id": "5ea8de4a",
   "metadata": {},
   "outputs": [
    {
     "name": "stdout",
     "output_type": "stream",
     "text": [
      "C:\\demo_testfile\\renamefile\\file - with - space-1.py\n",
      "File: file - with - space-1.py\n",
      "  Original Modified Time: 1736910459.6833546\n",
      "  Copy Modified Time:     1740037415.2194378\n",
      "  Copy2 Modified Time:    1736910459.6833546\n",
      "\n",
      "C:\\demo_testfile\\renamefile\\file - with - space-1.py.bk\n",
      "File: file - with - space-1.py.bk\n",
      "  Original Modified Time: 1736910459.6833546\n",
      "  Copy Modified Time:     1740037415.229438\n",
      "  Copy2 Modified Time:    1736910459.6833546\n",
      "\n"
     ]
    }
   ],
   "source": [
    "path=Path(r'C:\\demo_testfile\\renamefile')\n",
    "datadir= path / 'data'\n",
    "# Create the data directory if it doesn't exist\n",
    "if not datadir.exists():\n",
    "    datadir.mkdir(exist_ok=True)\n",
    "    \n",
    "for file in os.listdir(path):\n",
    "    # Skip unwanted files or directories\n",
    "    if file in ['__pycache__', 'data','.idea']:\n",
    "        continue \n",
    "    # Full path to the source file\n",
    "    source_file = path / file\n",
    "    print(source_file) #C:\\demo_testfile\\renamefile\\file....\n",
    "    if source_file.is_file():\n",
    "        # Paths for copied files\n",
    "        copy_path = datadir / f\"copy_{file}\"\n",
    "        copy2_path = datadir / f\"copy2_{file}\"\n",
    "        \n",
    "    # Copy the file\n",
    "    shutil.copy(source_file, copy_path)  # Copy without metadata\n",
    "    shutil.copy2(source_file, copy2_path)  # Copy with metadata\n",
    "    \n",
    "    #print(f\"Copied {source_file} to {copy_path} and {copy2_path}\")\n",
    "\n",
    "    # Display timestamps using os.stat\n",
    "    original_stats = os.stat(source_file)\n",
    "    copy_stats = os.stat(copy_path)\n",
    "    copy2_stats = os.stat(copy2_path)\n",
    "\n",
    "    print(f\"File: {file}\")\n",
    "    print(f\"  Original Modified Time: {original_stats.st_mtime}\")\n",
    "    print(f\"  Copy Modified Time:     {copy_stats.st_mtime}\")\n",
    "    print(f\"  Copy2 Modified Time:    {copy2_stats.st_mtime}\")\n",
    "    print()"
   ]
  },
  {
   "cell_type": "markdown",
   "id": "e3d4e773",
   "metadata": {},
   "source": [
    "#### - `stat()`\n",
    "check file detail "
   ]
  },
  {
   "cell_type": "code",
   "execution_count": 425,
   "id": "d3962f81",
   "metadata": {},
   "outputs": [
    {
     "name": "stdout",
     "output_type": "stream",
     "text": [
      "File: copy2_file - with - space-1.py\n",
      "File stat: os.stat_result(st_mode=33206, st_ino=43347146413752563, st_dev=4271817228, st_nlink=1, st_uid=0, st_gid=0, st_size=14, st_atime=1740037620, st_mtime=1736910459, st_ctime=1737699389)\n",
      "File: copy2_file - with - space-1.py.bk\n",
      "File stat: os.stat_result(st_mode=33206, st_ino=39125021763269030, st_dev=4271817228, st_nlink=1, st_uid=0, st_gid=0, st_size=14, st_atime=1740037620, st_mtime=1736910459, st_ctime=1737699389)\n",
      "File: copy_file - with - space-1.py\n",
      "File stat: os.stat_result(st_mode=33206, st_ino=25051272927612597, st_dev=4271817228, st_nlink=1, st_uid=0, st_gid=0, st_size=14, st_atime=1740037620, st_mtime=1740037620, st_ctime=1737699389)\n",
      "File: copy_file - with - space-1.py.bk\n",
      "File stat: os.stat_result(st_mode=33206, st_ino=18014398509968944, st_dev=4271817228, st_nlink=1, st_uid=0, st_gid=0, st_size=14, st_atime=1740037620, st_mtime=1740037620, st_ctime=1737699389)\n"
     ]
    }
   ],
   "source": [
    "copypath=Path(r'C:\\demo_testfile\\renamefile\\data')\n",
    "for file in copypath.iterdir():\n",
    "    if file.is_file():\n",
    "        print(f\"File: {file.name}\")\n",
    "        print(f\"File stat: {file.stat()}\")"
   ]
  },
  {
   "cell_type": "code",
   "execution_count": 526,
   "id": "4675583a",
   "metadata": {},
   "outputs": [
    {
     "name": "stdout",
     "output_type": "stream",
     "text": [
      "os.stat_result(st_mode=16895, st_ino=75435293758701416, st_dev=4271817228, st_nlink=1, st_uid=0, st_gid=0, st_size=4096, st_atime=1740104578, st_mtime=1740104577, st_ctime=1733472133)\n",
      "2025-02-21 10:22:57.535324\n"
     ]
    }
   ],
   "source": [
    "#convert the time to readable\n",
    "file= Path('C:\\demo_testfile')\n",
    "filestat=file.stat()\n",
    "print(filestat)\n",
    "\n",
    "# converts the st_mtime (modification time) from a Unix timestamp to a human-readable local time format\n",
    "from datetime import datetime\n",
    "convertime=datetime.fromtimestamp(filestat.st_mtime) #locatime\n",
    "print(convertime)"
   ]
  },
  {
   "cell_type": "markdown",
   "id": "19aa4c09",
   "metadata": {},
   "source": [
    "#### 3.2 Directory"
   ]
  },
  {
   "cell_type": "markdown",
   "id": "17313df8",
   "metadata": {},
   "source": [
    "##### - `shutil.copytree(src, dst)`\n",
    "Copy directories (including all files & subdirectories)"
   ]
  },
  {
   "cell_type": "code",
   "execution_count": 442,
   "id": "dd805c3c",
   "metadata": {},
   "outputs": [
    {
     "name": "stdout",
     "output_type": "stream",
     "text": [
      "['.idea', 'data', 'data_copy']\n"
     ]
    },
    {
     "data": {
      "text/plain": [
       "WindowsPath('C:/demo_testfile/renamefile/data_copy')"
      ]
     },
     "execution_count": 442,
     "metadata": {},
     "output_type": "execute_result"
    }
   ],
   "source": [
    "path=Path(r'C:\\demo_testfile\\renamefile')\n",
    "# Create the data directory if it doesn't exist\n",
    "if path.exists():\n",
    "    directories = [entry.name for entry in path.iterdir() if entry.is_dir()]\n",
    "    print(directories)\n",
    "else: \n",
    "    print('directory not exist')\n",
    "    path.mkdir(exist_ok=True)\n",
    "    \n",
    "    \n",
    "copydatadir = path / 'data_copy'\n",
    "shutil.copytree(path/'data', copydatadir)\n",
    "\n",
    "#if folder exist remove it\n",
    "# if copydatadir.exists():\n",
    "#     shutil.rmtree(copydatadir)  # Remove existing directory first"
   ]
  },
  {
   "cell_type": "markdown",
   "id": "1c8830e6",
   "metadata": {},
   "source": [
    "<a id='RenameCopying'></a>\n",
    "### 4. Rename/moving [🔙](#Part2)"
   ]
  },
  {
   "cell_type": "markdown",
   "id": "c49b1660",
   "metadata": {},
   "source": [
    "##### - `shutil.rename(src, dst)`\n",
    "Renames a file or directory, it can move directories across filesystems, unlike os.rename()"
   ]
  },
  {
   "cell_type": "markdown",
   "id": "3e67020e",
   "metadata": {},
   "source": [
    "##### - `shutil.move(src, dst)` \n",
    "for moving files/directories across filesystems (copies first, then deletes)."
   ]
  },
  {
   "cell_type": "code",
   "execution_count": 461,
   "id": "e70f7e4a",
   "metadata": {},
   "outputs": [
    {
     "name": "stdout",
     "output_type": "stream",
     "text": [
      "C:\\demo_testfile\\renamefile\\file - with - space-1.py\n",
      "C:\\demo_testfile\\renamefile\\data_copyfile22\n"
     ]
    }
   ],
   "source": [
    "import shutil\n",
    "from pathlib import Path\n",
    "\n",
    "base_path = Path(r\"C:\\demo_testfile\\renamefile\")  # Your base directory\n",
    "data_path = base_path / \"data_copyfile22\"  # Target \"data\" directory inside renamefile\n",
    "\n",
    "if not data_path.exists():\n",
    "    data_path.mkdir()\n",
    "    \n",
    "    \n",
    "for file in os.listdir(base_path):\n",
    "    #if file  =='__pycache__' or file=='data': #ignore this file. amd print rest\n",
    "    if file in ['__pycache__', 'data','.idea']:\n",
    "        continue \n",
    "    if file.endswith('.py'):     \n",
    "        full_file_path = base_path / file  # Convert to full path\n",
    "        shutil.move(str(full_file_path), str(data_path))  # Move the file"
   ]
  },
  {
   "cell_type": "code",
   "execution_count": 467,
   "id": "cb664e82",
   "metadata": {},
   "outputs": [
    {
     "data": {
      "text/plain": [
       "'C:\\\\demo_testfile\\\\renamefile\\\\data_copyfile22\\\\file - with - space-1.py'"
      ]
     },
     "execution_count": 467,
     "metadata": {},
     "output_type": "execute_result"
    }
   ],
   "source": [
    "#move file back to original place\n",
    "base_path = Path(r\"C:\\demo_testfile\\renamefile\")\n",
    "data_path = base_path / \"data_copyfile22\"\n",
    "file_name = \"file - with - space-1.py\"\n",
    "\n",
    "# Move file up one level\n",
    "shutil.move(str(data_path / file_name), str(base_path))\n",
    "\n",
    "# Undo move: Move it back into \"data_copyfile22\"\n",
    "shutil.move(str(base_path / file_name), str(data_path))"
   ]
  },
  {
   "cell_type": "markdown",
   "id": "82383e8a",
   "metadata": {},
   "source": [
    "<a id='ReadwriteFile'></a>\n",
    "### 5. Read and write file [🔙](#Part2)\n",
    "\n",
    "you can use either with pathlib `write_text`, `read_text`, or use `with` built-in. If you use os.path then with is better choice. "
   ]
  },
  {
   "cell_type": "markdown",
   "id": "52cae1e6",
   "metadata": {},
   "source": [
    "#### 5.1 using pathlib \n",
    "if the file does not exist, it will be created automatically. If the file exists, it will be overwritten."
   ]
  },
  {
   "cell_type": "markdown",
   "id": "cf16e043",
   "metadata": {},
   "source": [
    "##### - `Path().write_text`: write file\n",
    "##### - `Path().read_text`: read file"
   ]
  },
  {
   "cell_type": "code",
   "execution_count": 486,
   "id": "3ed83d00",
   "metadata": {},
   "outputs": [
    {
     "name": "stdout",
     "output_type": "stream",
     "text": [
      "Hello\n"
     ]
    }
   ],
   "source": [
    "#write and read pathlib\n",
    "new_file=Path.cwd()/\"testFile1.txt\" \n",
    "\n",
    "#read and write using pathlib\n",
    "#write file\n",
    "new_file.write_text(\"Hello\")\n",
    "#read file\n",
    "print(new_file.read_text())"
   ]
  },
  {
   "cell_type": "markdown",
   "id": "44d26481",
   "metadata": {},
   "source": [
    "#### 5.2 using with built-in"
   ]
  },
  {
   "cell_type": "markdown",
   "id": "961374cf",
   "metadata": {},
   "source": [
    "##### - `with open(filename, mode) ` using with built-in\n",
    "\n",
    "> Mode:\n",
    ">> - `r`: read as default\n",
    ">> - `w` for write: Overwrites the file if it exists, creates new if it doesn't.\n",
    ">> - `a` for append: Opens file for writing, keeps existing content, appends new data.\n",
    ">> - `x` for Exclusive Create: Fails if file exists, only creates a new file.\n",
    ">> - `b` for Binary: Used with `rb`, `wb`, etc., for binary files.\n",
    ">> - `+` for read and write: \n",
    "    - `r+`: Read & write (error if file doesn't exist, no overwrite).\n",
    "    - `w+`: Read & write (overwrites file).\n",
    "    - `a+`: Read & append (keeps existing content). "
   ]
  },
  {
   "cell_type": "code",
   "execution_count": 518,
   "id": "980a7b39",
   "metadata": {},
   "outputs": [],
   "source": [
    "# write file \n",
    "with open (new_file, 'w') as file:\n",
    "    file.write('This is test file')"
   ]
  },
  {
   "cell_type": "code",
   "execution_count": 519,
   "id": "61fa8188",
   "metadata": {},
   "outputs": [
    {
     "name": "stdout",
     "output_type": "stream",
     "text": [
      "This is test file\n",
      "This is test file\n",
      "This is test file\n"
     ]
    }
   ],
   "source": [
    "#read\n",
    "#shorter way with read_text\n",
    "print(new_file.read_text())\n",
    "\n",
    "with new_file.open() as file:\n",
    "    print(file.read())\n",
    "with open(new_file, \"r\") as f:\n",
    "    print(f.read())"
   ]
  },
  {
   "cell_type": "code",
   "execution_count": 520,
   "id": "50d62102",
   "metadata": {},
   "outputs": [
    {
     "name": "stdout",
     "output_type": "stream",
     "text": [
      "This is test file\n",
      "This is test file\n"
     ]
    }
   ],
   "source": [
    "# Keeps existing content, adds new content at the end.\n",
    "with open (new_file, 'a') as file:\n",
    "    file.write('\\nThis is test file')\n",
    "print(new_file.read_text())"
   ]
  },
  {
   "cell_type": "markdown",
   "id": "8f4c0158",
   "metadata": {},
   "source": [
    "## Part3 Other Utitlies (optional)"
   ]
  },
  {
   "cell_type": "markdown",
   "id": "25b29cfa",
   "metadata": {},
   "source": [
    "### OS Path Separators"
   ]
  },
  {
   "cell_type": "markdown",
   "id": "968dea11",
   "metadata": {},
   "source": [
    "When using `os.path`, you don’t need to worry about platform-specific path separators, automatically detects the operating system and uses the appropriat separator for the current operating system. However it may cause issues when handling paths from a different OS. \n",
    "\n",
    "- Why should you use this:\n",
    "\n",
    "> **handing path with different OS** : If you're **developing under Linux** and need to **handle Windows paths** or using under window and use handle linux path then you need to use it. \n",
    ">> - **Linux handling Windows paths**: On Linux, os.path uses **`posixpath`**, which might not interpret Windows paths correctly (e.g., backslashes `\\` or drive letters like `C:`).\n",
    ">> - **Windows handling Linux paths**: On Windows, os.path uses **`ntpath`**, which might not handle POSIX-style paths properly (e.g., forward slashes `/`).\n",
    ">> - **Solution**: To handle paths specific to another operating system, you can explicitly use ntpath (for Windows-style paths) or posixpath (for POSIX-style paths) for greater flexibility and accuracy."
   ]
  },
  {
   "cell_type": "markdown",
   "id": "c4c2e7b9",
   "metadata": {},
   "source": [
    "##### - `ntpath.sep`: \n",
    "Represents the default path separator (`\\`).\n",
    "##### - `ntpath.altsep`: \n",
    "Represents an alternative path separator (`/`), which is also supported by Windows."
   ]
  },
  {
   "cell_type": "code",
   "execution_count": 559,
   "id": "743bbb55",
   "metadata": {},
   "outputs": [
    {
     "name": "stdout",
     "output_type": "stream",
     "text": [
      "os.path.sep: \\\n",
      "ntpath.sep \\\n",
      "os.path.altsep: /\n",
      "ntpath.altsep /\n"
     ]
    }
   ],
   "source": [
    "#compare different between os.path and ntpath\n",
    "import ntpath \n",
    "print(\"os.path.sep:\", os.path.sep)\n",
    "print(\"ntpath.sep\", ntpath.sep)\n",
    "print(\"os.path.altsep:\", os.path.altsep)\n",
    "print(\"ntpath.altsep\", ntpath.altsep)"
   ]
  },
  {
   "cell_type": "code",
   "execution_count": 561,
   "id": "ec49ff01",
   "metadata": {},
   "outputs": [
    {
     "name": "stdout",
     "output_type": "stream",
     "text": [
      "ex1.py\n",
      "C:\\\\demo_testfile\n",
      "C:\\\\demo_testfile   ex1.py\n",
      "('C:', '\\\\\\\\demo_testfile')\n"
     ]
    }
   ],
   "source": [
    "import ntpath\n",
    "import posixpath\n",
    "file = r\"C:\\\\demo_testfile\\\\ex1.py\"\n",
    "directory=r\"C:\\\\demo_testfile\\\\notes\"\n",
    "# Gets the filename from the path.\n",
    "print(ntpath.basename(file))\n",
    "#Gets the directory name from the path.\n",
    "print(ntpath.dirname(directory))\n",
    "#Splits the path into head and tail.\n",
    "directory, filename=ntpath.split(file)\n",
    "print(directory, ' ', filename)\n",
    "#Splits the drive and the rest of the path\n",
    "print(ntpath.splitdrive(directory))"
   ]
  },
  {
   "cell_type": "markdown",
   "id": "8d12db93",
   "metadata": {},
   "source": [
    "##### - `ntpath.join`\n",
    "Join path using ntpath"
   ]
  },
  {
   "cell_type": "code",
   "execution_count": 565,
   "id": "725d6029",
   "metadata": {},
   "outputs": [
    {
     "name": "stdout",
     "output_type": "stream",
     "text": [
      "c:\\user\\documents\\file.txt\n",
      "c:\\dir\\subdir\\filename.ext\n",
      "c:dir\\subdir\\filename.ext\n",
      "c:\\dir\\subdir\\filename.ext\n"
     ]
    }
   ],
   "source": [
    "print(ntpath.join(*[\"c:\\\\\", \"user\", \"documents\", \"file.txt\"])) \n",
    "print(ntpath.join('c:\\\\', 'dir', 'subdir', 'filename.ext'))\n",
    "print(ntpath.join('c:', 'dir', 'subdir', 'filename.ext'))#c:dir\\subdir\\filename.ext\n",
    "print(ntpath.join('c:', ntpath.sep, 'dir', 'subdir', 'filename.ext'))# c:\\dir\\subdir\\filename.ext"
   ]
  },
  {
   "cell_type": "code",
   "execution_count": 563,
   "id": "68393266",
   "metadata": {},
   "outputs": [
    {
     "name": "stdout",
     "output_type": "stream",
     "text": [
      "dir/subdir/filename.ext\n",
      "c:/subdir/filename.ext\n",
      "home/test\n"
     ]
    }
   ],
   "source": [
    "print(ntpath.altsep.join(['dir', 'subdir', 'filename.ext']))#dir/subdir/filename.ext\n",
    "print(ntpath.altsep.join(['c:', 'subdir', 'filename.ext']))#c:/subdir/filename.ext\n",
    "print(posixpath.join('home','test'))"
   ]
  },
  {
   "cell_type": "markdown",
   "id": "55df8d2d",
   "metadata": {},
   "source": [
    "### Comparing Files and Directories"
   ]
  },
  {
   "cell_type": "markdown",
   "id": "14104967",
   "metadata": {},
   "source": [
    "#####  - `filecmp.cmp()`:\n",
    "Just checks file metadata (size & modification time). If both match, it considers files identical without reading them(shallow mode, default).This is faster but less accurate."
   ]
  },
  {
   "cell_type": "code",
   "execution_count": 548,
   "id": "f75207c7",
   "metadata": {},
   "outputs": [
    {
     "name": "stdout",
     "output_type": "stream",
     "text": [
      "True\n"
     ]
    }
   ],
   "source": [
    "from pathlib import Path\n",
    "import filecmp\n",
    "\n",
    "path = Path(r'C:\\demo_testfile')\n",
    "file1 = path / 'ex1.py'\n",
    "file2 = path / 'ex2.py'\n",
    "#file1 and file2 are same file you can use md5 to check also\n",
    "print(filecmp.cmp(file1, file2))\n"
   ]
  },
  {
   "cell_type": "code",
   "execution_count": 554,
   "id": "88f1703a",
   "metadata": {},
   "outputs": [
    {
     "name": "stdout",
     "output_type": "stream",
     "text": [
      "C:\\Users\\test\\python_test\n",
      "False\n"
     ]
    }
   ],
   "source": [
    "#current working directory\n",
    "print(Path().cwd())\n",
    "print(filecmp.cmp('testFile1.txt', 'test.txt'))# only use in current directory"
   ]
  },
  {
   "cell_type": "markdown",
   "id": "8ad381df",
   "metadata": {},
   "source": [
    "##### - `filecmp.cmp(..., shallow=False)`: \n",
    "Reads entire content of both files byte-by-byte. If any byte is different, it detects the difference. Slower but more accurate."
   ]
  },
  {
   "cell_type": "code",
   "execution_count": 556,
   "id": "199197ad",
   "metadata": {},
   "outputs": [
    {
     "name": "stdout",
     "output_type": "stream",
     "text": [
      "C:\\Users\\test\\python_test\n",
      "False\n"
     ]
    }
   ],
   "source": [
    "print(Path().cwd())\n",
    "print(filecmp.cmp('testFile1.txt', 'test.txt', shallow=False))# only use in current directory"
   ]
  },
  {
   "cell_type": "markdown",
   "id": "92d833c8",
   "metadata": {},
   "source": [
    "## Summary "
   ]
  },
  {
   "cell_type": "markdown",
   "id": "f83c3813",
   "metadata": {},
   "source": [
    "### List Directory"
   ]
  },
  {
   "cell_type": "code",
   "execution_count": null,
   "id": "3353c926",
   "metadata": {},
   "outputs": [],
   "source": [
    "#list content in current working directory\n",
    "for item in Path().iterdir():  \n",
    "    if item.is_dir():\n",
    "        print(item)\n",
    "        \n",
    "#list all content\n",
    "for item in Path().glob(\"*\"):  \n",
    "    print(item)\n",
    "    \n",
    "#list content with end with txt file\n",
    "for item in Path().glob(\"*.txt\"): \n",
    "    print(item)"
   ]
  },
  {
   "cell_type": "code",
   "execution_count": 535,
   "id": "0cde132a",
   "metadata": {},
   "outputs": [
    {
     "data": {
      "text/plain": [
       "['.ipynb_checkpoints',\n",
       " 'data123',\n",
       " 'DataType',\n",
       " 'done_toremove',\n",
       " 'elog_example',\n",
       " 'hahow_scrap_pandas_mathplot',\n",
       " 'newtest',\n",
       " 'Pandas',\n",
       " 'test123',\n",
       " 'testdir1']"
      ]
     },
     "execution_count": 535,
     "metadata": {},
     "output_type": "execute_result"
    }
   ],
   "source": [
    "#List directory current working directory\n",
    "directories = [entry.name for entry in Path().iterdir() if entry.is_dir()]\n",
    "directories"
   ]
  },
  {
   "cell_type": "code",
   "execution_count": 534,
   "id": "f5dc8d58",
   "metadata": {},
   "outputs": [
    {
     "name": "stdout",
     "output_type": "stream",
     "text": [
      ".ipynb_checkpoints\n",
      "data123\n",
      "DataType\n",
      "done_toremove\n",
      "elog_example\n",
      "hahow_scrap_pandas_mathplot\n",
      "newtest\n",
      "Pandas\n",
      "test123\n",
      "testdir1\n",
      "DataType\\.ipynb_checkpoints\n",
      "DataType\\reports\n",
      "DataType\\reports\\Reports\n",
      "DataType\\reports\\Reports\\REPORTS-in_HERE\n",
      "done_toremove\\.ipynb_checkpoints\n",
      "elog_example\\.ipynb_checkpoints\n",
      "elog_example\\2024_flex\n",
      "elog_example\\excelconvert\n",
      "elog_example\\review\n",
      "elog_example\\2024_flex\\.ipynb_checkpoints\n",
      "elog_example\\excelconvert\\.ipynb_checkpoints\n",
      "elog_example\\review\\.ipynb_checkpoints\n",
      "newtest\\subdir\n",
      "Pandas\\.ipynb_checkpoints\n",
      "Pandas\\notebooks\n",
      "Pandas\\notebooks\\.ipynb_checkpoints\n",
      "Pandas\\notebooks\\data\n",
      "Pandas\\notebooks\\notes\n",
      "Pandas\\notebooks\\notes\\.ipynb_checkpoints\n",
      "test123\\subdir\n",
      "testdir1\\subdir\n",
      "testdir1\\subdir\\emptydir\n"
     ]
    }
   ],
   "source": [
    "#list recusrive(dsubdirectory)\n",
    "subdirs = [subdir for subdir in Path().rglob('*') if subdir.is_dir()]\n",
    "if not subdirs:\n",
    "    print('empty subdirectory')\n",
    "else:\n",
    "    for subdir in subdirs:\n",
    "        print(subdir)"
   ]
  },
  {
   "cell_type": "code",
   "execution_count": 628,
   "id": "9b6d1b61",
   "metadata": {},
   "outputs": [
    {
     "name": "stdout",
     "output_type": "stream",
     "text": [
      "c:\\demo_testfile\\BBB.txt\n",
      "c:\\demo_testfile\\datanew\n",
      "c:\\demo_testfile\\ex1.py\n",
      "c:\\demo_testfile\\ex2.py\n",
      "c:\\demo_testfile\\hell[o].txt\n",
      "c:\\demo_testfile\\index.html\n",
      "c:\\demo_testfile\\page.html\n",
      "c:\\demo_testfile\\read.txt\n",
      "c:\\demo_testfile\\test\n",
      "c:\\demo_testfile\\test -copy\n",
      "c:\\demo_testfile\\test.txt\n",
      "c:\\demo_testfile\\testFile1.txt\n"
     ]
    }
   ],
   "source": [
    "SKIP_DIRS = [\"notes\", \"data\",\"renamefile\"]\n",
    "directory = Path('c:\\demo_testfile')\n",
    "#With a for loop\n",
    "for item in directory.glob(\"*\"):\n",
    "     if set(item.parts).isdisjoint(SKIP_DIRS):\n",
    "         print(item)"
   ]
  },
  {
   "cell_type": "markdown",
   "id": "8d442c25",
   "metadata": {},
   "source": [
    "## Reference\n",
    "- https://builtin.com/software-engineering-perspectives/python-pathlib"
   ]
  },
  {
   "cell_type": "code",
   "execution_count": null,
   "id": "18adb194",
   "metadata": {},
   "outputs": [],
   "source": []
  }
 ],
 "metadata": {
  "kernelspec": {
   "display_name": "Python 3 (ipykernel)",
   "language": "python",
   "name": "python3"
  },
  "language_info": {
   "codemirror_mode": {
    "name": "ipython",
    "version": 3
   },
   "file_extension": ".py",
   "mimetype": "text/x-python",
   "name": "python",
   "nbconvert_exporter": "python",
   "pygments_lexer": "ipython3",
   "version": "3.10.9"
  }
 },
 "nbformat": 4,
 "nbformat_minor": 5
}
