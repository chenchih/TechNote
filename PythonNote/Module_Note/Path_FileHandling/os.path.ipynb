{
 "cells": [
  {
   "cell_type": "markdown",
   "id": "78217409",
   "metadata": {},
   "source": [
    "# Understanding os.path module for path handling"
   ]
  },
  {
   "cell_type": "markdown",
   "id": "9157dd42",
   "metadata": {},
   "source": [
    "Description: This is a Note on path handling using os.path module, which will include:\n",
    "- specific path\n",
    "- access to directory and list down content\n",
    "- checking whether it's a file or directory\n",
    "- File management like rename, remove, create,etc. \n",
    "\n",
    "However this is only for os.path library, which might not cover alot. You can refer another note related Pathlib, which is the extend of os.path, which I think is much easier to use. Both os.module and pathlib can you together, there are some case you might use `os.path`, some case use `pathlib.path`. You can perfer your perference, but there're many more advance skill that I might not cover in these note. I only pick I think might be useful in real time case. "
   ]
  },
  {
   "cell_type": "markdown",
   "id": "c16cbb72",
   "metadata": {},
   "source": [
    "**Structure of Path**\n",
    "\n",
    "This is the example directory I will be using, you can see the hierarchy structure of the directory and files look like"
   ]
  },
  {
   "cell_type": "raw",
   "id": "5a0b5b09",
   "metadata": {},
   "source": [
    "Path example using it:\n",
    "\n",
    "C:.\n",
    "│  ex1.py\n",
    "│  ex2.py\n",
    "│  index.html\n",
    "│  page.html\n",
    "│  read.txt\n",
    "│\n",
    "├─notes\n",
    "│  │  .gitignore\n",
    "│  │  01-intro.ipynb\n",
    "│  │  02-tidy.ipynb\n",
    "│  │  03-merge.ipynb\n",
    "│  │  billboard_ratings.csv\n",
    "│  │  billboard_songs.csv\n",
    "│  │  billboard_songs2023.csv\n",
    "│  │\n",
    "│  └─.ipynb_checkpoints\n",
    "│          01-intro-checkpoint.ipynb\n",
    "│          02-tidy-checkpoint.ipynb\n",
    "│\n",
    "└─test\n",
    "    │  1.txt\n",
    "    │  2.txt\n",
    "    │\n",
    "    └─data\n",
    "            billboard.csv\n",
    "            concat_1.csv\n",
    "            concat_2.csv\n",
    "            concat_3.csv\n",
    "            country_timeseries.csv\n",
    "            gapminder.tsv\n",
    "            intro.ipynb\n",
    "            pew.csv\n",
    "            survey_person.csv\n",
    "            survey_site.csv\n",
    "            survey_survey.csv\n",
    "            survey_visited.csv\n",
    "            weather.csv"
   ]
  },
  {
   "cell_type": "markdown",
   "id": "29f1ea28",
   "metadata": {},
   "source": [
    "<a id='toc'></a>\n",
    "## TOC (Table of Content):\n",
    "* [import module](#library)\n",
    "* [Part 1 Using os.path](#Part1)\n",
    "    - [1. Show current directory path](#1.cwp)\n",
    "    - [2. Path Resolution](#2.PathResolution)\n",
    "    - [3. Access specific path](#3.Access-specific-path)\n",
    "    - [4. Lists entries in a directory]((#4.listDirectory)\n",
    "    - [5. Checking file/directory](#checkFileDir)\n",
    "    - [6. File extension](#6.FileExt)\n",
    "    - [7. Matching Pattern Files and recursive](#7.FileMatching)\n",
    "* [Part 2 ile and Directory Operations](#part2)\n",
    "    - [1. Create directory](#part2_createdir)\n",
    "    - [2. Remove Directory and File](#part2_RemoveDirectoryFile)\n",
    "    - [3. Copying](#part2_Copyingg)\n",
    "    - [4. Rename](#part4-Rename)\n",
    "    - [5. Read and write file](#part2-ReadWriteFile)\n",
    "* [Summary example](#Summary)"
   ]
  },
  {
   "cell_type": "markdown",
   "id": "823aafd2",
   "metadata": {},
   "source": [
    "<a id='library'></a>\n",
    "import module"
   ]
  },
  {
   "cell_type": "code",
   "execution_count": 4,
   "id": "04d01dd5",
   "metadata": {},
   "outputs": [
    {
     "name": "stdout",
     "output_type": "stream",
     "text": [
      "3.10.9\n"
     ]
    }
   ],
   "source": [
    "#import library\n",
    "import os, glob\n",
    "\n",
    "#chekc python version \n",
    "from platform import python_version\n",
    "print(python_version())"
   ]
  },
  {
   "cell_type": "markdown",
   "id": "29ac9e4f",
   "metadata": {},
   "source": [
    "<a id='Part1'></a>\n",
    "## Part 1 Using os.path [🔝](#toc)"
   ]
  },
  {
   "cell_type": "markdown",
   "id": "63eed0f5",
   "metadata": {},
   "source": [
    "- [1.Show current directory path](#1.cwp)\n",
    "    - [1.1 get current directory path](#1.1-get-current-working-directory-path)\n",
    "        - `os.getcwd()`: get current working directory\n",
    "    - [1.2 get default path](#1.2-get-default-path)\n",
    "        - `os.environ.get()`: \n",
    "- [2. Path Resolution](#2.PathResolution)\n",
    "    - [2.1 Get absolute Path](#2.1-Get-absolute-Path)\n",
    "        - `os.path.abspath`: get absolute path\n",
    "- [3. Access specific path](#3.Access-specific-path)\n",
    "    - [3.1 Access specific path](#3.1-Access-specific-path)\n",
    "        - `chdir(): change directory`: change current directory location\n",
    "    - [3.2 Parent Directory Access](#3.2-Parent-Directory-Access)\n",
    "        - `os.path.dirname(path)`: get parent Directory\n",
    "    - [3.3 join path](#3.3-join-path)\n",
    "        - `os.path.join(path1, path2)`: join path with file\n",
    "- [4. Lists entries in a directory](#4.listDirectory)\n",
    "    - `os.listdir(path)`: list directory\n",
    "- [5. Checking file/directory](#checkFileDir)\n",
    "    - `os.path.exists(path)`: check file/directory exist\n",
    "    - `os.path.isfile(path)`: check if file exist\n",
    "    - `os.path.isdir(path)`: check is it directory\n",
    "    - `os.path.isabs(path)` :check is absolute path\n",
    "- [6. file extension](#6.FileExt)\n",
    "    - [6.1 Attribute](#6.1-Attribute)\n",
    "        - `os.path.basename(path)`\n",
    "        - `os.path.splitext(path)`\n",
    "        - `os.path.split(path)`\n",
    "        - `split(os.sep)`\n",
    "        - `os.path.splitdrive(path)`\n",
    "    - [6.2 startswith() and endswith()](#statswith_endswith)\n",
    "        - `startswith()`: file string starts with\n",
    "        - `endswith()`: file string ends with\n",
    "- [7. Matching Pattern Files and recursive](#7.FileMatching)\n",
    "    - `glob.glob()`: search file pattern\n",
    "    - `glob.glob(recursive=True)`: Recursive file matching\n",
    "    - `os.walk()`:Recursive Searching `"
   ]
  },
  {
   "cell_type": "markdown",
   "id": "e1f74e8a",
   "metadata": {},
   "source": [
    "<a id='1.cwp'></a>\n",
    "### 1. Show current working directory path [🔙](#Part1)"
   ]
  },
  {
   "cell_type": "markdown",
   "id": "4c34638c",
   "metadata": {},
   "source": [
    "#### 1.1 get current working directory path"
   ]
  },
  {
   "cell_type": "markdown",
   "id": "f93c0cc3",
   "metadata": {},
   "source": [
    "#### -  `os.getcwd()`: Returns the current working directory as a string."
   ]
  },
  {
   "cell_type": "code",
   "execution_count": 6,
   "id": "fb15ec7c",
   "metadata": {},
   "outputs": [
    {
     "name": "stdout",
     "output_type": "stream",
     "text": [
      "C:\\Users\\test\\python_test\\filehandling\n"
     ]
    }
   ],
   "source": [
    "print(os.getcwd())"
   ]
  },
  {
   "cell_type": "markdown",
   "id": "5296525d",
   "metadata": {},
   "source": [
    "#### 1.2 get default path"
   ]
  },
  {
   "cell_type": "markdown",
   "id": "d65885b6",
   "metadata": {},
   "source": [
    "##### -  `os.environ.get('USERPROFILE')`: Gets the home directory \n",
    "- **Window** use `'USERPROFILE'` for home working directory\n",
    "- **Linux**: use `home` for home working directory"
   ]
  },
  {
   "cell_type": "code",
   "execution_count": 9,
   "id": "ecf7c66a",
   "metadata": {},
   "outputs": [
    {
     "name": "stdout",
     "output_type": "stream",
     "text": [
      "C:\\Users\\test\n"
     ]
    }
   ],
   "source": [
    "print(os.environ.get('USERPROFILE'))"
   ]
  },
  {
   "cell_type": "markdown",
   "id": "b06ef374",
   "metadata": {},
   "source": [
    "<a id='2.PathResolution'></a>\n",
    "### 2. Path Resolution [🔙](#Part1)"
   ]
  },
  {
   "cell_type": "markdown",
   "id": "587a88cd",
   "metadata": {},
   "source": [
    "### 2.1 Get absolute Path"
   ]
  },
  {
   "cell_type": "markdown",
   "id": "93d885fb",
   "metadata": {},
   "source": [
    "#### - `os.path.abspath('path')`: Returns the absolute path as a string. "
   ]
  },
  {
   "cell_type": "code",
   "execution_count": 7,
   "id": "0a0e3c6f",
   "metadata": {},
   "outputs": [
    {
     "name": "stdout",
     "output_type": "stream",
     "text": [
      "C:\\Users\\test\\python_test\\filehandling\n",
      "C:\\Users\\test\\python_test\\filehandling\\my_file.txt\n",
      "C:\\demo_testfile\n"
     ]
    }
   ],
   "source": [
    "#Check path for current working directory\n",
    "print(os.path.abspath('.')) #need to assign you path \n",
    "print(os.path.abspath('my_file.txt')) #get full path of specfic file\n",
    "print(os.path.abspath(r'C:\\demo_testfile'))"
   ]
  },
  {
   "cell_type": "code",
   "execution_count": 24,
   "id": "7d5e85fb",
   "metadata": {},
   "outputs": [
    {
     "name": "stdout",
     "output_type": "stream",
     "text": [
      "C:\\Users\\test\\python_test\n"
     ]
    }
   ],
   "source": [
    "#Check path for current working directory \n",
    "print(os.path.abspath(os.getcwd()))"
   ]
  },
  {
   "cell_type": "code",
   "execution_count": 25,
   "id": "ddc2a651",
   "metadata": {},
   "outputs": [
    {
     "name": "stdout",
     "output_type": "stream",
     "text": [
      "C:\\Users\\test\\python_test\n"
     ]
    }
   ],
   "source": [
    "#Check path for specific file \n",
    "print(os.path.dirname(os.path.abspath(\"my_file.txt\")))#C:\\demo_testfile"
   ]
  },
  {
   "cell_type": "markdown",
   "id": "c7b47213",
   "metadata": {},
   "source": [
    "<a id='3.Access-specific-path'></a>\n",
    "### 3. Access specific path [🔙](#Part1)"
   ]
  },
  {
   "cell_type": "markdown",
   "id": "4c6beaeb",
   "metadata": {},
   "source": [
    "understanding different slash to define path:\n",
    "\n",
    "- forward slash(`\\`): Need a raw string prefix (`r\"\\\"`) to avoid errors, used for window path\n",
    "- back slash(`\\\\`): Escape each backslash.\n",
    "- double slash(`/`): Also valid and are commonly used in Linux, but pathlib supports them on all platforms.\n"
   ]
  },
  {
   "cell_type": "markdown",
   "id": "6eb41b7a",
   "metadata": {},
   "source": [
    "#### 3.1 Access specific path"
   ]
  },
  {
   "cell_type": "code",
   "execution_count": 9,
   "id": "7d037b9e",
   "metadata": {},
   "outputs": [
    {
     "data": {
      "text/plain": [
       "'C:\\\\demo_testfile\\\\example.txt'"
      ]
     },
     "execution_count": 9,
     "metadata": {},
     "output_type": "execute_result"
    }
   ],
   "source": [
    "base_path = r\"C:\\demo_testfile\"\n",
    "file_path = os.path.join(base_path, \"example.txt\")\n",
    "file_path"
   ]
  },
  {
   "cell_type": "markdown",
   "id": "6ba4662a",
   "metadata": {},
   "source": [
    "#### - `chdir()`: change directory"
   ]
  },
  {
   "cell_type": "code",
   "execution_count": 30,
   "id": "5f184072",
   "metadata": {},
   "outputs": [
    {
     "name": "stdout",
     "output_type": "stream",
     "text": [
      "C:\\Users\\test\\python_test\n",
      "C:\\Users\\test\\python_test\n",
      "c:\\\n",
      "C:\\Users\\test\\python_test\n"
     ]
    }
   ],
   "source": [
    "#change directory\n",
    "print(os.getcwd()) #get current working directory\n",
    "currentdir=os.getcwd()\n",
    "print(currentdir)#get your current working directory\n",
    "os.chdir('c:\\\\') #change working directory\n",
    "print(os.getcwd())#get your current working directory\n",
    "\n",
    "os.chdir(currentdir) #return back to orginal path\n",
    "print(os.getcwd())"
   ]
  },
  {
   "cell_type": "markdown",
   "id": "db487860",
   "metadata": {},
   "source": [
    "#### 3.2 Parent Directory Access"
   ]
  },
  {
   "cell_type": "markdown",
   "id": "1b394f92",
   "metadata": {},
   "source": [
    "#### - `os.path.dirname(path)`: get the parent directory\n",
    "Returns the directory name of the given path, including the full path up to the parent directory"
   ]
  },
  {
   "cell_type": "code",
   "execution_count": 32,
   "id": "511b372d",
   "metadata": {},
   "outputs": [
    {
     "name": "stdout",
     "output_type": "stream",
     "text": [
      "C:\\demo_testfile\n"
     ]
    }
   ],
   "source": [
    "#get parent directory\n",
    "print(os.path.dirname(r\"C:\\demo_testfile\\test\")) #get the parent of directory"
   ]
  },
  {
   "cell_type": "code",
   "execution_count": 10,
   "id": "bf61b775",
   "metadata": {},
   "outputs": [
    {
     "name": "stdout",
     "output_type": "stream",
     "text": [
      "Path: C:\\demo_testfile\\test\\heello.txt\n",
      "parent dir: C:\\demo_testfile\\test\n"
     ]
    }
   ],
   "source": [
    "#get parent directory of a file\n",
    "fullpath=r'C:\\demo_testfile\\test\\heello.txt'\n",
    "print(f'Path: {fullpath}')\n",
    "print(f'parent dir: {os.path.dirname(fullpath)}') #get the parent of directory"
   ]
  },
  {
   "cell_type": "markdown",
   "id": "9c7030ec",
   "metadata": {},
   "source": [
    "#### 3.3 join path\n",
    "Combines multiple paths into one.\n",
    " > syntax:`os.path(path, *paths)`"
   ]
  },
  {
   "cell_type": "markdown",
   "id": "ed30f4b1",
   "metadata": {},
   "source": [
    "#### - `os.path.join(path1, path2)`\n",
    "\n",
    "Joins paths into a single string."
   ]
  },
  {
   "cell_type": "code",
   "execution_count": 35,
   "id": "0f302db4",
   "metadata": {},
   "outputs": [
    {
     "name": "stdout",
     "output_type": "stream",
     "text": [
      "C:\\demo_testfile\\file.txt\n",
      "C:\\Users\\test\\python_test\\images\n"
     ]
    }
   ],
   "source": [
    "print(os.path.join(r'C:\\demo_testfile', 'file.txt'))\n",
    "print(os.path.join(os.getcwd(),'images'))"
   ]
  },
  {
   "cell_type": "markdown",
   "id": "a3e1196e",
   "metadata": {},
   "source": [
    "<a id='4.listDirectory'></a>\n",
    "### 4. Lists entries in a directory [🔙](#Part1)\n",
    "This is like the OS cli command line: `ls -al` linux or `dir` window will list all file directory in current working directory. "
   ]
  },
  {
   "cell_type": "markdown",
   "id": "9eadb029",
   "metadata": {},
   "source": [
    "#### - `os.listdir(path)`\n",
    "Lists all files and directories in the specified directory, without value, use current working directory "
   ]
  },
  {
   "cell_type": "code",
   "execution_count": 13,
   "id": "c7e13e6a",
   "metadata": {},
   "outputs": [
    {
     "name": "stdout",
     "output_type": "stream",
     "text": [
      "['.ipynb_checkpoints', 'File Pattern Matching with Glob and Fnmatch.ipynb', 'iterate_filter_file.ipynb', 'Juypter Notebook.ipynb', 'os.path.ipynb', 'Pathlib Basics(orgainize_final).ipynb', 'Pathlib.ipynb']\n",
      "['git', 'powerlevel10k', 'powerlevel10k_full', 'takuya.omp.json']\n"
     ]
    }
   ],
   "source": [
    "print(os.listdir()) #list working directory\n",
    "print(os.listdir('C:\\\\tmp')) #list specific working directory"
   ]
  },
  {
   "cell_type": "code",
   "execution_count": 40,
   "id": "23efb9b0",
   "metadata": {},
   "outputs": [
    {
     "name": "stdout",
     "output_type": "stream",
     "text": [
      ".ipynb_checkpoints\n",
      "Basic Guide to Pandas! Tricks, Shortcuts( Python Simplified).ipynb\n",
      "DataType\n",
      "done_toremove\n",
      "elog_example\n",
      "hahow_scrap_pandas_mathplot\n",
      "iterate_filter_file.ipynb\n",
      "jupterNote.ipynb\n",
      "numpy.ipynb\n",
      "os.path_reorganize.ipynb\n",
      "Pandas\n",
      "Pathlib Basics(orgainize_final).ipynb\n",
      "Pathlib_reorganize.ipynb\n",
      "tmp.ipynb\n",
      "Understanding File Pattern Matching with Glob and Fnmatch.ipynb\n"
     ]
    }
   ],
   "source": [
    "#Iterate current directory\n",
    "for p in os.listdir(): \n",
    "    print(p)"
   ]
  },
  {
   "cell_type": "code",
   "execution_count": 41,
   "id": "82d316e9",
   "metadata": {},
   "outputs": [
    {
     "name": "stdout",
     "output_type": "stream",
     "text": [
      ".ipynb_checkpoints\n",
      "Basic Guide to Pandas! Tricks, Shortcuts( Python Simplified).ipynb\n",
      "DataType\n",
      "done_toremove\n",
      "elog_example\n",
      "hahow_scrap_pandas_mathplot\n",
      "iterate_filter_file.ipynb\n",
      "jupterNote.ipynb\n",
      "numpy.ipynb\n",
      "os.path_reorganize.ipynb\n",
      "Pandas\n",
      "Pathlib Basics(orgainize_final).ipynb\n",
      "Pathlib_reorganize.ipynb\n",
      "tmp.ipynb\n",
      "Understanding File Pattern Matching with Glob and Fnmatch.ipynb\n"
     ]
    }
   ],
   "source": [
    "#filter except file condition\n",
    "for file in os.listdir():\n",
    "    #if file  =='__pycache__': #ignore this file. amd print rest\n",
    "    if file in ['__pycache__'] or file.endswith('.txt'):\n",
    "        continue \n",
    "    print(file)"
   ]
  },
  {
   "cell_type": "markdown",
   "id": "4715dcf1",
   "metadata": {},
   "source": [
    "list only directory of parent path"
   ]
  },
  {
   "cell_type": "code",
   "execution_count": 12,
   "id": "e8826fd2",
   "metadata": {},
   "outputs": [
    {
     "name": "stdout",
     "output_type": "stream",
     "text": [
      "C:\\demo_testfile\n"
     ]
    },
    {
     "data": {
      "text/plain": [
       "['data', 'datanew', 'notes', 'renamefile', 'test', 'test -copy']"
      ]
     },
     "execution_count": 12,
     "metadata": {},
     "output_type": "execute_result"
    }
   ],
   "source": [
    "fullpath=r'C:\\demo_testfile\\heello.txt'\n",
    "directory=os.path.dirname(fullpath)#get aprent of file\n",
    "print(directory)#C:\\demo_testfile\n",
    "all_entries = os.listdir(directory)\n",
    "directories = [entry for entry in all_entries if os.path.isdir(os.path.join(directory, entry))]\n",
    "directories"
   ]
  },
  {
   "cell_type": "markdown",
   "id": "bf1b7544",
   "metadata": {},
   "source": [
    "<a id='checkFileDir'></a>\n",
    "### 5. Checking file/directory [🔙](#Part1)"
   ]
  },
  {
   "cell_type": "code",
   "execution_count": 51,
   "id": "22aa5a81",
   "metadata": {},
   "outputs": [
    {
     "name": "stdout",
     "output_type": "stream",
     "text": [
      "Path: C:\\Users\\test\\python_test\\index.html\n",
      "check file or directory exist: False\n",
      "checking is it file: False\n",
      "checking is it directory: False\n",
      "checking absolute path: True\n"
     ]
    }
   ],
   "source": [
    "filename='index.html'\n",
    "f=os.path.abspath(filename)\n",
    "print(f'Path: {f}')\n",
    "\n",
    "print(f\"check file or directory exist: {os.path.exists(f)}\") \n",
    "print(f\"checking is it file: {os.path.isfile(f)}\") \n",
    "print(f\"checking is it directory: {os.path.isdir(f)}\") \n",
    "print(f\"checking absolute path: {os.path.isabs(f)}\") "
   ]
  },
  {
   "cell_type": "markdown",
   "id": "50e2d73b",
   "metadata": {},
   "source": [
    "#### - `os.path.exists(path)`:\n",
    "Checks if the path exists and is accessible will return True"
   ]
  },
  {
   "cell_type": "code",
   "execution_count": 55,
   "id": "00f3adf0",
   "metadata": {},
   "outputs": [
    {
     "name": "stdout",
     "output_type": "stream",
     "text": [
      "File exists\n"
     ]
    }
   ],
   "source": [
    "path2 = 'C:\\\\demo_testfile' \n",
    "if os.path.exists(path2):\n",
    "    print(\"File exists\")\n",
    "else:\n",
    "    print(\"File does not exist\")"
   ]
  },
  {
   "cell_type": "markdown",
   "id": "c921bb1a",
   "metadata": {},
   "source": [
    "#### - `os.path.isfile(path)`\n",
    "Checks if the path is a file and return True, if folder return False. To iterate to specific path, you need to use join to combine the path and file name. "
   ]
  },
  {
   "cell_type": "code",
   "execution_count": 84,
   "id": "58eee30f",
   "metadata": {},
   "outputs": [
    {
     "name": "stdout",
     "output_type": "stream",
     "text": [
      "C:\\demo_testfile\\AAA.txt\n",
      "C:\\demo_testfile\\ex1.py\n",
      "C:\\demo_testfile\\ex2.py\n",
      "C:\\demo_testfile\\hell[o].txt\n",
      "C:\\demo_testfile\\index.html\n",
      "C:\\demo_testfile\\page.html\n",
      "C:\\demo_testfile\\read.txt\n",
      "C:\\demo_testfile\\test.txt\n",
      "C:\\demo_testfile\\testFile1.txt\n"
     ]
    }
   ],
   "source": [
    "#check if file and list it \n",
    "path2 = 'C:\\\\demo_testfile'\n",
    "for file in os.listdir(path2):\n",
    "    full_path = os.path.join(path2, file) # Combine path2 + file\n",
    "    #print(os.path.isfile(full_path))  # Checks inside 'C:\\demo_testfile'\n",
    "    #filter only file in specfic path \n",
    "    if os.path.isfile(full_path):\n",
    "        print(full_path)"
   ]
  },
  {
   "cell_type": "code",
   "execution_count": 95,
   "id": "ae37b1b9",
   "metadata": {},
   "outputs": [
    {
     "name": "stdout",
     "output_type": "stream",
     "text": [
      "C:\\demo_testfile\\AAA.txt\n",
      "C:\\demo_testfile\\ex1.py\n",
      "C:\\demo_testfile\\ex2.py\n",
      "C:\\demo_testfile\\hell[o].txt\n",
      "C:\\demo_testfile\\index.html\n",
      "C:\\demo_testfile\\page.html\n",
      "C:\\demo_testfile\\read.txt\n",
      "C:\\demo_testfile\\test.txt\n",
      "C:\\demo_testfile\\testFile1.txt\n"
     ]
    }
   ],
   "source": [
    "# list comprehensive\n",
    "files = [\n",
    "os.path.join(path2, f)\n",
    "for f in os.listdir(path2)\n",
    "#list all file\n",
    "if os.path.isfile(os.path.join(path2, f))\n",
    "#filter specfic file type\n",
    "]\n",
    "print(\"\\n\".join(files))"
   ]
  },
  {
   "cell_type": "markdown",
   "id": "ee663fcd",
   "metadata": {},
   "source": [
    "Understand why need to use the join path with filename"
   ]
  },
  {
   "cell_type": "code",
   "execution_count": 91,
   "id": "412bb790",
   "metadata": {},
   "outputs": [
    {
     "name": "stdout",
     "output_type": "stream",
     "text": [
      "filename: AAA.txt ,and path: C:\\demo_testfile\n",
      "filename: data ,and path: C:\\demo_testfile\n",
      "filename: datanew ,and path: C:\\demo_testfile\n",
      "filename: ex1.py ,and path: C:\\demo_testfile\n",
      "filename: ex2.py ,and path: C:\\demo_testfile\n",
      "filename: hell[o].txt ,and path: C:\\demo_testfile\n",
      "filename: index.html ,and path: C:\\demo_testfile\n",
      "filename: notes ,and path: C:\\demo_testfile\n",
      "filename: page.html ,and path: C:\\demo_testfile\n",
      "filename: read.txt ,and path: C:\\demo_testfile\n",
      "filename: renamefile ,and path: C:\\demo_testfile\n",
      "filename: test ,and path: C:\\demo_testfile\n",
      "filename: test -copy ,and path: C:\\demo_testfile\n",
      "filename: test.txt ,and path: C:\\demo_testfile\n",
      "filename: testFile1.txt ,and path: C:\\demo_testfile\n"
     ]
    }
   ],
   "source": [
    "path2 = 'C:\\\\demo_testfile'\n",
    "for file in os.listdir(path2):\n",
    "    print(f'filename: {file} ,and path: {path2}')\n",
    "    #full_path = os.path.join(path2, file) # Combine path2 + file\n",
    "    #print(full_path)\n",
    "    #print(os.path.isfile(full_path))  # Checks inside 'C:\\demo_testfile'"
   ]
  },
  {
   "cell_type": "code",
   "execution_count": 77,
   "id": "d1022eb5",
   "metadata": {},
   "outputs": [
    {
     "name": "stdout",
     "output_type": "stream",
     "text": [
      "Current Working Directory: C:\\Users\\test\\python_test\n",
      "Checking: AAA.txt -> Exists in CWD? False\n",
      "Checking: data -> Exists in CWD? False\n",
      "Checking: datanew -> Exists in CWD? False\n",
      "Checking: ex1.py -> Exists in CWD? False\n",
      "Checking: ex2.py -> Exists in CWD? False\n",
      "Checking: hell[o].txt -> Exists in CWD? False\n",
      "Checking: index.html -> Exists in CWD? False\n",
      "Checking: notes -> Exists in CWD? False\n",
      "Checking: page.html -> Exists in CWD? False\n",
      "Checking: read.txt -> Exists in CWD? False\n",
      "Checking: renamefile -> Exists in CWD? False\n",
      "Checking: test -> Exists in CWD? False\n",
      "Checking: test -copy -> Exists in CWD? False\n",
      "Checking: test.txt -> Exists in CWD? False\n",
      "Checking: testFile1.txt -> Exists in CWD? False\n"
     ]
    }
   ],
   "source": [
    "# this is incorrect without join path and filename\n",
    "print(\"Current Working Directory:\", os.getcwd())  # Show where it's looking\n",
    "\n",
    "for file in os.listdir(path2):  \n",
    "    print(f\"Checking: {file} -> Exists in CWD? {os.path.isfile(file)}\") \n",
    "    #file is just a filename, Python assumes the path is os.getcwd() + file → CWD\\file\n",
    "    #os.path.join(path2, file), Python knows you're giving it a specific path → path2\\file"
   ]
  },
  {
   "cell_type": "markdown",
   "id": "53d63855",
   "metadata": {},
   "source": [
    "#### - `os.path.isdir(path)`\n",
    "Checks if the path is a directory, and retrun True, if file return False\n",
    "    "
   ]
  },
  {
   "cell_type": "code",
   "execution_count": 96,
   "id": "1e48d3a7",
   "metadata": {},
   "outputs": [
    {
     "name": "stdout",
     "output_type": "stream",
     "text": [
      "C:\\demo_testfile\\data\n",
      "C:\\demo_testfile\\datanew\n",
      "C:\\demo_testfile\\notes\n",
      "C:\\demo_testfile\\renamefile\n",
      "C:\\demo_testfile\\test\n",
      "C:\\demo_testfile\\test -copy\n"
     ]
    }
   ],
   "source": [
    "#check if file and list it \n",
    "path2 = 'C:\\\\demo_testfile'\n",
    "for file in os.listdir(path2):\n",
    "    full_path = os.path.join(path2, file) # Combine path2 + file\n",
    "    #filter only directory in specfic path \n",
    "    if os.path.isdir(full_path):\n",
    "        print(full_path)"
   ]
  },
  {
   "cell_type": "markdown",
   "id": "16a1a842",
   "metadata": {},
   "source": [
    "#### `os.path.isabs(path)`\n",
    "Checks if the path is an absolute path."
   ]
  },
  {
   "cell_type": "code",
   "execution_count": 98,
   "id": "df21082d",
   "metadata": {},
   "outputs": [
    {
     "name": "stdout",
     "output_type": "stream",
     "text": [
      "is absolute path\n"
     ]
    }
   ],
   "source": [
    "path2 = 'C:\\\\demo_testfile' \n",
    "if os.path.isabs(path2):\n",
    "    print(\"is absolute path\")\n",
    "else:\n",
    "    print(\"not absolute path\")"
   ]
  },
  {
   "cell_type": "code",
   "execution_count": 99,
   "id": "cf70902c",
   "metadata": {},
   "outputs": [
    {
     "name": "stdout",
     "output_type": "stream",
     "text": [
      "C:\\demo_testfile\\AAA.txt\n",
      "C:\\demo_testfile\\data\n",
      "C:\\demo_testfile\\datanew\n",
      "C:\\demo_testfile\\ex1.py\n",
      "C:\\demo_testfile\\ex2.py\n",
      "C:\\demo_testfile\\hell[o].txt\n",
      "C:\\demo_testfile\\index.html\n",
      "C:\\demo_testfile\\notes\n",
      "C:\\demo_testfile\\page.html\n",
      "C:\\demo_testfile\\read.txt\n",
      "C:\\demo_testfile\\renamefile\n",
      "C:\\demo_testfile\\test\n",
      "C:\\demo_testfile\\test -copy\n",
      "C:\\demo_testfile\\test.txt\n",
      "C:\\demo_testfile\\testFile1.txt\n"
     ]
    }
   ],
   "source": [
    "path2 = 'C:\\\\demo_testfile'\n",
    "for file in os.listdir(path2):\n",
    "    full_path = os.path.join(path2, file) # Combine path2 + file\n",
    "    #filter only directory in specfic path \n",
    "    if os.path.isabs(full_path):\n",
    "        print(full_path)"
   ]
  },
  {
   "cell_type": "markdown",
   "id": "eff9fee5",
   "metadata": {},
   "source": [
    "<a id='6.FileExt'></a>\n",
    "### 6. file extension [🔙](#Part1)"
   ]
  },
  {
   "cell_type": "markdown",
   "id": "40c5d7af",
   "metadata": {},
   "source": [
    "#### 6.1 Attribute\n",
    "You can use these attribute to split the filename and it's extenstion\n",
    "- `os.path.basename(path)`\n",
    "- `os.path.splitext(path)`\n",
    "- `os.path.split(path)`\n",
    "- `os.path.splitdrive(path)`"
   ]
  },
  {
   "cell_type": "markdown",
   "id": "af9d8b55",
   "metadata": {},
   "source": [
    "##### - `os.path.basename(path)`\n",
    "returns the filename with the extension."
   ]
  },
  {
   "cell_type": "code",
   "execution_count": 129,
   "id": "458dce1c",
   "metadata": {},
   "outputs": [
    {
     "name": "stdout",
     "output_type": "stream",
     "text": [
      "basename with filename: file_1.txt\n"
     ]
    }
   ],
   "source": [
    "my_file=r\"C:\\demo_testfile\\file_1.txt\"\n",
    "#print(f\"basename with directory: {os.path.basename(my_dir)}\") \n",
    "print(f\"basename with filename: {os.path.basename(my_file)}\") \n"
   ]
  },
  {
   "cell_type": "markdown",
   "id": "29114b4c",
   "metadata": {},
   "source": [
    "##### - `os.path.splitext(path)`\n",
    "The `splitext` is use to splits filename, which will split filename and and extension"
   ]
  },
  {
   "cell_type": "code",
   "execution_count": 131,
   "id": "1c4b0f20",
   "metadata": {},
   "outputs": [
    {
     "name": "stdout",
     "output_type": "stream",
     "text": [
      "using splitext with file only: ('file_1', '.txt')\n",
      "using splitext with path: ('C:\\\\demo_testfile\\\\file_1', '.txt')\n"
     ]
    }
   ],
   "source": [
    "# using splitext to split filename and it's extension\n",
    "my_file=r\"file_1.txt\"\n",
    "my_filewithpath=r\"C:\\demo_testfile\\file_1.txt\"\n",
    "print(f'using splitext with file only: {os.path.splitext(my_file)}') \n",
    "print(f'using splitext with path: {os.path.splitext(my_filewithpath)}') #not common use case"
   ]
  },
  {
   "cell_type": "code",
   "execution_count": 150,
   "id": "ffcde113",
   "metadata": {},
   "outputs": [
    {
     "name": "stdout",
     "output_type": "stream",
     "text": [
      "file path=> /test/file_1.txt\n",
      "parent dir: /test\n",
      "basename of parent dir:  test\n",
      "('/test', 'file_1.txt')\n",
      "parent dir=>/test, and filename=> file_1.txt\n"
     ]
    }
   ],
   "source": [
    "#get directory name of the file \n",
    "my_file2 = '/test/file_1.txt'\n",
    "print(f'file path=> {my_file2}')\n",
    "print(\"parent dir:\", os.path.dirname(my_file2))\n",
    "subdirname = os.path.basename(os.path.dirname(my_file2))\n",
    "print(\"basename of parent dir: \" , subdirname)\n",
    "\n",
    "#split directory and file \n",
    "filename=os.path.split(my_file2) \n",
    "print(filename)\n",
    "dirname, basename = os.path.split(my_file2)\n",
    "print(f'parent dir=>{dirname}, and filename=> {basename}')"
   ]
  },
  {
   "cell_type": "code",
   "execution_count": 138,
   "id": "088598d2",
   "metadata": {},
   "outputs": [
    {
     "name": "stdout",
     "output_type": "stream",
     "text": [
      "file name: Basic Guide to Pandas! Tricks, Shortcuts( Python Simplified) , ext file: .ipynb\n",
      "file name: iterate_filter_file , ext file: .ipynb\n",
      "file name: jupterNote , ext file: .ipynb\n",
      "file name: numpy , ext file: .ipynb\n",
      "file name: os.path_reorganize , ext file: .ipynb\n",
      "file name: Pathlib Basics(orgainize_final) , ext file: .ipynb\n",
      "file name: Pathlib_reorganize , ext file: .ipynb\n",
      "file name: tmp , ext file: .ipynb\n",
      "file name: Understanding File Pattern Matching with Glob and Fnmatch , ext file: .ipynb\n"
     ]
    }
   ],
   "source": [
    "#iterate through working directory and split the filename and it extension\n",
    "for file in os.listdir():\n",
    "    if os.path.isfile(file):\n",
    "        name, ext=os.path.splitext(file)\n",
    "        print(f\"file name: {name} , ext file: {ext}\")"
   ]
  },
  {
   "cell_type": "markdown",
   "id": "cbcc863d",
   "metadata": {},
   "source": [
    "##### - `os.path.split(path)`\n",
    "os.path.split() only splits the last component. If split fil, it splits the **parent path and file name** into head and tail(not use often with file handling). ex: `c:\\test.txt`, will split into `c:\\` and `test.txt`"
   ]
  },
  {
   "cell_type": "code",
   "execution_count": 132,
   "id": "1f2c52c3",
   "metadata": {},
   "outputs": [
    {
     "name": "stdout",
     "output_type": "stream",
     "text": [
      "using split with file only: ('', 'file_1.txt')\n",
      "using split with path:: ('C:\\\\demo_testfile', 'file_1.txt')\n"
     ]
    }
   ],
   "source": [
    "my_file=r\"file_1.txt\"\n",
    "my_filewithpath=r\"C:\\demo_testfile\\file_1.txt\"\n",
    "print(f'using split with file only: {os.path.split(my_file)}') #not common case\n",
    "print(f'using split with path:: {os.path.split(my_filewithpath)}') "
   ]
  },
  {
   "cell_type": "markdown",
   "id": "40823d8a",
   "metadata": {},
   "source": [
    "in case you want to use split to split filename, you can use this method"
   ]
  },
  {
   "cell_type": "code",
   "execution_count": 137,
   "id": "4a65773b",
   "metadata": {},
   "outputs": [
    {
     "name": "stdout",
     "output_type": "stream",
     "text": [
      "split file with extension :['file_1', 'txt']\n",
      "file name :file_1, and ext: txt\n"
     ]
    }
   ],
   "source": [
    "# use the split to split filename\n",
    "filename=os.path.basename(my_file).split('.', 1) #remove the first dot\n",
    "print(f\"split file with extension :{filename}\")\n",
    "print(f\"file name :{filename[0]}, and ext: {filename[1]}\")"
   ]
  },
  {
   "cell_type": "markdown",
   "id": "8ccebac6",
   "metadata": {},
   "source": [
    "##### - `split(os.sep)`\n",
    "`split()` splits the last component, but split(os.sep) split all parts base on `\\` on Path."
   ]
  },
  {
   "cell_type": "code",
   "execution_count": 173,
   "id": "1120b9c3",
   "metadata": {},
   "outputs": [
    {
     "name": "stdout",
     "output_type": "stream",
     "text": [
      "os.sep for window: ['c:', 'test', 'subtest']\n"
     ]
    }
   ],
   "source": [
    "#you can also use os.sep to seperate \\\n",
    "pathwindow='c:\\\\test\\\\subtest'\n",
    "print(f'os.sep for window: {pathwindow.split(os.sep)}')"
   ]
  },
  {
   "cell_type": "markdown",
   "id": "9669df0e",
   "metadata": {},
   "source": [
    "##### - `os.path.splitdrive(path)`\n",
    "Splits the drive and the rest of the path into twp part"
   ]
  },
  {
   "cell_type": "code",
   "execution_count": 168,
   "id": "855678f0",
   "metadata": {},
   "outputs": [
    {
     "name": "stdout",
     "output_type": "stream",
     "text": [
      "path: c:\\test\\subtest\n",
      "splitdrive: ('c:', '\\\\test\\\\subtest')\n",
      "Drive of path 'c:\\test\\subtest:' c:\n",
      "Tail of path 'c:\\test\\subtest:' \\test\\subtest \n",
      "\n"
     ]
    }
   ],
   "source": [
    "path='c:\\\\test\\\\subtest'\n",
    "print(f'path: {path}')\n",
    "drive= os.path.splitdrive(path)\n",
    "print(f'splitdrive: {drive}')\n",
    "print(\"Drive of path '%s:'\" %path, drive[0]) \n",
    "print(\"Tail of path '%s:'\" %path, drive[1], \"\\n\") "
   ]
  },
  {
   "cell_type": "markdown",
   "id": "9d0d2092",
   "metadata": {},
   "source": [
    "<a id='statswith_endswith'></a>\n",
    "#### 6.2 startswith() and endswith(): \n",
    "`startswith()` and `endswith()` are string methods, that are commonly use with os.path when filtering files by extension or prefix. \n",
    "\n",
    "> - startswith(): file substring/suffix starts with a specific string\n",
    "> - endswith(): file substring/suffix ends with a specific string"
   ]
  },
  {
   "cell_type": "markdown",
   "id": "6bb91126",
   "metadata": {},
   "source": [
    "##### - `startswith('directory/file'`:\n",
    "Checks if a filename ends with a specific extension and return True is find, else return False\n"
   ]
  },
  {
   "cell_type": "code",
   "execution_count": 117,
   "id": "98c364ee",
   "metadata": {},
   "outputs": [
    {
     "name": "stdout",
     "output_type": "stream",
     "text": [
      "True\n",
      "True\n"
     ]
    }
   ],
   "source": [
    "directory = 'testfile' \n",
    "file='test.py'\n",
    "#filter only file in specfic path \n",
    "print(directory.startswith('test'))\n",
    "print(file.startswith('test'))"
   ]
  },
  {
   "cell_type": "markdown",
   "id": "6dc6eb38",
   "metadata": {},
   "source": [
    "##### - `endswith('directory/file|')`:\n",
    "Checks if a filename starts with a specific prefix and return True is find, else return False"
   ]
  },
  {
   "cell_type": "code",
   "execution_count": 119,
   "id": "c5c3abde",
   "metadata": {},
   "outputs": [
    {
     "name": "stdout",
     "output_type": "stream",
     "text": [
      "False\n",
      "True\n"
     ]
    }
   ],
   "source": [
    "directory = 'testfile' \n",
    "file='test.py'\n",
    "#filter only file in specfic path \n",
    "print(directory.endswith('st'))\n",
    "print(file.endswith('.py'))"
   ]
  },
  {
   "cell_type": "code",
   "execution_count": 122,
   "id": "9dc7b698",
   "metadata": {},
   "outputs": [
    {
     "name": "stdout",
     "output_type": "stream",
     "text": [
      "['.ipynb_checkpoints', 'Basic Guide to Pandas! Tricks, Shortcuts( Python Simplified).ipynb', 'DataType', 'done_toremove', 'elog_example', 'hahow_scrap_pandas_mathplot', 'iterate_filter_file.ipynb', 'jupterNote.ipynb', 'numpy.ipynb', 'os.path_reorganize.ipynb', 'Pandas', 'Pathlib Basics(orgainize_final).ipynb', 'Pathlib_reorganize.ipynb', 'tmp.ipynb', 'Understanding File Pattern Matching with Glob and Fnmatch.ipynb']\n"
     ]
    }
   ],
   "source": [
    "#return filename result\n",
    "path2 = 'C:\\\\demo_testfile' \n",
    "print(os.listdir())"
   ]
  },
  {
   "cell_type": "code",
   "execution_count": 128,
   "id": "e6496e20",
   "metadata": {},
   "outputs": [
    {
     "name": "stdout",
     "output_type": "stream",
     "text": [
      "ex1.py\n",
      "ex2.py\n"
     ]
    }
   ],
   "source": [
    "#filter python file on specific path\n",
    "for item in os.listdir(path2):\n",
    "    if item.endswith('.py'):\n",
    "        print(item)"
   ]
  },
  {
   "cell_type": "code",
   "execution_count": 127,
   "id": "4f7dfc34",
   "metadata": {},
   "outputs": [
    {
     "name": "stdout",
     "output_type": "stream",
     "text": [
      "C:\\demo_testfile\\ex1.py\n",
      "C:\\demo_testfile\\ex2.py\n"
     ]
    }
   ],
   "source": [
    "path2 = 'C:\\\\demo_testfile' \n",
    "os.listdir(path2)\n",
    "#check for file and filter python file ext \n",
    "for item in os.listdir(path2):\n",
    "    full_path = os.path.join(path2, item)\n",
    "    if os.path.isfile(full_path) and item.endswith(\".py\"):\n",
    "        #print(item)\n",
    "        print(full_path)"
   ]
  },
  {
   "cell_type": "code",
   "execution_count": 126,
   "id": "7bee9416",
   "metadata": {},
   "outputs": [
    {
     "name": "stdout",
     "output_type": "stream",
     "text": [
      "['C:\\\\demo_testfile\\\\ex1.py', 'C:\\\\demo_testfile\\\\ex2.py']\n",
      "C:\\demo_testfile\\ex1.py\n",
      "C:\\demo_testfile\\ex2.py\n"
     ]
    }
   ],
   "source": [
    "# list comprehensive\n",
    "path3 = 'C:\\\\demo_testfile' \n",
    "files = [\n",
    "os.path.join(path3, f)\n",
    "for f in os.listdir(path3)\n",
    "#if os.path.isfile(os.path.join(path3, f)) and f.endswith(\".py\")\n",
    "if f.endswith(\".py\")\n",
    "]\n",
    "print(files)\n",
    "print(\"\\n\".join(files))"
   ]
  },
  {
   "cell_type": "markdown",
   "id": "8a23a6c2",
   "metadata": {},
   "source": [
    "<a id='7.FileMatching'></a>\n",
    "### 7. Matching Pattern Files and recursive [🔙](#Part1)"
   ]
  },
  {
   "cell_type": "code",
   "execution_count": 188,
   "id": "0136f975",
   "metadata": {},
   "outputs": [],
   "source": [
    "# import glob module\n",
    "import glob "
   ]
  },
  {
   "cell_type": "markdown",
   "id": "f9344ed4",
   "metadata": {},
   "source": [
    "##### - `glob.glob()`: search file pattern \n",
    "Matches file patterns (returns a list), you can either use the `*` or `*file-ext`. This is useful to filer file extension. "
   ]
  },
  {
   "cell_type": "code",
   "execution_count": 187,
   "id": "4792c86f",
   "metadata": {},
   "outputs": [
    {
     "name": "stdout",
     "output_type": "stream",
     "text": [
      "['Basic Guide to Pandas! Tricks, Shortcuts( Python Simplified).ipynb', 'DataType', 'done_toremove', 'elog_example', 'hahow_scrap_pandas_mathplot', 'iterate_filter_file.ipynb', 'jupterNote.ipynb', 'numpy.ipynb', 'os.path_reorganize.ipynb', 'Pandas', 'Pathlib Basics(orgainize_final).ipynb', 'Pathlib_reorganize.ipynb', 'tmp.ipynb', 'Understanding File Pattern Matching with Glob and Fnmatch.ipynb']\n",
      "\n",
      "['Basic Guide to Pandas! Tricks, Shortcuts( Python Simplified).ipynb', 'iterate_filter_file.ipynb', 'jupterNote.ipynb', 'numpy.ipynb', 'os.path_reorganize.ipynb', 'Pathlib Basics(orgainize_final).ipynb', 'Pathlib_reorganize.ipynb', 'tmp.ipynb', 'Understanding File Pattern Matching with Glob and Fnmatch.ipynb']\n"
     ]
    }
   ],
   "source": [
    "#print all content\n",
    "print(glob.glob(\"*\"))\n",
    "print()\n",
    "#filter txt file \n",
    "print(glob.glob(\"*.ipynb\") )"
   ]
  },
  {
   "cell_type": "code",
   "execution_count": 197,
   "id": "8dc9bd5c",
   "metadata": {},
   "outputs": [
    {
     "name": "stdout",
     "output_type": "stream",
     "text": [
      "['C:\\\\demo_testfile\\\\AAA.txt', 'C:\\\\demo_testfile\\\\hell[o].txt', 'C:\\\\demo_testfile\\\\read.txt', 'C:\\\\demo_testfile\\\\test.txt', 'C:\\\\demo_testfile\\\\testFile1.txt']\n"
     ]
    }
   ],
   "source": [
    "#search specific path \n",
    "print(glob.glob(\"C:\\\\demo_testfile\\\\*txt\"))"
   ]
  },
  {
   "cell_type": "markdown",
   "id": "bb9a9c13",
   "metadata": {},
   "source": [
    "##### - `glob.glob('*/**', recursive=True)`: Recursive file matching\n",
    "This allow to search the sub-directory resursive"
   ]
  },
  {
   "cell_type": "code",
   "execution_count": 203,
   "id": "05e12f3b",
   "metadata": {},
   "outputs": [
    {
     "data": {
      "text/plain": [
       "['C:\\\\demo_testfile\\\\data\\\\copy2_AAA.txt',\n",
       " 'C:\\\\demo_testfile\\\\data\\\\copy2_hell[o].txt',\n",
       " 'C:\\\\demo_testfile\\\\data\\\\copy_AAA.txt',\n",
       " 'C:\\\\demo_testfile\\\\data\\\\copy_hell[o].txt',\n",
       " 'C:\\\\demo_testfile\\\\test\\\\1.txt',\n",
       " 'C:\\\\demo_testfile\\\\test\\\\2.txt',\n",
       " 'C:\\\\demo_testfile\\\\test -copy\\\\1.txt',\n",
       " 'C:\\\\demo_testfile\\\\test -copy\\\\2.txt']"
      ]
     },
     "execution_count": 203,
     "metadata": {},
     "output_type": "execute_result"
    }
   ],
   "source": [
    "#search specific path and recursive search .txt file\n",
    "glob.glob('C:\\\\demo_testfile\\\\*/**.txt', recursive=True) \n"
   ]
  },
  {
   "cell_type": "code",
   "execution_count": 204,
   "id": "61cbb250",
   "metadata": {},
   "outputs": [
    {
     "data": {
      "text/plain": [
       "['DataType\\\\',\n",
       " 'DataType\\\\List.ipynb',\n",
       " 'DataType\\\\reports',\n",
       " 'DataType\\\\reports\\\\Reports',\n",
       " 'DataType\\\\reports\\\\Reports\\\\REPORTS-in_HERE',\n",
       " 'DataType\\\\reports\\\\Reports\\\\REPORTS-in_HERE\\\\TPS-Report-01-11-2022.txt',\n",
       " 'DataType\\\\reports\\\\Reports\\\\REPORTS-in_HERE\\\\TPS-Report-01-Aug.txt',\n",
       " 'DataType\\\\reports\\\\Reports\\\\REPORTS-in_HERE\\\\TPS-Report-01-September-2021.txt',\n",
       " 'DataType\\\\reports\\\\Reports\\\\REPORTS-in_HERE\\\\TPS-Report-01-September-2022.txt',\n",
       " 'DataType\\\\strings in Python.ipynb',\n",
       " 'DataType\\\\stringtest.ipynb',\n",
       " 'DataType\\\\test.py',\n",
       " 'done_toremove\\\\',\n",
       " 'done_toremove\\\\pathlib[ok].ipynb',\n",
       " 'done_toremove\\\\[debug]_directoryFile_renmae_remove.ipynb',\n",
       " 'elog_example\\\\',\n",
       " 'elog_example\\\\2024_flex',\n",
       " 'elog_example\\\\2024_flex\\\\11.txt',\n",
       " 'elog_example\\\\2024_flex\\\\elog_gnb_du_layer2.0',\n",
       " 'elog_example\\\\2024_flex\\\\elog_multiplyUE',\n",
       " 'elog_example\\\\2024_flex\\\\[2024]Log Parser CDU_Quick_understand.ipynb',\n",
       " 'elog_example\\\\elog_multiplyUE',\n",
       " 'elog_example\\\\elog_singleIUE',\n",
       " 'elog_example\\\\excelconvert',\n",
       " 'elog_example\\\\excelconvert\\\\1.txt',\n",
       " 'elog_example\\\\excelconvert\\\\result-2024-09-25-11-19-49.txt',\n",
       " 'elog_example\\\\excelconvert\\\\result_2column.txt',\n",
       " 'elog_example\\\\excelconvert\\\\test_debug.ipynb',\n",
       " 'elog_example\\\\OOP.ipynb',\n",
       " 'elog_example\\\\result-2023-04-02-09-17-08.txt',\n",
       " 'elog_example\\\\result.txt',\n",
       " 'elog_example\\\\review',\n",
       " 'elog_example\\\\review\\\\Elog Parse_Debug.ipynb',\n",
       " 'elog_example\\\\review\\\\Elog_analysic_logfile.ipynb',\n",
       " 'elog_example\\\\review\\\\elog_multiplyUE',\n",
       " 'elog_example\\\\review\\\\Elog_Quick_code.ipynb',\n",
       " 'elog_example\\\\review\\\\elog_singleIUE',\n",
       " 'elog_example\\\\review\\\\RegularExpression_Note.ipynb',\n",
       " 'elog_example\\\\review\\\\test2.txt',\n",
       " 'elog_example\\\\test2.txt',\n",
       " 'hahow_scrap_pandas_mathplot\\\\',\n",
       " 'hahow_scrap_pandas_mathplot\\\\111file.txt',\n",
       " 'hahow_scrap_pandas_mathplot\\\\assignment4.png',\n",
       " 'hahow_scrap_pandas_mathplot\\\\bmi_pandas.csv',\n",
       " 'hahow_scrap_pandas_mathplot\\\\bmi_pandas.txt',\n",
       " 'hahow_scrap_pandas_mathplot\\\\chart.png',\n",
       " 'hahow_scrap_pandas_mathplot\\\\gta.db',\n",
       " 'hahow_scrap_pandas_mathplot\\\\icwang.html',\n",
       " 'hahow_scrap_pandas_mathplot\\\\pandas_ex.ipynb',\n",
       " 'hahow_scrap_pandas_mathplot\\\\request.ipynb',\n",
       " 'hahow_scrap_pandas_mathplot\\\\test.txt',\n",
       " 'hahow_scrap_pandas_mathplot\\\\testdbBook.db',\n",
       " 'hahow_scrap_pandas_mathplot\\\\testdbBook2.db',\n",
       " 'hahow_scrap_pandas_mathplot\\\\testdbBook3.db',\n",
       " 'hahow_scrap_pandas_mathplot\\\\twstock3.db',\n",
       " 'hahow_scrap_pandas_mathplot\\\\Untitled.ipynb',\n",
       " 'Pandas\\\\',\n",
       " 'Pandas\\\\ Pandas Data Analysis.ipynb',\n",
       " 'Pandas\\\\notebooks',\n",
       " 'Pandas\\\\notebooks\\\\billboard_ratings.csv',\n",
       " 'Pandas\\\\notebooks\\\\billboard_songs.csv',\n",
       " 'Pandas\\\\notebooks\\\\data',\n",
       " 'Pandas\\\\notebooks\\\\data\\\\billboard.csv',\n",
       " 'Pandas\\\\notebooks\\\\data\\\\concat_1.csv',\n",
       " 'Pandas\\\\notebooks\\\\data\\\\concat_2.csv',\n",
       " 'Pandas\\\\notebooks\\\\data\\\\concat_3.csv',\n",
       " 'Pandas\\\\notebooks\\\\data\\\\country_timeseries.csv',\n",
       " 'Pandas\\\\notebooks\\\\data\\\\gapminder.tsv',\n",
       " 'Pandas\\\\notebooks\\\\data\\\\intro.ipynb',\n",
       " 'Pandas\\\\notebooks\\\\data\\\\pew.csv',\n",
       " 'Pandas\\\\notebooks\\\\data\\\\survey_person.csv',\n",
       " 'Pandas\\\\notebooks\\\\data\\\\survey_site.csv',\n",
       " 'Pandas\\\\notebooks\\\\data\\\\survey_survey.csv',\n",
       " 'Pandas\\\\notebooks\\\\data\\\\survey_visited.csv',\n",
       " 'Pandas\\\\notebooks\\\\data\\\\weather.csv',\n",
       " 'Pandas\\\\notebooks\\\\notes',\n",
       " 'Pandas\\\\notebooks\\\\notes\\\\01-intro.ipynb',\n",
       " 'Pandas\\\\notebooks\\\\notes\\\\02-tidy.ipynb',\n",
       " 'Pandas\\\\notebooks\\\\notes\\\\03-merge.ipynb',\n",
       " 'Pandas\\\\notebooks\\\\notes\\\\billboard_ratings.csv',\n",
       " 'Pandas\\\\notebooks\\\\notes\\\\billboard_songs.csv',\n",
       " 'Pandas\\\\notebooks\\\\notes\\\\billboard_songs2023.csv',\n",
       " 'Pandas\\\\notebooks\\\\tidy.ipynb']"
      ]
     },
     "execution_count": 204,
     "metadata": {},
     "output_type": "execute_result"
    }
   ],
   "source": [
    "#recursive search current working directory and subdirectory with  all file type \n",
    "glob.glob('*/**', recursive=True) "
   ]
  },
  {
   "cell_type": "markdown",
   "id": "8c5deb12",
   "metadata": {},
   "source": [
    "##### - `os.walk()`:  Recursive Searching\n",
    "Recursively iterate through all files, directories, and subdirectories. It will return path, subdirectory, and files. "
   ]
  },
  {
   "cell_type": "code",
   "execution_count": 205,
   "id": "6cb2ceb4",
   "metadata": {},
   "outputs": [
    {
     "name": "stdout",
     "output_type": "stream",
     "text": [
      "path:c:\\demo_testfile\n",
      "directory:['data', 'datanew', 'notes', 'renamefile', 'test', 'test -copy']\n",
      "files:['AAA.txt', 'ex1.py', 'ex2.py', 'hell[o].txt', 'index.html', 'page.html', 'read.txt', 'test.txt', 'testFile1.txt']\n",
      "==========\n",
      "path:c:\\demo_testfile\\data\n",
      "directory:[]\n",
      "files:['copy2_AAA.txt', 'copy2_ex1.py', 'copy2_ex2.py', 'copy2_hell[o].txt', 'copy2_index.html', 'copy2_page.html', 'copy_AAA.txt', 'copy_ex1.py', 'copy_ex2.py', 'copy_file - with - space-1.py', 'copy_file - with - space-1.py.bk', 'copy_hell[o].txt', 'copy_index.html', 'copy_page.html']\n",
      "==========\n",
      "path:c:\\demo_testfile\\datanew\n",
      "directory:[]\n",
      "files:['copy2_page.html', 'copy_page.html']\n",
      "==========\n",
      "path:c:\\demo_testfile\\notes\n",
      "directory:['.ipynb_checkpoints']\n",
      "files:['.gitignore', '01-intro.ipynb', '02-tidy.ipynb', '03-merge.ipynb', 'billboard_ratings.csv', 'billboard_songs.csv', 'billboard_songs2023.csv']\n",
      "==========\n",
      "path:c:\\demo_testfile\\notes\\.ipynb_checkpoints\n",
      "directory:[]\n",
      "files:['01-intro-checkpoint.ipynb', '02-tidy-checkpoint.ipynb']\n",
      "==========\n",
      "path:c:\\demo_testfile\\renamefile\n",
      "directory:['.idea', 'data']\n",
      "files:['file - with - space-1.py', 'file - with - space-1.py.bk']\n",
      "==========\n",
      "path:c:\\demo_testfile\\renamefile\\.idea\n",
      "directory:['inspectionProfiles']\n",
      "files:['.gitignore', 'misc.xml', 'modules.xml', 'renamefile.iml', 'workspace.xml']\n",
      "==========\n",
      "path:c:\\demo_testfile\\renamefile\\.idea\\inspectionProfiles\n",
      "directory:[]\n",
      "files:['profiles_settings.xml']\n",
      "==========\n",
      "path:c:\\demo_testfile\\renamefile\\data\n",
      "directory:[]\n",
      "files:['copy2_file - with - space-1.py', 'copy2_file - with - space-1.py.bk', 'copy_file - with - space-1.py', 'copy_file - with - space-1.py.bk']\n",
      "==========\n",
      "path:c:\\demo_testfile\\test\n",
      "directory:['data']\n",
      "files:['1.txt', '2.txt']\n",
      "==========\n",
      "path:c:\\demo_testfile\\test\\data\n",
      "directory:[]\n",
      "files:['billboard.csv', 'concat_1.csv', 'concat_2.csv', 'concat_3.csv', 'country_timeseries.csv', 'gapminder.tsv', 'intro.ipynb', 'pew.csv', 'survey_person.csv', 'survey_site.csv', 'survey_survey.csv', 'survey_visited.csv', 'weather.csv']\n",
      "==========\n",
      "path:c:\\demo_testfile\\test -copy\n",
      "directory:['data']\n",
      "files:['1.txt', '2.txt']\n",
      "==========\n",
      "path:c:\\demo_testfile\\test -copy\\data\n",
      "directory:[]\n",
      "files:['billboard.csv', 'concat_1.csv', 'concat_2.csv', 'concat_3.csv', 'country_timeseries.csv', 'gapminder.tsv', 'intro.ipynb', 'pew.csv', 'survey_person.csv', 'survey_site.csv', 'survey_survey.csv', 'survey_visited.csv', 'weather.csv']\n",
      "==========\n"
     ]
    }
   ],
   "source": [
    "directory=r'c:\\demo_testfile'\n",
    "for  path, subdirs, files in os.walk(directory):\n",
    "    print(f'path:{path}')\n",
    "    print(f'directory:{subdirs}')\n",
    "    print(f'files:{files}')\n",
    "    print('==========')"
   ]
  },
  {
   "cell_type": "code",
   "execution_count": 207,
   "id": "c5d53356",
   "metadata": {},
   "outputs": [
    {
     "name": "stdout",
     "output_type": "stream",
     "text": [
      "c:\\demo_testfile\\AAA.txt\n",
      "c:\\demo_testfile\\ex1.py\n",
      "c:\\demo_testfile\\ex2.py\n",
      "c:\\demo_testfile\\hell[o].txt\n",
      "c:\\demo_testfile\\index.html\n",
      "c:\\demo_testfile\\page.html\n",
      "c:\\demo_testfile\\read.txt\n",
      "c:\\demo_testfile\\test.txt\n",
      "c:\\demo_testfile\\testFile1.txt\n",
      "c:\\demo_testfile\\data\\copy2_AAA.txt\n",
      "c:\\demo_testfile\\data\\copy2_ex1.py\n",
      "c:\\demo_testfile\\data\\copy2_ex2.py\n",
      "c:\\demo_testfile\\data\\copy2_hell[o].txt\n",
      "c:\\demo_testfile\\data\\copy2_index.html\n",
      "c:\\demo_testfile\\data\\copy2_page.html\n",
      "c:\\demo_testfile\\data\\copy_AAA.txt\n",
      "c:\\demo_testfile\\data\\copy_ex1.py\n",
      "c:\\demo_testfile\\data\\copy_ex2.py\n",
      "c:\\demo_testfile\\data\\copy_file - with - space-1.py\n",
      "c:\\demo_testfile\\data\\copy_file - with - space-1.py.bk\n",
      "c:\\demo_testfile\\data\\copy_hell[o].txt\n",
      "c:\\demo_testfile\\data\\copy_index.html\n",
      "c:\\demo_testfile\\data\\copy_page.html\n",
      "c:\\demo_testfile\\datanew\\copy2_page.html\n",
      "c:\\demo_testfile\\datanew\\copy_page.html\n",
      "c:\\demo_testfile\\notes\\.gitignore\n",
      "c:\\demo_testfile\\notes\\01-intro.ipynb\n",
      "c:\\demo_testfile\\notes\\02-tidy.ipynb\n",
      "c:\\demo_testfile\\notes\\03-merge.ipynb\n",
      "c:\\demo_testfile\\notes\\billboard_ratings.csv\n",
      "c:\\demo_testfile\\notes\\billboard_songs.csv\n",
      "c:\\demo_testfile\\notes\\billboard_songs2023.csv\n",
      "c:\\demo_testfile\\notes\\.ipynb_checkpoints\\01-intro-checkpoint.ipynb\n",
      "c:\\demo_testfile\\notes\\.ipynb_checkpoints\\02-tidy-checkpoint.ipynb\n",
      "c:\\demo_testfile\\renamefile\\file - with - space-1.py\n",
      "c:\\demo_testfile\\renamefile\\file - with - space-1.py.bk\n",
      "c:\\demo_testfile\\renamefile\\.idea\\.gitignore\n",
      "c:\\demo_testfile\\renamefile\\.idea\\misc.xml\n",
      "c:\\demo_testfile\\renamefile\\.idea\\modules.xml\n",
      "c:\\demo_testfile\\renamefile\\.idea\\renamefile.iml\n",
      "c:\\demo_testfile\\renamefile\\.idea\\workspace.xml\n",
      "c:\\demo_testfile\\renamefile\\.idea\\inspectionProfiles\\profiles_settings.xml\n",
      "c:\\demo_testfile\\renamefile\\data\\copy2_file - with - space-1.py\n",
      "c:\\demo_testfile\\renamefile\\data\\copy2_file - with - space-1.py.bk\n",
      "c:\\demo_testfile\\renamefile\\data\\copy_file - with - space-1.py\n",
      "c:\\demo_testfile\\renamefile\\data\\copy_file - with - space-1.py.bk\n",
      "c:\\demo_testfile\\test\\1.txt\n",
      "c:\\demo_testfile\\test\\2.txt\n",
      "c:\\demo_testfile\\test\\data\\billboard.csv\n",
      "c:\\demo_testfile\\test\\data\\concat_1.csv\n",
      "c:\\demo_testfile\\test\\data\\concat_2.csv\n",
      "c:\\demo_testfile\\test\\data\\concat_3.csv\n",
      "c:\\demo_testfile\\test\\data\\country_timeseries.csv\n",
      "c:\\demo_testfile\\test\\data\\gapminder.tsv\n",
      "c:\\demo_testfile\\test\\data\\intro.ipynb\n",
      "c:\\demo_testfile\\test\\data\\pew.csv\n",
      "c:\\demo_testfile\\test\\data\\survey_person.csv\n",
      "c:\\demo_testfile\\test\\data\\survey_site.csv\n",
      "c:\\demo_testfile\\test\\data\\survey_survey.csv\n",
      "c:\\demo_testfile\\test\\data\\survey_visited.csv\n",
      "c:\\demo_testfile\\test\\data\\weather.csv\n",
      "c:\\demo_testfile\\test -copy\\1.txt\n",
      "c:\\demo_testfile\\test -copy\\2.txt\n",
      "c:\\demo_testfile\\test -copy\\data\\billboard.csv\n",
      "c:\\demo_testfile\\test -copy\\data\\concat_1.csv\n",
      "c:\\demo_testfile\\test -copy\\data\\concat_2.csv\n",
      "c:\\demo_testfile\\test -copy\\data\\concat_3.csv\n",
      "c:\\demo_testfile\\test -copy\\data\\country_timeseries.csv\n",
      "c:\\demo_testfile\\test -copy\\data\\gapminder.tsv\n",
      "c:\\demo_testfile\\test -copy\\data\\intro.ipynb\n",
      "c:\\demo_testfile\\test -copy\\data\\pew.csv\n",
      "c:\\demo_testfile\\test -copy\\data\\survey_person.csv\n",
      "c:\\demo_testfile\\test -copy\\data\\survey_site.csv\n",
      "c:\\demo_testfile\\test -copy\\data\\survey_survey.csv\n",
      "c:\\demo_testfile\\test -copy\\data\\survey_visited.csv\n",
      "c:\\demo_testfile\\test -copy\\data\\weather.csv\n"
     ]
    }
   ],
   "source": [
    "#concatenate the directory and file name\n",
    "directory=r'c:\\demo_testfile'\n",
    "for  path, subdirs, files in os.walk(directory):\n",
    "    for name in files:\n",
    "        print(os.path.join(path, name))"
   ]
  },
  {
   "cell_type": "code",
   "execution_count": 210,
   "id": "bd438c94",
   "metadata": {},
   "outputs": [],
   "source": [
    "#filter single file type \n",
    "def single_filtertype(dir):\n",
    "    \n",
    "    for root, dirs, files in os.walk(dir):\n",
    "        for filename in files:\n",
    "            if filename.endswith ('.txt'):\n",
    "                print(filename)\n",
    "\n",
    "def multiple_filtertype(dir):                \n",
    "    for root, dirs, files in os.walk(dir):\n",
    "        for filename in files:\n",
    "            if filename.endswith (('.txt', '.py')):\n",
    "                print(filename)                "
   ]
  },
  {
   "cell_type": "code",
   "execution_count": 211,
   "id": "910b098d",
   "metadata": {},
   "outputs": [
    {
     "name": "stdout",
     "output_type": "stream",
     "text": [
      "AAA.txt\n",
      "hell[o].txt\n",
      "read.txt\n",
      "test.txt\n",
      "testFile1.txt\n",
      "copy2_AAA.txt\n",
      "copy2_hell[o].txt\n",
      "copy_AAA.txt\n",
      "copy_hell[o].txt\n",
      "1.txt\n",
      "2.txt\n",
      "1.txt\n",
      "2.txt\n"
     ]
    }
   ],
   "source": [
    "directory = r'c:\\demo_testfile' \n",
    "#filter only one file type\n",
    "single_filtertype(directory)"
   ]
  },
  {
   "cell_type": "code",
   "execution_count": 213,
   "id": "bc04a31c",
   "metadata": {},
   "outputs": [
    {
     "name": "stdout",
     "output_type": "stream",
     "text": [
      "AAA.txt\n",
      "ex1.py\n",
      "ex2.py\n",
      "hell[o].txt\n",
      "read.txt\n",
      "test.txt\n",
      "testFile1.txt\n",
      "copy2_AAA.txt\n",
      "copy2_ex1.py\n",
      "copy2_ex2.py\n",
      "copy2_hell[o].txt\n",
      "copy_AAA.txt\n",
      "copy_ex1.py\n",
      "copy_ex2.py\n",
      "copy_file - with - space-1.py\n",
      "copy_hell[o].txt\n",
      "file - with - space-1.py\n",
      "copy2_file - with - space-1.py\n",
      "copy_file - with - space-1.py\n",
      "1.txt\n",
      "2.txt\n",
      "1.txt\n",
      "2.txt\n"
     ]
    }
   ],
   "source": [
    "#filter multiple file type, ex: .py and .txt\n",
    "multiple_filtertype(directory)"
   ]
  },
  {
   "cell_type": "markdown",
   "id": "8e537524",
   "metadata": {},
   "source": [
    "<a id='part2'></a>\n",
    "## Part 2 File and Directory Operations  [🔝](#toc)"
   ]
  },
  {
   "cell_type": "markdown",
   "id": "66b4f3a1",
   "metadata": {},
   "source": [
    "Note: Create file, please go to write section, os,path don't have touch this method "
   ]
  },
  {
   "cell_type": "markdown",
   "id": "9e84bb96",
   "metadata": {},
   "source": [
    "- [1. Create directory](#part2_createdir)\n",
    "    - `os.mkdir(path)`\n",
    "    - `os.makedirs(path)`\n",
    "- [2. Remove Directory and File](#part2_RemoveDirectoryFile)\n",
    "    - [2.1 Remove Empty Directory](#2.1-Remove-Empty-Directory)\n",
    "        - `os.rmdir(path)`\n",
    "        - `os.removedirs()`\n",
    "    - [2.2 Remove individual File](#2.2-removeFile)\n",
    "    - [2.3 Remove Non Empty content](#part2-2.3-RemoveNonEmptyDir)\n",
    "        - `shutil.rmtree`\n",
    "- [3. Copying](#part2_Copying)\n",
    "    - [3.1 Copy File](#3.1-Copy-File)\n",
    "        - `shutil.copy` and `shutil.copy2` \n",
    "    - [3.2 Copy Directory](#3.2-Copy-Directory) \n",
    "        - `shutil.rmtree`\n",
    "- [4. Rename](#part4-Rename)\n",
    "    - `os.rename(src, dst)`\n",
    "- [5. Read and write file](#part2-ReadWriteFile)\n",
    "    - [5.1 with built-in](#5.1-with-built-in)"
   ]
  },
  {
   "cell_type": "markdown",
   "id": "a6a0bdb9",
   "metadata": {},
   "source": [
    "<a id='part2_createdir'></a>\n",
    "### 1. Create directory [🔙](#part2)"
   ]
  },
  {
   "cell_type": "markdown",
   "id": "b2d8e84a",
   "metadata": {},
   "source": [
    "##### - `os.mkdir(path)`\n",
    "Creates a new directory at the specified path."
   ]
  },
  {
   "cell_type": "code",
   "execution_count": 217,
   "id": "b86c70b1",
   "metadata": {},
   "outputs": [
    {
     "name": "stdout",
     "output_type": "stream",
     "text": [
      "['.ipynb_checkpoints', 'Basic Guide to Pandas! Tricks, Shortcuts( Python Simplified).ipynb', 'DataType', 'done_toremove', 'elog_example', 'hahow_scrap_pandas_mathplot', 'iterate_filter_file.ipynb', 'jupterNote.ipynb', 'numpy.ipynb', 'os.path_reorganize.ipynb', 'Pandas', 'Pathlib Basics(orgainize_final).ipynb', 'Pathlib_reorganize.ipynb', 'test123', 'tmp.ipynb', 'Understanding File Pattern Matching with Glob and Fnmatch.ipynb']\n"
     ]
    }
   ],
   "source": [
    "#os module\n",
    "os.mkdir('test123') #Creates a directory.\n",
    "print(os.listdir())"
   ]
  },
  {
   "cell_type": "code",
   "execution_count": 219,
   "id": "1db89598",
   "metadata": {},
   "outputs": [
    {
     "name": "stdout",
     "output_type": "stream",
     "text": [
      "['.ipynb_checkpoints', 'Basic Guide to Pandas! Tricks, Shortcuts( Python Simplified).ipynb', 'DataType', 'dirname', 'done_toremove', 'elog_example', 'hahow_scrap_pandas_mathplot', 'iterate_filter_file.ipynb', 'jupterNote.ipynb', 'numpy.ipynb', 'os.path_reorganize.ipynb', 'Pandas', 'Pathlib Basics(orgainize_final).ipynb', 'Pathlib_reorganize.ipynb', 'test123', 'tmp.ipynb', 'Understanding File Pattern Matching with Glob and Fnmatch.ipynb']\n"
     ]
    }
   ],
   "source": [
    "#check directory exist if not create it\n",
    "if not os.path.exists('dirname'):\n",
    "    os.mkdir('dirname')\n",
    "else: \n",
    "    print('directory exist')\n",
    "print(os.listdir())"
   ]
  },
  {
   "cell_type": "markdown",
   "id": "e6b6f99c",
   "metadata": {},
   "source": [
    "##### - `os.makedirs`\n",
    "Create sub directories"
   ]
  },
  {
   "cell_type": "code",
   "execution_count": 240,
   "id": "ba93a268",
   "metadata": {},
   "outputs": [
    {
     "name": "stdout",
     "output_type": "stream",
     "text": [
      "Root: C:\\Users\\test\\python_test\\test123\\subdir\n"
     ]
    }
   ],
   "source": [
    "path = os.path.join(os.getcwd(), \"test123\", \"subdir\")\n",
    "os.makedirs(path, exist_ok=True)\n",
    "for root, dirs, files in os.walk(path):\n",
    "    print(f\"Root: {root}\")\n",
    "    for d in dirs:\n",
    "        print(f\" - {os.path.join(root, d)}\")"
   ]
  },
  {
   "cell_type": "markdown",
   "id": "e29ceaf4",
   "metadata": {},
   "source": [
    "<a id='part2_RemoveDirectoryFile'></a>\n",
    "### 2. Remove Directory and File [🔙](#part2)"
   ]
  },
  {
   "cell_type": "markdown",
   "id": "20a3b14c",
   "metadata": {},
   "source": [
    "#### 2.1 Remove Empty Directory"
   ]
  },
  {
   "cell_type": "markdown",
   "id": "f4de18a7",
   "metadata": {},
   "source": [
    "##### - `os.rmdir(path)`\n",
    "delete empty directory "
   ]
  },
  {
   "cell_type": "code",
   "execution_count": 19,
   "id": "4088b8b7",
   "metadata": {},
   "outputs": [
    {
     "name": "stdout",
     "output_type": "stream",
     "text": [
      "Before Removal: ['testdir\\\\subdir', 'testdir\\\\subdir\\\\emptydir']\n",
      "After  Removal: ['testdir\\\\subdir']\n"
     ]
    }
   ],
   "source": [
    "# Create directories\n",
    "path = \"testdir/subdir/emptydir\"\n",
    "os.makedirs(path, exist_ok=True)\n",
    "\n",
    "def list_dirs(base_path):\n",
    "    return [os.path.join(root, d) for root, dirs, files in os.walk(base_path) for d in dirs]\n",
    "\n",
    "# Show directories before removal\n",
    "print(\"Before Removal:\", list_dirs(\"testdir\"))\n",
    "\n",
    "# Remove only 'emptydir' (works since it's empty)\n",
    "os.rmdir(\"testdir/subdir/emptydir\")\n",
    "# Show directories before removal\n",
    "print(\"After  Removal:\", list_dirs(\"testdir\"))"
   ]
  },
  {
   "cell_type": "code",
   "execution_count": 21,
   "id": "902210c3",
   "metadata": {},
   "outputs": [
    {
     "name": "stdout",
     "output_type": "stream",
     "text": [
      "\n",
      "Before Removal\n",
      "Root: testdir\n",
      "Root: testdir\\subdir\n",
      "Root: testdir\\subdir\\emptydir\n",
      "\n",
      "After Removal\n",
      "Root: testdir\n",
      "Root: testdir\\subdir\n"
     ]
    }
   ],
   "source": [
    "#display subdirectory\n",
    "\n",
    "# Create directories\n",
    "path = \"testdir/subdir/emptydir\"\n",
    "os.makedirs(path, exist_ok=True)\n",
    "\n",
    "    \n",
    "# Function to show directory structure\n",
    "def show_dirs(base_path, title):\n",
    "    print(f\"\\n{title}\")\n",
    "    for root, dirs, files in os.walk(base_path):\n",
    "        print(f\"Root: {root}\")\n",
    "        #for d in dirs:\n",
    "            #print(f\" - {os.path.join(root, d)}\")\n",
    "\n",
    "# Show structure before removal\n",
    "show_dirs(\"testdir\", \"Before Removal\")\n",
    "\n",
    "# Remove only 'emptydir' (works since it's empty)\n",
    "os.rmdir(\"testdir/subdir/emptydir\")\n",
    "\n",
    "# Show structure after removal\n",
    "show_dirs(\"testdir\", \"After Removal\")\n"
   ]
  },
  {
   "cell_type": "markdown",
   "id": "2b486d6c",
   "metadata": {},
   "source": [
    "##### - `os.removedirs()`\n",
    "deletes empty directories recursively"
   ]
  },
  {
   "cell_type": "code",
   "execution_count": 22,
   "id": "dbe01818",
   "metadata": {},
   "outputs": [
    {
     "name": "stdout",
     "output_type": "stream",
     "text": [
      "Before Removal: ['testdir\\\\subdir', 'testdir\\\\subdir\\\\emptydir']\n",
      "After  Removal: []\n"
     ]
    }
   ],
   "source": [
    "path = \"testdir/subdir/emptydir\"\n",
    "# Create directories\n",
    "os.makedirs(path, exist_ok=True)\n",
    "\n",
    "def list_dirs(base_path):\n",
    "    return [os.path.join(root, d) for root, dirs, files in os.walk(base_path) for d in dirs]\n",
    "\n",
    "# Show directories before removal\n",
    "print(\"Before Removal:\", list_dirs(\"testdir\"))\n",
    "\n",
    "# Remove only 'emptydir' (works since it's empty)\n",
    "\n",
    "os.removedirs(\"testdir/subdir/emptydir\")\n",
    "# Show directories before removal\n",
    "print(\"After  Removal:\", list_dirs(\"testdir\"))"
   ]
  },
  {
   "cell_type": "markdown",
   "id": "6000316a",
   "metadata": {},
   "source": [
    "display subdirectory"
   ]
  },
  {
   "cell_type": "code",
   "execution_count": 23,
   "id": "1bf914ea",
   "metadata": {},
   "outputs": [
    {
     "name": "stdout",
     "output_type": "stream",
     "text": [
      "\n",
      "Before Removal\n",
      "Root: testdir\n",
      "Root: testdir\\subdir\n",
      "Root: testdir\\subdir\\emptydir\n",
      "\n",
      "After Removal\n"
     ]
    }
   ],
   "source": [
    "# Create directories\n",
    "path = \"testdir/subdir/emptydir\"\n",
    "os.makedirs(path, exist_ok=True)\n",
    "    \n",
    "# Function to show directory structure\n",
    "def show_dirs(base_path, title):\n",
    "    print(f\"\\n{title}\")\n",
    "    for root, dirs, files in os.walk(base_path):\n",
    "        print(f\"Root: {root}\")\n",
    "        #for d in dirs:\n",
    "            #print(f\" - {os.path.join(root, d)}\")\n",
    "\n",
    "# Show structure before removal\n",
    "show_dirs(\"testdir\", \"Before Removal\")\n",
    "\n",
    "# Remove only 'emptydir' (works since it's empty)\n",
    "os.removedirs(\"testdir/subdir/emptydir\")\n",
    "\n",
    "# Show structure after removal\n",
    "show_dirs(\"testdir\", \"After Removal\")\n"
   ]
  },
  {
   "cell_type": "markdown",
   "id": "45311bac",
   "metadata": {},
   "source": [
    "#### 2.2 Remove individual File"
   ]
  },
  {
   "cell_type": "markdown",
   "id": "ad21caa1",
   "metadata": {},
   "source": [
    "<a id='2.2-removeFile'></a>\n",
    "##### - `os.remove()`  or  `os.unlink()`\n",
    "only remove individual files, `os.unlink(path)` is an alias for `os.remove(path)`"
   ]
  },
  {
   "cell_type": "code",
   "execution_count": 54,
   "id": "3de2e4e1",
   "metadata": {},
   "outputs": [
    {
     "name": "stdout",
     "output_type": "stream",
     "text": [
      "Before file creation: ['copy2_page.html', 'copy_page.html']\n",
      "After file creation: ['copy2_page.html', 'copy_page.html', 'testfile.txt']\n",
      "After file deletion: ['copy2_page.html', 'copy_page.html']\n"
     ]
    }
   ],
   "source": [
    "import os\n",
    "\n",
    "dir_path = r'C:\\demo_testfile\\datanew'  # Directory path\n",
    "filename = os.path.join(dir_path, 'testfile.txt')  # File path\n",
    "def list_file(base_path):\n",
    "    return [os.path.join(root, f) for root, dirs, files in os.walk(base_path) for f in files]\n",
    "\n",
    "def list_files(directory):\n",
    "    \"\"\"List all files in the specified directory.\"\"\"\n",
    "    return os.listdir(directory)\n",
    "\n",
    "# Step 1: Show files before creation\n",
    "print(\"Before file creation:\", list_files(dir_path))\n",
    "\n",
    "# Step 2: Create a file\n",
    "with open(filename, 'w') as file:\n",
    "    file.write('This is a test file')\n",
    "\n",
    "# Step 3: Show files after creation\n",
    "print(\"After file creation:\", list_files(dir_path))\n",
    "\n",
    "# Step 4: Delete the file\n",
    "os.remove(filename)\n",
    "\n",
    "# Step 5: Show files after deletion\n",
    "print(\"After file deletion:\", list_files(dir_path))\n",
    "\n"
   ]
  },
  {
   "cell_type": "markdown",
   "id": "bac8dc1f",
   "metadata": {},
   "source": [
    "<a id='part2-2.3-RemoveNonEmptyDir'></a>\n",
    "#### 2.3 Remove Non Empty content (file/directory)"
   ]
  },
  {
   "cell_type": "markdown",
   "id": "76fd44da",
   "metadata": {},
   "source": [
    "##### - `shutil.rmtree`\n",
    "> import module: `import shutil`"
   ]
  },
  {
   "cell_type": "markdown",
   "id": "f0ce7514",
   "metadata": {},
   "source": [
    "- Create File in Directory"
   ]
  },
  {
   "cell_type": "code",
   "execution_count": 56,
   "id": "c7bec241",
   "metadata": {},
   "outputs": [
    {
     "name": "stdout",
     "output_type": "stream",
     "text": [
      "Create directory and file\n",
      "Root: testdir\n",
      " - testdir\\example.txt\n"
     ]
    }
   ],
   "source": [
    "import shutil\n",
    "path = \"testdir\"\n",
    "def creatfile(p):\n",
    "    # Create the directory\n",
    "    path=p\n",
    "    os.makedirs(path, exist_ok=True)\n",
    "\n",
    "    # Create a file inside the 'emptydir' directory\n",
    "    file_path = os.path.join(path, \"example.txt\")\n",
    "    with open(file_path, 'w') as f:\n",
    "        f.write(\"This is a file inside the directory.\")  # Writing some content to the file\n",
    "def checkdir(path):\n",
    "    if os.path.exists(path):\n",
    "        for root, dirs, files in os.walk(path):\n",
    "            print(f\"Root: {root}\")\n",
    "            for d in files:\n",
    "                print(f\" - {os.path.join(root, d)}\")\n",
    "    else:\n",
    "        print('directory not exist')\n",
    "            \n",
    "print('Create directory and file')\n",
    "creatfile(path)\n",
    "checkdir(path)\n"
   ]
  },
  {
   "cell_type": "markdown",
   "id": "901c1876",
   "metadata": {},
   "source": [
    "- remove directory(which not empty directory) will raise error "
   ]
  },
  {
   "cell_type": "code",
   "execution_count": 58,
   "id": "04a7e39d",
   "metadata": {},
   "outputs": [
    {
     "ename": "OSError",
     "evalue": "[WinError 145] 目錄不是空的。: 'testdir'",
     "output_type": "error",
     "traceback": [
      "\u001b[1;31m---------------------------------------------------------------------------\u001b[0m",
      "\u001b[1;31mOSError\u001b[0m                                   Traceback (most recent call last)",
      "Cell \u001b[1;32mIn[58], line 2\u001b[0m\n\u001b[0;32m      1\u001b[0m \u001b[38;5;66;03m#remove remove non empty directory occur error \u001b[39;00m\n\u001b[1;32m----> 2\u001b[0m \u001b[43mos\u001b[49m\u001b[38;5;241;43m.\u001b[39;49m\u001b[43mrmdir\u001b[49m\u001b[43m(\u001b[49m\u001b[43mpath\u001b[49m\u001b[43m)\u001b[49m\n",
      "\u001b[1;31mOSError\u001b[0m: [WinError 145] 目錄不是空的。: 'testdir'"
     ]
    }
   ],
   "source": [
    "#remove remove non empty directory occur error \n",
    "os.rmdir(path)  "
   ]
  },
  {
   "cell_type": "markdown",
   "id": "ac6154ff",
   "metadata": {},
   "source": [
    "- using shutil remove nonempty directory"
   ]
  },
  {
   "cell_type": "code",
   "execution_count": 60,
   "id": "1a7e6094",
   "metadata": {},
   "outputs": [
    {
     "name": "stdout",
     "output_type": "stream",
     "text": [
      "Root: testdir\n",
      " - testdir\\example.txt\n",
      "Delete the directory:\n",
      "directory not exist\n"
     ]
    }
   ],
   "source": [
    "import shutil\n",
    "checkdir(path)\n",
    "print('Delete the directory:')   \n",
    "shutil.rmtree(\"testdir\")\n",
    "checkdir(path)"
   ]
  },
  {
   "cell_type": "markdown",
   "id": "f4aa6d44",
   "metadata": {},
   "source": [
    "<a id='part2_Copying'></a>\n",
    "### 3. Copying File/Directory [🔙](#part2)"
   ]
  },
  {
   "cell_type": "markdown",
   "id": "9287f49a",
   "metadata": {},
   "source": [
    "#### 3.1 Copy File"
   ]
  },
  {
   "cell_type": "markdown",
   "id": "d51afc5f",
   "metadata": {},
   "source": [
    "##### - `shutil.copy` and `shutil.copy2`"
   ]
  },
  {
   "cell_type": "markdown",
   "id": "bfc46e5d",
   "metadata": {},
   "source": [
    "> - `copy` or `copy1()`: single file \n",
    "Copies **only the file's content**. It creates a new file at the destination with **default metadata** (e.g., current timestamp, default permissions).\n",
    "\n",
    ">  - `copy2`: single file with metadata (timestamps, permissions)\n",
    "Copies **both the content and metadata** of the file. The destination file will **retain the same timestamps, permissions, and ownership** as the original file\n",
    "\n",
    "> - `os.stat`\n",
    "check **metadeta** of file information"
   ]
  },
  {
   "cell_type": "code",
   "execution_count": 102,
   "id": "85355439",
   "metadata": {},
   "outputs": [
    {
     "name": "stdout",
     "output_type": "stream",
     "text": [
      "Copying: copy2_file - with - space-1.py -> data2\\copy_copy2_file - with - space-1.py\n",
      "File: copy2_file - with - space-1.py\n",
      "  Original Modified Time: 1736910459.6833546\n",
      "  Copy Modified Time:     1740388569.6539938\n",
      "  Copy2 Modified Time:    1736910459.6833546\n",
      "\n",
      "Copying: copy_file - with - space-1.py -> data2\\copy_copy_file - with - space-1.py\n",
      "File: copy_file - with - space-1.py\n",
      "  Original Modified Time: 1740037620.6427584\n",
      "  Copy Modified Time:     1740388569.6598165\n",
      "  Copy2 Modified Time:    1740037620.6427584\n",
      "\n",
      "Skipping directory: data2\n",
      "Copying: fff.txt -> data2\\copy_fff.txt\n",
      "File: fff.txt\n",
      "  Original Modified Time: 1740384182.245061\n",
      "  Copy Modified Time:     1740388569.6638126\n",
      "  Copy2 Modified Time:    1740384182.245061\n",
      "\n",
      "Copying: file - with - space-1.py.bk -> data2\\copy_file - with - space-1.py.bk\n",
      "File: file - with - space-1.py.bk\n",
      "  Original Modified Time: 1736910459.6833546\n",
      "  Copy Modified Time:     1740388569.6688087\n",
      "  Copy2 Modified Time:    1736910459.6833546\n",
      "\n",
      "Copying: test.txt -> data2\\copy_test.txt\n",
      "File: test.txt\n",
      "  Original Modified Time: 1740386984.899614\n",
      "  Copy Modified Time:     1740388569.6728103\n",
      "  Copy2 Modified Time:    1740386984.899614\n",
      "\n",
      "Copying: test12345.txt -> data2\\copy_test12345.txt\n",
      "File: test12345.txt\n",
      "  Original Modified Time: 1740383689.0719292\n",
      "  Copy Modified Time:     1740388569.6788027\n",
      "  Copy2 Modified Time:    1740383689.0719292\n",
      "\n"
     ]
    }
   ],
   "source": [
    "import shutil\n",
    "import os\n",
    "\n",
    "path = r'C:\\demo_testfile'\n",
    "\n",
    "os.chdir(r'C:\\demo_testfile\\renamefile')\n",
    "\n",
    "# Ensure 'data2' directory exists\n",
    "if not os.path.exists(\"data2\"):\n",
    "    os.mkdir('data2')\n",
    "\n",
    "# Iterate over files in the directory\n",
    "for file in os.listdir():\n",
    "    if file in ['__pycache__', 'data', '.idea']:\n",
    "        continue\n",
    "\n",
    "    # Ensure we only process files, not directories\n",
    "    if not os.path.isfile(file):\n",
    "        print(f\"Skipping directory: {file}\")\n",
    "        continue\n",
    "\n",
    "    # Paths for copied files\n",
    "    copy_path = os.path.join('data2', f\"copy_{file}\")\n",
    "    copy2_path = os.path.join('data2', f\"copy2_{file}\")\n",
    "\n",
    "    #print(f\"Copying: {file} -> {copy_path}\")\n",
    "    shutil.copy(file, copy_path)  # Copy without metadata\n",
    "    shutil.copy2(file, copy2_path)  # Copy with metadata\n",
    "    original_stats = os.stat(file)\n",
    "    copy_stats = os.stat(copy_path)\n",
    "   \n",
    "    # Display timestamps using os.stat\n",
    "    original_stats = os.stat(file)\n",
    "    copy_stats = os.stat(copy_path)\n",
    "    copy2_stats = os.stat(copy2_path)\n",
    "\n",
    "    print(f\"File: {file}\")\n",
    "    print(f\"  Original Modified Time: {original_stats.st_mtime}\")\n",
    "    print(f\"  Copy Modified Time:     {copy_stats.st_mtime}\")\n",
    "    print(f\"  Copy2 Modified Time:    {copy2_stats.st_mtime}\")\n",
    "    print()\n",
    "# Switch back to original directory\n",
    "os.chdir(path)\n"
   ]
  },
  {
   "cell_type": "code",
   "execution_count": null,
   "id": "32a53348",
   "metadata": {},
   "outputs": [],
   "source": [
    "for file in os.listdir():\n",
    "    if file in ['__pycache__', 'data','.idea']:\n",
    "        continue \n",
    "    # Paths for copied files\n",
    "    copy_path = os.path.join('data', f\"copy_{file}\")\n",
    "    copy2_path = os.path.join('data', f\"copy2_{file}\")\n",
    "    print(f\"copy_path: {copy_path}\")\n",
    "    shutil.copy(file, copy_path) #Copy without metadata\n",
    "    print(f\"copy2_path: {copy2_path}\")\n",
    "    shutil.copy2(file, copy2_path)  # Copy with metadata\n",
    "\n",
    "    original_stats = os.stat(file)\n",
    "    copy_stats = os.stat(copy_path)\n",
    "   \n",
    "    # Display timestamps using os.stat\n",
    "    original_stats = os.stat(file)\n",
    "    copy_stats = os.stat(copy_path)\n",
    "    copy2_stats = os.stat(copy2_path)\n",
    "\n",
    "    print(f\"File: {file}\")\n",
    "    print(f\"  Original Modified Time: {original_stats.st_mtime}\")\n",
    "    print(f\"  Copy Modified Time:     {copy_stats.st_mtime}\")\n",
    "    print(f\"  Copy2 Modified Time:    {copy2_stats.st_mtime}\")\n",
    "    print()\n",
    "\n",
    "#switch to default directory\n",
    "os.chdir(path)"
   ]
  },
  {
   "cell_type": "markdown",
   "id": "33b64ad3",
   "metadata": {},
   "source": [
    "#### 3.2 Copy Directory"
   ]
  },
  {
   "cell_type": "markdown",
   "id": "e895e58b",
   "metadata": {},
   "source": [
    "##### - `shutil.rmtree`: copy directory"
   ]
  },
  {
   "cell_type": "code",
   "execution_count": 307,
   "id": "12a32f2e",
   "metadata": {},
   "outputs": [
    {
     "name": "stdout",
     "output_type": "stream",
     "text": [
      "['.idea', 'data', 'data_copy']\n"
     ]
    },
    {
     "data": {
      "text/plain": [
       "'C:\\\\demo_testfile\\\\renamefile\\\\data_copy2'"
      ]
     },
     "execution_count": 307,
     "metadata": {},
     "output_type": "execute_result"
    }
   ],
   "source": [
    "path = r'C:\\demo_testfile\\renamefile'\n",
    "\n",
    "# Check if the directory exists\n",
    "if os.path.exists(path):\n",
    "    directories = [entry for entry in os.listdir(path) if os.path.isdir(os.path.join(path, entry))]\n",
    "    print(directories)\n",
    "else:\n",
    "    print('Directory does not exist')\n",
    "    os.makedirs(path, exist_ok=True)  # Create the directory\n",
    "\n",
    "copydatadir = os.path.join(path, 'data_copy2')\n",
    "\n",
    "# Ensure the destination directory does not exist before using copytree\n",
    "if os.path.exists(copydatadir):\n",
    "    shutil.rmtree(copydatadir)\n",
    "\n",
    "shutil.copytree(os.path.join(path, 'data'), copydatadir)"
   ]
  },
  {
   "cell_type": "markdown",
   "id": "a85bff72",
   "metadata": {},
   "source": [
    "<a id='part4-Rename'></a>\n",
    "### 4. Rename [🔙](#part2)"
   ]
  },
  {
   "cell_type": "markdown",
   "id": "9783e855",
   "metadata": {},
   "source": [
    "##### - `os.rename(src, dst)`\n",
    "renaming or moving within the same filesystem"
   ]
  },
  {
   "cell_type": "code",
   "execution_count": 106,
   "id": "7626a417",
   "metadata": {},
   "outputs": [
    {
     "name": "stdout",
     "output_type": "stream",
     "text": [
      "#####list directory's filename####\n",
      "BBB.txt\n",
      "hell[o].txt\n",
      "read.txt\n",
      "test.txt\n",
      "testFile1.txt\n",
      "#####rename's filename####\n",
      "C:\\demo_testfile\\AAA.txt does not exist\n"
     ]
    }
   ],
   "source": [
    "path = r'C:\\demo_testfile'\n",
    "old_name = os.path.join(path, 'AAA.txt')  # Full path of the existing file\n",
    "new_name = os.path.join(path, 'BBB.txt')  # Full path of the new file\n",
    "print('#####list directory\\'s filename####')\n",
    "for file in os.listdir(path):\n",
    "    #print(file)\n",
    "    #full_path = os.path.join(path2, file) \n",
    "    if file.endswith('.txt'):\n",
    "        print(file)\n",
    "print('#####rename\\'s filename####')        \n",
    "if os.path.exists(old_name):  # Check if AAA.txt exists\n",
    "    os.rename(old_name, new_name)\n",
    "    print(f\"Renamed: {old_name} -> {new_name}\")\n",
    "else:\n",
    "    print(f\"{old_name} does not exist\")"
   ]
  },
  {
   "cell_type": "code",
   "execution_count": 78,
   "id": "f8c98e5d",
   "metadata": {},
   "outputs": [
    {
     "name": "stdout",
     "output_type": "stream",
     "text": [
      "C:\\demo_testfile\\AAA.txt does not exist\n"
     ]
    }
   ],
   "source": [
    "import os\n",
    "\n",
    "path = r'C:\\demo_testfile'\n",
    "old_name = os.path.join(path, 'AAA.txt')  # Full path of the existing file\n",
    "new_name = os.path.join(path, 'BBB.txt')  # Full path of the new file\n",
    "\n",
    "if os.path.exists(old_name):  # Check if AAA.txt exists\n",
    "    os.rename(old_name, new_name)\n",
    "    print(f\"Renamed: {old_name} -> {new_name}\")\n",
    "else:\n",
    "    print(f\"{old_name} does not exist\")\n"
   ]
  },
  {
   "cell_type": "markdown",
   "id": "6a00bf83",
   "metadata": {},
   "source": [
    "<a id='part2-ReadWriteFile'></a>\n",
    "### 5. Read and write file [🔙](#part2)"
   ]
  },
  {
   "cell_type": "markdown",
   "id": "9383d3bc",
   "metadata": {},
   "source": [
    "#### 5.1 with built-in"
   ]
  },
  {
   "cell_type": "markdown",
   "id": "461164d1",
   "metadata": {},
   "source": [
    "##### - `with open(filename, mode) ` using with built-in\n",
    "\n",
    "> Mode:\n",
    ">> - `r`: read as default\n",
    ">> - `w` for write: Overwrites the file if it exists, creates new if it doesn't.\n",
    ">> - `a` for append: Opens file for writing, keeps existing content, appends new data.\n",
    ">> - `x` for Exclusive Create: Fails if file exists, only creates a new file.\n",
    ">> - `b` for Binary: Used with `rb`, `wb`, etc., for binary files.\n",
    ">> - `+` for read and write: \n",
    "    - `r+`: Read & write (error if file doesn't exist, no overwrite).\n",
    "    - `w+`: Read & write (overwrites file).\n",
    "    - `a+`: Read & append (keeps existing content). "
   ]
  },
  {
   "cell_type": "code",
   "execution_count": 76,
   "id": "e178c64e",
   "metadata": {},
   "outputs": [],
   "source": [
    "with open ('test.txt', 'w') as file:\n",
    "    file.write('This is test file')"
   ]
  },
  {
   "cell_type": "code",
   "execution_count": 77,
   "id": "b8b50e7e",
   "metadata": {},
   "outputs": [
    {
     "name": "stdout",
     "output_type": "stream",
     "text": [
      "This is test file\n"
     ]
    }
   ],
   "source": [
    "with open('test.txt', \"r\") as f:\n",
    "    print(f.read())"
   ]
  },
  {
   "cell_type": "code",
   "execution_count": 319,
   "id": "88365bf9",
   "metadata": {},
   "outputs": [
    {
     "name": "stdout",
     "output_type": "stream",
     "text": [
      "This is test file\n",
      "This is test file\n"
     ]
    }
   ],
   "source": [
    "# Keeps existing content, adds new content at the end.\n",
    "with open ('test.txt', 'a') as file:\n",
    "    file.write('\\nThis is test file')\n",
    "with open('test.txt', \"r\") as f:\n",
    "    print(f.read())"
   ]
  },
  {
   "cell_type": "markdown",
   "id": "a164af3e",
   "metadata": {},
   "source": [
    "<a id='Summary'></a>\n",
    "## Summary Example [🔝](#toc)"
   ]
  },
  {
   "cell_type": "markdown",
   "id": "fa06cec3",
   "metadata": {},
   "source": [
    "-  join path: this allow you to write, rename file"
   ]
  },
  {
   "cell_type": "code",
   "execution_count": 61,
   "id": "0d15fb5e",
   "metadata": {},
   "outputs": [
    {
     "name": "stdout",
     "output_type": "stream",
     "text": [
      "C:\\demo_testfile\\datanew\\testfile.txt\n"
     ]
    }
   ],
   "source": [
    "dir_path = r'C:\\demo_testfile\\datanew'  # Directory path\n",
    "filename = os.path.join(dir_path, 'testfile.txt')\n",
    "print(filename)"
   ]
  },
  {
   "cell_type": "markdown",
   "id": "daf7ecfd",
   "metadata": {},
   "source": [
    "- list current directory"
   ]
  },
  {
   "cell_type": "code",
   "execution_count": 72,
   "id": "9e56d777",
   "metadata": {},
   "outputs": [
    {
     "data": {
      "text/plain": [
       "['BBB.txt',\n",
       " 'data',\n",
       " 'datanew',\n",
       " 'ex1.py',\n",
       " 'ex2.py',\n",
       " 'hell[o].txt',\n",
       " 'index.html',\n",
       " 'notes',\n",
       " 'page.html',\n",
       " 'read.txt',\n",
       " 'renamefile',\n",
       " 'test',\n",
       " 'test -copy',\n",
       " 'test.txt',\n",
       " 'testFile1.txt']"
      ]
     },
     "execution_count": 72,
     "metadata": {},
     "output_type": "execute_result"
    }
   ],
   "source": [
    "base_path = r'C:\\demo_testfile'\n",
    "os.listdir(base_path)"
   ]
  },
  {
   "cell_type": "markdown",
   "id": "c7ac80d6",
   "metadata": {},
   "source": [
    "- list subdirectory"
   ]
  },
  {
   "cell_type": "code",
   "execution_count": 74,
   "id": "f34ecea2",
   "metadata": {},
   "outputs": [
    {
     "data": {
      "text/plain": [
       "['C:\\\\demo_testfile\\\\data',\n",
       " 'C:\\\\demo_testfile\\\\datanew',\n",
       " 'C:\\\\demo_testfile\\\\notes',\n",
       " 'C:\\\\demo_testfile\\\\renamefile',\n",
       " 'C:\\\\demo_testfile\\\\test',\n",
       " 'C:\\\\demo_testfile\\\\test -copy',\n",
       " 'C:\\\\demo_testfile\\\\notes\\\\.ipynb_checkpoints',\n",
       " 'C:\\\\demo_testfile\\\\renamefile\\\\.idea',\n",
       " 'C:\\\\demo_testfile\\\\renamefile\\\\data',\n",
       " 'C:\\\\demo_testfile\\\\renamefile\\\\data_copy',\n",
       " 'C:\\\\demo_testfile\\\\renamefile\\\\data_copyfile',\n",
       " 'C:\\\\demo_testfile\\\\renamefile\\\\data_copyfile22',\n",
       " 'C:\\\\demo_testfile\\\\renamefile\\\\.idea\\\\inspectionProfiles',\n",
       " 'C:\\\\demo_testfile\\\\test\\\\data',\n",
       " 'C:\\\\demo_testfile\\\\test -copy\\\\data']"
      ]
     },
     "execution_count": 74,
     "metadata": {},
     "output_type": "execute_result"
    }
   ],
   "source": [
    "base_path = r'C:\\demo_testfile'\n",
    "[os.path.join(root, d) for root, dirs, files in os.walk(base_path) for d in dirs]"
   ]
  },
  {
   "cell_type": "markdown",
   "id": "7a40fd72",
   "metadata": {},
   "source": [
    "- filter except file condition"
   ]
  },
  {
   "cell_type": "code",
   "execution_count": 75,
   "id": "c60f64eb",
   "metadata": {},
   "outputs": [
    {
     "name": "stdout",
     "output_type": "stream",
     "text": [
      "data\n",
      "datanew\n",
      "ex1.py\n",
      "ex2.py\n",
      "index.html\n",
      "notes\n",
      "page.html\n",
      "renamefile\n",
      "test\n",
      "test -copy\n"
     ]
    }
   ],
   "source": [
    "base_path = r'C:\\demo_testfile'\n",
    "#filter except file condition\n",
    "for file in os.listdir(base_path):\n",
    "    #if file  =='__pycache__': #ignore this file. amd print rest\n",
    "    if file in ['__pycache__'] or file.endswith('.txt'):\n",
    "        continue \n",
    "    print(file)"
   ]
  },
  {
   "cell_type": "code",
   "execution_count": null,
   "id": "9a4d1cd1",
   "metadata": {},
   "outputs": [],
   "source": []
  }
 ],
 "metadata": {
  "kernelspec": {
   "display_name": "Python 3 (ipykernel)",
   "language": "python",
   "name": "python3"
  },
  "language_info": {
   "codemirror_mode": {
    "name": "ipython",
    "version": 3
   },
   "file_extension": ".py",
   "mimetype": "text/x-python",
   "name": "python",
   "nbconvert_exporter": "python",
   "pygments_lexer": "ipython3",
   "version": "3.10.9"
  }
 },
 "nbformat": 4,
 "nbformat_minor": 5
}
