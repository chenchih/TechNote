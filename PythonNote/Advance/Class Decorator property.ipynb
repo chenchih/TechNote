{
 "cells": [
  {
   "cell_type": "markdown",
   "id": "c6b2be38",
   "metadata": {},
   "source": [
    "# Note for Class Decortator Property\n",
    "\n",
    "inital update: 2023/1/4"
   ]
  },
  {
   "cell_type": "markdown",
   "id": "a9130d4f-69e2-48f0-9db1-fde59c553d0d",
   "metadata": {},
   "source": [
    "\n",
    "**Table of Content**\n",
    "\n",
    "- [Understand Class](#Understand-Class)\n",
    "- [attribute and method](#Attribute-and-Method)\n",
    "- [Property Decorator](#property-decorator)\n",
    "- [Types of Class method](#Types-of-Class-method): understand different type of class\n",
    "    - [instance Method and variable](#instance-Method-and-variable): underand instance method, and instance variable\n",
    "    - [understand class instance and variable](#understand-class-instance-and-variables)\n",
    "        - [Protected Variable](#Protected-Variable)\n",
    "        - [Private Variable](#Private-Variable)\n",
    "    - [@classmethod](#@classmethod)\n",
    "    - [@staticmethod](#@staticmethod)\n",
    "- [Reference](#Reference)"
   ]
  },
  {
   "cell_type": "markdown",
   "id": "40387d04",
   "metadata": {
    "tags": []
   },
   "source": [
    "## Understand Class"
   ]
  },
  {
   "cell_type": "markdown",
   "id": "8cb04d71",
   "metadata": {},
   "source": [
    "- Create a class and access it's attribute and method"
   ]
  },
  {
   "cell_type": "code",
   "execution_count": 27,
   "id": "cdca6915",
   "metadata": {},
   "outputs": [],
   "source": [
    "class Employee:\n",
    "    company='youtube' #class variable\n",
    "    def __init__(self, first, last):\n",
    "        self.first=first\n",
    "        self.last=last\n",
    "        self.email=first+'.'+last+'@email.com'\n",
    "    # Instance method    \n",
    "    # def email(self):\n",
    "    #     #return '{} {}@email.com'.format(self.first, self.last)\n",
    "    #     return f'{self.first}.{self.last}@{Employee.company}.com'\n",
    "    \n",
    "    def fullname(self):\n",
    "        return '{} {}'.format(self.first, self.last)\n",
    "#emp1=Employee('John','Liiu')\n",
    "#emp2=Employee('Sam','Lee')"
   ]
  },
  {
   "cell_type": "markdown",
   "id": "59da945c-4d07-4036-828e-9d8752d5dd2c",
   "metadata": {},
   "source": [
    "- Create an object"
   ]
  },
  {
   "cell_type": "code",
   "execution_count": 28,
   "id": "aa619ef0-7e09-454e-b550-3d51db0f157c",
   "metadata": {},
   "outputs": [
    {
     "name": "stdout",
     "output_type": "stream",
     "text": [
      "John\n",
      "John.Liiu@email.com\n",
      "John Liiu\n"
     ]
    }
   ],
   "source": [
    "emp1=Employee('John','Liiu')\n",
    "print(emp1.first)\n",
    "print(emp1.email)\n",
    "print(emp1.fullname())"
   ]
  },
  {
   "cell_type": "markdown",
   "id": "a6023bfe-4c37-4e47-bafd-7e6d63e16549",
   "metadata": {},
   "source": [
    "- Modify an instance attribute"
   ]
  },
  {
   "cell_type": "code",
   "execution_count": 29,
   "id": "3d9f1cd8-8be7-4d1e-9589-75a42553672c",
   "metadata": {},
   "outputs": [
    {
     "name": "stdout",
     "output_type": "stream",
     "text": [
      "Kelly\n",
      "John.Liiu@email.com\n",
      "Kelly Liiu\n"
     ]
    }
   ],
   "source": [
    "#change first attribute\n",
    "emp1.first='Kelly'\n",
    "# get the attribute\n",
    "print(emp1.first)\n",
    "print(emp1.email)\n",
    "print(emp1.fullname())"
   ]
  },
  {
   "cell_type": "markdown",
   "id": "21371e8f-2abf-4981-a119-2b1589f1ab46",
   "metadata": {},
   "source": [
    "- Adding new method for email\n",
    "\n",
    "So you can see in above when we update or modify a value, only the variable will update. Only the name is been update, but email will not update, which contain previous old variable value. In order to solve it, we need to add a new method to strore the email, which will update the name"
   ]
  },
  {
   "cell_type": "code",
   "execution_count": 31,
   "id": "2afb986d-057c-4079-b265-09c606359bf8",
   "metadata": {},
   "outputs": [],
   "source": [
    "class Employee:\n",
    "    #Class attribute\n",
    "    company='youtube'\n",
    "    # Instance initialization method\n",
    "    def __init__(self, first, last):\n",
    "        # Instance attributes\n",
    "        self.first=first\n",
    "        self.last=last\n",
    "        \n",
    "    # Instance method    \n",
    "    def email(self):\n",
    "        #return '{} {}@email.com'.format(self.first, self.last)\n",
    "        return f'{self.first}.{self.last}@{Employee.company}.com'\n",
    "    \n",
    "    def fullname(self):\n",
    "        return '{} {}'.format(self.first, self.last)\n"
   ]
  },
  {
   "cell_type": "code",
   "execution_count": 38,
   "id": "36f281f0-8690-4923-8250-090f762b3ad0",
   "metadata": {},
   "outputs": [
    {
     "name": "stdout",
     "output_type": "stream",
     "text": [
      "Liiu\n",
      "John.Liiu@youtube.com\n",
      "John Liiu\n",
      "----------------------------------------\n",
      "Kelly\n",
      "Kelly.Liiu@youtube.com\n",
      "Kelly Liiu\n"
     ]
    }
   ],
   "source": [
    "emp1=Employee('John','Liiu')\n",
    "print(emp1.last) #Liiu\n",
    "print(emp1.email())\n",
    "print(emp1.fullname())\n",
    "print('-'*40)\n",
    "#change first attribute\n",
    "emp1.first='Kelly'\n",
    "# get the attribute\n",
    "print(emp1.first)\n",
    "print(emp1.email())#so everyone wants to use our code need to change code to ()\n",
    "print(emp1.fullname())\n",
    "\n",
    "# emp2=Employee('Sam','Lee')\n"
   ]
  },
  {
   "cell_type": "markdown",
   "id": "1ae5a95d-d5cf-45af-8da1-506ee9ed4db1",
   "metadata": {},
   "source": [
    "## Attribute and Method\n",
    "\n",
    "I want to explain some concept about the attribute and method in the class. When we use the parenthesis(), this mean calling a function, without it it's an object. Please refer below example, i just accessing the attribute. "
   ]
  },
  {
   "cell_type": "code",
   "execution_count": 43,
   "id": "32710575",
   "metadata": {},
   "outputs": [
    {
     "name": "stdout",
     "output_type": "stream",
     "text": [
      "Liiu\n",
      "Kelly\n",
      "youtube\n",
      "----------------------------------------\n",
      "Kelly.Liiu@youtube.com\n",
      "Kelly Liiu\n",
      "----------------------------------------\n",
      "<bound method Employee.email of <__main__.Employee object at 0x0000021985E3C640>>\n",
      "<bound method Employee.fullname of <__main__.Employee object at 0x0000021985E3C640>>\n"
     ]
    }
   ],
   "source": [
    "# acess attribute or variable from class\n",
    "print(emp1.last) #Liiu\n",
    "print(emp1.first) #Kelly\n",
    "print(emp1.company) #youtube\n",
    "print('-'*40)\n",
    "# calling a method\n",
    "print(emp1.email())\n",
    "print(emp1.fullname())\n",
    "print('-'*40)\n",
    "#display method as object, remove the () \n",
    "print(emp1.email)\n",
    "print(emp1.fullname)\n",
    "#<bound method Employee.email of <__main__.Employee object at 0x00000246837B3760>>\n",
    "#<bound method Employee.fullname of <__main__.Employee object at 0x00000246837B3760>>"
   ]
  },
  {
   "cell_type": "markdown",
   "id": "cef924bb",
   "metadata": {
    "tags": []
   },
   "source": [
    "## property decorator\n",
    "\n",
    "> - understand how to use @property\n",
    "> - using setter, and deleter\n",
    "\n",
    "- [property decorator](#property-decorator)\n",
    "    - [Property example](#Property-example)\n",
    "    - [Property example2](#another-property-example-similar-to-top)\n",
    "- [property with setter to set attribute](#@property-with-setter-to-set-attribute)\n",
    "- [property with setter and deleter](#@property-with-setter-and-deleter)"
   ]
  },
  {
   "cell_type": "markdown",
   "id": "9c9ffd92-2d53-4bfe-9d11-854b90cf5b7a",
   "metadata": {},
   "source": [
    "### @Property"
   ]
  },
  {
   "cell_type": "markdown",
   "id": "97d75bc1-f786-41de-9f07-733c1420e045",
   "metadata": {},
   "source": [
    "#### Property example "
   ]
  },
  {
   "cell_type": "code",
   "execution_count": 71,
   "id": "280499a4",
   "metadata": {},
   "outputs": [
    {
     "name": "stdout",
     "output_type": "stream",
     "text": [
      "John\n",
      "John.Liiu@youtube.com\n",
      "John Liiu\n",
      "========================================\n",
      "Sharon\n",
      "Sharon.Liiu@youtube.com\n",
      "Sharon Liiu\n"
     ]
    }
   ],
   "source": [
    "class Employee:\n",
    "    company='youtube' #class vairable\n",
    "    def __init__(self, first, last):\n",
    "        self.first=first\n",
    "        self.last=last\n",
    "        #self.email=first+'.'+last+'@email.com'\n",
    "    @property   \n",
    "    def email(self):\n",
    "        #return '{} {}@email.com'.format(self.first, self.last)\n",
    "        return f'{self.first}.{self.last}@{Employee.company}.com'\n",
    "    @property \n",
    "    def fullname(self):\n",
    "        return '{} {}'.format(self.first, self.last)\n",
    "        \n",
    "emp1=Employee('John','Liiu')\n",
    "print(emp1.first)\n",
    "print(emp1.email)\n",
    "print(emp1.fullname)\n",
    "print('='*40)\n",
    "emp1.first='Sharon'\n",
    "print(emp1.first)\n",
    "print(emp1.email)\n",
    "print(emp1.fullname)\n"
   ]
  },
  {
   "cell_type": "markdown",
   "id": "4ced1d6a-25d5-4f9b-a6cc-a0344e2e66e2",
   "metadata": {
    "tags": []
   },
   "source": [
    "#### another property example similar to top"
   ]
  },
  {
   "cell_type": "code",
   "execution_count": 70,
   "id": "de011d55-5e3b-4e9e-9b79-cf7d05d653f3",
   "metadata": {},
   "outputs": [
    {
     "name": "stdout",
     "output_type": "stream",
     "text": [
      "My name is Alex, I am 30, and come from US\n",
      "My name is cc, I am 30, and come from US\n"
     ]
    }
   ],
   "source": [
    "#another example of using property \n",
    "class student:\n",
    "    def __init__(self,name,age,country,email):\n",
    "        self.name=name\n",
    "        self.age=age\n",
    "        self.country=country\n",
    "        self.email=email\n",
    "        #self.aboutme=f'My name is {self.name}, I am {self.age}, and come from {self.country}'\n",
    "    @property\n",
    "    def aboutme(self):\n",
    "        return f\"My name is {self.name}, I am {self.age}, and come from {self.country}\"\n",
    "\n",
    "s1=student('Alex', 30, 'US', 'alex@mail.com')\n",
    "print(s1.aboutme)\n",
    "#change new name\n",
    "s1.name='cc'\n",
    "print(s1.aboutme)"
   ]
  },
  {
   "cell_type": "markdown",
   "id": "c5c8d891",
   "metadata": {},
   "source": [
    "### @property with setter to set attribute"
   ]
  },
  {
   "cell_type": "code",
   "execution_count": 72,
   "id": "b821b495",
   "metadata": {},
   "outputs": [
    {
     "ename": "AttributeError",
     "evalue": "can't set attribute 'fullname'",
     "output_type": "error",
     "traceback": [
      "\u001b[1;31m---------------------------------------------------------------------------\u001b[0m",
      "\u001b[1;31mAttributeError\u001b[0m                            Traceback (most recent call last)",
      "Cell \u001b[1;32mIn[72], line 15\u001b[0m\n\u001b[0;32m     13\u001b[0m         \u001b[38;5;28;01mreturn\u001b[39;00m \u001b[38;5;124m'\u001b[39m\u001b[38;5;132;01m{}\u001b[39;00m\u001b[38;5;124m \u001b[39m\u001b[38;5;132;01m{}\u001b[39;00m\u001b[38;5;124m'\u001b[39m\u001b[38;5;241m.\u001b[39mformat(\u001b[38;5;28mself\u001b[39m\u001b[38;5;241m.\u001b[39mfirst, \u001b[38;5;28mself\u001b[39m\u001b[38;5;241m.\u001b[39mlast)\n\u001b[0;32m     14\u001b[0m emp1\u001b[38;5;241m=\u001b[39mEmployee(\u001b[38;5;124m'\u001b[39m\u001b[38;5;124mJohn\u001b[39m\u001b[38;5;124m'\u001b[39m,\u001b[38;5;124m'\u001b[39m\u001b[38;5;124mLiiu\u001b[39m\u001b[38;5;124m'\u001b[39m)\n\u001b[1;32m---> 15\u001b[0m emp1\u001b[38;5;241m.\u001b[39mfullname\u001b[38;5;241m=\u001b[39m\u001b[38;5;124m'\u001b[39m\u001b[38;5;124mSharon Kim\u001b[39m\u001b[38;5;124m'\u001b[39m\n\u001b[0;32m     16\u001b[0m \u001b[38;5;28mprint\u001b[39m(emp1\u001b[38;5;241m.\u001b[39mfirst)\n\u001b[0;32m     17\u001b[0m \u001b[38;5;28mprint\u001b[39m(emp1\u001b[38;5;241m.\u001b[39memail)\n",
      "\u001b[1;31mAttributeError\u001b[0m: can't set attribute 'fullname'"
     ]
    }
   ],
   "source": [
    "class Employee:\n",
    "    company='youtube' #class vairable\n",
    "    def __init__(self, first, last):\n",
    "        self.first=first\n",
    "        self.last=last\n",
    "        #self.email=first+'.'+last+'@email.com'\n",
    "    @property   \n",
    "    def email(self):\n",
    "        #return '{} {}@email.com'.format(self.first, self.last)\n",
    "        return f'{self.first}.{self.last}@{Employee.company}.com'\n",
    "    @property \n",
    "    def fullname(self):\n",
    "        return '{} {}'.format(self.first, self.last)\n",
    "emp1=Employee('John','Liiu')\n",
    "emp1.fullname='Sharon Kim'\n",
    "print(emp1.first)\n",
    "print(emp1.email)\n",
    "print(emp1.fullname)"
   ]
  },
  {
   "cell_type": "code",
   "execution_count": 2,
   "id": "f77696c6",
   "metadata": {},
   "outputs": [
    {
     "name": "stdout",
     "output_type": "stream",
     "text": [
      "Sharon\n",
      "Sharon.Kim@youtube.com\n",
      "Sharon Kim\n"
     ]
    }
   ],
   "source": [
    "class Employee:\n",
    "    company='youtube' #class vairable\n",
    "    def __init__(self, first, last):\n",
    "        self.first=first\n",
    "        self.last=last\n",
    "        #self.email=first+'.'+last+'@email.com'\n",
    "    @property   \n",
    "    def email(self):\n",
    "        #return '{} {}@email.com'.format(self.first, self.last)\n",
    "        return f'{self.first}.{self.last}@{Employee.company}.com'\n",
    "    @property \n",
    "    def fullname(self):\n",
    "        return '{} {}'.format(self.first, self.last)\n",
    "    \n",
    "    @fullname.setter\n",
    "    def fullname(self, name):\n",
    "        first,last = name.split(' ')\n",
    "        self.first=first\n",
    "        self.last=last\n",
    "        \n",
    "emp1=Employee('John','Liiu')\n",
    "emp1.fullname='Sharon Kim'\n",
    "print(emp1.first)\n",
    "print(emp1.email)\n",
    "print(emp1.fullname)"
   ]
  },
  {
   "cell_type": "markdown",
   "id": "761c066f",
   "metadata": {},
   "source": [
    "### @property with setter and deleter"
   ]
  },
  {
   "cell_type": "code",
   "execution_count": 46,
   "id": "5f002ca2",
   "metadata": {},
   "outputs": [
    {
     "name": "stdout",
     "output_type": "stream",
     "text": [
      "Hela\n",
      "Hela Liiu@email.com\n",
      "Hela Liiu\n",
      "=====Changing name========\n",
      "Jessia\n",
      "Jessia Wu@email.com\n",
      "Jessia Wu\n",
      "=====delete name========\n",
      "delete name\n",
      "None\n",
      "None None@email.com\n",
      "None None\n"
     ]
    }
   ],
   "source": [
    "#using setter and delete\n",
    "#set the name\n",
    "class Employee:\n",
    "    def __init__(self, first, last):\n",
    "        self.first=first\n",
    "        self.last=last\n",
    "        #self.email=first+'.'+last+'@email.com'\n",
    "    @property\n",
    "    def email(self):\n",
    "        return '{} {}@email.com'.format(self.first, self.last)\n",
    "    @property\n",
    "    def fullname(self):\n",
    "        return '{} {}'.format(self.first, self.last)\n",
    "    @fullname.setter\n",
    "    def fullname(self, name):\n",
    "        first,last = name.split(' ')\n",
    "        self.first=first\n",
    "        self.last=last\n",
    "        \n",
    "    @fullname.deleter\n",
    "    def fullname(self):\n",
    "        print('delete name')\n",
    "        self.first=None\n",
    "        self.last=None\n",
    "emp1=Employee('Hela','Liiu')\n",
    "\n",
    "print(emp1.first)\n",
    "print(emp1.email) \n",
    "print(emp1.fullname)\n",
    "#change name\n",
    "print('=====Changing name========')\n",
    "emp1.fullname='Jessia Wu'\n",
    "print(emp1.first)\n",
    "print(emp1.email) \n",
    "print(emp1.fullname)\n",
    "print('=====delete name========')\n",
    "del emp1.fullname\n",
    "print(emp1.first)\n",
    "print(emp1.email) \n",
    "print(emp1.fullname)"
   ]
  },
  {
   "cell_type": "markdown",
   "id": "f5dfbab0",
   "metadata": {
    "tags": []
   },
   "source": [
    "## Types of Class method\n",
    "\n",
    "- **Instance method**: take the first parameter as instance(self)\n",
    "- **classmethod**: `@classmethod`: take the first paramater as class(cls)\n",
    "- **Static method**: `@staticmethod`: \n",
    "- **Variable type**:\n",
    "    - `public`,`protect`,`private`\n"
   ]
  },
  {
   "cell_type": "markdown",
   "id": "2db3dd72-a8b2-49db-a323-5921c0c9f0b5",
   "metadata": {},
   "source": [
    "### Instance Method"
   ]
  },
  {
   "cell_type": "markdown",
   "id": "f0bb5c22-4769-44e3-b1e2-8b23f5c900bd",
   "metadata": {},
   "source": [
    "- with constructor (initalize instance with argument)"
   ]
  },
  {
   "cell_type": "code",
   "execution_count": 242,
   "id": "39d77d42-86ee-49a1-9e17-751182fa3f1c",
   "metadata": {},
   "outputs": [
    {
     "name": "stdout",
     "output_type": "stream",
     "text": [
      "Instance method with constructor: hello james\n",
      "james\n",
      "Instance method: hello Dammy\n"
     ]
    }
   ],
   "source": [
    "# Instance method with constructor \n",
    "class MyClass:\n",
    "    def __init__(self,name): # Step 1: Initialize instance attribute\n",
    "        self.name=name\n",
    "        print(\"Instance method with constructor: hello \" + self.name)\n",
    "    def instance_method(self,other_name): #Define instance method\n",
    "        return \"Instance method: hello \"+ other_name\n",
    "        \n",
    "obj = MyClass('james') ## Step 2: Create an instance\n",
    "print(obj.name) # Step 3: Access instance attribute or variable\n",
    "print(obj.instance_method('Dammy')) # Step 3: Access instance method"
   ]
  },
  {
   "cell_type": "markdown",
   "id": "4c5d7498-1e91-4a47-8c92-01d1d21969fa",
   "metadata": {},
   "source": [
    "- with instance method (creating a empty instance)"
   ]
  },
  {
   "cell_type": "code",
   "execution_count": 244,
   "id": "7d81d479-8477-4847-8065-d81e8de80652",
   "metadata": {},
   "outputs": [
    {
     "name": "stdout",
     "output_type": "stream",
     "text": [
      "Instance method: hello james\n"
     ]
    }
   ],
   "source": [
    "#instance method accessing instance method\n",
    "class MyClass:\n",
    "    def instance_method(self,name): #Define instance method\n",
    "        print(\"Instance method: hello\",name)\n",
    "obj = MyClass() # create a instance object\n",
    "obj.instance_method('james')  # accesing instance method  by an object\n"
   ]
  },
  {
   "cell_type": "markdown",
   "id": "4702d54b-cd45-41f3-9c7f-090f08ab047e",
   "metadata": {},
   "source": [
    "### Variables types\n",
    "- understand types of variable\n",
    "    - public,protect`_`,private`__` variables"
   ]
  },
  {
   "cell_type": "code",
   "execution_count": 245,
   "id": "80091c5b-0b07-4f58-8cde-17df59003251",
   "metadata": {},
   "outputs": [
    {
     "name": "stdout",
     "output_type": "stream",
     "text": [
      "Object1:\n",
      "John\n",
      "Liiu\n",
      "Object2:\n",
      "Sammie\n",
      "Lu\n"
     ]
    }
   ],
   "source": [
    "class Employee:\n",
    "    company='youtube' #class vairable\n",
    "    def __init__(self, first, last):\n",
    "        self.first=first\n",
    "        self.last=last\n",
    "print('Object1:')\n",
    "emp1=Employee('John','Liiu')\n",
    "print(emp1.first)\n",
    "print(emp1.last)\n",
    "\n",
    "print('Object2:')\n",
    "emp1=Employee('Sammie','Lu')\n",
    "print(emp1.first)\n",
    "print(emp1.last)\n"
   ]
  },
  {
   "cell_type": "code",
   "execution_count": 246,
   "id": "de55b907-41a1-4fcd-9738-2777116887ff",
   "metadata": {},
   "outputs": [
    {
     "name": "stdout",
     "output_type": "stream",
     "text": [
      "Object1:\n",
      "John\n",
      "Liiu\n",
      "youtube\n",
      "Hello John Liiu\n",
      "None\n",
      "====================\n"
     ]
    },
    {
     "data": {
      "text/plain": [
       "'youtube'"
      ]
     },
     "execution_count": 246,
     "metadata": {},
     "output_type": "execute_result"
    }
   ],
   "source": [
    "class Employee:\n",
    "    company='youtube' #class vairable\n",
    "    def __init__(self, first, last):\n",
    "        self.first=first\n",
    "        self.last=last\n",
    "    def msg(self):\n",
    "        print(\"Hello \"+ self.first+ \" \"+self.last)\n",
    "print('Object1:')\n",
    "emp1=Employee('John','Liiu')\n",
    "print(emp1.first)\n",
    "print(emp1.last)\n",
    "print(emp1.company)\n",
    "print(emp1.msg())\n",
    "print(\"=\"*20)\n",
    "Employee.company "
   ]
  },
  {
   "cell_type": "markdown",
   "id": "4b8f142b",
   "metadata": {},
   "source": [
    "#### Protected Variable"
   ]
  },
  {
   "cell_type": "code",
   "execution_count": 217,
   "id": "530f05af",
   "metadata": {},
   "outputs": [
    {
     "name": "stdout",
     "output_type": "stream",
     "text": [
      "1\n",
      "Jenny\n",
      "Id: 1, Name: Jenny\n",
      "\n"
     ]
    }
   ],
   "source": [
    "class user:\n",
    "    def __init__(self, id, name):\n",
    "        self._id = id\n",
    "        self._name = name\n",
    "\n",
    "    def _userdetails(self):\n",
    "        print(\"Id: {}, Name: {}\".format(self._id, self._name))\n",
    "        return ''\n",
    "emp_1 = user(1, \"Jenny\")\n",
    "print(emp_1._id)\n",
    "print(emp_1._name)\n",
    "print(emp_1._userdetails())"
   ]
  },
  {
   "cell_type": "markdown",
   "id": "ea45c102",
   "metadata": {},
   "source": [
    "- using @properties decorator "
   ]
  },
  {
   "cell_type": "code",
   "execution_count": 216,
   "id": "3c2ea27e",
   "metadata": {},
   "outputs": [
    {
     "name": "stdout",
     "output_type": "stream",
     "text": [
      "Jenny\n",
      "Steve\n"
     ]
    }
   ],
   "source": [
    "class user:\n",
    "    def __init__(self, id, name):\n",
    "        self._id = id\n",
    "        self._name = name\n",
    "    @property\n",
    "    def name(self):\n",
    "        return self._name\n",
    "    @name.setter\n",
    "    def name(self,newname):\n",
    "        self._name = newname\n",
    "        \n",
    "emp_1 = user(1, \"Jenny\")\n",
    "print(emp_1.name)#Jenny\n",
    "emp_1.name = 'Kelly' #replace name to kelly\n",
    "print(std.name)  #kelly"
   ]
  },
  {
   "cell_type": "markdown",
   "id": "2a57a510-8705-435d-bba8-5ecbe00e6b49",
   "metadata": {},
   "source": [
    "####  Private Variable "
   ]
  },
  {
   "cell_type": "code",
   "execution_count": 283,
   "id": "a26ed87a",
   "metadata": {},
   "outputs": [
    {
     "name": "stdout",
     "output_type": "stream",
     "text": [
      "James\n",
      "Ray\n"
     ]
    }
   ],
   "source": [
    "class Student:\n",
    "    __schoolName = 'XYZ School' # private class attribute\n",
    "    _schoolYear = 1999 # private class attribute\n",
    "    def __init__(self, name, age):\n",
    "        self.__name=name  # private instance attribute\n",
    "        self.__salary=age # private instance attribute\n",
    "    def __display(self):  # private method\n",
    "        print('This is private method.')\n",
    "\n",
    "std = Student(\"James\", 25)\n",
    "# print(std.__schoolName) #AttributeError\n",
    "# print(std.__name)   #AttributeError\n",
    "# print(std.__display())  #AttributeError\n",
    "print(std._Student__name)\n",
    "std._Student__name = 'Ray'\n",
    "print(std._Student__name)"
   ]
  },
  {
   "cell_type": "code",
   "execution_count": 282,
   "id": "6bc014eb",
   "metadata": {},
   "outputs": [
    {
     "name": "stdout",
     "output_type": "stream",
     "text": [
      "['_Student__display', '_Student__name', '_Student__salary', '_Student__schoolName', '__class__', '__delattr__', '__dict__', '__dir__', '__doc__', '__eq__', '__format__', '__ge__', '__getattribute__', '__gt__', '__hash__', '__init__', '__init_subclass__', '__le__', '__lt__', '__module__', '__ne__', '__new__', '__reduce__', '__reduce_ex__', '__repr__', '__setattr__', '__sizeof__', '__str__', '__subclasshook__', '__weakref__', '_schoolYear']\n"
     ]
    }
   ],
   "source": [
    "# check variable \n",
    "print(dir(std))"
   ]
  },
  {
   "cell_type": "code",
   "execution_count": 280,
   "id": "655be344",
   "metadata": {},
   "outputs": [
    {
     "name": "stdout",
     "output_type": "stream",
     "text": [
      "50\n",
      "50\n",
      "500\n"
     ]
    }
   ],
   "source": [
    "# another way to modify with getter and setter method\n",
    "class privateClass:\n",
    "    def __init__(self, x):\n",
    "        self.__x = x  # Strictly protected variable\n",
    "    def get_x(self):\n",
    "        return self.__x  # Getter method for the strictly protected variable\n",
    "    def set_x(self, new_x):\n",
    "        self.__x = new_x  # Setter method for the strictly protected variable\n",
    "        return self.__x\n",
    "# Creating an instance of the class\n",
    "obj = privateClass(50)\n",
    "print(obj.get_x())  # Output: 50\n",
    "\n",
    "# Attempting to modify the strictly protected variable directly\n",
    "obj.__x = 99\n",
    "# Accessing theClass Method: @classmethod strictly protected variable again using the getter method\n",
    "print(obj.get_x())  # Output: 50\n",
    "\n",
    "#set strictly protected variable\n",
    "obj.set_x(500)\n",
    "print(obj.get_x())# Output: 500"
   ]
  },
  {
   "cell_type": "markdown",
   "id": "1cae3ad5-9d1c-44f6-8de4-e718b719b3aa",
   "metadata": {},
   "source": [
    "### @classmethod\n",
    "\n",
    "- [Example1 get class attribute and modify](#Example1-get-class-attribute-and-modify)\n",
    "- [Example2 with contruction method](#Example2-with-contruction-method)\n",
    "- [Example3 change class variable with classmethod](#Example3-change-class-variable-with-classmethod)\n",
    "- [Example4 couter](#Example4-couter)\n"
   ]
  },
  {
   "cell_type": "markdown",
   "id": "341637e7-7d32-4b62-ac07-ea7cbd961504",
   "metadata": {},
   "source": [
    "#### Example1 get class attribute and modify"
   ]
  },
  {
   "cell_type": "code",
   "execution_count": 118,
   "id": "965ff51a-9231-46ef-a0d8-3d8cbe7d8afb",
   "metadata": {},
   "outputs": [
    {
     "name": "stdout",
     "output_type": "stream",
     "text": [
      "US\n",
      "US\n",
      "US\n",
      "====================\n",
      "NZ\n",
      "NZ\n",
      "NZ\n"
     ]
    }
   ],
   "source": [
    "class Student:\n",
    "    studentname = 'Jane'\n",
    "    country = 'US'\n",
    "    def __init__(self, name):\n",
    "        self.name = name\n",
    "        self.email = name + '@email.com'\n",
    "    @classmethod\n",
    "    def setcountry(cls, ctry):\n",
    "        cls.country = ctry \n",
    "#create instance for std_1 and std_2 object\n",
    "std_1 = Student('angus') \n",
    "std_2 = Student('mike')\n",
    "#access instance attribute or variable\n",
    "print(Student.country)#US\n",
    "print(std_1.country)#US\n",
    "print(std_2.country)#US\n",
    "print('='*20)\n",
    "Student.setcountry('NZ') #set to NZ \n",
    "#Student.country='NZ'\n",
    "#same as Student.country='countryname'\n",
    "print(Student.country)#NZ\n",
    "print(std_1.country)#NZ\n",
    "print(std_2.country)#NZ"
   ]
  },
  {
   "cell_type": "markdown",
   "id": "7f1ee6dd-88c8-4568-976c-e99834efc6c9",
   "metadata": {},
   "source": [
    "#### Example2 with contruction method"
   ]
  },
  {
   "cell_type": "markdown",
   "id": "644f9fec-0d08-4a71-aee0-551082f3c46a",
   "metadata": {},
   "source": [
    "- 2.1 construction (normal code)"
   ]
  },
  {
   "cell_type": "code",
   "execution_count": 133,
   "id": "e7e4e4dd-4c7e-46bb-a2e3-2c1fc69fb698",
   "metadata": {},
   "outputs": [
    {
     "name": "stdout",
     "output_type": "stream",
     "text": [
      "CS\n",
      "angusLam@email.com\n"
     ]
    }
   ],
   "source": [
    "class Student:\n",
    "    Teacher = 'Jane'\n",
    "    country = 'US'\n",
    "\n",
    "    def __init__(self, first,last,course):\n",
    "        self.first = first\n",
    "        self.last=last\n",
    "        self.course=course\n",
    "        self.email = first +last+ '@email.com'\n",
    "std_A = 'angus-Lam-CS'\n",
    "std_B = 'Kiki-Wu-EE'\n",
    "first,last,course= std_A.split('-')\n",
    "newstd_A= Student(first,last,course)\n",
    "#newstd_A=Student.from_string(std_A)\n",
    "print(newstd_A.course)\n",
    "print(newstd_A.email)"
   ]
  },
  {
   "cell_type": "markdown",
   "id": "fa6d8e51-4ac4-476f-ae0c-71f889a1100a",
   "metadata": {},
   "source": [
    "- change to class method"
   ]
  },
  {
   "cell_type": "code",
   "execution_count": 162,
   "id": "18a0df54-940d-4b39-8f7d-4f8ec5796b83",
   "metadata": {},
   "outputs": [
    {
     "name": "stdout",
     "output_type": "stream",
     "text": [
      "CS\n",
      "angusLam@email.com\n"
     ]
    }
   ],
   "source": [
    "class Student:\n",
    "    Teacher = 'Jane'\n",
    "    country = 'US'\n",
    "\n",
    "    def __init__(self, first,last,course):\n",
    "        self.first = first\n",
    "        self.last=last\n",
    "        self.course=course\n",
    "        self.email = first +last+ '@email.com'\n",
    "\n",
    "    @classmethod\n",
    "    def from_string(cls, emp_str):\n",
    "        first, last, course = emp_str.split('-')\n",
    "        return cls(first, last, course) # same as  Student(first,last,course), just replace cls\n",
    "    \n",
    "std_A = 'angus-Lam-CS'\n",
    "std_B = 'Kiki-Wu-EE'\n",
    "#instead we do split in the from-string\n",
    "#first,last,course= std_A.split('-')\n",
    "#newstd_A= Student(first,last,course)\n",
    "newstd_A=Student.from_string(std_A)\n",
    "print(newstd_A.course)\n",
    "print(newstd_A.email)"
   ]
  },
  {
   "cell_type": "markdown",
   "id": "49919f76-1193-4b7b-b292-f3aa9c1ada84",
   "metadata": {},
   "source": [
    "- Ex2.2 similar examplepercentage "
   ]
  },
  {
   "cell_type": "code",
   "execution_count": 67,
   "id": "8d404814-8ec2-448c-90b4-ad0a0d1f814b",
   "metadata": {},
   "outputs": [
    {
     "name": "stdout",
     "output_type": "stream",
     "text": [
      "Nick got 90 %\n",
      "jenny got 93.33333333333333 %\n"
     ]
    }
   ],
   "source": [
    "#if create new object need to convert again which is not the best solution\n",
    "class Student:\n",
    "    def __init__(self,name,marks):\n",
    "        self.name=name\n",
    "        self.marks=marks\n",
    "    def msg(self):\n",
    "        print(self.name+ \" got \" + self.marks, \"%\")\n",
    "#print in percentage\n",
    "std1=Student('Nick', \"90\")\n",
    "marks= \"560\"\n",
    "name= \"jenny\"\n",
    "std1.msg() #Nick got 90 %\n",
    "mark1=str((int(marks)/600)*100)\n",
    "std2=Student(name,mark1)\n",
    "std2.msg()"
   ]
  },
  {
   "cell_type": "code",
   "execution_count": null,
   "id": "249c6983-12bf-4b4d-8381-2ca70e6c796f",
   "metadata": {},
   "outputs": [],
   "source": [
    "#class method\n",
    "class Student:\n",
    "    def __init__(self,name,marks):\n",
    "        self.name=name\n",
    "        self.marks=marks\n",
    "    def msg(self):\n",
    "        print(self.name+ \" got \" + self.marks, \"%\")\n",
    "    @classmethod\n",
    "    def get_percent(cls,name, marks):\n",
    "        #return(cls('ee',marks))\n",
    "        return cls(name, str((int(marks) / 600) * 100))\n",
    "\n",
    "#print in percentage\n",
    "std1=Student('Nick', \"90\")\n",
    "marks= \"560\"\n",
    "name= \"jenny\"\n",
    "std1.msg() #Nick got 90 %\n",
    "#mark1=str((int(marks)/600)*100)\n",
    "#std2=Student(name,mark1)\n",
    "std2 = Student.get_percent(name, marks)\n",
    "std2.msg() #jenny got 93.33333333333333 %"
   ]
  },
  {
   "cell_type": "markdown",
   "id": "7521e13b-3fca-4b0a-8b0d-44d00b514c1e",
   "metadata": {
    "tags": []
   },
   "source": [
    "#### Example3 change class variable with classmethod\n",
    "- change the email's domain address "
   ]
  },
  {
   "cell_type": "code",
   "execution_count": 68,
   "id": "a85fe304-bee5-4045-982b-a42f3cc0706b",
   "metadata": {},
   "outputs": [
    {
     "name": "stdout",
     "output_type": "stream",
     "text": [
      "John.Liiu@youtube.com\n",
      "John.Liiu@facebook.com\n",
      "My name is John, My mail is John.Liiu@facebook.com\n"
     ]
    }
   ],
   "source": [
    "class Employee:\n",
    "    #Class attribute\n",
    "    company='youtube'\n",
    "    # Instance initialization method\n",
    "    def __init__(self, first, last):# Instance attributes\n",
    "        self.first=first\n",
    "        self.last=last\n",
    "    def email(self):# Instance method \n",
    "        #return '{} {}@email.com'.format(self.first, self.last)\n",
    "        return f'{self.first}.{self.last}@{Employee.company}.com'\n",
    "    @classmethod\n",
    "    def company_edit(cls,newname):\n",
    "        cls.company=newname\n",
    "    def description(self):\n",
    "        #return f'My name is {cls.name}, I am {cls.country}'\n",
    "        return f\"My name is {self.first}, My mail is {self.email()}\"\n",
    "emp1=Employee('John','Liiu')\n",
    "print(emp1.email())\n",
    "Employee.company_edit('facebook') #change class attribute\n",
    "print(emp1.email())\n",
    "print(emp1.description())"
   ]
  },
  {
   "cell_type": "markdown",
   "id": "9b5d7678-22b0-4ad5-9e27-d24ce6cabfb0",
   "metadata": {},
   "source": [
    "- normal class "
   ]
  },
  {
   "cell_type": "markdown",
   "id": "fc7f7a72-4689-47f1-acb9-e300bae4a339",
   "metadata": {},
   "source": [
    "- with classmethod"
   ]
  },
  {
   "cell_type": "code",
   "execution_count": 66,
   "id": "b2e64133-d63e-41d4-930d-c1c1cbddf650",
   "metadata": {},
   "outputs": [
    {
     "name": "stdout",
     "output_type": "stream",
     "text": [
      "Nick got 90 %\n",
      "jenny got 93.33333333333333 %\n"
     ]
    }
   ],
   "source": []
  },
  {
   "cell_type": "markdown",
   "id": "56194c8f-265a-4297-a1d7-12cc6093f41f",
   "metadata": {},
   "source": [
    "#### Example4 couter"
   ]
  },
  {
   "cell_type": "code",
   "execution_count": 63,
   "id": "56fc0c19",
   "metadata": {},
   "outputs": [
    {
     "name": "stdout",
     "output_type": "stream",
     "text": [
      "2\n",
      "2\n"
     ]
    }
   ],
   "source": [
    "class Student:\n",
    "    counter=0\n",
    "    def __init__(self,name,marks):\n",
    "        self.name=name\n",
    "        self.marks=marks\n",
    "        Student.counter=Student.counter+1\n",
    "    def msf(self):\n",
    "        print(self.name+ \" got \" + slef.marks, \"%\")   \n",
    "    @classmethod\n",
    "    def couterclass(cls):\n",
    "        return cls.counter\n",
    "\n",
    "std1=Student('Nick',\"99\")\n",
    "std2=Student('Jerry',\"59\")\n",
    "print(Student.couterclass()) #calling using class name, which Student is class. it willl autopam,tic pass to class\n",
    "print(std1.couterclass())#calling using object whic std1 is object\n"
   ]
  },
  {
   "cell_type": "markdown",
   "id": "0419c74a",
   "metadata": {
    "tags": []
   },
   "source": [
    "### @staticmethod"
   ]
  },
  {
   "cell_type": "code",
   "execution_count": 69,
   "id": "c8ba65ff",
   "metadata": {},
   "outputs": [
    {
     "name": "stdout",
     "output_type": "stream",
     "text": [
      "Hello, I am static methodd, welcome!!!\n",
      "Hello, I am static methodd, welcome!!!\n"
     ]
    }
   ],
   "source": [
    "class Employee:\n",
    "    #Class attribute\n",
    "    company='youtube'\n",
    "    # Instance initialization method\n",
    "    def __init__(self, first, last):\n",
    "        # Instance attributes\n",
    "        self.first=first\n",
    "        self.last=last\n",
    "        \n",
    "    # Instance method    \n",
    "    def email(self):\n",
    "        #return '{} {}@email.com'.format(self.first, self.last)\n",
    "        return f'{self.first}.{self.last}@{Employee.company}.com'\n",
    "    @classmethod\n",
    "    def company_edit(cls,newname):\n",
    "        cls.company=newname\n",
    "        \n",
    "    @staticmethod\n",
    "    def static_method():\n",
    "        print('Hello, I am static methodd, welcome!!!')\n",
    "emp1=Employee('John','Liiu')\n",
    "#access by class name \n",
    "Employee.static_method()\n",
    "# access by object name\n",
    "emp1.static_method()"
   ]
  },
  {
   "cell_type": "markdown",
   "id": "82503286-927d-48cd-ad0c-e99bf755ca40",
   "metadata": {},
   "source": [
    "- checking course available or not\""
   ]
  },
  {
   "cell_type": "code",
   "execution_count": 70,
   "id": "4dcf1c7c",
   "metadata": {},
   "outputs": [
    {
     "name": "stdout",
     "output_type": "stream",
     "text": [
      "Yes it's available\n",
      "Sorry not available\n"
     ]
    }
   ],
   "source": [
    "class Student:\n",
    "    Teacher = 'Jane'\n",
    "    country = 'US'\n",
    "\n",
    "    def __init__(self, first,last,course):\n",
    "        self.first = first\n",
    "        self.last=last\n",
    "        self.course=course\n",
    "        self.email = first +last+ '@email.com'\n",
    "\n",
    "    @staticmethod\n",
    "    def checksubject(courseavailable):\n",
    "        available='CS','EE','LA'\n",
    "        if courseavailable in available:\n",
    "            return 'Yes it\\'s available'\n",
    "        return 'Sorry not available'\n",
    "print(Student.checksubject('CS'))     #Yes it's available\n",
    "print(Student.checksubject('CXX'))   #Sorry not available  \n"
   ]
  },
  {
   "cell_type": "code",
   "execution_count": 219,
   "id": "79b35b8b-eb29-4c25-a980-0bd4500df988",
   "metadata": {},
   "outputs": [
    {
     "name": "stdout",
     "output_type": "stream",
     "text": [
      "7\n",
      "12\n"
     ]
    }
   ],
   "source": []
  },
  {
   "cell_type": "code",
   "execution_count": 63,
   "id": "efa464a2-de87-41d6-bad4-18b38278be03",
   "metadata": {},
   "outputs": [
    {
     "data": {
      "text/plain": [
       "50000.0"
      ]
     },
     "execution_count": 63,
     "metadata": {},
     "output_type": "execute_result"
    }
   ],
   "source": [
    "class House:\n",
    "    def __init__(self, priceX):\n",
    "        self._priceX = priceX\n",
    "    @property\n",
    "    def priceX(self):\n",
    "        return self._price\n",
    "house = House(50000.0)\n",
    "house.price = 45000.0 \n",
    "house._priceX\n",
    "del house.price\n",
    "house._priceX\n",
    "# emp1=Employee('Hela','Liiu')\n",
    "\n",
    "# print(emp1.first)\n",
    "# print(emp1.email) \n",
    "# print(emp1.fullname)"
   ]
  },
  {
   "cell_type": "code",
   "execution_count": null,
   "id": "3245fbda-1be8-49bc-9cfb-7148e88f789e",
   "metadata": {},
   "outputs": [],
   "source": []
  },
  {
   "cell_type": "markdown",
   "id": "8534640d-6701-4d94-9850-38d6f34d4c40",
   "metadata": {},
   "source": [
    "### Summary of method"
   ]
  },
  {
   "cell_type": "code",
   "execution_count": 52,
   "id": "2bd71e26-b40f-4ec3-9459-356d303a03f5",
   "metadata": {},
   "outputs": [
    {
     "name": "stdout",
     "output_type": "stream",
     "text": [
      "Thanks for using this tool, your sum is 66 \n",
      "Thanks for using this tool, your sum is 100 \n",
      "63\n"
     ]
    }
   ],
   "source": [
    "class Calculator:\n",
    "    def __init__(self,number):\n",
    "        self.number=number\n",
    "    @staticmethod\n",
    "    def add(*number):\n",
    "        return sum(number)\n",
    "    def description(self):\n",
    "        print(f'Thanks for using this tool, your sum is {self.number} ')\n",
    "Num1=Calculator(66)\n",
    "Num2=Calculator(100)\n",
    "Num1.description()\n",
    "Num2.description()\n",
    "print(Calculator.add(10,20,33))                     "
   ]
  },
  {
   "cell_type": "code",
   "execution_count": 51,
   "id": "69411abf-bb3d-4ae2-a4c1-05ff7e120f01",
   "metadata": {},
   "outputs": [
    {
     "name": "stdout",
     "output_type": "stream",
     "text": [
      "My name james birth 34\n"
     ]
    }
   ],
   "source": [
    "from datetime import date\n",
    "class PersonData:\n",
    "    def __init__(self, name, birth):\n",
    "        self.name=name\n",
    "        self.birth=birth\n",
    "    def aboutme(self):\n",
    "        return f'My name {self.name} birth {self.birth}'\n",
    "    @classmethod\n",
    "    def agetoyear(cls, name, birth):\n",
    "        currentyear= date.today().year\n",
    "        age=currentyear-birth\n",
    "        return cls(name, age)\n",
    "James=PersonData.agetoyear('james', 1990)\n",
    "print(James.aboutme())"
   ]
  },
  {
   "cell_type": "markdown",
   "id": "b1a1924e-ef98-4e8c-9c40-3c0982ec449a",
   "metadata": {},
   "source": [
    "## Reference\n",
    "- https://www.freecodecamp.org/news/python-decorators-explained-with-examples/\n",
    "- https://www.tutorialsteacher.com/python/classmethod-decorator\n",
    "- https://www.youtube.com/watch?v=PIKiHq1O9HQ&t=267s\n",
    "- https://www.youtube.com/watch?v=rq8cL2XMM5M&t=358s\n",
    "- https://www.youtube.com/watch?v=I4v5Dk8Jc_U&t=441s\n",
    "- https://www.youtube.com/watch?v=aLBnKIu_WVU&t=122s"
   ]
  }
 ],
 "metadata": {
  "kernelspec": {
   "display_name": "Python 3 (ipykernel)",
   "language": "python",
   "name": "python3"
  },
  "language_info": {
   "codemirror_mode": {
    "name": "ipython",
    "version": 3
   },
   "file_extension": ".py",
   "mimetype": "text/x-python",
   "name": "python",
   "nbconvert_exporter": "python",
   "pygments_lexer": "ipython3",
   "version": "3.10.9"
  }
 },
 "nbformat": 4,
 "nbformat_minor": 5
}
