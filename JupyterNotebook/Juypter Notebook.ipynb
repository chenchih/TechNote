{
 "cells": [
  {
   "cell_type": "markdown",
   "id": "6fcc8ef0",
   "metadata": {},
   "source": [
    "# Jupyter NoteBook Note\n",
    "No matter whether you like using Jupyter Notebook or Lab it is all the same, I prefer using Jupyter Lab it is much more convenient.  This is a basic command of using Jupyter Notebook, include shortcut command. \n",
    "\n",
    "StackEdit stores your files in your browser, which means all your files are automatically saved locally and are accessible \n",
    "\n",
    "<a id='toc'></a>\n",
    "## TOC (Table of Content):\n",
    "* [Jupyter NoteBook Markdown](#Jupyter-NoteBook-Markdown)<br>\n",
    "  - [Heading](#1.-Heading)\n",
    "  - [Blockquotes](#2.-Blockquotes)\n",
    "  - [new line or break](#3.-new-line-or-break)\n",
    "  - [Bold and italics](#4.-Bold-and-italics)\n",
    "  - [Mathematical Symbol](#5.-Mathematical-Symbol)\n",
    "  - [Horizontal Line](#6.-Horizontal-Line)\n",
    "  - [Internal and External Link](#7.-Internal-and-External-Link)\n",
    "  - [add image](#8.-add-image)\n",
    "* [Jupyter NoteBook Command](#Jupyter-NoteBook-Command)\n",
    "    - [Command Mode Shortcuts](#Command-Mode-Shortcuts)\n",
    "    - [Edit Mode Shortcuts](#Edit-Mode-Shortcuts)\n",
    "    - [Action Mode](#Action)\n",
    "* [Reference](#Reference)"
   ]
  },
  {
   "cell_type": "markdown",
   "id": "c56ff960",
   "metadata": {},
   "source": [
    "## Jupyter NoteBook Markdown [🔝](#toc)\n",
    "\n",
    "### 1. Heading \n",
    "> - `# Header 1, title`: Header 1\n",
    "> - `## Header 2, major headings`: Header6\n",
    "> - `### Header 3, subheadings`: Header3\n",
    "> - `#### Header 4`Header4\n",
    "> - `##### Header 5`Header4\n",
    "> - `###### Header 6` : Header6\n",
    "\n",
    "You can also use the html tag <> method\n",
    "```\n",
    "<h1>Header 1,title<h1>  \n",
    "<h2>Header 2,major headings<h2>  \n",
    "<h3>Header 3,subheadings<h3>  \n",
    "<h4>Header 4<h4>  \n",
    "<h5>Header 5<h5>  \n",
    "<h6>Header 6<h6>\n",
    "```\n",
    "\n"
   ]
  },
  {
   "cell_type": "markdown",
   "id": "e469b919",
   "metadata": {},
   "source": [
    "###  2. Blockquotes\n",
    "- ` > This is good`   \n",
    "> exampleof block quotes \n",
    "\n",
    "-  `<blockquote>This is good</blockquote>`\n",
    "\n"
   ]
  },
  {
   "cell_type": "markdown",
   "id": "2a8ea05c",
   "metadata": {},
   "source": [
    "### 3. new line or break\n",
    "- `<br>`"
   ]
  },
  {
   "cell_type": "markdown",
   "id": "51927de1",
   "metadata": {},
   "source": [
    "### 4. Bold and italics\n",
    "- bold: `**word**` or `<b>This is bold text </b>`\n",
    "- italics: `*word*`\n",
    "\n",
    "All your files and folders are presented as a tree in the file explorer. You can switch from one to another by clicking a file in the tree.\n",
    "\n"
   ]
  },
  {
   "cell_type": "markdown",
   "id": "3c882f05",
   "metadata": {},
   "source": [
    "###  5. Mathematical Symbol\n",
    "- `\\$\\sqrt{k}$` ==>\\$\\sqrt{k}$\n",
    "\n",
    "- `$ 1+1=2 $` ==> $1+1=2 $\n",
    "- `$ \\frac{x^2+3y-z}{\\sin (4 \\omega _0 x)} $`: $ \\frac{x^2+3y-z}{\\sin (4 \\omega _0 x)} $\n",
    "\n",
    "- `$\\leq, \\geq, \\approx, \\equiv, \\neq, <, >$` : $\\leq, \\geq, \\approx, \\equiv, \\neq, <, >$\n",
    "\n",
    "- `$\\alpha, \\beta, \\gamma, \\pi, \\theta, \\Theta `: $\\alpha, \\beta, \\gamma, \\pi, \\theta, \\Theta$ \n",
    "- `$ \\sum \\limits _{i=1} ^{10} \\int \\limits _0 ^{\\infty} e^{\\nu _i x } dx $`: $ \\sum \\limits _{i=1} ^{10} \\int \\limits _0 ^{\\infty} e^{\\nu _i x } dx $\n",
    "\n",
    "```$$ \\left( \\begin{array}{cc} 1 & 2 \\\\ 3 & 4 \\end{array}\\right) \\left( \\begin{array}{c} 5 \\\\ 6 \\end{array} \\right) =  \\mathbf{\\underline{V}}``` $$ \\left( \\begin{array}{cc} 1 & 2 \\\\ 3 & 4 \\end{array}\\right) \n",
    "\\left( \\begin{array}{c} 5 \\\\ 6 \\end{array} \\right) = \n",
    "\\mathbf{\\underline{V}}$$"
   ]
  },
  {
   "cell_type": "markdown",
   "id": "2f761b16",
   "metadata": {},
   "source": [
    "### 6. Horizontal Line \n",
    "- `---`\n"
   ]
  },
  {
   "cell_type": "markdown",
   "id": "86253010",
   "metadata": {},
   "source": [
    "### 7. Internal and External Link\n",
    "- internal page: `[Section title](#division_ID)`\n",
    "    - Note: this is used like TOC link section in notebook, but division_ID can't provide space \n",
    "- external: `<a> href=\"https://www.google.com\" >Link to Google</a>`"
   ]
  },
  {
   "cell_type": "markdown",
   "id": "eaad4982",
   "metadata": {},
   "source": [
    "### 8. add image\n",
    "`<img> <src=\"https://i.imgur.com/WWrydEh.png\" width =\"500\" height=500 >`"
   ]
  },
  {
   "cell_type": "markdown",
   "id": "89f1fe1d",
   "metadata": {},
   "source": [
    "## Jupyter NoteBook Command [🔝](#toc)"
   ]
  },
  {
   "cell_type": "markdown",
   "id": "3314e0be",
   "metadata": {},
   "source": [
    "### Command Mode Shortcuts\n",
    "- `A`: **Insert a new cell above** the current cell.\n",
    "- `B`: **Insert a new cell below** the current cell.\n",
    "- `C`: **Copy**the selected cell.\n",
    "- `V`: **Paste** the copied cell below the current cell.\n",
    "- `D`: **Delete** the selected cell.\n",
    "- `Z`: **Undo** the last cell operation.\n",
    "- `M`: **Convert** the selected cell to a **markdown cell**.\n",
    "- `Y`: **Convert** the selected cell to a **code cell**.\n",
    "- `Shift` + `Arrow Up/Arrow Down`: Select multiple cells.\n",
    "- `Ctrl` + `Shift` + `-` : Split the current cell at the cursor.\n",
    "- `Ctrl` + `Shift` + `Minus` : Split the current cell at the cursor.\n",
    "- `Shift` + `M`: Merge selected cells.\n",
    "- `Ctrl` + `Shift` + `P`: Open the command palette.\n",
    "- `Shift` + `Enter` : Run the current cell and move the cursor to the next cell.\n",
    "- `Ctrl` + `Enter` : Run the current cell without moving the cursor."
   ]
  },
  {
   "cell_type": "markdown",
   "id": "9dd34c1f",
   "metadata": {},
   "source": [
    "### Edit Mode Shortcuts\n",
    "- `Tab`: Code completion or indent.\n",
    "- `Ctrl + Shift + –`: Split the current cell at the cursor.\n",
    "- `Ctrl + ]`: Indent.\n",
    "- `Ctrl + [`: Dedent.\n",
    "- `Ctrl + A`: Select all.\n",
    "- `Ctrl + Z`: Undo.\n",
    "`Ctrl + Y`: Redo.\n",
    "`Ctrl + Home`: Go to cell start.\n",
    "`Ctrl + End`: Go to cell end."
   ]
  },
  {
   "cell_type": "markdown",
   "id": "8212b30d",
   "metadata": {},
   "source": [
    "### Action Mode\n",
    "- `Shift` + `Space`: Scroll the notebook up.\n",
    "- `Ctrl` + Space`: Scroll the notebook down.\n",
    "- `Ctrl` + S`: Save the notebook.\n",
    "- `Ctrl` + F`: Open the search bar.\n",
    "- `Ctrl` + `Shift`\n",
    "- `R`: Restart kernel and clear all outputs.\n",
    "- `Ctrl` + `I` : Interrupt the kernel.\n",
    "- `Ctrl` + `0`: Close the currently open tabs in the notebook.\n",
    "- `Ctrl` + `Shift` + `L` : Show all available keyboard shortcuts in the notebook."
   ]
  },
  {
   "cell_type": "markdown",
   "id": "d04ae428",
   "metadata": {},
   "source": [
    "## Reference [🔝](#toc)\n",
    "- https://gtribello.github.io/mathNET/assets/notebook-writing.html\n",
    "- https://www.datacamp.com/tutorial/markdown-in-jupyter-notebook\n",
    "- https://noteable.io/blog/jupyter-notebook-shortcuts-boost-productivity/"
   ]
  },
  {
   "cell_type": "markdown",
   "id": "308b96f7",
   "metadata": {},
   "source": []
  },
  {
   "cell_type": "code",
   "execution_count": null,
   "id": "6e78555e",
   "metadata": {},
   "outputs": [],
   "source": []
  }
 ],
 "metadata": {
  "kernelspec": {
   "display_name": "Python 3 (ipykernel)",
   "language": "python",
   "name": "python3"
  },
  "language_info": {
   "codemirror_mode": {
    "name": "ipython",
    "version": 3
   },
   "file_extension": ".py",
   "mimetype": "text/x-python",
   "name": "python",
   "nbconvert_exporter": "python",
   "pygments_lexer": "ipython3",
   "version": "3.10.9"
  }
 },
 "nbformat": 4,
 "nbformat_minor": 5
}
